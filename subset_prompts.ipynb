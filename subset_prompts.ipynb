{
 "cells": [
  {
   "cell_type": "code",
   "execution_count": 24,
   "metadata": {},
   "outputs": [],
   "source": [
    "import json\n",
    "import pickle\n",
    "import re"
   ]
  },
  {
   "cell_type": "code",
   "execution_count": 18,
   "metadata": {},
   "outputs": [],
   "source": [
    "cand_pat = re.compile(r\"(?<=\\<).+?(?=\\>)\")\n",
    "cand_str_pat = re.compile(r\"(?<=The referent entity candidates are:).*?(?=\\. What is the correct referent entity for the entity mention)\")"
   ]
  },
  {
   "cell_type": "code",
   "execution_count": 19,
   "metadata": {},
   "outputs": [],
   "source": [
    "# Load input data\n",
    "with open(\"./turl_test_2k_prompts_50.jsonl\", \"r\", encoding=\"utf-8\") as f:\n",
    "    prompts = [json.loads(line) for line in f]"
   ]
  },
  {
   "cell_type": "code",
   "execution_count": 25,
   "metadata": {},
   "outputs": [
    {
     "name": "stdout",
     "output_type": "stream",
     "text": [
      "Error in prompt: 38\n",
      "bad escape \\p at position 5174\n",
      "Error in prompt: 544\n",
      "bad escape \\e at position 12958\n",
      "Error in prompt: 1302\n",
      "bad escape \\m at position 7844\n"
     ]
    }
   ],
   "source": [
    "# Modify prompts so that candidates are unique\n",
    "for pid, prompt in enumerate(prompts):\n",
    "    cand_str = cand_str_pat.findall(prompt[\"question\"])[0]\n",
    "    candidates = cand_pat.findall(cand_str)\n",
    "    unique_candidates = list(set(candidates))\n",
    "    try:\n",
    "        prompt[\"question\"] = re.sub(\n",
    "            cand_str_pat,\n",
    "            \",\".join([\"<\" + cand + \">\" for cand in unique_candidates]),\n",
    "            prompt[\"question\"],\n",
    "        )\n",
    "    except Exception as e:\n",
    "        print(\"Error in prompt:\", pid)\n",
    "        print(e)\n",
    "        continue\n",
    "with open(\"./turl_test_2k_prompts_50_unique.jsonl\", \"w\", encoding=\"utf-8\") as f:\n",
    "    for prompt in prompts:\n",
    "        f.write(json.dumps(prompt) + \"\\n\")"
   ]
  },
  {
   "cell_type": "code",
   "execution_count": 26,
   "metadata": {},
   "outputs": [],
   "source": [
    "# Load input data\n",
    "with open(\"./turl_test_2k_prompts_50_unique.jsonl\", \"r\", encoding=\"utf-8\") as f:\n",
    "    prompts_unique = [json.loads(line) for line in f]"
   ]
  },
  {
   "cell_type": "code",
   "execution_count": 35,
   "metadata": {},
   "outputs": [
    {
     "name": "stdout",
     "output_type": "stream",
     "text": [
      "Duplicate candidates in prompt 38\n",
      "Duplicate candidates in prompt 1302\n"
     ]
    }
   ],
   "source": [
    "saved_pids = []\n",
    "min_candidates = 10\n",
    "for pid, p in enumerate(prompts_unique):\n",
    "    candidates = cand_pat.findall(p[\"question\"])\n",
    "    if len(candidates) < min_candidates:\n",
    "        continue\n",
    "    if len(set(candidates)) != len(candidates):\n",
    "        print(f\"Duplicate candidates in prompt {pid}\")\n",
    "        unique_candidates = list(set(candidates))\n",
    "        continue\n",
    "    saved_pids.append(pid)\n",
    "with open(f\"./selected_pids.{len(saved_pids)}.pickle\", \"wb\") as f:\n",
    "    pickle.dump(set(saved_pids), f)"
   ]
  },
  {
   "cell_type": "code",
   "execution_count": null,
   "metadata": {},
   "outputs": [],
   "source": []
  }
 ],
 "metadata": {
  "kernelspec": {
   "display_name": "llm-unc",
   "language": "python",
   "name": "python3"
  },
  "language_info": {
   "codemirror_mode": {
    "name": "ipython",
    "version": 3
   },
   "file_extension": ".py",
   "mimetype": "text/x-python",
   "name": "python",
   "nbconvert_exporter": "python",
   "pygments_lexer": "ipython3",
   "version": "3.11.11"
  }
 },
 "nbformat": 4,
 "nbformat_minor": 2
}

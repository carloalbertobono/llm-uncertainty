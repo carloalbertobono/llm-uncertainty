{
 "cells": [
  {
   "cell_type": "code",
   "execution_count": 39,
   "id": "815cd96f",
   "metadata": {},
   "outputs": [],
   "source": [
    "import torch\n",
    "import torch.nn.functional as F\n",
    "import transformers\n",
    "from transformers import AutoTokenizer, AutoModelForCausalLM\n",
    "import json\n",
    "from tqdm import tqdm\n",
    "import gc\n",
    "\n",
    " \n",
    "file_path = \"turl_test_2k_prompts_50.jsonl\"\n",
    "device = torch.device(\"mps\")\n",
    "\n",
    "model_name = \"osunlp/TableLlama\"\n",
    "config = transformers.AutoConfig.from_pretrained(model_name)\n",
    "orig_ctx_len = getattr(config, \"max_position_embeddings\", None)\n",
    "tokenizer = AutoTokenizer.from_pretrained(model_name, model_max_length=orig_ctx_len, padding_side=\"left\", use_fast=False)"
   ]
  },
  {
   "cell_type": "code",
   "execution_count": 42,
   "id": "6ae2e7dc",
   "metadata": {},
   "outputs": [],
   "source": [
    "# prompt formatting\n",
    "\n",
    "PROMPT_DICT = {\n",
    "    \"prompt_input\": (\n",
    "        \"Below is an instruction that describes a task, paired with an input that provides further context. \"\n",
    "        \"Write a response that appropriately completes the request.\\n\\n\"\n",
    "        \"### Instruction:\\n{instruction}\\n\\n### Input:\\n{input_seg}\\n\\n### Question:\\n{question}\\n\\n### Response:\"\n",
    "    ),\n",
    "    \"prompt_no_input\": (\n",
    "        \"Below is an instruction that describes a task. \"\n",
    "        \"Write a response that appropriately completes the request.\\n\\n\"\n",
    "        \"### Instruction:\\n{instruction}\\n\\n### Response:\"\n",
    "    ),\n",
    "}\n",
    "\n",
    "def generate_prompt(instruction, question, input_seg=None):\n",
    "    question += \" Answer with just a candidate, selected from the provided referent entity candidates list, and nothing else. The selected candidate must be reported verbatim from the list provided as input. Each candidate in the list is enclosed between < and > and reports [DESC] and [TYPE] information.\"\n",
    "    if input_seg:\n",
    "        return PROMPT_DICT[\"prompt_input\"].format(instruction=instruction, input_seg=input_seg, question=question)\n",
    "    else:\n",
    "        return PROMPT_DICT[\"prompt_no_input\"].format(instruction=instruction)"
   ]
  },
  {
   "cell_type": "code",
   "execution_count": 43,
   "id": "36d31bb5",
   "metadata": {},
   "outputs": [],
   "source": [
    "# load questions\n",
    "\n",
    "file_path = \"turl_test_2k_prompts_50.jsonl\"\n",
    "\n",
    "with open(file_path, \"r\", encoding=\"utf-8\") as f:\n",
    "    prompts = [json.loads(line) for line in f]"
   ]
  },
  {
   "cell_type": "code",
   "execution_count": 46,
   "id": "c784af19",
   "metadata": {},
   "outputs": [
    {
     "data": {
      "text/plain": [
       "100"
      ]
     },
     "execution_count": 46,
     "metadata": {},
     "output_type": "execute_result"
    }
   ],
   "source": [
    "# load processed data\n",
    "\n",
    "import pickle\n",
    "\n",
    "prefix = ''\n",
    "\n",
    "with open('TableLlama.3772737819.pickle', 'rb') as handle:\n",
    "    outlist = pickle.load(handle)\n",
    "    \n",
    "len(outlist)"
   ]
  },
  {
   "cell_type": "markdown",
   "id": "fd3c5010",
   "metadata": {},
   "source": [
    "### check output against ground truth"
   ]
  },
  {
   "cell_type": "code",
   "execution_count": 47,
   "id": "d955f13a",
   "metadata": {},
   "outputs": [
    {
     "name": "stderr",
     "output_type": "stream",
     "text": [
      "Token indices sequence length is longer than the specified maximum sequence length for this model (4857 > 4096). Running this sequence through the model will result in indexing errors\n"
     ]
    },
    {
     "name": "stdout",
     "output_type": "stream",
     "text": [
      "Lyman [DESC] unorganized territory [TYPE] unorganized territory>\n",
      "<Lyman County [DESC] county in South Dakota, United States [TYPE] county of South Dakota>\n",
      "\n",
      "\n",
      "Sony BMG Music Entertainment [DESC] major record label between 2004–2008; owned by Sony BMG Music Entertainment, Inc. [TYPE] major label>\n",
      "<Sony Music [DESC] American music company [TYPE] major label>\n",
      "\n",
      "\n",
      "Alianza Huánuco [DESC] football club [TYPE] association football club>\n",
      "<Huanuco [DESC] region of Peru [TYPE] region of Peru>\n",
      "\n",
      "\n",
      "Lipscomb Bisons men's soccer [DESC] American college soccer team [TYPE] association football team>\n",
      "<Lipscomb Bisons [DESC] sports teams representing Lipscomb University [TYPE] university and college sports club>\n",
      "\n",
      "\n",
      "CSI: NY, season 6 [DESC] season of television series [TYPE] Television series season>\n",
      "<CSI: NY [DESC] television series (2004-2013) [TYPE] television series>\n",
      "\n",
      "\n",
      "1938 New Mexico Lobos football team [DESC] American college football team season [TYPE] American football team season>\n",
      "<New Mexico Lobos football [DESC] American football team [TYPE] sports team>\n",
      "\n",
      "\n",
      "Acre [DESC] constituency of the Federal Senate of Brazil [TYPE] constituency of the Federal Senate of Brazil>\n",
      "<Acre [DESC] state in the North Region of Brazil [TYPE] federative unit of Brazil>\n",
      "\n",
      "\n",
      "Pernambuco [DESC] constituency of the Federal Senate of Brazil [TYPE] constituency of the Federal Senate of Brazil>\n",
      "<Pernambuco [DESC] state in the Northeast Region of Brazil [TYPE] federative unit of Brazil>\n",
      "\n",
      "\n",
      "Warwick [DESC] Wikimedia disambiguation page [TYPE] Wikimedia disambiguation page>\n",
      "<Warwick [DESC] county town of Warwickshire, England [TYPE] county town>\n",
      "\n",
      "\n"
     ]
    }
   ],
   "source": [
    "# show results\n",
    "\n",
    "c=0\n",
    "t=0\n",
    "h=0\n",
    "\n",
    "for p in outlist:\n",
    "    c+=1\n",
    "    # in\n",
    "    prompt = generate_prompt(p[\"instruction\"], p[\"question\"], p[\"input\"])\n",
    "    inputs = tokenizer(prompt, return_tensors=\"pt\").to(device)\n",
    "    # computed\n",
    "    # post_output_scores = p['post_output_scores']\n",
    "    post_output_sequences = p['post_output_sequences']\n",
    "    # bases\n",
    "    baseid = len(inputs[\"input_ids\"][0]) + 1\n",
    "    endid = len(post_output_sequences[0])\n",
    "    # lookout\n",
    "    generated_ids = post_output_sequences\n",
    "    generated_text = tokenizer.decode(generated_ids[0][baseid:endid], skip_special_tokens=True)\n",
    "    # print\n",
    "    # print(generated_text)\n",
    "    # print(p['output'])\n",
    "    # print('\\n')\n",
    "    #test\n",
    "    a = generated_text.lower().strip()\n",
    "    b = p['output'].lower().strip()\n",
    "    # correct\n",
    "    if (a in b) or (b in a) or (b.startswith(a)) or (a.startswith(b)): \n",
    "        t+=1\n",
    "    # hallucinated\n",
    "    elif a not in prompt.lower().strip(): \n",
    "        h+=1\n",
    "    # incorrect\n",
    "    else:\n",
    "        print(generated_text)\n",
    "        print(p['output'])\n",
    "        print('\\n')\n",
    "        # print(prompt)\n",
    "        # print('\\n')"
   ]
  },
  {
   "cell_type": "code",
   "execution_count": 48,
   "id": "e21ab371",
   "metadata": {},
   "outputs": [
    {
     "data": {
      "text/plain": [
       "(91, 0, 100)"
      ]
     },
     "execution_count": 48,
     "metadata": {},
     "output_type": "execute_result"
    }
   ],
   "source": [
    "# true, hallucinated, counted\n",
    "t, h, c"
   ]
  },
  {
   "cell_type": "markdown",
   "id": "cf1c8e14",
   "metadata": {},
   "source": [
    "### sequence components alignment"
   ]
  },
  {
   "cell_type": "code",
   "execution_count": 68,
   "id": "ff3dca16",
   "metadata": {},
   "outputs": [],
   "source": [
    "def is_sublist(c, m, label):\n",
    "    if not c: return False\n",
    "    if not m or len(c) > len(m): return False\n",
    "\n",
    "    for i in range(len(m) - len(c) + 1):\n",
    "        if m[i:i+len(c)] == c:\n",
    "            return (i, i + len(c), label)\n",
    "    return False"
   ]
  },
  {
   "cell_type": "code",
   "execution_count": 163,
   "id": "433b6efb",
   "metadata": {},
   "outputs": [],
   "source": [
    "checks = []\n",
    "alls = set()\n",
    "\n",
    "for idx, p in enumerate(outlist):\n",
    "    \n",
    "    alls.add(p['table'])\n",
    "\n",
    "    prompt = generate_prompt(p[\"instruction\"], p[\"question\"], p[\"input\"])\n",
    "    output_seq = p['post_output_sequences'][0]\n",
    "\n",
    "    prompt_seq = tokenizer(prompt, return_tensors=\"pt\")\n",
    "    prompt_seq = prompt_seq['input_ids'][0].numpy().tolist()\n",
    "\n",
    "    instruction_seq = tokenizer(p[\"instruction\"], return_tensors=\"pt\")\n",
    "    instruction_seq = instruction_seq['input_ids'][0].numpy().tolist()\n",
    "\n",
    "    question_seq = tokenizer(p[\"question\"], return_tensors=\"pt\")\n",
    "    question_seq = question_seq['input_ids'][0].numpy().tolist()\n",
    "\n",
    "    input_seq = tokenizer(p[\"input\"], return_tensors=\"pt\")\n",
    "    input_seq = input_seq['input_ids'][0].numpy().tolist()\n",
    "\n",
    "    postilla = \" Answer with just a candidate, selected from the provided referent entity candidates list, and nothing else. The selected candidate must be reported verbatim from the list provided as input. Each candidate in the list is enclosed between < and > and reports [DESC] and [TYPE] information.\"\n",
    "    postilla_seq = tokenizer(postilla, return_tensors=\"pt\")\n",
    "    postilla_seq = postilla_seq['input_ids'][0].numpy().tolist()\n",
    "    \n",
    "    # subseq matching\n",
    "    instruction_match = is_sublist(instruction_seq[2:], output_seq, 'instruction')\n",
    "    input_match = is_sublist(input_seq[2:], output_seq, 'input')\n",
    "    question_match = is_sublist(question_seq[2:], output_seq, 'question') # maybe include 1?\n",
    "    postilla_match = is_sublist(postilla_seq[2:], output_seq, 'postilla')\n",
    "    \n",
    "    # boundaries are inclusive\n",
    "    checks.append((idx, 0, instruction_match[0], 'preamble')) # preamble\n",
    "    checks.append((idx, instruction_match[0] + 1) + instruction_match[1:])\n",
    "    checks.append((idx, instruction_match[1] + 1) + input_match[1:]) # sew to preceding\n",
    "    checks.append((idx, input_match[1] + 1) + question_match[1:]) # sew to preceding\n",
    "    checks.append((idx, postilla_match[0] + 1, len(prompt_seq) - 1, 'postilla')) # stretch postilla until the end of the prompt\n",
    "    checks.append((idx, len(prompt_seq), len(output_seq) -1, 'generated')) # assume everything else is generated"
   ]
  },
  {
   "cell_type": "code",
   "execution_count": 164,
   "id": "c81d66bc",
   "metadata": {},
   "outputs": [
    {
     "data": {
      "text/plain": [
       "False"
      ]
     },
     "execution_count": 164,
     "metadata": {},
     "output_type": "execute_result"
    }
   ],
   "source": [
    "# check the checks (must be False)\n",
    "'False' in checks"
   ]
  },
  {
   "cell_type": "code",
   "execution_count": 213,
   "id": "a7d51a4b",
   "metadata": {},
   "outputs": [],
   "source": [
    "import pandas as pd\n",
    "segments = pd.DataFrame(checks, columns = ['pid', 'start', 'end', 'segment'])"
   ]
  },
  {
   "cell_type": "code",
   "execution_count": 217,
   "id": "9f198240",
   "metadata": {},
   "outputs": [],
   "source": [
    "# TODO weight section \"width\" based on averages + cumsum\n",
    "segments['seq'] = segments.segment.map({'preamble': 0, 'instruction': 1, 'input': 2, 'question': 3, 'postilla': 4, 'generated': 5})\n"
   ]
  },
  {
   "cell_type": "markdown",
   "id": "d40f8291",
   "metadata": {},
   "source": [
    "### collect observables"
   ]
  },
  {
   "cell_type": "code",
   "execution_count": 460,
   "id": "767cb537",
   "metadata": {},
   "outputs": [],
   "source": [
    "shapes_pre = []\n",
    "\n",
    "# for each prompt\n",
    "for i, p in enumerate(outlist):\n",
    "    # for each token\n",
    "    for j, pp in enumerate(p['pre_output_proba_topn']):\n",
    "        shapes_pre.append((i,j,'prompt',\n",
    "                           len(pp['top_n_indices']),\n",
    "                           p['pre_output_true_entropies'][j],\n",
    "                           max(pp['top_n_probs'])))\n",
    "        \n",
    "    for jj, pp in enumerate(p['post_output_proba_topn']):\n",
    "        shapes_pre.append((i,j+jj+1,'generated',\n",
    "                           len(pp['top_n_indices']),\n",
    "                           p['pre_output_true_entropies'][jj],\n",
    "                           max(pp['top_n_probs'])))"
   ]
  },
  {
   "cell_type": "code",
   "execution_count": 461,
   "id": "ca5d006b",
   "metadata": {},
   "outputs": [],
   "source": [
    "import pandas as pd\n",
    "import numpy as np\n",
    "d = pd.DataFrame(shapes_pre, columns=['pid', 'tok', 'area', 'shape', 'true_ent', 'maxp'])"
   ]
  },
  {
   "cell_type": "code",
   "execution_count": 462,
   "id": "9b37e33d",
   "metadata": {},
   "outputs": [
    {
     "data": {
      "text/plain": [
       "True"
      ]
     },
     "execution_count": 462,
     "metadata": {},
     "output_type": "execute_result"
    }
   ],
   "source": [
    "# are the max index equal in observables and segments (must be True)\n",
    "d.groupby('pid').tok.max().sort_values().reset_index(drop=True).equals(segments.groupby('pid').end.max().sort_values().reset_index(drop=True))"
   ]
  },
  {
   "cell_type": "code",
   "execution_count": 463,
   "id": "3d049fc1",
   "metadata": {},
   "outputs": [
    {
     "name": "stdout",
     "output_type": "stream",
     "text": [
      "CPU times: user 182 ms, sys: 42.1 ms, total: 224 ms\n",
      "Wall time: 221 ms\n"
     ]
    }
   ],
   "source": [
    "%%time\n",
    "\n",
    "# compute section\n",
    "m = d.merge(segments, on='pid', how='left')\n",
    "m = m[(m.start <= m.tok) & (m.tok <= m.end)]"
   ]
  },
  {
   "cell_type": "code",
   "execution_count": 464,
   "id": "459b113f",
   "metadata": {},
   "outputs": [
    {
     "data": {
      "text/html": [
       "<div>\n",
       "<style scoped>\n",
       "    .dataframe tbody tr th:only-of-type {\n",
       "        vertical-align: middle;\n",
       "    }\n",
       "\n",
       "    .dataframe tbody tr th {\n",
       "        vertical-align: top;\n",
       "    }\n",
       "\n",
       "    .dataframe thead th {\n",
       "        text-align: right;\n",
       "    }\n",
       "</style>\n",
       "<table border=\"1\" class=\"dataframe\">\n",
       "  <thead>\n",
       "    <tr style=\"text-align: right;\">\n",
       "      <th></th>\n",
       "      <th>pid</th>\n",
       "      <th>tok</th>\n",
       "      <th>area</th>\n",
       "      <th>shape</th>\n",
       "      <th>true_ent</th>\n",
       "      <th>maxp</th>\n",
       "      <th>start</th>\n",
       "      <th>end</th>\n",
       "      <th>segment</th>\n",
       "      <th>seq</th>\n",
       "      <th>length</th>\n",
       "    </tr>\n",
       "  </thead>\n",
       "  <tbody>\n",
       "    <tr>\n",
       "      <th>0</th>\n",
       "      <td>0</td>\n",
       "      <td>0</td>\n",
       "      <td>prompt</td>\n",
       "      <td>19127</td>\n",
       "      <td>9.342692</td>\n",
       "      <td>0.011505</td>\n",
       "      <td>0</td>\n",
       "      <td>40</td>\n",
       "      <td>preamble</td>\n",
       "      <td>0</td>\n",
       "      <td>40</td>\n",
       "    </tr>\n",
       "    <tr>\n",
       "      <th>6</th>\n",
       "      <td>0</td>\n",
       "      <td>1</td>\n",
       "      <td>prompt</td>\n",
       "      <td>4954</td>\n",
       "      <td>6.863560</td>\n",
       "      <td>0.110962</td>\n",
       "      <td>0</td>\n",
       "      <td>40</td>\n",
       "      <td>preamble</td>\n",
       "      <td>0</td>\n",
       "      <td>40</td>\n",
       "    </tr>\n",
       "    <tr>\n",
       "      <th>12</th>\n",
       "      <td>0</td>\n",
       "      <td>2</td>\n",
       "      <td>prompt</td>\n",
       "      <td>9</td>\n",
       "      <td>1.748911</td>\n",
       "      <td>0.684082</td>\n",
       "      <td>0</td>\n",
       "      <td>40</td>\n",
       "      <td>preamble</td>\n",
       "      <td>0</td>\n",
       "      <td>40</td>\n",
       "    </tr>\n",
       "    <tr>\n",
       "      <th>18</th>\n",
       "      <td>0</td>\n",
       "      <td>3</td>\n",
       "      <td>prompt</td>\n",
       "      <td>178</td>\n",
       "      <td>4.617726</td>\n",
       "      <td>0.093811</td>\n",
       "      <td>0</td>\n",
       "      <td>40</td>\n",
       "      <td>preamble</td>\n",
       "      <td>0</td>\n",
       "      <td>40</td>\n",
       "    </tr>\n",
       "    <tr>\n",
       "      <th>24</th>\n",
       "      <td>0</td>\n",
       "      <td>4</td>\n",
       "      <td>prompt</td>\n",
       "      <td>5</td>\n",
       "      <td>1.100033</td>\n",
       "      <td>0.811523</td>\n",
       "      <td>0</td>\n",
       "      <td>40</td>\n",
       "      <td>preamble</td>\n",
       "      <td>0</td>\n",
       "      <td>40</td>\n",
       "    </tr>\n",
       "    <tr>\n",
       "      <th>...</th>\n",
       "      <td>...</td>\n",
       "      <td>...</td>\n",
       "      <td>...</td>\n",
       "      <td>...</td>\n",
       "      <td>...</td>\n",
       "      <td>...</td>\n",
       "      <td>...</td>\n",
       "      <td>...</td>\n",
       "      <td>...</td>\n",
       "      <td>...</td>\n",
       "      <td>...</td>\n",
       "    </tr>\n",
       "    <tr>\n",
       "      <th>2314493</th>\n",
       "      <td>99</td>\n",
       "      <td>3266</td>\n",
       "      <td>generated</td>\n",
       "      <td>1</td>\n",
       "      <td>0.007299</td>\n",
       "      <td>1.000000</td>\n",
       "      <td>3240</td>\n",
       "      <td>3270</td>\n",
       "      <td>generated</td>\n",
       "      <td>5</td>\n",
       "      <td>30</td>\n",
       "    </tr>\n",
       "    <tr>\n",
       "      <th>2314499</th>\n",
       "      <td>99</td>\n",
       "      <td>3267</td>\n",
       "      <td>generated</td>\n",
       "      <td>1</td>\n",
       "      <td>1.784877</td>\n",
       "      <td>1.000000</td>\n",
       "      <td>3240</td>\n",
       "      <td>3270</td>\n",
       "      <td>generated</td>\n",
       "      <td>5</td>\n",
       "      <td>30</td>\n",
       "    </tr>\n",
       "    <tr>\n",
       "      <th>2314505</th>\n",
       "      <td>99</td>\n",
       "      <td>3268</td>\n",
       "      <td>generated</td>\n",
       "      <td>1</td>\n",
       "      <td>3.481779</td>\n",
       "      <td>1.000000</td>\n",
       "      <td>3240</td>\n",
       "      <td>3270</td>\n",
       "      <td>generated</td>\n",
       "      <td>5</td>\n",
       "      <td>30</td>\n",
       "    </tr>\n",
       "    <tr>\n",
       "      <th>2314511</th>\n",
       "      <td>99</td>\n",
       "      <td>3269</td>\n",
       "      <td>generated</td>\n",
       "      <td>1</td>\n",
       "      <td>2.092228</td>\n",
       "      <td>1.000000</td>\n",
       "      <td>3240</td>\n",
       "      <td>3270</td>\n",
       "      <td>generated</td>\n",
       "      <td>5</td>\n",
       "      <td>30</td>\n",
       "    </tr>\n",
       "    <tr>\n",
       "      <th>2314517</th>\n",
       "      <td>99</td>\n",
       "      <td>3270</td>\n",
       "      <td>generated</td>\n",
       "      <td>1</td>\n",
       "      <td>8.877462</td>\n",
       "      <td>1.000000</td>\n",
       "      <td>3240</td>\n",
       "      <td>3270</td>\n",
       "      <td>generated</td>\n",
       "      <td>5</td>\n",
       "      <td>30</td>\n",
       "    </tr>\n",
       "  </tbody>\n",
       "</table>\n",
       "<p>385753 rows × 11 columns</p>\n",
       "</div>"
      ],
      "text/plain": [
       "         pid   tok       area  shape  true_ent      maxp  start   end  \\\n",
       "0          0     0     prompt  19127  9.342692  0.011505      0    40   \n",
       "6          0     1     prompt   4954  6.863560  0.110962      0    40   \n",
       "12         0     2     prompt      9  1.748911  0.684082      0    40   \n",
       "18         0     3     prompt    178  4.617726  0.093811      0    40   \n",
       "24         0     4     prompt      5  1.100033  0.811523      0    40   \n",
       "...      ...   ...        ...    ...       ...       ...    ...   ...   \n",
       "2314493   99  3266  generated      1  0.007299  1.000000   3240  3270   \n",
       "2314499   99  3267  generated      1  1.784877  1.000000   3240  3270   \n",
       "2314505   99  3268  generated      1  3.481779  1.000000   3240  3270   \n",
       "2314511   99  3269  generated      1  2.092228  1.000000   3240  3270   \n",
       "2314517   99  3270  generated      1  8.877462  1.000000   3240  3270   \n",
       "\n",
       "           segment  seq  length  \n",
       "0         preamble    0      40  \n",
       "6         preamble    0      40  \n",
       "12        preamble    0      40  \n",
       "18        preamble    0      40  \n",
       "24        preamble    0      40  \n",
       "...            ...  ...     ...  \n",
       "2314493  generated    5      30  \n",
       "2314499  generated    5      30  \n",
       "2314505  generated    5      30  \n",
       "2314511  generated    5      30  \n",
       "2314517  generated    5      30  \n",
       "\n",
       "[385753 rows x 11 columns]"
      ]
     },
     "execution_count": 464,
     "metadata": {},
     "output_type": "execute_result"
    }
   ],
   "source": [
    "m"
   ]
  },
  {
   "cell_type": "code",
   "execution_count": 465,
   "id": "8255c98c",
   "metadata": {},
   "outputs": [
    {
     "data": {
      "text/plain": [
       "True"
      ]
     },
     "execution_count": 465,
     "metadata": {},
     "output_type": "execute_result"
    }
   ],
   "source": [
    "# did we merge all the tokens to their segments (must be True)\n",
    "d[['pid', 'tok']].sort_values(['pid', 'tok']).reset_index(drop=True).equals(m[['pid', 'tok']].sort_values(['pid', 'tok']).reset_index(drop=True))"
   ]
  },
  {
   "cell_type": "code",
   "execution_count": 466,
   "id": "3a7e81da",
   "metadata": {},
   "outputs": [
    {
     "data": {
      "text/plain": [
       "True"
      ]
     },
     "execution_count": 466,
     "metadata": {},
     "output_type": "execute_result"
    }
   ],
   "source": [
    "# check that all the six sections are present in each prompt (must be True)\n",
    "m.drop_duplicates(['pid', 'segment']).shape[0] == m.pid.nunique() * 6"
   ]
  },
  {
   "cell_type": "markdown",
   "id": "e093de11",
   "metadata": {},
   "source": [
    "### token position normalization"
   ]
  },
  {
   "cell_type": "code",
   "execution_count": 467,
   "id": "6f13a772",
   "metadata": {},
   "outputs": [],
   "source": [
    "segments['length'] = segments.end - segments.start"
   ]
  },
  {
   "cell_type": "code",
   "execution_count": 468,
   "id": "d52d6cdc",
   "metadata": {},
   "outputs": [
    {
     "data": {
      "text/html": [
       "<div>\n",
       "<style scoped>\n",
       "    .dataframe tbody tr th:only-of-type {\n",
       "        vertical-align: middle;\n",
       "    }\n",
       "\n",
       "    .dataframe tbody tr th {\n",
       "        vertical-align: top;\n",
       "    }\n",
       "\n",
       "    .dataframe thead th {\n",
       "        text-align: right;\n",
       "    }\n",
       "</style>\n",
       "<table border=\"1\" class=\"dataframe\">\n",
       "  <thead>\n",
       "    <tr style=\"text-align: right;\">\n",
       "      <th></th>\n",
       "      <th>segment</th>\n",
       "      <th>seq</th>\n",
       "      <th>avg_length</th>\n",
       "      <th>std_length</th>\n",
       "      <th>min_length</th>\n",
       "      <th>max_length</th>\n",
       "      <th>avg_length_rel</th>\n",
       "      <th>avg_cumlen</th>\n",
       "    </tr>\n",
       "  </thead>\n",
       "  <tbody>\n",
       "    <tr>\n",
       "      <th>4</th>\n",
       "      <td>preamble</td>\n",
       "      <td>0</td>\n",
       "      <td>40.00</td>\n",
       "      <td>0.000000</td>\n",
       "      <td>40</td>\n",
       "      <td>40</td>\n",
       "      <td>0.010385</td>\n",
       "      <td>0.010385</td>\n",
       "    </tr>\n",
       "    <tr>\n",
       "      <th>2</th>\n",
       "      <td>instruction</td>\n",
       "      <td>1</td>\n",
       "      <td>94.00</td>\n",
       "      <td>0.000000</td>\n",
       "      <td>94</td>\n",
       "      <td>94</td>\n",
       "      <td>0.024406</td>\n",
       "      <td>0.034791</td>\n",
       "    </tr>\n",
       "    <tr>\n",
       "      <th>1</th>\n",
       "      <td>input</td>\n",
       "      <td>2</td>\n",
       "      <td>2322.48</td>\n",
       "      <td>2026.969438</td>\n",
       "      <td>192</td>\n",
       "      <td>6587</td>\n",
       "      <td>0.603002</td>\n",
       "      <td>0.637793</td>\n",
       "    </tr>\n",
       "    <tr>\n",
       "      <th>5</th>\n",
       "      <td>question</td>\n",
       "      <td>3</td>\n",
       "      <td>1306.13</td>\n",
       "      <td>367.519934</td>\n",
       "      <td>119</td>\n",
       "      <td>3814</td>\n",
       "      <td>0.339120</td>\n",
       "      <td>0.976913</td>\n",
       "    </tr>\n",
       "    <tr>\n",
       "      <th>3</th>\n",
       "      <td>postilla</td>\n",
       "      <td>4</td>\n",
       "      <td>64.00</td>\n",
       "      <td>0.000000</td>\n",
       "      <td>64</td>\n",
       "      <td>64</td>\n",
       "      <td>0.016617</td>\n",
       "      <td>0.993530</td>\n",
       "    </tr>\n",
       "    <tr>\n",
       "      <th>0</th>\n",
       "      <td>generated</td>\n",
       "      <td>5</td>\n",
       "      <td>24.92</td>\n",
       "      <td>6.073090</td>\n",
       "      <td>15</td>\n",
       "      <td>44</td>\n",
       "      <td>0.006470</td>\n",
       "      <td>1.000000</td>\n",
       "    </tr>\n",
       "  </tbody>\n",
       "</table>\n",
       "</div>"
      ],
      "text/plain": [
       "       segment  seq  avg_length   std_length  min_length  max_length  \\\n",
       "4     preamble    0       40.00     0.000000          40          40   \n",
       "2  instruction    1       94.00     0.000000          94          94   \n",
       "1        input    2     2322.48  2026.969438         192        6587   \n",
       "5     question    3     1306.13   367.519934         119        3814   \n",
       "3     postilla    4       64.00     0.000000          64          64   \n",
       "0    generated    5       24.92     6.073090          15          44   \n",
       "\n",
       "   avg_length_rel  avg_cumlen  \n",
       "4        0.010385    0.010385  \n",
       "2        0.024406    0.034791  \n",
       "1        0.603002    0.637793  \n",
       "5        0.339120    0.976913  \n",
       "3        0.016617    0.993530  \n",
       "0        0.006470    1.000000  "
      ]
     },
     "execution_count": 468,
     "metadata": {},
     "output_type": "execute_result"
    }
   ],
   "source": [
    "avg_seq_widths = segments.groupby(['segment', 'seq']).length.agg(['mean', 'std', 'min', 'max']).reset_index().sort_values('seq')\n",
    "avg_seq_widths = avg_seq_widths.rename(columns = {'mean': 'avg_length', \n",
    "                                                  'std': 'std_length', \n",
    "                                                  'min': 'min_length',\n",
    "                                                  'max': 'max_length'})\n",
    "avg_seq_widths['avg_length_rel'] = avg_seq_widths['avg_length'] / avg_seq_widths['avg_length'].sum()\n",
    "avg_seq_widths['avg_cumlen'] = avg_seq_widths['avg_length_rel'].cumsum() \n",
    "avg_seq_widths"
   ]
  },
  {
   "cell_type": "code",
   "execution_count": 469,
   "id": "8c57dfdf",
   "metadata": {},
   "outputs": [],
   "source": [
    "# normalized per section, offset by section sequence number\n",
    "m['tok_rel_segm'] = m.tok / m.end\n",
    "\n",
    "\n",
    "# normalized per section, offset by section sequence number\n",
    "# m['tok_rel_segm'] = m.seq + (m.tok / m.end)\n",
    "\n",
    "\n",
    "# old\n",
    "# d['tok_rel'] = d.groupby('pid').tok.transform(lambda x: x / x.max())"
   ]
  },
  {
   "cell_type": "code",
   "execution_count": null,
   "id": "8414800a",
   "metadata": {},
   "outputs": [],
   "source": [
    "# Define background regions [(start, end, color)]\n",
    "#background_regions = [\n",
    "#    (0.0, 1.0, palette[0], 'preamble'),\n",
    "#    (1.0, 2.0, palette[1], 'instruction'),\n",
    "#    (2.0, 3.0, palette[2], 'input'),\n",
    "#    (3.0, 4.0, palette[3], 'question'),\n",
    "#    (4.0, 5.0, palette[4], 'postilla'),\n",
    "#    (5.0, 6.0, palette[5], 'generated')\n",
    "#]"
   ]
  },
  {
   "cell_type": "code",
   "execution_count": 489,
   "id": "65faf446",
   "metadata": {},
   "outputs": [],
   "source": [
    "# Define background regions [(start, end, color, label)] based on the cumulative sections spans\n",
    "\n",
    "from palettable.cartocolors.qualitative import Prism_10, Bold_10\n",
    "palette = Prism_10.mpl_colors \n",
    "\n",
    "myl = avg_seq_widths.avg_cumlen.to_list()\n",
    "sections = ['preamble', 'instruction', 'input', 'question', 'postilla', 'generated']\n",
    "sections = ['preamble', 'instruction', 'table', 'candidates', 'postilla', 'generated']\n",
    "\n",
    "\n",
    "first = (0., myl[0], palette[0], sections[0])\n",
    "background_regions = [first]\n",
    "\n",
    "for z1, z2, l, i in zip(myl, myl[1:], sections[1:], range(len(myl))):\n",
    "    background_regions.append((z1,z2, palette[i+1], l))"
   ]
  },
  {
   "cell_type": "code",
   "execution_count": 492,
   "id": "2d302157",
   "metadata": {},
   "outputs": [],
   "source": [
    "# binning\n",
    "NUM_BINS = 50"
   ]
  },
  {
   "cell_type": "code",
   "execution_count": 499,
   "id": "2f9a7ab0",
   "metadata": {},
   "outputs": [
    {
     "data": {
      "image/png": "[encoded data removed]",
      "text/plain": [
       "<Figure size 1400x600 with 1 Axes>"
      ]
     },
     "metadata": {},
     "output_type": "display_data"
    }
   ],
   "source": [
    "import matplotlib.pyplot as plt\n",
    "import seaborn as sns\n",
    "import pandas as pd\n",
    "from matplotlib.ticker import MaxNLocator\n",
    "import matplotlib.patches as mpatches\n",
    "\n",
    "plt.figure(figsize=(14, 6))\n",
    "ax = plt.gca()  # Get current axis\n",
    "\n",
    "m['tok_bin'] = pd.cut(m['tok_rel_segm'], bins=NUM_BINS)\n",
    "m['tok_bin_hi'] = m['tok_bin'].apply(lambda x: x.right).astype(float)\n",
    "m['tok_bin_lo'] = m['tok_bin'].apply(lambda x: x.left).astype(float)\n",
    "\n",
    "unique_bins = np.sort(m['tok_bin_hi'].unique())  \n",
    "bin_mapping = {bin_val: i for i, bin_val in enumerate(unique_bins)}\n",
    "bks = list(bin_mapping.keys())\n",
    "\n",
    "patches = []\n",
    "for start, end, color, label in background_regions:\n",
    "    start_bin = [ n for n,i in enumerate(bin_mapping.keys()) if i > start ][0]\n",
    "    end_bin = [ n for n,i in enumerate(bin_mapping.keys()) if i > end ]\n",
    "    if not end_bin: end_bin = len(bin_mapping) - 1 \n",
    "    else: end_bin = end_bin[0] - 1\n",
    "    ax.axvspan(bin_mapping[bks[start_bin]]-0.5, bin_mapping[bks[end_bin]]+0.5, color=color, alpha=0.3)\n",
    "    patches.append(mpatches.Patch(color=color, alpha=0.3, label=label)) \n",
    "\n",
    "# Sort for proper order\n",
    "df = m.sort_values(by=['pid', 'tok_bin_hi'])\n",
    "df['tok_bin_idx'] = df['tok_bin_hi'].map(bin_mapping)  # Assign numerical index\n",
    "\n",
    "sns.boxplot(\n",
    "    data=df, \n",
    "    x=\"tok_bin_hi\", \n",
    "    y=\"true_ent\", \n",
    "    showcaps=True,        \n",
    "    showfliers=False,\n",
    "    whis=[10, 90],\n",
    "    boxprops={'facecolor': 'none'},\n",
    "    medianprops={'color': 'red', 'linewidth': 2},\n",
    "    ax = ax\n",
    ")\n",
    "\n",
    "plt.yscale(\"log\")\n",
    "\n",
    "plt.xticks(rotation=45)\n",
    "\n",
    "plt.xlabel(\"Position (normalized)\")\n",
    "plt.ylabel(\"H\")\n",
    "plt.title(\"Entropy\")\n",
    "\n",
    "ax.legend(handles=patches, title=\"Segments\", loc=\"lower right\")\n",
    "\n",
    "plt.tight_layout()\n",
    "\n",
    "plt.show()"
   ]
  },
  {
   "cell_type": "code",
   "execution_count": 498,
   "id": "444ae9fa",
   "metadata": {
    "scrolled": false
   },
   "outputs": [
    {
     "data": {
      "image/png": "[encoded data removed]",
      "text/plain": [
       "<Figure size 1400x600 with 1 Axes>"
      ]
     },
     "metadata": {},
     "output_type": "display_data"
    }
   ],
   "source": [
    "import matplotlib.pyplot as plt\n",
    "import seaborn as sns\n",
    "import pandas as pd\n",
    "from matplotlib.ticker import MaxNLocator\n",
    "import matplotlib.patches as mpatches\n",
    "\n",
    "plt.figure(figsize=(14, 6))\n",
    "ax = plt.gca()  # Get current axis\n",
    "\n",
    "m['tok_bin'] = pd.cut(m['tok_rel_segm'], bins=NUM_BINS)\n",
    "m['tok_bin_hi'] = m['tok_bin'].apply(lambda x: x.right).astype(float)\n",
    "m['tok_bin_lo'] = m['tok_bin'].apply(lambda x: x.left).astype(float)\n",
    "\n",
    "unique_bins = np.sort(m['tok_bin_hi'].unique())  \n",
    "bin_mapping = {bin_val: i for i, bin_val in enumerate(unique_bins)}\n",
    "bks = list(bin_mapping.keys())\n",
    "\n",
    "patches = []\n",
    "for start, end, color, label in background_regions:\n",
    "    start_bin = [ n for n,i in enumerate(bin_mapping.keys()) if i > start ][0]\n",
    "    end_bin = [ n for n,i in enumerate(bin_mapping.keys()) if i > end ]\n",
    "    if not end_bin: end_bin = len(bin_mapping) - 1 \n",
    "    else: end_bin = end_bin[0] - 1\n",
    "    ax.axvspan(bin_mapping[bks[start_bin]]-0.5, bin_mapping[bks[end_bin]]+0.5, color=color, alpha=0.3)\n",
    "    patches.append(mpatches.Patch(color=color, alpha=0.3, label=label)) \n",
    "\n",
    "# Sort for proper order\n",
    "df = m.sort_values(by=['pid', 'tok_bin_hi'])\n",
    "df['tok_bin_idx'] = df['tok_bin_hi'].map(bin_mapping)  # Assign numerical index\n",
    "\n",
    "sns.boxplot(\n",
    "    data=df, \n",
    "    x=\"tok_bin_hi\", \n",
    "    y=\"maxp\", \n",
    "    showcaps=True,        \n",
    "    showfliers=False,\n",
    "    whis=[10, 90],\n",
    "    boxprops={'facecolor': 'none'},\n",
    "    medianprops={'color': 'red', 'linewidth': 2},\n",
    "    ax = ax\n",
    ")\n",
    "\n",
    "# plt.yscale(\"log\")\n",
    "\n",
    "plt.xticks(rotation=45)\n",
    "\n",
    "plt.xlabel(\"Position (normalized)\")\n",
    "plt.ylabel(\"Maximum probability\")\n",
    "plt.title(\"P\")\n",
    "\n",
    "ax.legend(handles=patches, title=\"Segments\", loc=\"lower right\")\n",
    "\n",
    "plt.tight_layout()\n",
    "\n",
    "plt.show()"
   ]
  }
 ],
 "metadata": {
  "kernelspec": {
   "display_name": "doubt",
   "language": "python",
   "name": "doubt"
  },
  "language_info": {
   "codemirror_mode": {
    "name": "ipython",
    "version": 3
   },
   "file_extension": ".py",
   "mimetype": "text/x-python",
   "name": "python",
   "nbconvert_exporter": "python",
   "pygments_lexer": "ipython3",
   "version": "3.8.10"
  }
 },
 "nbformat": 4,
 "nbformat_minor": 5
}

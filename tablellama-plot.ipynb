{
 "cells": [
  {
   "cell_type": "code",
   "execution_count": 3,
   "id": "7139c697",
   "metadata": {},
   "outputs": [],
   "source": [
    "import torch\n",
    "import torch.nn.functional as F\n",
    "import transformers\n",
    "from transformers import AutoTokenizer, AutoModelForCausalLM\n",
    "import json\n",
    "from tqdm import tqdm\n",
    "import gc\n",
    "import pandas as pd\n",
    "import seaborn as sns\n",
    " \n",
    "file_path = \"turl_test_2k_prompts_50.jsonl\"\n",
    "device = torch.device(\"mps\")\n",
    "\n",
    "model_name = \"osunlp/TableLlama\"\n",
    "config = transformers.AutoConfig.from_pretrained(model_name)\n",
    "orig_ctx_len = getattr(config, \"max_position_embeddings\", None)\n",
    "tokenizer = AutoTokenizer.from_pretrained(model_name, model_max_length=orig_ctx_len, padding_side=\"left\", use_fast=False)"
   ]
  },
  {
   "cell_type": "code",
   "execution_count": 4,
   "id": "6ae2e7dc",
   "metadata": {},
   "outputs": [],
   "source": [
    "# prompt formatting\n",
    "\n",
    "PROMPT_DICT = {\n",
    "    \"prompt_input\": (\n",
    "        \"Below is an instruction that describes a task, paired with an input that provides further context. \"\n",
    "        \"Write a response that appropriately completes the request.\\n\\n\"\n",
    "        \"### Instruction:\\n{instruction}\\n\\n### Input:\\n{input_seg}\\n\\n### Question:\\n{question}\\n\\n### Response:\"\n",
    "    ),\n",
    "    \"prompt_no_input\": (\n",
    "        \"Below is an instruction that describes a task. \"\n",
    "        \"Write a response that appropriately completes the request.\\n\\n\"\n",
    "        \"### Instruction:\\n{instruction}\\n\\n### Response:\"\n",
    "    ),\n",
    "}\n",
    "\n",
    "def generate_prompt(instruction, question, input_seg=None):\n",
    "    question += \" Answer with just a candidate, selected from the provided referent entity candidates list, and nothing else. The selected candidate must be reported verbatim from the list provided as input. Each candidate in the list is enclosed between < and > and reports [DESC] and [TYPE] information.\"\n",
    "    if input_seg:\n",
    "        return PROMPT_DICT[\"prompt_input\"].format(instruction=instruction, input_seg=input_seg, question=question)\n",
    "    else:\n",
    "        return PROMPT_DICT[\"prompt_no_input\"].format(instruction=instruction)"
   ]
  },
  {
   "cell_type": "code",
   "execution_count": 5,
   "id": "36d31bb5",
   "metadata": {},
   "outputs": [],
   "source": [
    "# load questions\n",
    "\n",
    "file_path = \"turl_test_2k_prompts_50.jsonl\"\n",
    "\n",
    "with open(file_path, \"r\", encoding=\"utf-8\") as f:\n",
    "    prompts = [json.loads(line) for line in f]"
   ]
  },
  {
   "cell_type": "code",
   "execution_count": 6,
   "id": "c784af19",
   "metadata": {
    "scrolled": true
   },
   "outputs": [
    {
     "name": "stdout",
     "output_type": "stream",
     "text": [
      "TableLlama.3518465688.pickle\n",
      "TableLlama.1238154247.pickle\n",
      "TableLlama.2329726566.pickle\n",
      "TableLlama.3772737819.pickle\n",
      "TableLlama.1659250506.pickle\n",
      "TableLlama.1674567122.pickle\n",
      "TableLlama.3947840415.pickle\n",
      "TableLlama.3566707448.pickle\n",
      "TableLlama.3095983523.pickle\n",
      "TableLlama.2922754562.pickle\n",
      "CPU times: user 17.6 s, sys: 1.55 s, total: 19.1 s\n",
      "Wall time: 19.3 s\n"
     ]
    },
    {
     "data": {
      "text/plain": [
       "1000"
      ]
     },
     "execution_count": 6,
     "metadata": {},
     "output_type": "execute_result"
    }
   ],
   "source": [
    "%%time\n",
    "\n",
    "# load processed data\n",
    "\n",
    "import os\n",
    "import pickle\n",
    "\n",
    "prefix = './tablellama10runs/'\n",
    "\n",
    "run = 0\n",
    "\n",
    "outlist = []\n",
    "for file in os.listdir(prefix):\n",
    "    if file.endswith('pickle'):\n",
    "        print(file)\n",
    "        with open(os.path.join(prefix, file), 'rb') as handle:\n",
    "            outlist_ = pickle.load(handle)\n",
    "            outlist.extend([dict(item, **{'run': run, 'pid': pid}) for pid, item in enumerate(outlist_)])\n",
    "    run += 1\n",
    "\n",
    "len(outlist)"
   ]
  },
  {
   "cell_type": "markdown",
   "id": "fd3c5010",
   "metadata": {},
   "source": [
    "### check output against ground truth"
   ]
  },
  {
   "cell_type": "code",
   "execution_count": 7,
   "id": "d955f13a",
   "metadata": {},
   "outputs": [
    {
     "name": "stderr",
     "output_type": "stream",
     "text": [
      "Token indices sequence length is longer than the specified maximum sequence length for this model (4857 > 4096). Running this sequence through the model will result in indexing errors\n"
     ]
    },
    {
     "name": "stdout",
     "output_type": "stream",
     "text": [
      "CPU times: user 8.66 s, sys: 212 ms, total: 8.87 s\n",
      "Wall time: 9.52 s\n"
     ]
    }
   ],
   "source": [
    "%%time\n",
    "\n",
    "# show results\n",
    "\n",
    "c=0\n",
    "t=0\n",
    "h=0\n",
    "\n",
    "truth = []\n",
    "\n",
    "for idx, p in enumerate(outlist):\n",
    "    c+=1\n",
    "    # in\n",
    "    prompt = generate_prompt(p[\"instruction\"], p[\"question\"], p[\"input\"])\n",
    "    inputs = tokenizer(prompt, return_tensors=\"pt\").to(device)\n",
    "    # computed\n",
    "    # post_output_scores = p['post_output_scores']\n",
    "    post_output_sequences = p['post_output_sequences']\n",
    "    # bases\n",
    "    baseid = len(inputs[\"input_ids\"][0]) + 1\n",
    "    endid = len(post_output_sequences[0])\n",
    "    # lookout\n",
    "    generated_ids = post_output_sequences\n",
    "    generated_text = tokenizer.decode(generated_ids[0][baseid:endid], skip_special_tokens=True)\n",
    "    # print\n",
    "    # print(generated_text)\n",
    "    # print(p['output'])\n",
    "    # print('\\n')\n",
    "    #test\n",
    "    a = generated_text.lower().strip()\n",
    "    b = p['output'].lower().strip()\n",
    "    # correct\n",
    "    correct = False\n",
    "    if (a in b) or (b in a) or (b.startswith(a)) or (a.startswith(b)): \n",
    "        correct = True\n",
    "        t+=1\n",
    "    # hallucinated\n",
    "    elif a not in prompt.lower().strip(): \n",
    "        h+=1\n",
    "    # incorrect\n",
    "    else:\n",
    "        pass\n",
    "        #print(generated_text)\n",
    "        #print(p['output'])\n",
    "        #print('\\n')\n",
    "        # print(prompt)\n",
    "        # print('\\n')\n",
    "        \n",
    "    truth.append((p['run'], p['pid'], correct))"
   ]
  },
  {
   "cell_type": "code",
   "execution_count": 8,
   "id": "e21ab371",
   "metadata": {},
   "outputs": [
    {
     "data": {
      "text/plain": [
       "(888, 4, 1000)"
      ]
     },
     "execution_count": 8,
     "metadata": {},
     "output_type": "execute_result"
    }
   ],
   "source": [
    "# true, hallucinated, counted\n",
    "t, h, c"
   ]
  },
  {
   "cell_type": "code",
   "execution_count": 9,
   "id": "938692fb",
   "metadata": {},
   "outputs": [],
   "source": [
    "truth = pd.DataFrame(truth, columns=['run', 'pid', 'correct'])"
   ]
  },
  {
   "cell_type": "code",
   "execution_count": 10,
   "id": "7d5e332a",
   "metadata": {},
   "outputs": [
    {
     "data": {
      "text/plain": [
       "<Axes: xlabel='correct', ylabel='Count'>"
      ]
     },
     "execution_count": 10,
     "metadata": {},
     "output_type": "execute_result"
    },
    {
     "data": {
      "image/png": "[encoded data removed]",
      "text/plain": [
       "<Figure size 640x480 with 1 Axes>"
      ]
     },
     "metadata": {},
     "output_type": "display_data"
    }
   ],
   "source": [
    "sns.histplot(truth.groupby('pid').correct.mean())"
   ]
  },
  {
   "cell_type": "markdown",
   "id": "cf1c8e14",
   "metadata": {},
   "source": [
    "### sequence components alignment"
   ]
  },
  {
   "cell_type": "code",
   "execution_count": 11,
   "id": "ff3dca16",
   "metadata": {},
   "outputs": [],
   "source": [
    "def is_sublist(c, m, label):\n",
    "    if not c: return False\n",
    "    if not m or len(c) > len(m): return False\n",
    "\n",
    "    for i in range(len(m) - len(c) + 1):\n",
    "        if m[i:i+len(c)] == c:\n",
    "            return (i, i + len(c), label)\n",
    "    return False"
   ]
  },
  {
   "cell_type": "code",
   "execution_count": 12,
   "id": "433b6efb",
   "metadata": {},
   "outputs": [
    {
     "name": "stdout",
     "output_type": "stream",
     "text": [
      "CPU times: user 21.1 s, sys: 164 ms, total: 21.3 s\n",
      "Wall time: 20.9 s\n"
     ]
    }
   ],
   "source": [
    "%%time\n",
    "\n",
    "checks = []\n",
    "alls = set()\n",
    "\n",
    "for idx, p in enumerate(outlist):\n",
    "    \n",
    "    run = p['run']\n",
    "    pid = p['pid']\n",
    "    \n",
    "    alls.add(p['table'])\n",
    "\n",
    "    prompt = generate_prompt(p[\"instruction\"], p[\"question\"], p[\"input\"])\n",
    "    output_seq = p['post_output_sequences'][0]\n",
    "\n",
    "    prompt_seq = tokenizer(prompt, return_tensors=\"pt\")\n",
    "    prompt_seq = prompt_seq['input_ids'][0].numpy().tolist()\n",
    "\n",
    "    instruction_seq = tokenizer(p[\"instruction\"], return_tensors=\"pt\")\n",
    "    instruction_seq = instruction_seq['input_ids'][0].numpy().tolist()\n",
    "\n",
    "    question_seq = tokenizer(p[\"question\"], return_tensors=\"pt\")\n",
    "    question_seq = question_seq['input_ids'][0].numpy().tolist()\n",
    "\n",
    "    input_seq = tokenizer(p[\"input\"], return_tensors=\"pt\")\n",
    "    input_seq = input_seq['input_ids'][0].numpy().tolist()\n",
    "\n",
    "    postilla = \" Answer with just a candidate, selected from the provided referent entity candidates list, and nothing else. The selected candidate must be reported verbatim from the list provided as input. Each candidate in the list is enclosed between < and > and reports [DESC] and [TYPE] information.\"\n",
    "    postilla_seq = tokenizer(postilla, return_tensors=\"pt\")\n",
    "    postilla_seq = postilla_seq['input_ids'][0].numpy().tolist()\n",
    "    \n",
    "    # subseq matching\n",
    "    instruction_match = is_sublist(instruction_seq[2:], output_seq, 'instruction')\n",
    "    input_match = is_sublist(input_seq[2:], output_seq, 'input')\n",
    "    question_match = is_sublist(question_seq[2:], output_seq, 'question') # maybe include 1?\n",
    "    postilla_match = is_sublist(postilla_seq[2:], output_seq, 'postilla')\n",
    "    \n",
    "    # boundaries are inclusive\n",
    "    checks.append((run, pid, 0, instruction_match[0], 'preamble')) # preamble\n",
    "    checks.append((run, pid, instruction_match[0] + 1) + instruction_match[1:])\n",
    "    checks.append((run, pid, instruction_match[1] + 1) + input_match[1:]) # sew to preceding\n",
    "    checks.append((run, pid, input_match[1] + 1) + question_match[1:]) # sew to preceding\n",
    "    checks.append((run, pid, postilla_match[0] + 1, len(prompt_seq) - 1, 'postilla')) # stretch postilla until the end of the prompt\n",
    "    checks.append((run, pid, len(prompt_seq), len(output_seq) -1, 'generated')) # assume everything else is generated"
   ]
  },
  {
   "cell_type": "code",
   "execution_count": 13,
   "id": "f34145e5",
   "metadata": {},
   "outputs": [
    {
     "data": {
      "text/plain": [
       "False"
      ]
     },
     "execution_count": 13,
     "metadata": {},
     "output_type": "execute_result"
    }
   ],
   "source": [
    "# check the checks (must be False)\n",
    "'False' in checks"
   ]
  },
  {
   "cell_type": "code",
   "execution_count": 14,
   "id": "13265c19",
   "metadata": {},
   "outputs": [],
   "source": [
    "segments = pd.DataFrame(checks, columns = ['run', 'pid', 'start', 'end', 'segment'])"
   ]
  },
  {
   "cell_type": "code",
   "execution_count": 15,
   "id": "095d0f8b",
   "metadata": {},
   "outputs": [],
   "source": [
    "segments['seq'] = segments.segment.map({'preamble': 0, 'instruction': 1, 'input': 2, 'question': 3, 'postilla': 4, 'generated': 5})"
   ]
  },
  {
   "cell_type": "code",
   "execution_count": 16,
   "id": "645c92f2",
   "metadata": {},
   "outputs": [
    {
     "data": {
      "text/html": [
       "<div>\n",
       "<style scoped>\n",
       "    .dataframe tbody tr th:only-of-type {\n",
       "        vertical-align: middle;\n",
       "    }\n",
       "\n",
       "    .dataframe tbody tr th {\n",
       "        vertical-align: top;\n",
       "    }\n",
       "\n",
       "    .dataframe thead th {\n",
       "        text-align: right;\n",
       "    }\n",
       "</style>\n",
       "<table border=\"1\" class=\"dataframe\">\n",
       "  <thead>\n",
       "    <tr style=\"text-align: right;\">\n",
       "      <th></th>\n",
       "      <th>run</th>\n",
       "      <th>pid</th>\n",
       "      <th>start</th>\n",
       "      <th>end</th>\n",
       "      <th>segment</th>\n",
       "      <th>seq</th>\n",
       "    </tr>\n",
       "  </thead>\n",
       "  <tbody>\n",
       "    <tr>\n",
       "      <th>0</th>\n",
       "      <td>0</td>\n",
       "      <td>0</td>\n",
       "      <td>0</td>\n",
       "      <td>40</td>\n",
       "      <td>preamble</td>\n",
       "      <td>0</td>\n",
       "    </tr>\n",
       "    <tr>\n",
       "      <th>1</th>\n",
       "      <td>0</td>\n",
       "      <td>0</td>\n",
       "      <td>41</td>\n",
       "      <td>135</td>\n",
       "      <td>instruction</td>\n",
       "      <td>1</td>\n",
       "    </tr>\n",
       "    <tr>\n",
       "      <th>2</th>\n",
       "      <td>0</td>\n",
       "      <td>0</td>\n",
       "      <td>136</td>\n",
       "      <td>644</td>\n",
       "      <td>input</td>\n",
       "      <td>2</td>\n",
       "    </tr>\n",
       "    <tr>\n",
       "      <th>3</th>\n",
       "      <td>0</td>\n",
       "      <td>0</td>\n",
       "      <td>645</td>\n",
       "      <td>1980</td>\n",
       "      <td>question</td>\n",
       "      <td>3</td>\n",
       "    </tr>\n",
       "    <tr>\n",
       "      <th>4</th>\n",
       "      <td>0</td>\n",
       "      <td>0</td>\n",
       "      <td>1981</td>\n",
       "      <td>2045</td>\n",
       "      <td>postilla</td>\n",
       "      <td>4</td>\n",
       "    </tr>\n",
       "    <tr>\n",
       "      <th>...</th>\n",
       "      <td>...</td>\n",
       "      <td>...</td>\n",
       "      <td>...</td>\n",
       "      <td>...</td>\n",
       "      <td>...</td>\n",
       "      <td>...</td>\n",
       "    </tr>\n",
       "    <tr>\n",
       "      <th>5995</th>\n",
       "      <td>9</td>\n",
       "      <td>99</td>\n",
       "      <td>41</td>\n",
       "      <td>135</td>\n",
       "      <td>instruction</td>\n",
       "      <td>1</td>\n",
       "    </tr>\n",
       "    <tr>\n",
       "      <th>5996</th>\n",
       "      <td>9</td>\n",
       "      <td>99</td>\n",
       "      <td>136</td>\n",
       "      <td>1397</td>\n",
       "      <td>input</td>\n",
       "      <td>2</td>\n",
       "    </tr>\n",
       "    <tr>\n",
       "      <th>5997</th>\n",
       "      <td>9</td>\n",
       "      <td>99</td>\n",
       "      <td>1398</td>\n",
       "      <td>3174</td>\n",
       "      <td>question</td>\n",
       "      <td>3</td>\n",
       "    </tr>\n",
       "    <tr>\n",
       "      <th>5998</th>\n",
       "      <td>9</td>\n",
       "      <td>99</td>\n",
       "      <td>3175</td>\n",
       "      <td>3239</td>\n",
       "      <td>postilla</td>\n",
       "      <td>4</td>\n",
       "    </tr>\n",
       "    <tr>\n",
       "      <th>5999</th>\n",
       "      <td>9</td>\n",
       "      <td>99</td>\n",
       "      <td>3240</td>\n",
       "      <td>3270</td>\n",
       "      <td>generated</td>\n",
       "      <td>5</td>\n",
       "    </tr>\n",
       "  </tbody>\n",
       "</table>\n",
       "<p>6000 rows × 6 columns</p>\n",
       "</div>"
      ],
      "text/plain": [
       "      run  pid  start   end      segment  seq\n",
       "0       0    0      0    40     preamble    0\n",
       "1       0    0     41   135  instruction    1\n",
       "2       0    0    136   644        input    2\n",
       "3       0    0    645  1980     question    3\n",
       "4       0    0   1981  2045     postilla    4\n",
       "...   ...  ...    ...   ...          ...  ...\n",
       "5995    9   99     41   135  instruction    1\n",
       "5996    9   99    136  1397        input    2\n",
       "5997    9   99   1398  3174     question    3\n",
       "5998    9   99   3175  3239     postilla    4\n",
       "5999    9   99   3240  3270    generated    5\n",
       "\n",
       "[6000 rows x 6 columns]"
      ]
     },
     "execution_count": 16,
     "metadata": {},
     "output_type": "execute_result"
    }
   ],
   "source": [
    "segments"
   ]
  },
  {
   "cell_type": "markdown",
   "id": "d40f8291",
   "metadata": {},
   "source": [
    "### collect observables"
   ]
  },
  {
   "cell_type": "code",
   "execution_count": 17,
   "id": "767cb537",
   "metadata": {},
   "outputs": [],
   "source": [
    "shapes_pre = []\n",
    "\n",
    "# for each prompt\n",
    "for i, p in enumerate(outlist):\n",
    "    # for each token\n",
    "    run = p['run']\n",
    "    pid = p['pid']\n",
    "    for j, pp in enumerate(p['pre_output_proba_topn']):\n",
    "        shapes_pre.append((run,pid,j,'prompt',\n",
    "                           len(pp['top_n_indices']),\n",
    "                           p['pre_output_true_entropies'][j],\n",
    "                           max(pp['top_n_probs'])))\n",
    "    for jj, pp in enumerate(p['post_output_proba_topn']):\n",
    "        shapes_pre.append((run,pid,j+jj+1,'generated',\n",
    "                           len(pp['top_n_indices']),\n",
    "                           p['post_output_true_entropies'][jj],\n",
    "                           max(pp['top_n_probs'])))"
   ]
  },
  {
   "cell_type": "code",
   "execution_count": 18,
   "id": "ca5d006b",
   "metadata": {},
   "outputs": [],
   "source": [
    "import pandas as pd\n",
    "import numpy as np\n",
    "d = pd.DataFrame(shapes_pre, columns=['run', 'pid', 'tok', 'area', 'shape', 'true_ent', 'maxp'])"
   ]
  },
  {
   "cell_type": "code",
   "execution_count": 19,
   "id": "87b50ed9",
   "metadata": {},
   "outputs": [
    {
     "data": {
      "text/plain": [
       "True"
      ]
     },
     "execution_count": 19,
     "metadata": {},
     "output_type": "execute_result"
    }
   ],
   "source": [
    "# are the max index equal in observables and segments (must be True)\n",
    "d.groupby(['run','pid']).tok.max().sort_values().reset_index(drop=True).equals(segments.groupby(['run','pid']).end.max().sort_values().reset_index(drop=True))"
   ]
  },
  {
   "cell_type": "code",
   "execution_count": 20,
   "id": "fa8240d6",
   "metadata": {},
   "outputs": [
    {
     "name": "stdout",
     "output_type": "stream",
     "text": [
      "CPU times: user 1.53 s, sys: 531 ms, total: 2.06 s\n",
      "Wall time: 2.06 s\n"
     ]
    }
   ],
   "source": [
    "%%time\n",
    "\n",
    "# attach prompt section\n",
    "m = d.merge(segments, on=['run','pid'], how='left')\n",
    "m = m[(m.start <= m.tok) & (m.tok <= m.end)]"
   ]
  },
  {
   "cell_type": "code",
   "execution_count": 21,
   "id": "d8da0351",
   "metadata": {},
   "outputs": [
    {
     "data": {
      "text/html": [
       "<div>\n",
       "<style scoped>\n",
       "    .dataframe tbody tr th:only-of-type {\n",
       "        vertical-align: middle;\n",
       "    }\n",
       "\n",
       "    .dataframe tbody tr th {\n",
       "        vertical-align: top;\n",
       "    }\n",
       "\n",
       "    .dataframe thead th {\n",
       "        text-align: right;\n",
       "    }\n",
       "</style>\n",
       "<table border=\"1\" class=\"dataframe\">\n",
       "  <thead>\n",
       "    <tr style=\"text-align: right;\">\n",
       "      <th></th>\n",
       "      <th>run</th>\n",
       "      <th>pid</th>\n",
       "      <th>tok</th>\n",
       "      <th>area</th>\n",
       "      <th>shape</th>\n",
       "      <th>true_ent</th>\n",
       "      <th>maxp</th>\n",
       "      <th>start</th>\n",
       "      <th>end</th>\n",
       "      <th>segment</th>\n",
       "      <th>seq</th>\n",
       "    </tr>\n",
       "  </thead>\n",
       "  <tbody>\n",
       "    <tr>\n",
       "      <th>0</th>\n",
       "      <td>0</td>\n",
       "      <td>0</td>\n",
       "      <td>0</td>\n",
       "      <td>prompt</td>\n",
       "      <td>19127</td>\n",
       "      <td>9.342692</td>\n",
       "      <td>0.011505</td>\n",
       "      <td>0</td>\n",
       "      <td>40</td>\n",
       "      <td>preamble</td>\n",
       "      <td>0</td>\n",
       "    </tr>\n",
       "    <tr>\n",
       "      <th>6</th>\n",
       "      <td>0</td>\n",
       "      <td>0</td>\n",
       "      <td>1</td>\n",
       "      <td>prompt</td>\n",
       "      <td>4954</td>\n",
       "      <td>6.863560</td>\n",
       "      <td>0.110962</td>\n",
       "      <td>0</td>\n",
       "      <td>40</td>\n",
       "      <td>preamble</td>\n",
       "      <td>0</td>\n",
       "    </tr>\n",
       "    <tr>\n",
       "      <th>12</th>\n",
       "      <td>0</td>\n",
       "      <td>0</td>\n",
       "      <td>2</td>\n",
       "      <td>prompt</td>\n",
       "      <td>9</td>\n",
       "      <td>1.748911</td>\n",
       "      <td>0.684082</td>\n",
       "      <td>0</td>\n",
       "      <td>40</td>\n",
       "      <td>preamble</td>\n",
       "      <td>0</td>\n",
       "    </tr>\n",
       "    <tr>\n",
       "      <th>18</th>\n",
       "      <td>0</td>\n",
       "      <td>0</td>\n",
       "      <td>3</td>\n",
       "      <td>prompt</td>\n",
       "      <td>178</td>\n",
       "      <td>4.617726</td>\n",
       "      <td>0.093811</td>\n",
       "      <td>0</td>\n",
       "      <td>40</td>\n",
       "      <td>preamble</td>\n",
       "      <td>0</td>\n",
       "    </tr>\n",
       "    <tr>\n",
       "      <th>24</th>\n",
       "      <td>0</td>\n",
       "      <td>0</td>\n",
       "      <td>4</td>\n",
       "      <td>prompt</td>\n",
       "      <td>5</td>\n",
       "      <td>1.100033</td>\n",
       "      <td>0.811523</td>\n",
       "      <td>0</td>\n",
       "      <td>40</td>\n",
       "      <td>preamble</td>\n",
       "      <td>0</td>\n",
       "    </tr>\n",
       "    <tr>\n",
       "      <th>...</th>\n",
       "      <td>...</td>\n",
       "      <td>...</td>\n",
       "      <td>...</td>\n",
       "      <td>...</td>\n",
       "      <td>...</td>\n",
       "      <td>...</td>\n",
       "      <td>...</td>\n",
       "      <td>...</td>\n",
       "      <td>...</td>\n",
       "      <td>...</td>\n",
       "      <td>...</td>\n",
       "    </tr>\n",
       "    <tr>\n",
       "      <th>23143721</th>\n",
       "      <td>9</td>\n",
       "      <td>99</td>\n",
       "      <td>3266</td>\n",
       "      <td>generated</td>\n",
       "      <td>1</td>\n",
       "      <td>0.000000</td>\n",
       "      <td>1.000000</td>\n",
       "      <td>3240</td>\n",
       "      <td>3270</td>\n",
       "      <td>generated</td>\n",
       "      <td>5</td>\n",
       "    </tr>\n",
       "    <tr>\n",
       "      <th>23143727</th>\n",
       "      <td>9</td>\n",
       "      <td>99</td>\n",
       "      <td>3267</td>\n",
       "      <td>generated</td>\n",
       "      <td>1</td>\n",
       "      <td>0.000000</td>\n",
       "      <td>1.000000</td>\n",
       "      <td>3240</td>\n",
       "      <td>3270</td>\n",
       "      <td>generated</td>\n",
       "      <td>5</td>\n",
       "    </tr>\n",
       "    <tr>\n",
       "      <th>23143733</th>\n",
       "      <td>9</td>\n",
       "      <td>99</td>\n",
       "      <td>3268</td>\n",
       "      <td>generated</td>\n",
       "      <td>1</td>\n",
       "      <td>0.000000</td>\n",
       "      <td>1.000000</td>\n",
       "      <td>3240</td>\n",
       "      <td>3270</td>\n",
       "      <td>generated</td>\n",
       "      <td>5</td>\n",
       "    </tr>\n",
       "    <tr>\n",
       "      <th>23143739</th>\n",
       "      <td>9</td>\n",
       "      <td>99</td>\n",
       "      <td>3269</td>\n",
       "      <td>generated</td>\n",
       "      <td>1</td>\n",
       "      <td>0.000000</td>\n",
       "      <td>1.000000</td>\n",
       "      <td>3240</td>\n",
       "      <td>3270</td>\n",
       "      <td>generated</td>\n",
       "      <td>5</td>\n",
       "    </tr>\n",
       "    <tr>\n",
       "      <th>23143745</th>\n",
       "      <td>9</td>\n",
       "      <td>99</td>\n",
       "      <td>3270</td>\n",
       "      <td>generated</td>\n",
       "      <td>1</td>\n",
       "      <td>0.000000</td>\n",
       "      <td>1.000000</td>\n",
       "      <td>3240</td>\n",
       "      <td>3270</td>\n",
       "      <td>generated</td>\n",
       "      <td>5</td>\n",
       "    </tr>\n",
       "  </tbody>\n",
       "</table>\n",
       "<p>3857291 rows × 11 columns</p>\n",
       "</div>"
      ],
      "text/plain": [
       "          run  pid   tok       area  shape  true_ent      maxp  start   end  \\\n",
       "0           0    0     0     prompt  19127  9.342692  0.011505      0    40   \n",
       "6           0    0     1     prompt   4954  6.863560  0.110962      0    40   \n",
       "12          0    0     2     prompt      9  1.748911  0.684082      0    40   \n",
       "18          0    0     3     prompt    178  4.617726  0.093811      0    40   \n",
       "24          0    0     4     prompt      5  1.100033  0.811523      0    40   \n",
       "...       ...  ...   ...        ...    ...       ...       ...    ...   ...   \n",
       "23143721    9   99  3266  generated      1  0.000000  1.000000   3240  3270   \n",
       "23143727    9   99  3267  generated      1  0.000000  1.000000   3240  3270   \n",
       "23143733    9   99  3268  generated      1  0.000000  1.000000   3240  3270   \n",
       "23143739    9   99  3269  generated      1  0.000000  1.000000   3240  3270   \n",
       "23143745    9   99  3270  generated      1  0.000000  1.000000   3240  3270   \n",
       "\n",
       "            segment  seq  \n",
       "0          preamble    0  \n",
       "6          preamble    0  \n",
       "12         preamble    0  \n",
       "18         preamble    0  \n",
       "24         preamble    0  \n",
       "...             ...  ...  \n",
       "23143721  generated    5  \n",
       "23143727  generated    5  \n",
       "23143733  generated    5  \n",
       "23143739  generated    5  \n",
       "23143745  generated    5  \n",
       "\n",
       "[3857291 rows x 11 columns]"
      ]
     },
     "execution_count": 21,
     "metadata": {},
     "output_type": "execute_result"
    }
   ],
   "source": [
    "m"
   ]
  },
  {
   "cell_type": "code",
   "execution_count": 22,
   "id": "ecb99d28",
   "metadata": {},
   "outputs": [
    {
     "data": {
      "text/plain": [
       "True"
      ]
     },
     "execution_count": 22,
     "metadata": {},
     "output_type": "execute_result"
    }
   ],
   "source": [
    "# did we merge all the tokens to their segments (must be True)\n",
    "d[['run', 'pid', 'tok']].sort_values(['run', 'pid', 'tok']).reset_index(drop=True).equals(m[['run', 'pid', 'tok']].sort_values(['run', 'pid', 'tok']).reset_index(drop=True))"
   ]
  },
  {
   "cell_type": "code",
   "execution_count": 23,
   "id": "085d1db3",
   "metadata": {},
   "outputs": [
    {
     "data": {
      "text/plain": [
       "True"
      ]
     },
     "execution_count": 23,
     "metadata": {},
     "output_type": "execute_result"
    }
   ],
   "source": [
    "# check that all the six sections are present in each prompt (must be True)\n",
    "m.drop_duplicates(['pid', 'segment']).shape[0] == m.pid.nunique() * 6"
   ]
  },
  {
   "cell_type": "markdown",
   "id": "c8e012a7",
   "metadata": {},
   "source": [
    "### token position normalization"
   ]
  },
  {
   "cell_type": "code",
   "execution_count": 24,
   "id": "c9d992d2",
   "metadata": {},
   "outputs": [],
   "source": [
    "segments['length'] = segments.end - segments.start"
   ]
  },
  {
   "cell_type": "code",
   "execution_count": 25,
   "id": "526a0df6",
   "metadata": {},
   "outputs": [
    {
     "data": {
      "text/html": [
       "<div>\n",
       "<style scoped>\n",
       "    .dataframe tbody tr th:only-of-type {\n",
       "        vertical-align: middle;\n",
       "    }\n",
       "\n",
       "    .dataframe tbody tr th {\n",
       "        vertical-align: top;\n",
       "    }\n",
       "\n",
       "    .dataframe thead th {\n",
       "        text-align: right;\n",
       "    }\n",
       "</style>\n",
       "<table border=\"1\" class=\"dataframe\">\n",
       "  <thead>\n",
       "    <tr style=\"text-align: right;\">\n",
       "      <th></th>\n",
       "      <th>segment</th>\n",
       "      <th>seq</th>\n",
       "      <th>avg_length</th>\n",
       "      <th>std_length</th>\n",
       "      <th>min_length</th>\n",
       "      <th>max_length</th>\n",
       "      <th>avg_length_rel</th>\n",
       "      <th>avg_cumlen</th>\n",
       "    </tr>\n",
       "  </thead>\n",
       "  <tbody>\n",
       "    <tr>\n",
       "      <th>4</th>\n",
       "      <td>preamble</td>\n",
       "      <td>0</td>\n",
       "      <td>40.000</td>\n",
       "      <td>0.000000</td>\n",
       "      <td>40</td>\n",
       "      <td>40</td>\n",
       "      <td>0.010386</td>\n",
       "      <td>0.010386</td>\n",
       "    </tr>\n",
       "    <tr>\n",
       "      <th>2</th>\n",
       "      <td>instruction</td>\n",
       "      <td>1</td>\n",
       "      <td>94.000</td>\n",
       "      <td>0.000000</td>\n",
       "      <td>94</td>\n",
       "      <td>94</td>\n",
       "      <td>0.024407</td>\n",
       "      <td>0.034794</td>\n",
       "    </tr>\n",
       "    <tr>\n",
       "      <th>1</th>\n",
       "      <td>input</td>\n",
       "      <td>2</td>\n",
       "      <td>2322.480</td>\n",
       "      <td>2017.818287</td>\n",
       "      <td>192</td>\n",
       "      <td>6587</td>\n",
       "      <td>0.603039</td>\n",
       "      <td>0.637833</td>\n",
       "    </tr>\n",
       "    <tr>\n",
       "      <th>5</th>\n",
       "      <td>question</td>\n",
       "      <td>3</td>\n",
       "      <td>1306.130</td>\n",
       "      <td>365.860694</td>\n",
       "      <td>119</td>\n",
       "      <td>3814</td>\n",
       "      <td>0.339141</td>\n",
       "      <td>0.976974</td>\n",
       "    </tr>\n",
       "    <tr>\n",
       "      <th>3</th>\n",
       "      <td>postilla</td>\n",
       "      <td>4</td>\n",
       "      <td>64.000</td>\n",
       "      <td>0.000000</td>\n",
       "      <td>64</td>\n",
       "      <td>64</td>\n",
       "      <td>0.016618</td>\n",
       "      <td>0.993591</td>\n",
       "    </tr>\n",
       "    <tr>\n",
       "      <th>0</th>\n",
       "      <td>generated</td>\n",
       "      <td>5</td>\n",
       "      <td>24.681</td>\n",
       "      <td>5.805768</td>\n",
       "      <td>15</td>\n",
       "      <td>44</td>\n",
       "      <td>0.006409</td>\n",
       "      <td>1.000000</td>\n",
       "    </tr>\n",
       "  </tbody>\n",
       "</table>\n",
       "</div>"
      ],
      "text/plain": [
       "       segment  seq  avg_length   std_length  min_length  max_length  \\\n",
       "4     preamble    0      40.000     0.000000          40          40   \n",
       "2  instruction    1      94.000     0.000000          94          94   \n",
       "1        input    2    2322.480  2017.818287         192        6587   \n",
       "5     question    3    1306.130   365.860694         119        3814   \n",
       "3     postilla    4      64.000     0.000000          64          64   \n",
       "0    generated    5      24.681     5.805768          15          44   \n",
       "\n",
       "   avg_length_rel  avg_cumlen  \n",
       "4        0.010386    0.010386  \n",
       "2        0.024407    0.034794  \n",
       "1        0.603039    0.637833  \n",
       "5        0.339141    0.976974  \n",
       "3        0.016618    0.993591  \n",
       "0        0.006409    1.000000  "
      ]
     },
     "execution_count": 25,
     "metadata": {},
     "output_type": "execute_result"
    }
   ],
   "source": [
    "avg_seq_widths = segments.groupby(['segment', 'seq']).length.agg(['mean', 'std', 'min', 'max']).reset_index().sort_values('seq')\n",
    "avg_seq_widths = avg_seq_widths.rename(columns = {'mean': 'avg_length', \n",
    "                                                  'std': 'std_length', \n",
    "                                                  'min': 'min_length',\n",
    "                                                  'max': 'max_length'})\n",
    "avg_seq_widths['avg_length_rel'] = avg_seq_widths['avg_length'] / avg_seq_widths['avg_length'].sum()\n",
    "avg_seq_widths['avg_cumlen'] = avg_seq_widths['avg_length_rel'].cumsum() \n",
    "avg_seq_widths"
   ]
  },
  {
   "cell_type": "code",
   "execution_count": 26,
   "id": "861415d6",
   "metadata": {},
   "outputs": [
    {
     "data": {
      "text/plain": [
       "<Axes: xlabel='length', ylabel='Count'>"
      ]
     },
     "execution_count": 26,
     "metadata": {},
     "output_type": "execute_result"
    },
    {
     "data": {
      "image/png": "[encoded data removed]",
      "text/plain": [
       "<Figure size 640x480 with 1 Axes>"
      ]
     },
     "metadata": {},
     "output_type": "display_data"
    }
   ],
   "source": [
    "sns.histplot(segments[segments.segment=='input'], x='length', hue='segment', multiple='dodge', binwidth=100)"
   ]
  },
  {
   "cell_type": "code",
   "execution_count": 27,
   "id": "c33f8015",
   "metadata": {},
   "outputs": [],
   "source": [
    "# normalized per section, offset by section sequence number\n",
    "m['tok_rel_segm'] = m.tok / m.end\n",
    "\n",
    "\n",
    "# normalized per section, each section same width\n",
    "m['tok_rel_segm_abs'] = m.seq + ((m.tok - m.start) / (m.end - m.start))\n",
    "\n",
    "# token relative to section start\n",
    "m['tokzero'] = m['tok'] - m['start']\n",
    "\n",
    "\n",
    "# old\n",
    "# d['tok_rel'] = d.groupby('pid').tok.transform(lambda x: x / x.max())"
   ]
  },
  {
   "cell_type": "code",
   "execution_count": 28,
   "id": "fa3167c7",
   "metadata": {},
   "outputs": [],
   "source": [
    "# Define background regions [(start, end, color, label)] based on the cumulative sections spans (for the first viz above)\n",
    "\n",
    "from palettable.cartocolors.qualitative import Prism_10, Bold_10\n",
    "palette = Prism_10.mpl_colors \n",
    "\n",
    "myl = avg_seq_widths.avg_cumlen.to_list()\n",
    "sections = ['preamble', 'instruction', 'input', 'question', 'postilla', 'generated']\n",
    "\n",
    "\n",
    "first = (0., myl[0], palette[0], sections[0])\n",
    "background_regions = [first]\n",
    "\n",
    "for z1, z2, l, i in zip(myl, myl[1:], sections[1:], range(len(myl))):\n",
    "    background_regions.append((z1,z2, palette[i+1], l))"
   ]
  },
  {
   "cell_type": "markdown",
   "id": "e5533cc6",
   "metadata": {},
   "source": [
    "### check variances"
   ]
  },
  {
   "cell_type": "code",
   "execution_count": 29,
   "id": "899bf830",
   "metadata": {},
   "outputs": [
    {
     "data": {
      "text/plain": [
       "0.0"
      ]
     },
     "execution_count": 29,
     "metadata": {},
     "output_type": "execute_result"
    }
   ],
   "source": [
    "m[m.segment=='preamble'].drop_duplicates('pid', keep='first')['true_ent'].var()"
   ]
  },
  {
   "cell_type": "code",
   "execution_count": 30,
   "id": "06fdde4f",
   "metadata": {},
   "outputs": [
    {
     "data": {
      "text/plain": [
       "0.0"
      ]
     },
     "execution_count": 30,
     "metadata": {},
     "output_type": "execute_result"
    }
   ],
   "source": [
    "m[m.segment=='preamble'].drop_duplicates('pid', keep='last')['true_ent'].var()"
   ]
  },
  {
   "cell_type": "code",
   "execution_count": 31,
   "id": "8509fff0",
   "metadata": {},
   "outputs": [
    {
     "data": {
      "text/plain": [
       "0.0"
      ]
     },
     "execution_count": 31,
     "metadata": {},
     "output_type": "execute_result"
    }
   ],
   "source": [
    "m[m.segment=='instruction'].drop_duplicates('pid', keep='first')['true_ent'].var()"
   ]
  },
  {
   "cell_type": "code",
   "execution_count": 32,
   "id": "c1eb307c",
   "metadata": {},
   "outputs": [
    {
     "data": {
      "text/plain": [
       "0.0"
      ]
     },
     "execution_count": 32,
     "metadata": {},
     "output_type": "execute_result"
    }
   ],
   "source": [
    "m[m.segment=='instruction'].drop_duplicates('pid', keep='last')['true_ent'].var()"
   ]
  },
  {
   "cell_type": "code",
   "execution_count": 33,
   "id": "b04095e4",
   "metadata": {},
   "outputs": [
    {
     "data": {
      "text/plain": [
       "0.28056654"
      ]
     },
     "execution_count": 33,
     "metadata": {},
     "output_type": "execute_result"
    }
   ],
   "source": [
    "m[m.segment=='question'].drop_duplicates('pid', keep='first')['true_ent'].var()"
   ]
  },
  {
   "cell_type": "code",
   "execution_count": 34,
   "id": "88345c4b",
   "metadata": {},
   "outputs": [
    {
     "data": {
      "text/plain": [
       "0.057353463"
      ]
     },
     "execution_count": 34,
     "metadata": {},
     "output_type": "execute_result"
    }
   ],
   "source": [
    "m[m.segment=='question'].drop_duplicates('pid', keep='last')['true_ent'].var()"
   ]
  },
  {
   "cell_type": "code",
   "execution_count": 35,
   "id": "220b6759",
   "metadata": {},
   "outputs": [],
   "source": [
    "mm = m.copy()"
   ]
  },
  {
   "cell_type": "markdown",
   "id": "9314b076",
   "metadata": {},
   "source": [
    "### single run plots"
   ]
  },
  {
   "cell_type": "code",
   "execution_count": 36,
   "id": "d3f09424",
   "metadata": {},
   "outputs": [],
   "source": [
    "m = mm[mm.run==0].copy()"
   ]
  },
  {
   "cell_type": "code",
   "execution_count": 37,
   "id": "10231bb6",
   "metadata": {},
   "outputs": [],
   "source": [
    "# binning\n",
    "NUM_BINS = 100"
   ]
  },
  {
   "cell_type": "code",
   "execution_count": 38,
   "id": "aed30094",
   "metadata": {},
   "outputs": [
    {
     "name": "stdout",
     "output_type": "stream",
     "text": [
      "99\n"
     ]
    },
    {
     "data": {
      "image/png": "[encoded data removed]",
      "text/plain": [
       "<Figure size 1400x600 with 1 Axes>"
      ]
     },
     "metadata": {},
     "output_type": "display_data"
    }
   ],
   "source": [
    "import matplotlib.pyplot as plt\n",
    "import seaborn as sns\n",
    "import pandas as pd\n",
    "from matplotlib.ticker import MaxNLocator\n",
    "import matplotlib.patches as mpatches\n",
    "\n",
    "plt.figure(figsize=(14, 6))\n",
    "ax = plt.gca()  # Get current axis\n",
    "\n",
    "m['tok_bin'] = pd.cut(m['tok_rel_segm'], bins=NUM_BINS)\n",
    "m['tok_bin_hi'] = m['tok_bin'].apply(lambda x: x.right).astype(float)\n",
    "m['tok_bin_lo'] = m['tok_bin'].apply(lambda x: x.left).astype(float)\n",
    "\n",
    "unique_bins = np.sort(m['tok_bin_hi'].unique())  \n",
    "bin_mapping = {bin_val: i for i, bin_val in enumerate(unique_bins)}\n",
    "bks = list(bin_mapping.keys())\n",
    "\n",
    "print(len(bks))\n",
    "\n",
    "patches = []\n",
    "for start, end, color, label in background_regions:\n",
    "    start_bin = [ n for n,i in enumerate(bin_mapping.keys()) if i > start ][0]\n",
    "    end_bin = [ n for n,i in enumerate(bin_mapping.keys()) if i > end ]\n",
    "    if not end_bin: end_bin = len(bin_mapping) - 1 \n",
    "    else: end_bin = end_bin[0] - 1\n",
    "    ax.axvspan(bin_mapping[bks[start_bin]]-0.5, bin_mapping[bks[end_bin]]+0.5, color=color, alpha=0.3)\n",
    "    patches.append(mpatches.Patch(color=color, alpha=0.3, label=label)) \n",
    "\n",
    "df = m.sort_values(by=['pid', 'tok_bin_hi'])\n",
    "df['tok_bin_idx'] = df['tok_bin_hi'].map(bin_mapping)\n",
    "\n",
    "sns.boxplot(\n",
    "    data=df, \n",
    "    x=\"tok_bin_hi\", \n",
    "    y=\"true_ent\", \n",
    "    showcaps=True,        \n",
    "    showfliers=False,\n",
    "    whis=[10, 90],\n",
    "    boxprops={'facecolor': 'none'},\n",
    "    medianprops={'color': 'red', 'linewidth': 2},\n",
    "    ax = ax\n",
    ")\n",
    "\n",
    "plt.yscale(\"log\")\n",
    "\n",
    "plt.xticks(rotation=45)\n",
    "\n",
    "plt.xlabel(\"Position (normalized)\")\n",
    "plt.ylabel(\"H\")\n",
    "plt.title(\"Entropy\")\n",
    "\n",
    "ax.legend(handles=patches, title=\"Segments\", loc=\"lower right\")\n",
    "\n",
    "plt.tight_layout()\n",
    "\n",
    "plt.show()"
   ]
  },
  {
   "cell_type": "code",
   "execution_count": 39,
   "id": "ba7c350f",
   "metadata": {},
   "outputs": [
    {
     "data": {
      "image/png": "[encoded data removed]",
      "text/plain": [
       "<Figure size 1400x600 with 1 Axes>"
      ]
     },
     "metadata": {},
     "output_type": "display_data"
    }
   ],
   "source": [
    "import matplotlib.pyplot as plt\n",
    "import seaborn as sns\n",
    "import pandas as pd\n",
    "from matplotlib.ticker import MaxNLocator\n",
    "import matplotlib.patches as mpatches\n",
    "\n",
    "plt.figure(figsize=(14, 6))\n",
    "ax = plt.gca()  # Get current axis\n",
    "\n",
    "m['tok_bin'] = pd.cut(m['tok_rel_segm_abs'], bins=NUM_BINS)\n",
    "m['tok_bin_hi'] = m['tok_bin'].apply(lambda x: x.right).astype(float)\n",
    "m['tok_bin_lo'] = m['tok_bin'].apply(lambda x: x.left).astype(float)\n",
    "\n",
    "\n",
    "patches = []\n",
    "c = -0.5\n",
    "delta = int(len(bks)/6)+1\n",
    "for start, end, color, label in background_regions:\n",
    "    ax.axvspan(c, c+delta, color=color, alpha=0.3)\n",
    "    patches.append(mpatches.Patch(color=color, alpha=0.3, label=label)) \n",
    "    c += delta\n",
    "\n",
    "df = m.sort_values(by=['pid', 'tok_bin_hi'])\n",
    "df['tok_bin_idx'] = df['tok_bin_hi'].map(bin_mapping)\n",
    "\n",
    "sns.boxplot(\n",
    "    data=df, \n",
    "    x=\"tok_bin_hi\", \n",
    "    y=\"true_ent\", \n",
    "    showcaps=True,        \n",
    "    showfliers=False,\n",
    "    whis=[10, 90],\n",
    "    boxprops={'facecolor': 'none'},\n",
    "    medianprops={'color': 'red', 'linewidth': 2},\n",
    "    ax = ax\n",
    ")\n",
    "\n",
    "plt.yscale(\"log\")\n",
    "\n",
    "plt.xticks(rotation=45)\n",
    "\n",
    "plt.xlabel(\"Position (normalized)\")\n",
    "plt.ylabel(\"H\")\n",
    "plt.title(\"Entropy\")\n",
    "\n",
    "ax.legend(handles=patches, title=\"Segments\", loc=\"lower right\")\n",
    "\n",
    "plt.tight_layout()\n",
    "\n",
    "plt.show()"
   ]
  },
  {
   "cell_type": "code",
   "execution_count": 40,
   "id": "69df6fb9",
   "metadata": {},
   "outputs": [
    {
     "data": {
      "image/png": "[encoded data removed]",
      "text/plain": [
       "<Figure size 1400x600 with 1 Axes>"
      ]
     },
     "metadata": {},
     "output_type": "display_data"
    }
   ],
   "source": [
    "import matplotlib.pyplot as plt\n",
    "import seaborn as sns\n",
    "import pandas as pd\n",
    "from matplotlib.ticker import MaxNLocator\n",
    "import matplotlib.patches as mpatches\n",
    "\n",
    "plt.figure(figsize=(14, 6))\n",
    "ax = plt.gca()  # Get current axis\n",
    "\n",
    "m_ = m[m.tok<200]\n",
    "\n",
    "background_regions_ = [\n",
    "    (0.0, 40.0, palette[0], 'preamble'),\n",
    "    (41.0, 135.0, palette[1], 'instruction'),\n",
    "    (136.0, 1000.0, palette[2], 'input'),\n",
    "    #    (3.0, 4.0, palette[3], 'question'),\n",
    "    #    (4.0, 5.0, palette[4], 'postilla'),\n",
    "    #    (5.0, 6.0, palette[5], 'generated')\n",
    "    ]\n",
    "\n",
    "patches = []\n",
    "for start, end, color, label in background_regions_:\n",
    "    ax.axvspan(start -0.5, end + 0.5, color=color, alpha=0.3)\n",
    "    patches.append(mpatches.Patch(color=color, alpha=0.3, label=label)) \n",
    "\n",
    "sns.boxplot(\n",
    "    data=m_, \n",
    "    x=\"tok\", \n",
    "    y=\"true_ent\", \n",
    "    showcaps=True,        \n",
    "    showfliers=False,\n",
    "    whis=[10, 90],\n",
    "    boxprops={'facecolor': 'none'},\n",
    "    medianprops={'color': 'red', 'linewidth': 2},\n",
    "    ax = ax\n",
    ")\n",
    "\n",
    "plt.yscale(\"log\")\n",
    "\n",
    "plt.xticks(rotation=45)\n",
    "\n",
    "plt.xlabel(\"Position (normalized)\")\n",
    "plt.ylabel(\"H\")\n",
    "plt.title(\"Entropy\")\n",
    "\n",
    "ax.legend(handles=patches, title=\"Segments\", loc=\"lower right\")\n",
    "\n",
    "plt.tight_layout()\n",
    "\n",
    "plt.show()"
   ]
  },
  {
   "cell_type": "code",
   "execution_count": 41,
   "id": "13173d78",
   "metadata": {},
   "outputs": [
    {
     "data": {
      "text/plain": [
       "array(['preamble', 'instruction', 'input', 'question', 'postilla',\n",
       "       'generated'], dtype=object)"
      ]
     },
     "execution_count": 41,
     "metadata": {},
     "output_type": "execute_result"
    }
   ],
   "source": [
    "m.segment.unique()"
   ]
  },
  {
   "cell_type": "code",
   "execution_count": 42,
   "id": "3ad971cf",
   "metadata": {},
   "outputs": [
    {
     "data": {
      "text/plain": [
       "0.0"
      ]
     },
     "execution_count": 42,
     "metadata": {},
     "output_type": "execute_result"
    }
   ],
   "source": [
    "m[m.segment=='preamble'].groupby('pid').size().std()"
   ]
  },
  {
   "cell_type": "code",
   "execution_count": 43,
   "id": "622ae67d",
   "metadata": {},
   "outputs": [
    {
     "data": {
      "text/plain": [
       "0.0"
      ]
     },
     "execution_count": 43,
     "metadata": {},
     "output_type": "execute_result"
    }
   ],
   "source": [
    "m[m.segment=='instruction'].groupby('pid').size().std()"
   ]
  },
  {
   "cell_type": "code",
   "execution_count": 44,
   "id": "b178af2f",
   "metadata": {},
   "outputs": [
    {
     "data": {
      "text/plain": [
       "2026.9694375115923"
      ]
     },
     "execution_count": 44,
     "metadata": {},
     "output_type": "execute_result"
    }
   ],
   "source": [
    "m[m.segment=='input'].groupby('pid').size().std()"
   ]
  },
  {
   "cell_type": "code",
   "execution_count": 45,
   "id": "2882ce05",
   "metadata": {},
   "outputs": [
    {
     "data": {
      "text/plain": [
       "5.9585185"
      ]
     },
     "execution_count": 45,
     "metadata": {},
     "output_type": "execute_result"
    }
   ],
   "source": [
    "m[m.tok_rel_segm_abs<1.].true_ent.var()"
   ]
  },
  {
   "cell_type": "code",
   "execution_count": 46,
   "id": "4a06f4e9",
   "metadata": {},
   "outputs": [
    {
     "data": {
      "text/plain": [
       "nan"
      ]
     },
     "execution_count": 46,
     "metadata": {},
     "output_type": "execute_result"
    }
   ],
   "source": [
    "df[df.tok_bin_idx==0].true_ent.var()"
   ]
  },
  {
   "cell_type": "code",
   "execution_count": 47,
   "id": "0e110a85",
   "metadata": {},
   "outputs": [
    {
     "name": "stdout",
     "output_type": "stream",
     "text": [
      "99\n"
     ]
    },
    {
     "data": {
      "image/png": "[encoded data removed]",
      "text/plain": [
       "<Figure size 1400x600 with 1 Axes>"
      ]
     },
     "metadata": {},
     "output_type": "display_data"
    }
   ],
   "source": [
    "import matplotlib.pyplot as plt\n",
    "import seaborn as sns\n",
    "import pandas as pd\n",
    "from matplotlib.ticker import MaxNLocator\n",
    "import matplotlib.patches as mpatches\n",
    "\n",
    "plt.figure(figsize=(14, 6))\n",
    "ax = plt.gca()  # Get current axis\n",
    "\n",
    "m['tok_bin'] = pd.cut(m['tok_rel_segm'], bins=NUM_BINS)\n",
    "m['tok_bin_hi'] = m['tok_bin'].apply(lambda x: x.right).astype(float)\n",
    "m['tok_bin_lo'] = m['tok_bin'].apply(lambda x: x.left).astype(float)\n",
    "\n",
    "unique_bins = np.sort(m['tok_bin_hi'].unique())  \n",
    "bin_mapping = {bin_val: i for i, bin_val in enumerate(unique_bins)}\n",
    "bks = list(bin_mapping.keys())\n",
    "\n",
    "print(len(bks))\n",
    "\n",
    "patches = []\n",
    "for start, end, color, label in background_regions:\n",
    "    start_bin = [ n for n,i in enumerate(bin_mapping.keys()) if i > start ][0]\n",
    "    end_bin = [ n for n,i in enumerate(bin_mapping.keys()) if i > end ]\n",
    "    if not end_bin: end_bin = len(bin_mapping) - 1 \n",
    "    else: end_bin = end_bin[0] - 1\n",
    "    ax.axvspan(bin_mapping[bks[start_bin]]-0.5, bin_mapping[bks[end_bin]]+0.5, color=color, alpha=0.3)\n",
    "    patches.append(mpatches.Patch(color=color, alpha=0.3, label=label)) \n",
    "\n",
    "df = m.sort_values(by=['pid', 'tok_bin_hi'])\n",
    "df['tok_bin_idx'] = df['tok_bin_hi'].map(bin_mapping)\n",
    "\n",
    "sns.boxplot(\n",
    "    data=df, \n",
    "    x=\"tok_bin_hi\", \n",
    "    y=\"maxp\", \n",
    "    showcaps=True,        \n",
    "    showfliers=False,\n",
    "    whis=[10, 90],\n",
    "    boxprops={'facecolor': 'none'},\n",
    "    medianprops={'color': 'red', 'linewidth': 2},\n",
    "    ax = ax\n",
    ")\n",
    "\n",
    "plt.xticks(rotation=45)\n",
    "\n",
    "plt.xlabel(\"Position (normalized)\")\n",
    "plt.ylabel(\"P\")\n",
    "plt.title(\"MaxP\")\n",
    "\n",
    "ax.legend(handles=patches, title=\"Segments\", loc=\"lower right\")\n",
    "\n",
    "plt.tight_layout()\n",
    "\n",
    "plt.show()"
   ]
  },
  {
   "cell_type": "code",
   "execution_count": 48,
   "id": "9f321502",
   "metadata": {},
   "outputs": [
    {
     "name": "stdout",
     "output_type": "stream",
     "text": [
      "99\n"
     ]
    },
    {
     "data": {
      "image/png": "[encoded data removed]",
      "text/plain": [
       "<Figure size 1400x600 with 1 Axes>"
      ]
     },
     "metadata": {},
     "output_type": "display_data"
    }
   ],
   "source": [
    "import matplotlib.pyplot as plt\n",
    "import seaborn as sns\n",
    "import pandas as pd\n",
    "from matplotlib.ticker import MaxNLocator\n",
    "import matplotlib.patches as mpatches\n",
    "\n",
    "plt.figure(figsize=(14, 6))\n",
    "ax = plt.gca()  # Get current axis\n",
    "\n",
    "m['tok_bin'] = pd.cut(m['tok_rel_segm'], bins=NUM_BINS)\n",
    "m['tok_bin_hi'] = m['tok_bin'].apply(lambda x: x.right).astype(float)\n",
    "m['tok_bin_lo'] = m['tok_bin'].apply(lambda x: x.left).astype(float)\n",
    "\n",
    "unique_bins = np.sort(m['tok_bin_hi'].unique())  \n",
    "bin_mapping = {bin_val: i for i, bin_val in enumerate(unique_bins)}\n",
    "bks = list(bin_mapping.keys())\n",
    "\n",
    "print(len(bks))\n",
    "\n",
    "patches = []\n",
    "for start, end, color, label in background_regions:\n",
    "    start_bin = [ n for n,i in enumerate(bin_mapping.keys()) if i > start ][0]\n",
    "    end_bin = [ n for n,i in enumerate(bin_mapping.keys()) if i > end ]\n",
    "    if not end_bin: end_bin = len(bin_mapping) - 1 \n",
    "    else: end_bin = end_bin[0] - 1\n",
    "    ax.axvspan(bin_mapping[bks[start_bin]]-0.5, bin_mapping[bks[end_bin]]+0.5, color=color, alpha=0.3)\n",
    "    patches.append(mpatches.Patch(color=color, alpha=0.3, label=label)) \n",
    "\n",
    "# Sort for proper order\n",
    "df = m.sort_values(by=['pid', 'tok_bin_hi'])\n",
    "df['tok_bin_idx'] = df['tok_bin_hi'].map(bin_mapping)  # Assign numerical index\n",
    "\n",
    "sns.boxplot(\n",
    "    data=df, \n",
    "    x=\"tok_bin_hi\", \n",
    "    y=\"shape\", \n",
    "    showcaps=True,        \n",
    "    showfliers=False,\n",
    "    whis=[10, 90],\n",
    "    boxprops={'facecolor': 'none'},\n",
    "    medianprops={'color': 'red', 'linewidth': 2},\n",
    "    ax = ax\n",
    ")\n",
    "\n",
    "plt.yscale(\"log\")\n",
    "\n",
    "plt.xticks(rotation=45)\n",
    "\n",
    "plt.xlabel(\"Position (normalized)\")\n",
    "plt.ylabel(\"P\")\n",
    "plt.title(\"Number of tokens in TopP (0.9)\")\n",
    "\n",
    "ax.legend(handles=patches, title=\"Segments\", loc=\"upper right\")\n",
    "\n",
    "plt.tight_layout()\n",
    "\n",
    "plt.show()"
   ]
  },
  {
   "cell_type": "markdown",
   "id": "e3eaa6d9",
   "metadata": {},
   "source": [
    "## multiple runs"
   ]
  },
  {
   "cell_type": "markdown",
   "id": "08431957",
   "metadata": {},
   "source": [
    "### check no variance in forward"
   ]
  },
  {
   "cell_type": "code",
   "execution_count": 49,
   "id": "18438374",
   "metadata": {},
   "outputs": [
    {
     "data": {
      "text/plain": [
       "count    3.831610e+06\n",
       "mean     7.413328e-01\n",
       "std      1.171134e+00\n",
       "min      0.000000e+00\n",
       "25%      6.286605e-04\n",
       "50%      9.805856e-02\n",
       "75%      1.074651e+00\n",
       "max      9.495135e+00\n",
       "Name: true_ent, dtype: float64"
      ]
     },
     "execution_count": 49,
     "metadata": {},
     "output_type": "execute_result"
    }
   ],
   "source": [
    "mm[mm.area=='prompt'].true_ent.describe()"
   ]
  },
  {
   "cell_type": "code",
   "execution_count": 50,
   "id": "be916cd4",
   "metadata": {},
   "outputs": [
    {
     "data": {
      "text/html": [
       "<div>\n",
       "<style scoped>\n",
       "    .dataframe tbody tr th:only-of-type {\n",
       "        vertical-align: middle;\n",
       "    }\n",
       "\n",
       "    .dataframe tbody tr th {\n",
       "        vertical-align: top;\n",
       "    }\n",
       "\n",
       "    .dataframe thead th {\n",
       "        text-align: right;\n",
       "    }\n",
       "</style>\n",
       "<table border=\"1\" class=\"dataframe\">\n",
       "  <thead>\n",
       "    <tr style=\"text-align: right;\">\n",
       "      <th></th>\n",
       "      <th>run</th>\n",
       "      <th>pid</th>\n",
       "      <th>tok</th>\n",
       "      <th>area</th>\n",
       "      <th>shape</th>\n",
       "      <th>true_ent</th>\n",
       "      <th>maxp</th>\n",
       "      <th>start</th>\n",
       "      <th>end</th>\n",
       "      <th>segment</th>\n",
       "      <th>seq</th>\n",
       "      <th>tok_rel_segm</th>\n",
       "      <th>tok_rel_segm_abs</th>\n",
       "      <th>tokzero</th>\n",
       "    </tr>\n",
       "  </thead>\n",
       "  <tbody>\n",
       "    <tr>\n",
       "      <th>0</th>\n",
       "      <td>0</td>\n",
       "      <td>0</td>\n",
       "      <td>0</td>\n",
       "      <td>prompt</td>\n",
       "      <td>19127</td>\n",
       "      <td>9.342692</td>\n",
       "      <td>0.011505</td>\n",
       "      <td>0</td>\n",
       "      <td>40</td>\n",
       "      <td>preamble</td>\n",
       "      <td>0</td>\n",
       "      <td>0.000000</td>\n",
       "      <td>0.000000</td>\n",
       "      <td>0</td>\n",
       "    </tr>\n",
       "    <tr>\n",
       "      <th>6</th>\n",
       "      <td>0</td>\n",
       "      <td>0</td>\n",
       "      <td>1</td>\n",
       "      <td>prompt</td>\n",
       "      <td>4954</td>\n",
       "      <td>6.863560</td>\n",
       "      <td>0.110962</td>\n",
       "      <td>0</td>\n",
       "      <td>40</td>\n",
       "      <td>preamble</td>\n",
       "      <td>0</td>\n",
       "      <td>0.025000</td>\n",
       "      <td>0.025000</td>\n",
       "      <td>1</td>\n",
       "    </tr>\n",
       "    <tr>\n",
       "      <th>12</th>\n",
       "      <td>0</td>\n",
       "      <td>0</td>\n",
       "      <td>2</td>\n",
       "      <td>prompt</td>\n",
       "      <td>9</td>\n",
       "      <td>1.748911</td>\n",
       "      <td>0.684082</td>\n",
       "      <td>0</td>\n",
       "      <td>40</td>\n",
       "      <td>preamble</td>\n",
       "      <td>0</td>\n",
       "      <td>0.050000</td>\n",
       "      <td>0.050000</td>\n",
       "      <td>2</td>\n",
       "    </tr>\n",
       "    <tr>\n",
       "      <th>18</th>\n",
       "      <td>0</td>\n",
       "      <td>0</td>\n",
       "      <td>3</td>\n",
       "      <td>prompt</td>\n",
       "      <td>178</td>\n",
       "      <td>4.617726</td>\n",
       "      <td>0.093811</td>\n",
       "      <td>0</td>\n",
       "      <td>40</td>\n",
       "      <td>preamble</td>\n",
       "      <td>0</td>\n",
       "      <td>0.075000</td>\n",
       "      <td>0.075000</td>\n",
       "      <td>3</td>\n",
       "    </tr>\n",
       "    <tr>\n",
       "      <th>24</th>\n",
       "      <td>0</td>\n",
       "      <td>0</td>\n",
       "      <td>4</td>\n",
       "      <td>prompt</td>\n",
       "      <td>5</td>\n",
       "      <td>1.100033</td>\n",
       "      <td>0.811523</td>\n",
       "      <td>0</td>\n",
       "      <td>40</td>\n",
       "      <td>preamble</td>\n",
       "      <td>0</td>\n",
       "      <td>0.100000</td>\n",
       "      <td>0.100000</td>\n",
       "      <td>4</td>\n",
       "    </tr>\n",
       "    <tr>\n",
       "      <th>...</th>\n",
       "      <td>...</td>\n",
       "      <td>...</td>\n",
       "      <td>...</td>\n",
       "      <td>...</td>\n",
       "      <td>...</td>\n",
       "      <td>...</td>\n",
       "      <td>...</td>\n",
       "      <td>...</td>\n",
       "      <td>...</td>\n",
       "      <td>...</td>\n",
       "      <td>...</td>\n",
       "      <td>...</td>\n",
       "      <td>...</td>\n",
       "      <td>...</td>\n",
       "    </tr>\n",
       "    <tr>\n",
       "      <th>23143721</th>\n",
       "      <td>9</td>\n",
       "      <td>99</td>\n",
       "      <td>3266</td>\n",
       "      <td>generated</td>\n",
       "      <td>1</td>\n",
       "      <td>0.000000</td>\n",
       "      <td>1.000000</td>\n",
       "      <td>3240</td>\n",
       "      <td>3270</td>\n",
       "      <td>generated</td>\n",
       "      <td>5</td>\n",
       "      <td>0.998777</td>\n",
       "      <td>5.866667</td>\n",
       "      <td>26</td>\n",
       "    </tr>\n",
       "    <tr>\n",
       "      <th>23143727</th>\n",
       "      <td>9</td>\n",
       "      <td>99</td>\n",
       "      <td>3267</td>\n",
       "      <td>generated</td>\n",
       "      <td>1</td>\n",
       "      <td>0.000000</td>\n",
       "      <td>1.000000</td>\n",
       "      <td>3240</td>\n",
       "      <td>3270</td>\n",
       "      <td>generated</td>\n",
       "      <td>5</td>\n",
       "      <td>0.999083</td>\n",
       "      <td>5.900000</td>\n",
       "      <td>27</td>\n",
       "    </tr>\n",
       "    <tr>\n",
       "      <th>23143733</th>\n",
       "      <td>9</td>\n",
       "      <td>99</td>\n",
       "      <td>3268</td>\n",
       "      <td>generated</td>\n",
       "      <td>1</td>\n",
       "      <td>0.000000</td>\n",
       "      <td>1.000000</td>\n",
       "      <td>3240</td>\n",
       "      <td>3270</td>\n",
       "      <td>generated</td>\n",
       "      <td>5</td>\n",
       "      <td>0.999388</td>\n",
       "      <td>5.933333</td>\n",
       "      <td>28</td>\n",
       "    </tr>\n",
       "    <tr>\n",
       "      <th>23143739</th>\n",
       "      <td>9</td>\n",
       "      <td>99</td>\n",
       "      <td>3269</td>\n",
       "      <td>generated</td>\n",
       "      <td>1</td>\n",
       "      <td>0.000000</td>\n",
       "      <td>1.000000</td>\n",
       "      <td>3240</td>\n",
       "      <td>3270</td>\n",
       "      <td>generated</td>\n",
       "      <td>5</td>\n",
       "      <td>0.999694</td>\n",
       "      <td>5.966667</td>\n",
       "      <td>29</td>\n",
       "    </tr>\n",
       "    <tr>\n",
       "      <th>23143745</th>\n",
       "      <td>9</td>\n",
       "      <td>99</td>\n",
       "      <td>3270</td>\n",
       "      <td>generated</td>\n",
       "      <td>1</td>\n",
       "      <td>0.000000</td>\n",
       "      <td>1.000000</td>\n",
       "      <td>3240</td>\n",
       "      <td>3270</td>\n",
       "      <td>generated</td>\n",
       "      <td>5</td>\n",
       "      <td>1.000000</td>\n",
       "      <td>6.000000</td>\n",
       "      <td>30</td>\n",
       "    </tr>\n",
       "  </tbody>\n",
       "</table>\n",
       "<p>3857291 rows × 14 columns</p>\n",
       "</div>"
      ],
      "text/plain": [
       "          run  pid   tok       area  shape  true_ent      maxp  start   end  \\\n",
       "0           0    0     0     prompt  19127  9.342692  0.011505      0    40   \n",
       "6           0    0     1     prompt   4954  6.863560  0.110962      0    40   \n",
       "12          0    0     2     prompt      9  1.748911  0.684082      0    40   \n",
       "18          0    0     3     prompt    178  4.617726  0.093811      0    40   \n",
       "24          0    0     4     prompt      5  1.100033  0.811523      0    40   \n",
       "...       ...  ...   ...        ...    ...       ...       ...    ...   ...   \n",
       "23143721    9   99  3266  generated      1  0.000000  1.000000   3240  3270   \n",
       "23143727    9   99  3267  generated      1  0.000000  1.000000   3240  3270   \n",
       "23143733    9   99  3268  generated      1  0.000000  1.000000   3240  3270   \n",
       "23143739    9   99  3269  generated      1  0.000000  1.000000   3240  3270   \n",
       "23143745    9   99  3270  generated      1  0.000000  1.000000   3240  3270   \n",
       "\n",
       "            segment  seq  tok_rel_segm  tok_rel_segm_abs  tokzero  \n",
       "0          preamble    0      0.000000          0.000000        0  \n",
       "6          preamble    0      0.025000          0.025000        1  \n",
       "12         preamble    0      0.050000          0.050000        2  \n",
       "18         preamble    0      0.075000          0.075000        3  \n",
       "24         preamble    0      0.100000          0.100000        4  \n",
       "...             ...  ...           ...               ...      ...  \n",
       "23143721  generated    5      0.998777          5.866667       26  \n",
       "23143727  generated    5      0.999083          5.900000       27  \n",
       "23143733  generated    5      0.999388          5.933333       28  \n",
       "23143739  generated    5      0.999694          5.966667       29  \n",
       "23143745  generated    5      1.000000          6.000000       30  \n",
       "\n",
       "[3857291 rows x 14 columns]"
      ]
     },
     "execution_count": 50,
     "metadata": {},
     "output_type": "execute_result"
    }
   ],
   "source": [
    "mm"
   ]
  },
  {
   "cell_type": "code",
   "execution_count": 51,
   "id": "588f099c",
   "metadata": {},
   "outputs": [
    {
     "data": {
      "text/plain": [
       "0.0"
      ]
     },
     "execution_count": 51,
     "metadata": {},
     "output_type": "execute_result"
    }
   ],
   "source": [
    "# variance before generate\n",
    "mm[mm.area=='prompt'].groupby(['pid', 'tok'])['true_ent'].var().sum()"
   ]
  },
  {
   "cell_type": "code",
   "execution_count": 52,
   "id": "67be6f7f",
   "metadata": {},
   "outputs": [
    {
     "data": {
      "text/plain": [
       "0.0"
      ]
     },
     "execution_count": 52,
     "metadata": {},
     "output_type": "execute_result"
    }
   ],
   "source": [
    "mm[mm.area=='prompt'].groupby(['pid', 'tok'])['shape'].var().sum()"
   ]
  },
  {
   "cell_type": "code",
   "execution_count": 53,
   "id": "19553a23",
   "metadata": {},
   "outputs": [
    {
     "data": {
      "text/plain": [
       "0.0"
      ]
     },
     "execution_count": 53,
     "metadata": {},
     "output_type": "execute_result"
    }
   ],
   "source": [
    "mm[mm.area=='prompt'].groupby(['pid', 'tok'])['maxp'].var().sum()"
   ]
  },
  {
   "cell_type": "code",
   "execution_count": 54,
   "id": "1ed88677",
   "metadata": {},
   "outputs": [
    {
     "data": {
      "text/plain": [
       "1.2438014"
      ]
     },
     "execution_count": 54,
     "metadata": {},
     "output_type": "execute_result"
    }
   ],
   "source": [
    "# variance after generate\n",
    "mm[mm.segment=='generated'].groupby(['pid', 'tok'])['true_ent'].var().sum()"
   ]
  },
  {
   "cell_type": "code",
   "execution_count": 55,
   "id": "a4362fd5",
   "metadata": {},
   "outputs": [
    {
     "data": {
      "text/plain": [
       "5.733333333333334"
      ]
     },
     "execution_count": 55,
     "metadata": {},
     "output_type": "execute_result"
    }
   ],
   "source": [
    "mm[mm.segment=='generated'].groupby(['pid', 'tok'])['shape'].var().sum()"
   ]
  },
  {
   "cell_type": "code",
   "execution_count": 56,
   "id": "e522e4d7",
   "metadata": {},
   "outputs": [
    {
     "data": {
      "text/plain": [
       "0.21312056992208012"
      ]
     },
     "execution_count": 56,
     "metadata": {},
     "output_type": "execute_result"
    }
   ],
   "source": [
    "mm[mm.segment=='generated'].groupby(['pid', 'tok'])['maxp'].var().sum()"
   ]
  },
  {
   "cell_type": "code",
   "execution_count": 57,
   "id": "3c2d45db",
   "metadata": {},
   "outputs": [],
   "source": [
    "mm[mm.segment=='generated'].sort_values(['pid', 'tok'], ascending=[True,True]).to_excel(\"delme.xlsx\")"
   ]
  },
  {
   "cell_type": "markdown",
   "id": "5a698c36",
   "metadata": {},
   "source": [
    "### search prompts for which top-p varies"
   ]
  },
  {
   "cell_type": "code",
   "execution_count": 58,
   "id": "a84690e3",
   "metadata": {},
   "outputs": [],
   "source": [
    "myvars = mm[mm.segment=='generated'].groupby(['pid', 'tok'])['maxp'].var()\n",
    "variators = myvars[myvars>0.].to_frame().reset_index().pid.unique()"
   ]
  },
  {
   "cell_type": "code",
   "execution_count": 59,
   "id": "8198126d",
   "metadata": {},
   "outputs": [],
   "source": [
    "mv = mm[mm.pid.isin(variators)]"
   ]
  },
  {
   "cell_type": "code",
   "execution_count": 60,
   "id": "00a0f2a7",
   "metadata": {},
   "outputs": [
    {
     "data": {
      "text/plain": [
       "array([ 9, 14, 17, 18, 45, 53])"
      ]
     },
     "execution_count": 60,
     "metadata": {},
     "output_type": "execute_result"
    }
   ],
   "source": [
    "# prompts for which we observe an observable change over runs\n",
    "v1 = mv.pid.unique()\n",
    "v1"
   ]
  },
  {
   "cell_type": "code",
   "execution_count": 61,
   "id": "701f47bc",
   "metadata": {},
   "outputs": [],
   "source": [
    "avg_truth = truth.groupby('pid').correct.mean().to_frame().reset_index()"
   ]
  },
  {
   "cell_type": "code",
   "execution_count": 62,
   "id": "78a2acd7",
   "metadata": {},
   "outputs": [
    {
     "data": {
      "text/plain": [
       "array([ 9, 10, 12, 14, 17, 18, 23, 41, 45, 53, 63, 74, 79, 85, 86, 88, 89,\n",
       "       94])"
      ]
     },
     "execution_count": 62,
     "metadata": {},
     "output_type": "execute_result"
    }
   ],
   "source": [
    "# prompts for which we observe an output change over runs\n",
    "v2 = avg_truth[avg_truth.correct<1.].pid.unique()\n",
    "v2"
   ]
  },
  {
   "cell_type": "code",
   "execution_count": 63,
   "id": "08587d2f",
   "metadata": {},
   "outputs": [
    {
     "data": {
      "text/plain": [
       "set()"
      ]
     },
     "execution_count": 63,
     "metadata": {},
     "output_type": "execute_result"
    }
   ],
   "source": [
    "set(v1) - set(v2)"
   ]
  },
  {
   "cell_type": "code",
   "execution_count": 64,
   "id": "9fc0b481",
   "metadata": {},
   "outputs": [
    {
     "data": {
      "text/html": [
       "<div>\n",
       "<style scoped>\n",
       "    .dataframe tbody tr th:only-of-type {\n",
       "        vertical-align: middle;\n",
       "    }\n",
       "\n",
       "    .dataframe tbody tr th {\n",
       "        vertical-align: top;\n",
       "    }\n",
       "\n",
       "    .dataframe thead th {\n",
       "        text-align: right;\n",
       "    }\n",
       "</style>\n",
       "<table border=\"1\" class=\"dataframe\">\n",
       "  <thead>\n",
       "    <tr style=\"text-align: right;\">\n",
       "      <th></th>\n",
       "      <th>pid</th>\n",
       "      <th>correct</th>\n",
       "    </tr>\n",
       "  </thead>\n",
       "  <tbody>\n",
       "    <tr>\n",
       "      <th>9</th>\n",
       "      <td>9</td>\n",
       "      <td>0.4</td>\n",
       "    </tr>\n",
       "    <tr>\n",
       "      <th>14</th>\n",
       "      <td>14</td>\n",
       "      <td>0.4</td>\n",
       "    </tr>\n",
       "    <tr>\n",
       "      <th>17</th>\n",
       "      <td>17</td>\n",
       "      <td>0.4</td>\n",
       "    </tr>\n",
       "    <tr>\n",
       "      <th>18</th>\n",
       "      <td>18</td>\n",
       "      <td>0.5</td>\n",
       "    </tr>\n",
       "    <tr>\n",
       "      <th>45</th>\n",
       "      <td>45</td>\n",
       "      <td>0.5</td>\n",
       "    </tr>\n",
       "    <tr>\n",
       "      <th>53</th>\n",
       "      <td>53</td>\n",
       "      <td>0.7</td>\n",
       "    </tr>\n",
       "  </tbody>\n",
       "</table>\n",
       "</div>"
      ],
      "text/plain": [
       "    pid  correct\n",
       "9     9      0.4\n",
       "14   14      0.4\n",
       "17   17      0.4\n",
       "18   18      0.5\n",
       "45   45      0.5\n",
       "53   53      0.7"
      ]
     },
     "execution_count": 64,
     "metadata": {},
     "output_type": "execute_result"
    }
   ],
   "source": [
    "# correctness over prompts for which observable changed over different runs\n",
    "avg_truth[avg_truth.pid.isin(v1)]"
   ]
  },
  {
   "cell_type": "code",
   "execution_count": 65,
   "id": "b5ed3ad9",
   "metadata": {},
   "outputs": [
    {
     "data": {
      "text/html": [
       "<div>\n",
       "<style scoped>\n",
       "    .dataframe tbody tr th:only-of-type {\n",
       "        vertical-align: middle;\n",
       "    }\n",
       "\n",
       "    .dataframe tbody tr th {\n",
       "        vertical-align: top;\n",
       "    }\n",
       "\n",
       "    .dataframe thead th {\n",
       "        text-align: right;\n",
       "    }\n",
       "</style>\n",
       "<table border=\"1\" class=\"dataframe\">\n",
       "  <thead>\n",
       "    <tr style=\"text-align: right;\">\n",
       "      <th></th>\n",
       "      <th>pid</th>\n",
       "      <th>correct</th>\n",
       "    </tr>\n",
       "  </thead>\n",
       "  <tbody>\n",
       "    <tr>\n",
       "      <th>12</th>\n",
       "      <td>12</td>\n",
       "      <td>0.4</td>\n",
       "    </tr>\n",
       "    <tr>\n",
       "      <th>23</th>\n",
       "      <td>23</td>\n",
       "      <td>0.2</td>\n",
       "    </tr>\n",
       "    <tr>\n",
       "      <th>41</th>\n",
       "      <td>41</td>\n",
       "      <td>0.6</td>\n",
       "    </tr>\n",
       "    <tr>\n",
       "      <th>63</th>\n",
       "      <td>63</td>\n",
       "      <td>0.4</td>\n",
       "    </tr>\n",
       "    <tr>\n",
       "      <th>74</th>\n",
       "      <td>74</td>\n",
       "      <td>0.6</td>\n",
       "    </tr>\n",
       "    <tr>\n",
       "      <th>88</th>\n",
       "      <td>88</td>\n",
       "      <td>0.8</td>\n",
       "    </tr>\n",
       "    <tr>\n",
       "      <th>89</th>\n",
       "      <td>89</td>\n",
       "      <td>0.7</td>\n",
       "    </tr>\n",
       "    <tr>\n",
       "      <th>94</th>\n",
       "      <td>94</td>\n",
       "      <td>0.2</td>\n",
       "    </tr>\n",
       "  </tbody>\n",
       "</table>\n",
       "</div>"
      ],
      "text/plain": [
       "    pid  correct\n",
       "12   12      0.4\n",
       "23   23      0.2\n",
       "41   41      0.6\n",
       "63   63      0.4\n",
       "74   74      0.6\n",
       "88   88      0.8\n",
       "89   89      0.7\n",
       "94   94      0.2"
      ]
     },
     "execution_count": 65,
     "metadata": {},
     "output_type": "execute_result"
    }
   ],
   "source": [
    "# ??? correctness over prompts for which observable did NOT change over different runs\n",
    "avg_truth[(~avg_truth.pid.isin(v1)) & (avg_truth.correct<1.) & (avg_truth.correct>0.)]"
   ]
  },
  {
   "cell_type": "code",
   "execution_count": 66,
   "id": "8bb09067",
   "metadata": {},
   "outputs": [
    {
     "data": {
      "text/html": [
       "<div>\n",
       "<style scoped>\n",
       "    .dataframe tbody tr th:only-of-type {\n",
       "        vertical-align: middle;\n",
       "    }\n",
       "\n",
       "    .dataframe tbody tr th {\n",
       "        vertical-align: top;\n",
       "    }\n",
       "\n",
       "    .dataframe thead th {\n",
       "        text-align: right;\n",
       "    }\n",
       "</style>\n",
       "<table border=\"1\" class=\"dataframe\">\n",
       "  <thead>\n",
       "    <tr style=\"text-align: right;\">\n",
       "      <th></th>\n",
       "      <th>run</th>\n",
       "      <th>pid</th>\n",
       "      <th>tok</th>\n",
       "      <th>area</th>\n",
       "      <th>shape</th>\n",
       "      <th>true_ent</th>\n",
       "      <th>maxp</th>\n",
       "      <th>start</th>\n",
       "      <th>end</th>\n",
       "      <th>segment</th>\n",
       "      <th>seq</th>\n",
       "      <th>tok_rel_segm</th>\n",
       "      <th>tok_rel_segm_abs</th>\n",
       "      <th>tokzero</th>\n",
       "      <th>tok_bin</th>\n",
       "      <th>tok_bin_hi</th>\n",
       "      <th>tok_bin_lo</th>\n",
       "    </tr>\n",
       "  </thead>\n",
       "  <tbody>\n",
       "    <tr>\n",
       "      <th>0</th>\n",
       "      <td>0</td>\n",
       "      <td>0</td>\n",
       "      <td>0</td>\n",
       "      <td>prompt</td>\n",
       "      <td>19127</td>\n",
       "      <td>9.342692</td>\n",
       "      <td>0.011505</td>\n",
       "      <td>0</td>\n",
       "      <td>40</td>\n",
       "      <td>preamble</td>\n",
       "      <td>0</td>\n",
       "      <td>0.000000</td>\n",
       "      <td>0.000000</td>\n",
       "      <td>0</td>\n",
       "      <td>(-0.006, 0.06]</td>\n",
       "      <td>0.06</td>\n",
       "      <td>-0.006</td>\n",
       "    </tr>\n",
       "    <tr>\n",
       "      <th>6</th>\n",
       "      <td>0</td>\n",
       "      <td>0</td>\n",
       "      <td>1</td>\n",
       "      <td>prompt</td>\n",
       "      <td>4954</td>\n",
       "      <td>6.863560</td>\n",
       "      <td>0.110962</td>\n",
       "      <td>0</td>\n",
       "      <td>40</td>\n",
       "      <td>preamble</td>\n",
       "      <td>0</td>\n",
       "      <td>0.025000</td>\n",
       "      <td>0.025000</td>\n",
       "      <td>1</td>\n",
       "      <td>(-0.006, 0.06]</td>\n",
       "      <td>0.06</td>\n",
       "      <td>-0.006</td>\n",
       "    </tr>\n",
       "    <tr>\n",
       "      <th>12</th>\n",
       "      <td>0</td>\n",
       "      <td>0</td>\n",
       "      <td>2</td>\n",
       "      <td>prompt</td>\n",
       "      <td>9</td>\n",
       "      <td>1.748911</td>\n",
       "      <td>0.684082</td>\n",
       "      <td>0</td>\n",
       "      <td>40</td>\n",
       "      <td>preamble</td>\n",
       "      <td>0</td>\n",
       "      <td>0.050000</td>\n",
       "      <td>0.050000</td>\n",
       "      <td>2</td>\n",
       "      <td>(-0.006, 0.06]</td>\n",
       "      <td>0.06</td>\n",
       "      <td>-0.006</td>\n",
       "    </tr>\n",
       "    <tr>\n",
       "      <th>18</th>\n",
       "      <td>0</td>\n",
       "      <td>0</td>\n",
       "      <td>3</td>\n",
       "      <td>prompt</td>\n",
       "      <td>178</td>\n",
       "      <td>4.617726</td>\n",
       "      <td>0.093811</td>\n",
       "      <td>0</td>\n",
       "      <td>40</td>\n",
       "      <td>preamble</td>\n",
       "      <td>0</td>\n",
       "      <td>0.075000</td>\n",
       "      <td>0.075000</td>\n",
       "      <td>3</td>\n",
       "      <td>(0.06, 0.12]</td>\n",
       "      <td>0.12</td>\n",
       "      <td>0.060</td>\n",
       "    </tr>\n",
       "    <tr>\n",
       "      <th>24</th>\n",
       "      <td>0</td>\n",
       "      <td>0</td>\n",
       "      <td>4</td>\n",
       "      <td>prompt</td>\n",
       "      <td>5</td>\n",
       "      <td>1.100033</td>\n",
       "      <td>0.811523</td>\n",
       "      <td>0</td>\n",
       "      <td>40</td>\n",
       "      <td>preamble</td>\n",
       "      <td>0</td>\n",
       "      <td>0.100000</td>\n",
       "      <td>0.100000</td>\n",
       "      <td>4</td>\n",
       "      <td>(0.06, 0.12]</td>\n",
       "      <td>0.12</td>\n",
       "      <td>0.060</td>\n",
       "    </tr>\n",
       "    <tr>\n",
       "      <th>...</th>\n",
       "      <td>...</td>\n",
       "      <td>...</td>\n",
       "      <td>...</td>\n",
       "      <td>...</td>\n",
       "      <td>...</td>\n",
       "      <td>...</td>\n",
       "      <td>...</td>\n",
       "      <td>...</td>\n",
       "      <td>...</td>\n",
       "      <td>...</td>\n",
       "      <td>...</td>\n",
       "      <td>...</td>\n",
       "      <td>...</td>\n",
       "      <td>...</td>\n",
       "      <td>...</td>\n",
       "      <td>...</td>\n",
       "      <td>...</td>\n",
       "    </tr>\n",
       "    <tr>\n",
       "      <th>2295836</th>\n",
       "      <td>0</td>\n",
       "      <td>99</td>\n",
       "      <td>195</td>\n",
       "      <td>prompt</td>\n",
       "      <td>2</td>\n",
       "      <td>0.626548</td>\n",
       "      <td>0.885254</td>\n",
       "      <td>136</td>\n",
       "      <td>1397</td>\n",
       "      <td>input</td>\n",
       "      <td>2</td>\n",
       "      <td>0.139585</td>\n",
       "      <td>2.046788</td>\n",
       "      <td>59</td>\n",
       "      <td>(2.04, 2.1]</td>\n",
       "      <td>2.10</td>\n",
       "      <td>2.040</td>\n",
       "    </tr>\n",
       "    <tr>\n",
       "      <th>2295842</th>\n",
       "      <td>0</td>\n",
       "      <td>99</td>\n",
       "      <td>196</td>\n",
       "      <td>prompt</td>\n",
       "      <td>9</td>\n",
       "      <td>1.904715</td>\n",
       "      <td>0.610352</td>\n",
       "      <td>136</td>\n",
       "      <td>1397</td>\n",
       "      <td>input</td>\n",
       "      <td>2</td>\n",
       "      <td>0.140301</td>\n",
       "      <td>2.047581</td>\n",
       "      <td>60</td>\n",
       "      <td>(2.04, 2.1]</td>\n",
       "      <td>2.10</td>\n",
       "      <td>2.040</td>\n",
       "    </tr>\n",
       "    <tr>\n",
       "      <th>2295848</th>\n",
       "      <td>0</td>\n",
       "      <td>99</td>\n",
       "      <td>197</td>\n",
       "      <td>prompt</td>\n",
       "      <td>1</td>\n",
       "      <td>0.221392</td>\n",
       "      <td>0.976074</td>\n",
       "      <td>136</td>\n",
       "      <td>1397</td>\n",
       "      <td>input</td>\n",
       "      <td>2</td>\n",
       "      <td>0.141016</td>\n",
       "      <td>2.048374</td>\n",
       "      <td>61</td>\n",
       "      <td>(2.04, 2.1]</td>\n",
       "      <td>2.10</td>\n",
       "      <td>2.040</td>\n",
       "    </tr>\n",
       "    <tr>\n",
       "      <th>2295854</th>\n",
       "      <td>0</td>\n",
       "      <td>99</td>\n",
       "      <td>198</td>\n",
       "      <td>prompt</td>\n",
       "      <td>1</td>\n",
       "      <td>0.000027</td>\n",
       "      <td>1.000000</td>\n",
       "      <td>136</td>\n",
       "      <td>1397</td>\n",
       "      <td>input</td>\n",
       "      <td>2</td>\n",
       "      <td>0.141732</td>\n",
       "      <td>2.049167</td>\n",
       "      <td>62</td>\n",
       "      <td>(2.04, 2.1]</td>\n",
       "      <td>2.10</td>\n",
       "      <td>2.040</td>\n",
       "    </tr>\n",
       "    <tr>\n",
       "      <th>2295860</th>\n",
       "      <td>0</td>\n",
       "      <td>99</td>\n",
       "      <td>199</td>\n",
       "      <td>prompt</td>\n",
       "      <td>1</td>\n",
       "      <td>0.130850</td>\n",
       "      <td>0.983398</td>\n",
       "      <td>136</td>\n",
       "      <td>1397</td>\n",
       "      <td>input</td>\n",
       "      <td>2</td>\n",
       "      <td>0.142448</td>\n",
       "      <td>2.049960</td>\n",
       "      <td>63</td>\n",
       "      <td>(2.04, 2.1]</td>\n",
       "      <td>2.10</td>\n",
       "      <td>2.040</td>\n",
       "    </tr>\n",
       "  </tbody>\n",
       "</table>\n",
       "<p>20000 rows × 17 columns</p>\n",
       "</div>"
      ],
      "text/plain": [
       "         run  pid  tok    area  shape  true_ent      maxp  start   end  \\\n",
       "0          0    0    0  prompt  19127  9.342692  0.011505      0    40   \n",
       "6          0    0    1  prompt   4954  6.863560  0.110962      0    40   \n",
       "12         0    0    2  prompt      9  1.748911  0.684082      0    40   \n",
       "18         0    0    3  prompt    178  4.617726  0.093811      0    40   \n",
       "24         0    0    4  prompt      5  1.100033  0.811523      0    40   \n",
       "...      ...  ...  ...     ...    ...       ...       ...    ...   ...   \n",
       "2295836    0   99  195  prompt      2  0.626548  0.885254    136  1397   \n",
       "2295842    0   99  196  prompt      9  1.904715  0.610352    136  1397   \n",
       "2295848    0   99  197  prompt      1  0.221392  0.976074    136  1397   \n",
       "2295854    0   99  198  prompt      1  0.000027  1.000000    136  1397   \n",
       "2295860    0   99  199  prompt      1  0.130850  0.983398    136  1397   \n",
       "\n",
       "          segment  seq  tok_rel_segm  tok_rel_segm_abs  tokzero  \\\n",
       "0        preamble    0      0.000000          0.000000        0   \n",
       "6        preamble    0      0.025000          0.025000        1   \n",
       "12       preamble    0      0.050000          0.050000        2   \n",
       "18       preamble    0      0.075000          0.075000        3   \n",
       "24       preamble    0      0.100000          0.100000        4   \n",
       "...           ...  ...           ...               ...      ...   \n",
       "2295836     input    2      0.139585          2.046788       59   \n",
       "2295842     input    2      0.140301          2.047581       60   \n",
       "2295848     input    2      0.141016          2.048374       61   \n",
       "2295854     input    2      0.141732          2.049167       62   \n",
       "2295860     input    2      0.142448          2.049960       63   \n",
       "\n",
       "                tok_bin  tok_bin_hi  tok_bin_lo  \n",
       "0        (-0.006, 0.06]        0.06      -0.006  \n",
       "6        (-0.006, 0.06]        0.06      -0.006  \n",
       "12       (-0.006, 0.06]        0.06      -0.006  \n",
       "18         (0.06, 0.12]        0.12       0.060  \n",
       "24         (0.06, 0.12]        0.12       0.060  \n",
       "...                 ...         ...         ...  \n",
       "2295836     (2.04, 2.1]        2.10       2.040  \n",
       "2295842     (2.04, 2.1]        2.10       2.040  \n",
       "2295848     (2.04, 2.1]        2.10       2.040  \n",
       "2295854     (2.04, 2.1]        2.10       2.040  \n",
       "2295860     (2.04, 2.1]        2.10       2.040  \n",
       "\n",
       "[20000 rows x 17 columns]"
      ]
     },
     "execution_count": 66,
     "metadata": {},
     "output_type": "execute_result"
    }
   ],
   "source": [
    "m_"
   ]
  },
  {
   "cell_type": "code",
   "execution_count": 67,
   "id": "af6cd2b8",
   "metadata": {
    "scrolled": false
   },
   "outputs": [
    {
     "data": {
      "image/png": "[encoded data removed]",
      "text/plain": [
       "<Figure size 1400x600 with 1 Axes>"
      ]
     },
     "metadata": {},
     "output_type": "display_data"
    }
   ],
   "source": [
    "import matplotlib.pyplot as plt\n",
    "import seaborn as sns\n",
    "import pandas as pd\n",
    "from matplotlib.ticker import MaxNLocator\n",
    "import matplotlib.patches as mpatches\n",
    "\n",
    "plt.figure(figsize=(14, 6))\n",
    "ax = plt.gca()  # Get current axis\n",
    "\n",
    "m_ = mm[mm.segment=='generated'].copy()\n",
    "m_['tokzero'] = m_['tok'] - m_['start']\n",
    " \n",
    "sns.boxplot(\n",
    "    data=m_, \n",
    "    x=\"tokzero\", \n",
    "    y=\"maxp\", \n",
    "    # hue='pid',\n",
    "    showcaps=True,        \n",
    "    showfliers=True,\n",
    "    whis=[10, 90],\n",
    "    boxprops={'facecolor': 'none'},\n",
    "    medianprops={'color': 'red', 'linewidth': 2},\n",
    "    flierprops = dict(marker='o', markerfacecolor='None', markersize=3,  markeredgecolor='black'),\n",
    "    ax = ax\n",
    ")\n",
    "\n",
    "plt.yscale(\"log\")\n",
    "\n",
    "plt.xticks(rotation=45)\n",
    "\n",
    "plt.xlabel(\"Position (absolute)\")\n",
    "plt.ylabel(\"P\")\n",
    "plt.title(\"Top-P\")\n",
    "\n",
    "\n",
    "plt.tight_layout()\n",
    "\n",
    "plt.show()"
   ]
  },
  {
   "cell_type": "code",
   "execution_count": 68,
   "id": "7fcfd813",
   "metadata": {},
   "outputs": [
    {
     "data": {
      "image/png": "[encoded data removed]",
      "text/plain": [
       "<Figure size 1400x600 with 1 Axes>"
      ]
     },
     "metadata": {},
     "output_type": "display_data"
    }
   ],
   "source": [
    "import matplotlib.pyplot as plt\n",
    "import seaborn as sns\n",
    "import pandas as pd\n",
    "from matplotlib.ticker import MaxNLocator\n",
    "import matplotlib.patches as mpatches\n",
    "\n",
    "plt.figure(figsize=(14, 6))\n",
    "ax = plt.gca()  # Get current axis\n",
    "\n",
    "m_ = mm[mm.segment=='generated'].copy()\n",
    "\n",
    "m_['tokzero'] = m_['tok'] - m_['start']\n",
    "\n",
    "sns.boxplot(\n",
    "    data=m_, \n",
    "    x=\"tokzero\", \n",
    "    y=\"shape\", \n",
    "    showcaps=True,        \n",
    "    showfliers=True,\n",
    "    whis=[10, 90],\n",
    "    boxprops={'facecolor': 'none'},\n",
    "    flierprops = dict(marker='o', markerfacecolor='None', markersize=3,  markeredgecolor='black'),\n",
    "    ax = ax\n",
    ")\n",
    "\n",
    "plt.yscale(\"log\")\n",
    "\n",
    "plt.xticks(rotation=45)\n",
    "\n",
    "plt.xlabel(\"Position (absolute)\")\n",
    "plt.ylabel(\"P\")\n",
    "plt.title(\"Top-P\")\n",
    "\n",
    "\n",
    "plt.tight_layout()\n",
    "\n",
    "plt.show()"
   ]
  },
  {
   "cell_type": "code",
   "execution_count": 69,
   "id": "1e760fc1",
   "metadata": {},
   "outputs": [
    {
     "data": {
      "image/png": "[encoded data removed]",
      "text/plain": [
       "<Figure size 1400x600 with 1 Axes>"
      ]
     },
     "metadata": {},
     "output_type": "display_data"
    }
   ],
   "source": [
    "import matplotlib.pyplot as plt\n",
    "import seaborn as sns\n",
    "import pandas as pd\n",
    "from matplotlib.ticker import MaxNLocator\n",
    "import matplotlib.patches as mpatches\n",
    "\n",
    "plt.figure(figsize=(14, 6))\n",
    "ax = plt.gca()  # Get current axis\n",
    "\n",
    "m_ = mm[mm.segment=='generated'].copy()\n",
    "\n",
    "\n",
    "m_ = m_.merge(truth, on=['run', 'pid'])\n",
    "\n",
    "sns.stripplot(\n",
    "    data=m_, \n",
    "    y=\"tokzero\", \n",
    "    x=\"shape\", \n",
    "    hue='correct',\n",
    "    ax = ax\n",
    ")\n",
    "\n",
    "plt.yscale(\"log\")\n",
    "\n",
    "plt.xticks(rotation=45)\n",
    "\n",
    "plt.xlabel(\"Position (absolute)\")\n",
    "plt.ylabel(\"P\")\n",
    "plt.title(\"Top-P\")\n",
    "\n",
    "\n",
    "plt.tight_layout()\n",
    "\n",
    "plt.show()"
   ]
  },
  {
   "cell_type": "code",
   "execution_count": 70,
   "id": "3a5d0670",
   "metadata": {},
   "outputs": [
    {
     "data": {
      "text/html": [
       "<div>\n",
       "<style scoped>\n",
       "    .dataframe tbody tr th:only-of-type {\n",
       "        vertical-align: middle;\n",
       "    }\n",
       "\n",
       "    .dataframe tbody tr th {\n",
       "        vertical-align: top;\n",
       "    }\n",
       "\n",
       "    .dataframe thead th {\n",
       "        text-align: right;\n",
       "    }\n",
       "</style>\n",
       "<table border=\"1\" class=\"dataframe\">\n",
       "  <thead>\n",
       "    <tr style=\"text-align: right;\">\n",
       "      <th></th>\n",
       "      <th>count</th>\n",
       "      <th>mean</th>\n",
       "    </tr>\n",
       "    <tr>\n",
       "      <th>shape</th>\n",
       "      <th></th>\n",
       "      <th></th>\n",
       "    </tr>\n",
       "  </thead>\n",
       "  <tbody>\n",
       "    <tr>\n",
       "      <th>1</th>\n",
       "      <td>25417</td>\n",
       "      <td>0.889601</td>\n",
       "    </tr>\n",
       "    <tr>\n",
       "      <th>2</th>\n",
       "      <td>248</td>\n",
       "      <td>0.604839</td>\n",
       "    </tr>\n",
       "    <tr>\n",
       "      <th>3</th>\n",
       "      <td>10</td>\n",
       "      <td>0.000000</td>\n",
       "    </tr>\n",
       "    <tr>\n",
       "      <th>4</th>\n",
       "      <td>6</td>\n",
       "      <td>0.000000</td>\n",
       "    </tr>\n",
       "  </tbody>\n",
       "</table>\n",
       "</div>"
      ],
      "text/plain": [
       "       count      mean\n",
       "shape                 \n",
       "1      25417  0.889601\n",
       "2        248  0.604839\n",
       "3         10  0.000000\n",
       "4          6  0.000000"
      ]
     },
     "execution_count": 70,
     "metadata": {},
     "output_type": "execute_result"
    }
   ],
   "source": [
    "m_.groupby('shape').correct.agg(['count', 'mean'])"
   ]
  },
  {
   "cell_type": "code",
   "execution_count": 76,
   "id": "90c9964b",
   "metadata": {},
   "outputs": [
    {
     "data": {
      "text/plain": [
       "count    25681.000000\n",
       "mean         0.006194\n",
       "std          0.061716\n",
       "min          0.000000\n",
       "25%          0.000000\n",
       "50%          0.000000\n",
       "75%          0.000000\n",
       "max          1.133273\n",
       "Name: true_ent, dtype: float64"
      ]
     },
     "execution_count": 76,
     "metadata": {},
     "output_type": "execute_result"
    }
   ],
   "source": [
    "mm[mm.segment=='generated'].true_ent.describe()"
   ]
  },
  {
   "cell_type": "code",
   "execution_count": 77,
   "id": "a4701dc5",
   "metadata": {},
   "outputs": [
    {
     "data": {
      "image/png": "[encoded data removed]",
      "text/plain": [
       "<Figure size 1400x600 with 1 Axes>"
      ]
     },
     "metadata": {},
     "output_type": "display_data"
    }
   ],
   "source": [
    "import matplotlib.pyplot as plt\n",
    "import seaborn as sns\n",
    "import pandas as pd\n",
    "from matplotlib.ticker import MaxNLocator\n",
    "import matplotlib.patches as mpatches\n",
    "\n",
    "plt.figure(figsize=(14, 6))\n",
    "ax = plt.gca()  # Get current axis\n",
    "\n",
    "m_ = mm[mm.segment=='generated'].copy()\n",
    " \n",
    "sns.boxplot(\n",
    "    data=m_, \n",
    "    x=\"tokzero\", \n",
    "    y=\"true_ent\", \n",
    "    # hue='pid',\n",
    "    showcaps=True,        \n",
    "    showfliers=True,\n",
    "    whis=[10, 90],\n",
    "    boxprops={'facecolor': 'none'},\n",
    "    medianprops={'color': 'red', 'linewidth': 2},\n",
    "    flierprops = dict(marker='o', markerfacecolor='None', markersize=3,  markeredgecolor='black'),\n",
    "    ax = ax\n",
    ")\n",
    "\n",
    "# plt.yscale(\"log\")\n",
    "\n",
    "plt.xticks(rotation=45)\n",
    "\n",
    "plt.xlabel(\"Position (absolute)\")\n",
    "plt.ylabel(\"H\")\n",
    "plt.title(\"Entropy\")\n",
    "\n",
    "\n",
    "plt.tight_layout()\n",
    "\n",
    "plt.show()"
   ]
  },
  {
   "cell_type": "code",
   "execution_count": 85,
   "id": "22ba871f",
   "metadata": {},
   "outputs": [
    {
     "data": {
      "image/png": "[encoded data removed]",
      "text/plain": [
       "<Figure size 1400x600 with 1 Axes>"
      ]
     },
     "metadata": {},
     "output_type": "display_data"
    }
   ],
   "source": [
    "import matplotlib.pyplot as plt\n",
    "import seaborn as sns\n",
    "import pandas as pd\n",
    "from matplotlib.ticker import MaxNLocator\n",
    "import matplotlib.patches as mpatches\n",
    "\n",
    "plt.figure(figsize=(14, 6))\n",
    "ax = plt.gca()\n",
    "\n",
    "m_ = mm[mm.segment=='generated'].copy()\n",
    "\n",
    "m_ = m_.merge(truth, on=['run', 'pid'])\n",
    "\n",
    "sns.stripplot(\n",
    "    data=m_, \n",
    "    x=\"tokzero\", \n",
    "    y=\"true_ent\", \n",
    "    hue='correct',\n",
    "    dodge=True,\n",
    "    size=5,\n",
    "    ax = ax\n",
    ")\n",
    "\n",
    "\n",
    "plt.xticks(rotation=45)\n",
    "\n",
    "plt.xlabel(\"Position (absolute)\")\n",
    "plt.ylabel(\"H\")\n",
    "plt.title(\"Entropy\")\n",
    "\n",
    "\n",
    "plt.tight_layout()\n",
    "\n",
    "plt.show()"
   ]
  },
  {
   "cell_type": "code",
   "execution_count": 72,
   "id": "b4785dcd",
   "metadata": {},
   "outputs": [
    {
     "data": {
      "text/html": [
       "<div>\n",
       "<style scoped>\n",
       "    .dataframe tbody tr th:only-of-type {\n",
       "        vertical-align: middle;\n",
       "    }\n",
       "\n",
       "    .dataframe tbody tr th {\n",
       "        vertical-align: top;\n",
       "    }\n",
       "\n",
       "    .dataframe thead th {\n",
       "        text-align: right;\n",
       "    }\n",
       "</style>\n",
       "<table border=\"1\" class=\"dataframe\">\n",
       "  <thead>\n",
       "    <tr style=\"text-align: right;\">\n",
       "      <th></th>\n",
       "      <th>run</th>\n",
       "      <th>pid</th>\n",
       "      <th>tok</th>\n",
       "      <th>area</th>\n",
       "      <th>shape</th>\n",
       "      <th>true_ent</th>\n",
       "      <th>maxp</th>\n",
       "      <th>start</th>\n",
       "      <th>end</th>\n",
       "      <th>segment</th>\n",
       "      <th>seq</th>\n",
       "      <th>tok_rel_segm</th>\n",
       "      <th>tok_rel_segm_abs</th>\n",
       "      <th>tokzero</th>\n",
       "    </tr>\n",
       "  </thead>\n",
       "  <tbody>\n",
       "    <tr>\n",
       "      <th>24167</th>\n",
       "      <td>0</td>\n",
       "      <td>1</td>\n",
       "      <td>1960</td>\n",
       "      <td>generated</td>\n",
       "      <td>1</td>\n",
       "      <td>0.0</td>\n",
       "      <td>1.0</td>\n",
       "      <td>1960</td>\n",
       "      <td>1982</td>\n",
       "      <td>generated</td>\n",
       "      <td>5</td>\n",
       "      <td>0.988900</td>\n",
       "      <td>5.000000</td>\n",
       "      <td>0</td>\n",
       "    </tr>\n",
       "    <tr>\n",
       "      <th>24173</th>\n",
       "      <td>0</td>\n",
       "      <td>1</td>\n",
       "      <td>1961</td>\n",
       "      <td>generated</td>\n",
       "      <td>1</td>\n",
       "      <td>0.0</td>\n",
       "      <td>1.0</td>\n",
       "      <td>1960</td>\n",
       "      <td>1982</td>\n",
       "      <td>generated</td>\n",
       "      <td>5</td>\n",
       "      <td>0.989405</td>\n",
       "      <td>5.045455</td>\n",
       "      <td>1</td>\n",
       "    </tr>\n",
       "    <tr>\n",
       "      <th>24179</th>\n",
       "      <td>0</td>\n",
       "      <td>1</td>\n",
       "      <td>1962</td>\n",
       "      <td>generated</td>\n",
       "      <td>1</td>\n",
       "      <td>0.0</td>\n",
       "      <td>1.0</td>\n",
       "      <td>1960</td>\n",
       "      <td>1982</td>\n",
       "      <td>generated</td>\n",
       "      <td>5</td>\n",
       "      <td>0.989909</td>\n",
       "      <td>5.090909</td>\n",
       "      <td>2</td>\n",
       "    </tr>\n",
       "    <tr>\n",
       "      <th>24185</th>\n",
       "      <td>0</td>\n",
       "      <td>1</td>\n",
       "      <td>1963</td>\n",
       "      <td>generated</td>\n",
       "      <td>1</td>\n",
       "      <td>0.0</td>\n",
       "      <td>1.0</td>\n",
       "      <td>1960</td>\n",
       "      <td>1982</td>\n",
       "      <td>generated</td>\n",
       "      <td>5</td>\n",
       "      <td>0.990414</td>\n",
       "      <td>5.136364</td>\n",
       "      <td>3</td>\n",
       "    </tr>\n",
       "    <tr>\n",
       "      <th>24191</th>\n",
       "      <td>0</td>\n",
       "      <td>1</td>\n",
       "      <td>1964</td>\n",
       "      <td>generated</td>\n",
       "      <td>1</td>\n",
       "      <td>0.0</td>\n",
       "      <td>1.0</td>\n",
       "      <td>1960</td>\n",
       "      <td>1982</td>\n",
       "      <td>generated</td>\n",
       "      <td>5</td>\n",
       "      <td>0.990918</td>\n",
       "      <td>5.181818</td>\n",
       "      <td>4</td>\n",
       "    </tr>\n",
       "    <tr>\n",
       "      <th>...</th>\n",
       "      <td>...</td>\n",
       "      <td>...</td>\n",
       "      <td>...</td>\n",
       "      <td>...</td>\n",
       "      <td>...</td>\n",
       "      <td>...</td>\n",
       "      <td>...</td>\n",
       "      <td>...</td>\n",
       "      <td>...</td>\n",
       "      <td>...</td>\n",
       "      <td>...</td>\n",
       "      <td>...</td>\n",
       "      <td>...</td>\n",
       "      <td>...</td>\n",
       "    </tr>\n",
       "    <tr>\n",
       "      <th>20853701</th>\n",
       "      <td>9</td>\n",
       "      <td>1</td>\n",
       "      <td>1978</td>\n",
       "      <td>generated</td>\n",
       "      <td>1</td>\n",
       "      <td>0.0</td>\n",
       "      <td>1.0</td>\n",
       "      <td>1960</td>\n",
       "      <td>1982</td>\n",
       "      <td>generated</td>\n",
       "      <td>5</td>\n",
       "      <td>0.997982</td>\n",
       "      <td>5.818182</td>\n",
       "      <td>18</td>\n",
       "    </tr>\n",
       "    <tr>\n",
       "      <th>20853707</th>\n",
       "      <td>9</td>\n",
       "      <td>1</td>\n",
       "      <td>1979</td>\n",
       "      <td>generated</td>\n",
       "      <td>1</td>\n",
       "      <td>0.0</td>\n",
       "      <td>1.0</td>\n",
       "      <td>1960</td>\n",
       "      <td>1982</td>\n",
       "      <td>generated</td>\n",
       "      <td>5</td>\n",
       "      <td>0.998486</td>\n",
       "      <td>5.863636</td>\n",
       "      <td>19</td>\n",
       "    </tr>\n",
       "    <tr>\n",
       "      <th>20853713</th>\n",
       "      <td>9</td>\n",
       "      <td>1</td>\n",
       "      <td>1980</td>\n",
       "      <td>generated</td>\n",
       "      <td>1</td>\n",
       "      <td>0.0</td>\n",
       "      <td>1.0</td>\n",
       "      <td>1960</td>\n",
       "      <td>1982</td>\n",
       "      <td>generated</td>\n",
       "      <td>5</td>\n",
       "      <td>0.998991</td>\n",
       "      <td>5.909091</td>\n",
       "      <td>20</td>\n",
       "    </tr>\n",
       "    <tr>\n",
       "      <th>20853719</th>\n",
       "      <td>9</td>\n",
       "      <td>1</td>\n",
       "      <td>1981</td>\n",
       "      <td>generated</td>\n",
       "      <td>1</td>\n",
       "      <td>0.0</td>\n",
       "      <td>1.0</td>\n",
       "      <td>1960</td>\n",
       "      <td>1982</td>\n",
       "      <td>generated</td>\n",
       "      <td>5</td>\n",
       "      <td>0.999495</td>\n",
       "      <td>5.954545</td>\n",
       "      <td>21</td>\n",
       "    </tr>\n",
       "    <tr>\n",
       "      <th>20853725</th>\n",
       "      <td>9</td>\n",
       "      <td>1</td>\n",
       "      <td>1982</td>\n",
       "      <td>generated</td>\n",
       "      <td>1</td>\n",
       "      <td>0.0</td>\n",
       "      <td>1.0</td>\n",
       "      <td>1960</td>\n",
       "      <td>1982</td>\n",
       "      <td>generated</td>\n",
       "      <td>5</td>\n",
       "      <td>1.000000</td>\n",
       "      <td>6.000000</td>\n",
       "      <td>22</td>\n",
       "    </tr>\n",
       "  </tbody>\n",
       "</table>\n",
       "<p>230 rows × 14 columns</p>\n",
       "</div>"
      ],
      "text/plain": [
       "          run  pid   tok       area  shape  true_ent  maxp  start   end  \\\n",
       "24167       0    1  1960  generated      1       0.0   1.0   1960  1982   \n",
       "24173       0    1  1961  generated      1       0.0   1.0   1960  1982   \n",
       "24179       0    1  1962  generated      1       0.0   1.0   1960  1982   \n",
       "24185       0    1  1963  generated      1       0.0   1.0   1960  1982   \n",
       "24191       0    1  1964  generated      1       0.0   1.0   1960  1982   \n",
       "...       ...  ...   ...        ...    ...       ...   ...    ...   ...   \n",
       "20853701    9    1  1978  generated      1       0.0   1.0   1960  1982   \n",
       "20853707    9    1  1979  generated      1       0.0   1.0   1960  1982   \n",
       "20853713    9    1  1980  generated      1       0.0   1.0   1960  1982   \n",
       "20853719    9    1  1981  generated      1       0.0   1.0   1960  1982   \n",
       "20853725    9    1  1982  generated      1       0.0   1.0   1960  1982   \n",
       "\n",
       "            segment  seq  tok_rel_segm  tok_rel_segm_abs  tokzero  \n",
       "24167     generated    5      0.988900          5.000000        0  \n",
       "24173     generated    5      0.989405          5.045455        1  \n",
       "24179     generated    5      0.989909          5.090909        2  \n",
       "24185     generated    5      0.990414          5.136364        3  \n",
       "24191     generated    5      0.990918          5.181818        4  \n",
       "...             ...  ...           ...               ...      ...  \n",
       "20853701  generated    5      0.997982          5.818182       18  \n",
       "20853707  generated    5      0.998486          5.863636       19  \n",
       "20853713  generated    5      0.998991          5.909091       20  \n",
       "20853719  generated    5      0.999495          5.954545       21  \n",
       "20853725  generated    5      1.000000          6.000000       22  \n",
       "\n",
       "[230 rows x 14 columns]"
      ]
     },
     "execution_count": 72,
     "metadata": {},
     "output_type": "execute_result"
    }
   ],
   "source": [
    "mm[(mm.segment=='generated') & (mm.pid==1)]"
   ]
  },
  {
   "cell_type": "code",
   "execution_count": 73,
   "id": "a0b20649",
   "metadata": {},
   "outputs": [
    {
     "data": {
      "text/html": [
       "<div>\n",
       "<style scoped>\n",
       "    .dataframe tbody tr th:only-of-type {\n",
       "        vertical-align: middle;\n",
       "    }\n",
       "\n",
       "    .dataframe tbody tr th {\n",
       "        vertical-align: top;\n",
       "    }\n",
       "\n",
       "    .dataframe thead th {\n",
       "        text-align: right;\n",
       "    }\n",
       "</style>\n",
       "<table border=\"1\" class=\"dataframe\">\n",
       "  <thead>\n",
       "    <tr style=\"text-align: right;\">\n",
       "      <th></th>\n",
       "      <th>run</th>\n",
       "      <th>pid</th>\n",
       "      <th>tok</th>\n",
       "      <th>area</th>\n",
       "      <th>shape</th>\n",
       "      <th>true_ent</th>\n",
       "      <th>maxp</th>\n",
       "      <th>start</th>\n",
       "      <th>end</th>\n",
       "      <th>segment</th>\n",
       "      <th>seq</th>\n",
       "      <th>tok_rel_segm</th>\n",
       "      <th>tok_rel_segm_abs</th>\n",
       "      <th>tokzero</th>\n",
       "    </tr>\n",
       "  </thead>\n",
       "  <tbody>\n",
       "    <tr>\n",
       "      <th>38351</th>\n",
       "      <td>0</td>\n",
       "      <td>2</td>\n",
       "      <td>2341</td>\n",
       "      <td>generated</td>\n",
       "      <td>1</td>\n",
       "      <td>0.0</td>\n",
       "      <td>1.0</td>\n",
       "      <td>2341</td>\n",
       "      <td>2372</td>\n",
       "      <td>generated</td>\n",
       "      <td>5</td>\n",
       "      <td>0.986931</td>\n",
       "      <td>5.000000</td>\n",
       "      <td>0</td>\n",
       "    </tr>\n",
       "    <tr>\n",
       "      <th>38357</th>\n",
       "      <td>0</td>\n",
       "      <td>2</td>\n",
       "      <td>2342</td>\n",
       "      <td>generated</td>\n",
       "      <td>1</td>\n",
       "      <td>0.0</td>\n",
       "      <td>1.0</td>\n",
       "      <td>2341</td>\n",
       "      <td>2372</td>\n",
       "      <td>generated</td>\n",
       "      <td>5</td>\n",
       "      <td>0.987352</td>\n",
       "      <td>5.032258</td>\n",
       "      <td>1</td>\n",
       "    </tr>\n",
       "    <tr>\n",
       "      <th>38363</th>\n",
       "      <td>0</td>\n",
       "      <td>2</td>\n",
       "      <td>2343</td>\n",
       "      <td>generated</td>\n",
       "      <td>1</td>\n",
       "      <td>0.0</td>\n",
       "      <td>1.0</td>\n",
       "      <td>2341</td>\n",
       "      <td>2372</td>\n",
       "      <td>generated</td>\n",
       "      <td>5</td>\n",
       "      <td>0.987774</td>\n",
       "      <td>5.064516</td>\n",
       "      <td>2</td>\n",
       "    </tr>\n",
       "    <tr>\n",
       "      <th>38369</th>\n",
       "      <td>0</td>\n",
       "      <td>2</td>\n",
       "      <td>2344</td>\n",
       "      <td>generated</td>\n",
       "      <td>1</td>\n",
       "      <td>0.0</td>\n",
       "      <td>1.0</td>\n",
       "      <td>2341</td>\n",
       "      <td>2372</td>\n",
       "      <td>generated</td>\n",
       "      <td>5</td>\n",
       "      <td>0.988196</td>\n",
       "      <td>5.096774</td>\n",
       "      <td>3</td>\n",
       "    </tr>\n",
       "    <tr>\n",
       "      <th>38375</th>\n",
       "      <td>0</td>\n",
       "      <td>2</td>\n",
       "      <td>2345</td>\n",
       "      <td>generated</td>\n",
       "      <td>1</td>\n",
       "      <td>0.0</td>\n",
       "      <td>1.0</td>\n",
       "      <td>2341</td>\n",
       "      <td>2372</td>\n",
       "      <td>generated</td>\n",
       "      <td>5</td>\n",
       "      <td>0.988617</td>\n",
       "      <td>5.129032</td>\n",
       "      <td>4</td>\n",
       "    </tr>\n",
       "    <tr>\n",
       "      <th>...</th>\n",
       "      <td>...</td>\n",
       "      <td>...</td>\n",
       "      <td>...</td>\n",
       "      <td>...</td>\n",
       "      <td>...</td>\n",
       "      <td>...</td>\n",
       "      <td>...</td>\n",
       "      <td>...</td>\n",
       "      <td>...</td>\n",
       "      <td>...</td>\n",
       "      <td>...</td>\n",
       "      <td>...</td>\n",
       "      <td>...</td>\n",
       "      <td>...</td>\n",
       "    </tr>\n",
       "    <tr>\n",
       "      <th>20867939</th>\n",
       "      <td>9</td>\n",
       "      <td>2</td>\n",
       "      <td>2368</td>\n",
       "      <td>generated</td>\n",
       "      <td>1</td>\n",
       "      <td>0.0</td>\n",
       "      <td>1.0</td>\n",
       "      <td>2341</td>\n",
       "      <td>2372</td>\n",
       "      <td>generated</td>\n",
       "      <td>5</td>\n",
       "      <td>0.998314</td>\n",
       "      <td>5.870968</td>\n",
       "      <td>27</td>\n",
       "    </tr>\n",
       "    <tr>\n",
       "      <th>20867945</th>\n",
       "      <td>9</td>\n",
       "      <td>2</td>\n",
       "      <td>2369</td>\n",
       "      <td>generated</td>\n",
       "      <td>1</td>\n",
       "      <td>0.0</td>\n",
       "      <td>1.0</td>\n",
       "      <td>2341</td>\n",
       "      <td>2372</td>\n",
       "      <td>generated</td>\n",
       "      <td>5</td>\n",
       "      <td>0.998735</td>\n",
       "      <td>5.903226</td>\n",
       "      <td>28</td>\n",
       "    </tr>\n",
       "    <tr>\n",
       "      <th>20867951</th>\n",
       "      <td>9</td>\n",
       "      <td>2</td>\n",
       "      <td>2370</td>\n",
       "      <td>generated</td>\n",
       "      <td>1</td>\n",
       "      <td>0.0</td>\n",
       "      <td>1.0</td>\n",
       "      <td>2341</td>\n",
       "      <td>2372</td>\n",
       "      <td>generated</td>\n",
       "      <td>5</td>\n",
       "      <td>0.999157</td>\n",
       "      <td>5.935484</td>\n",
       "      <td>29</td>\n",
       "    </tr>\n",
       "    <tr>\n",
       "      <th>20867957</th>\n",
       "      <td>9</td>\n",
       "      <td>2</td>\n",
       "      <td>2371</td>\n",
       "      <td>generated</td>\n",
       "      <td>1</td>\n",
       "      <td>0.0</td>\n",
       "      <td>1.0</td>\n",
       "      <td>2341</td>\n",
       "      <td>2372</td>\n",
       "      <td>generated</td>\n",
       "      <td>5</td>\n",
       "      <td>0.999578</td>\n",
       "      <td>5.967742</td>\n",
       "      <td>30</td>\n",
       "    </tr>\n",
       "    <tr>\n",
       "      <th>20867963</th>\n",
       "      <td>9</td>\n",
       "      <td>2</td>\n",
       "      <td>2372</td>\n",
       "      <td>generated</td>\n",
       "      <td>1</td>\n",
       "      <td>0.0</td>\n",
       "      <td>1.0</td>\n",
       "      <td>2341</td>\n",
       "      <td>2372</td>\n",
       "      <td>generated</td>\n",
       "      <td>5</td>\n",
       "      <td>1.000000</td>\n",
       "      <td>6.000000</td>\n",
       "      <td>31</td>\n",
       "    </tr>\n",
       "  </tbody>\n",
       "</table>\n",
       "<p>320 rows × 14 columns</p>\n",
       "</div>"
      ],
      "text/plain": [
       "          run  pid   tok       area  shape  true_ent  maxp  start   end  \\\n",
       "38351       0    2  2341  generated      1       0.0   1.0   2341  2372   \n",
       "38357       0    2  2342  generated      1       0.0   1.0   2341  2372   \n",
       "38363       0    2  2343  generated      1       0.0   1.0   2341  2372   \n",
       "38369       0    2  2344  generated      1       0.0   1.0   2341  2372   \n",
       "38375       0    2  2345  generated      1       0.0   1.0   2341  2372   \n",
       "...       ...  ...   ...        ...    ...       ...   ...    ...   ...   \n",
       "20867939    9    2  2368  generated      1       0.0   1.0   2341  2372   \n",
       "20867945    9    2  2369  generated      1       0.0   1.0   2341  2372   \n",
       "20867951    9    2  2370  generated      1       0.0   1.0   2341  2372   \n",
       "20867957    9    2  2371  generated      1       0.0   1.0   2341  2372   \n",
       "20867963    9    2  2372  generated      1       0.0   1.0   2341  2372   \n",
       "\n",
       "            segment  seq  tok_rel_segm  tok_rel_segm_abs  tokzero  \n",
       "38351     generated    5      0.986931          5.000000        0  \n",
       "38357     generated    5      0.987352          5.032258        1  \n",
       "38363     generated    5      0.987774          5.064516        2  \n",
       "38369     generated    5      0.988196          5.096774        3  \n",
       "38375     generated    5      0.988617          5.129032        4  \n",
       "...             ...  ...           ...               ...      ...  \n",
       "20867939  generated    5      0.998314          5.870968       27  \n",
       "20867945  generated    5      0.998735          5.903226       28  \n",
       "20867951  generated    5      0.999157          5.935484       29  \n",
       "20867957  generated    5      0.999578          5.967742       30  \n",
       "20867963  generated    5      1.000000          6.000000       31  \n",
       "\n",
       "[320 rows x 14 columns]"
      ]
     },
     "execution_count": 73,
     "metadata": {},
     "output_type": "execute_result"
    }
   ],
   "source": [
    "mm[(mm.segment=='generated') & (mm.pid==2)]"
   ]
  },
  {
   "cell_type": "code",
   "execution_count": 74,
   "id": "870e9f6c",
   "metadata": {},
   "outputs": [
    {
     "data": {
      "text/plain": [
       "(3857291, 14)"
      ]
     },
     "execution_count": 74,
     "metadata": {},
     "output_type": "execute_result"
    }
   ],
   "source": [
    "mm.shape"
   ]
  },
  {
   "cell_type": "code",
   "execution_count": 75,
   "id": "b8bb7f08",
   "metadata": {},
   "outputs": [
    {
     "data": {
      "text/plain": [
       "(385715, 17)"
      ]
     },
     "execution_count": 75,
     "metadata": {},
     "output_type": "execute_result"
    }
   ],
   "source": [
    "m.shape"
   ]
  },
  {
   "cell_type": "code",
   "execution_count": null,
   "id": "f13d5933",
   "metadata": {},
   "outputs": [],
   "source": [
    "# TODO: compare variance in generate (same prompt / multiple prompts)"
   ]
  },
  {
   "cell_type": "code",
   "execution_count": null,
   "id": "dd13fd24",
   "metadata": {},
   "outputs": [],
   "source": [
    "# TODO: compare observables grouping by truth"
   ]
  },
  {
   "cell_type": "code",
   "execution_count": null,
   "id": "2b94086f",
   "metadata": {},
   "outputs": [],
   "source": [
    "# TODO: plot truth vs aggregated uncertainty"
   ]
  }
 ],
 "metadata": {
  "kernelspec": {
   "display_name": "doubt",
   "language": "python",
   "name": "doubt"
  },
  "language_info": {
   "codemirror_mode": {
    "name": "ipython",
    "version": 3
   },
   "file_extension": ".py",
   "mimetype": "text/x-python",
   "name": "python",
   "nbconvert_exporter": "python",
   "pygments_lexer": "ipython3",
   "version": "3.8.10"
  }
 },
 "nbformat": 4,
 "nbformat_minor": 5
}

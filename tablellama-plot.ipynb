{
 "cells": [
  {
   "cell_type": "code",
   "execution_count": 45,
   "id": "7139c697",
   "metadata": {},
   "outputs": [],
   "source": [
    "import torch\n",
    "import torch.nn.functional as F\n",
    "import transformers\n",
    "from transformers import AutoTokenizer, AutoModelForCausalLM\n",
    "import json\n",
    "from tqdm import tqdm\n",
    "import gc\n",
    "\n",
    " \n",
    "file_path = \"turl_test_2k_prompts_50.jsonl\"\n",
    "device = torch.device(\"mps\")\n",
    "\n",
    "model_name = \"osunlp/TableLlama\"\n",
    "config = transformers.AutoConfig.from_pretrained(model_name)\n",
    "orig_ctx_len = getattr(config, \"max_position_embeddings\", None)\n",
    "tokenizer = AutoTokenizer.from_pretrained(model_name, model_max_length=orig_ctx_len, padding_side=\"left\", use_fast=False)"
   ]
  },
  {
   "cell_type": "code",
   "execution_count": 46,
   "id": "6ae2e7dc",
   "metadata": {},
   "outputs": [],
   "source": [
    "# prompt formatting\n",
    "\n",
    "PROMPT_DICT = {\n",
    "    \"prompt_input\": (\n",
    "        \"Below is an instruction that describes a task, paired with an input that provides further context. \"\n",
    "        \"Write a response that appropriately completes the request.\\n\\n\"\n",
    "        \"### Instruction:\\n{instruction}\\n\\n### Input:\\n{input_seg}\\n\\n### Question:\\n{question}\\n\\n### Response:\"\n",
    "    ),\n",
    "    \"prompt_no_input\": (\n",
    "        \"Below is an instruction that describes a task. \"\n",
    "        \"Write a response that appropriately completes the request.\\n\\n\"\n",
    "        \"### Instruction:\\n{instruction}\\n\\n### Response:\"\n",
    "    ),\n",
    "}\n",
    "\n",
    "def generate_prompt(instruction, question, input_seg=None):\n",
    "    question += \" Answer with just a candidate, selected from the provided referent entity candidates list, and nothing else. The selected candidate must be reported verbatim from the list provided as input. Each candidate in the list is enclosed between < and > and reports [DESC] and [TYPE] information.\"\n",
    "    if input_seg:\n",
    "        return PROMPT_DICT[\"prompt_input\"].format(instruction=instruction, input_seg=input_seg, question=question)\n",
    "    else:\n",
    "        return PROMPT_DICT[\"prompt_no_input\"].format(instruction=instruction)"
   ]
  },
  {
   "cell_type": "code",
   "execution_count": 47,
   "id": "36d31bb5",
   "metadata": {},
   "outputs": [],
   "source": [
    "# load questions\n",
    "\n",
    "file_path = \"turl_test_2k_prompts_50.jsonl\"\n",
    "\n",
    "with open(file_path, \"r\", encoding=\"utf-8\") as f:\n",
    "    prompts = [json.loads(line) for line in f]"
   ]
  },
  {
   "cell_type": "code",
   "execution_count": 358,
   "id": "c784af19",
   "metadata": {
    "scrolled": true
   },
   "outputs": [
    {
     "name": "stdout",
     "output_type": "stream",
     "text": [
      "TableLlama.3518465688.pickle\n",
      "TableLlama.1238154247.pickle\n",
      "TableLlama.2329726566.pickle\n",
      "TableLlama.3772737819.pickle\n",
      "TableLlama.1659250506.pickle\n",
      "TableLlama.1674567122.pickle\n",
      "TableLlama.3947840415.pickle\n",
      "TableLlama.3566707448.pickle\n",
      "TableLlama.3095983523.pickle\n",
      "TableLlama.2922754562.pickle\n",
      "CPU times: user 20.7 s, sys: 1.02 s, total: 21.7 s\n",
      "Wall time: 21.7 s\n"
     ]
    },
    {
     "data": {
      "text/plain": [
       "1000"
      ]
     },
     "execution_count": 358,
     "metadata": {},
     "output_type": "execute_result"
    }
   ],
   "source": [
    "%%time\n",
    "\n",
    "# load processed data\n",
    "\n",
    "import os\n",
    "import pickle\n",
    "\n",
    "prefix = './tablellama10runs/'\n",
    "\n",
    "run = 0\n",
    "\n",
    "outlist = []\n",
    "for file in os.listdir(prefix):\n",
    "    if file.endswith('pickle'):\n",
    "        print(file)\n",
    "        with open(os.path.join(prefix, file), 'rb') as handle:\n",
    "            outlist_ = pickle.load(handle)\n",
    "            outlist.extend([dict(item, **{'run': run, 'pid': pid}) for pid, item in enumerate(outlist_)])\n",
    "    run += 1\n",
    "\n",
    "len(outlist)"
   ]
  },
  {
   "cell_type": "markdown",
   "id": "fd3c5010",
   "metadata": {},
   "source": [
    "### check output against ground truth"
   ]
  },
  {
   "cell_type": "code",
   "execution_count": 359,
   "id": "d955f13a",
   "metadata": {},
   "outputs": [
    {
     "name": "stdout",
     "output_type": "stream",
     "text": [
      "CPU times: user 8.45 s, sys: 200 ms, total: 8.66 s\n",
      "Wall time: 9.27 s\n"
     ]
    }
   ],
   "source": [
    "%%time\n",
    "\n",
    "# show results\n",
    "\n",
    "c=0\n",
    "t=0\n",
    "h=0\n",
    "\n",
    "truth = []\n",
    "\n",
    "for idx, p in enumerate(outlist):\n",
    "    c+=1\n",
    "    # in\n",
    "    prompt = generate_prompt(p[\"instruction\"], p[\"question\"], p[\"input\"])\n",
    "    inputs = tokenizer(prompt, return_tensors=\"pt\").to(device)\n",
    "    # computed\n",
    "    # post_output_scores = p['post_output_scores']\n",
    "    post_output_sequences = p['post_output_sequences']\n",
    "    # bases\n",
    "    baseid = len(inputs[\"input_ids\"][0]) + 1\n",
    "    endid = len(post_output_sequences[0])\n",
    "    # lookout\n",
    "    generated_ids = post_output_sequences\n",
    "    generated_text = tokenizer.decode(generated_ids[0][baseid:endid], skip_special_tokens=True)\n",
    "    # print\n",
    "    # print(generated_text)\n",
    "    # print(p['output'])\n",
    "    # print('\\n')\n",
    "    #test\n",
    "    a = generated_text.lower().strip()\n",
    "    b = p['output'].lower().strip()\n",
    "    # correct\n",
    "    correct = False\n",
    "    if (a in b) or (b in a) or (b.startswith(a)) or (a.startswith(b)): \n",
    "        correct = True\n",
    "        t+=1\n",
    "    # hallucinated\n",
    "    elif a not in prompt.lower().strip(): \n",
    "        h+=1\n",
    "    # incorrect\n",
    "    else:\n",
    "        pass\n",
    "        #print(generated_text)\n",
    "        #print(p['output'])\n",
    "        #print('\\n')\n",
    "        # print(prompt)\n",
    "        # print('\\n')\n",
    "        \n",
    "    truth.append((p['run'], p['pid'], correct))"
   ]
  },
  {
   "cell_type": "code",
   "execution_count": 360,
   "id": "e21ab371",
   "metadata": {},
   "outputs": [
    {
     "data": {
      "text/plain": [
       "(888, 4, 1000)"
      ]
     },
     "execution_count": 360,
     "metadata": {},
     "output_type": "execute_result"
    }
   ],
   "source": [
    "# true, hallucinated, counted\n",
    "t, h, c"
   ]
  },
  {
   "cell_type": "code",
   "execution_count": 361,
   "id": "81854950",
   "metadata": {},
   "outputs": [],
   "source": [
    "truth = pd.DataFrame(truth, columns=['run', 'pid', 'correct'])"
   ]
  },
  {
   "cell_type": "code",
   "execution_count": 419,
   "id": "5b3d7bbd",
   "metadata": {},
   "outputs": [
    {
     "data": {
      "text/plain": [
       "<Axes: xlabel='correct', ylabel='Count'>"
      ]
     },
     "execution_count": 419,
     "metadata": {},
     "output_type": "execute_result"
    },
    {
     "data": {
      "image/png": "[encoded data removed]",
      "text/plain": [
       "<Figure size 640x480 with 1 Axes>"
      ]
     },
     "metadata": {},
     "output_type": "display_data"
    }
   ],
   "source": [
    "sns.histplot(truth.groupby('pid').correct.mean())"
   ]
  },
  {
   "cell_type": "markdown",
   "id": "cf1c8e14",
   "metadata": {},
   "source": [
    "### sequence components alignment"
   ]
  },
  {
   "cell_type": "code",
   "execution_count": 363,
   "id": "ff3dca16",
   "metadata": {},
   "outputs": [],
   "source": [
    "def is_sublist(c, m, label):\n",
    "    if not c: return False\n",
    "    if not m or len(c) > len(m): return False\n",
    "\n",
    "    for i in range(len(m) - len(c) + 1):\n",
    "        if m[i:i+len(c)] == c:\n",
    "            return (i, i + len(c), label)\n",
    "    return False"
   ]
  },
  {
   "cell_type": "code",
   "execution_count": 364,
   "id": "433b6efb",
   "metadata": {},
   "outputs": [
    {
     "name": "stdout",
     "output_type": "stream",
     "text": [
      "CPU times: user 20.3 s, sys: 108 ms, total: 20.4 s\n",
      "Wall time: 20.4 s\n"
     ]
    }
   ],
   "source": [
    "%%time\n",
    "\n",
    "checks = []\n",
    "alls = set()\n",
    "\n",
    "for idx, p in enumerate(outlist):\n",
    "    \n",
    "    run = p['run']\n",
    "    pid = p['pid']\n",
    "    \n",
    "    alls.add(p['table'])\n",
    "\n",
    "    prompt = generate_prompt(p[\"instruction\"], p[\"question\"], p[\"input\"])\n",
    "    output_seq = p['post_output_sequences'][0]\n",
    "\n",
    "    prompt_seq = tokenizer(prompt, return_tensors=\"pt\")\n",
    "    prompt_seq = prompt_seq['input_ids'][0].numpy().tolist()\n",
    "\n",
    "    instruction_seq = tokenizer(p[\"instruction\"], return_tensors=\"pt\")\n",
    "    instruction_seq = instruction_seq['input_ids'][0].numpy().tolist()\n",
    "\n",
    "    question_seq = tokenizer(p[\"question\"], return_tensors=\"pt\")\n",
    "    question_seq = question_seq['input_ids'][0].numpy().tolist()\n",
    "\n",
    "    input_seq = tokenizer(p[\"input\"], return_tensors=\"pt\")\n",
    "    input_seq = input_seq['input_ids'][0].numpy().tolist()\n",
    "\n",
    "    postilla = \" Answer with just a candidate, selected from the provided referent entity candidates list, and nothing else. The selected candidate must be reported verbatim from the list provided as input. Each candidate in the list is enclosed between < and > and reports [DESC] and [TYPE] information.\"\n",
    "    postilla_seq = tokenizer(postilla, return_tensors=\"pt\")\n",
    "    postilla_seq = postilla_seq['input_ids'][0].numpy().tolist()\n",
    "    \n",
    "    # subseq matching\n",
    "    instruction_match = is_sublist(instruction_seq[2:], output_seq, 'instruction')\n",
    "    input_match = is_sublist(input_seq[2:], output_seq, 'input')\n",
    "    question_match = is_sublist(question_seq[2:], output_seq, 'question') # maybe include 1?\n",
    "    postilla_match = is_sublist(postilla_seq[2:], output_seq, 'postilla')\n",
    "    \n",
    "    # boundaries are inclusive\n",
    "    checks.append((run, pid, 0, instruction_match[0], 'preamble')) # preamble\n",
    "    checks.append((run, pid, instruction_match[0] + 1) + instruction_match[1:])\n",
    "    checks.append((run, pid, instruction_match[1] + 1) + input_match[1:]) # sew to preceding\n",
    "    checks.append((run, pid, input_match[1] + 1) + question_match[1:]) # sew to preceding\n",
    "    checks.append((run, pid, postilla_match[0] + 1, len(prompt_seq) - 1, 'postilla')) # stretch postilla until the end of the prompt\n",
    "    checks.append((run, pid, len(prompt_seq), len(output_seq) -1, 'generated')) # assume everything else is generated"
   ]
  },
  {
   "cell_type": "code",
   "execution_count": 365,
   "id": "f34145e5",
   "metadata": {},
   "outputs": [
    {
     "data": {
      "text/plain": [
       "False"
      ]
     },
     "execution_count": 365,
     "metadata": {},
     "output_type": "execute_result"
    }
   ],
   "source": [
    "# check the checks (must be False)\n",
    "'False' in checks"
   ]
  },
  {
   "cell_type": "code",
   "execution_count": 366,
   "id": "13265c19",
   "metadata": {},
   "outputs": [],
   "source": [
    "import pandas as pd\n",
    "segments = pd.DataFrame(checks, columns = ['run', 'pid', 'start', 'end', 'segment'])"
   ]
  },
  {
   "cell_type": "code",
   "execution_count": 367,
   "id": "095d0f8b",
   "metadata": {},
   "outputs": [],
   "source": [
    "segments['seq'] = segments.segment.map({'preamble': 0, 'instruction': 1, 'input': 2, 'question': 3, 'postilla': 4, 'generated': 5})"
   ]
  },
  {
   "cell_type": "code",
   "execution_count": 368,
   "id": "89ec9373",
   "metadata": {},
   "outputs": [
    {
     "data": {
      "text/html": [
       "<div>\n",
       "<style scoped>\n",
       "    .dataframe tbody tr th:only-of-type {\n",
       "        vertical-align: middle;\n",
       "    }\n",
       "\n",
       "    .dataframe tbody tr th {\n",
       "        vertical-align: top;\n",
       "    }\n",
       "\n",
       "    .dataframe thead th {\n",
       "        text-align: right;\n",
       "    }\n",
       "</style>\n",
       "<table border=\"1\" class=\"dataframe\">\n",
       "  <thead>\n",
       "    <tr style=\"text-align: right;\">\n",
       "      <th></th>\n",
       "      <th>run</th>\n",
       "      <th>pid</th>\n",
       "      <th>start</th>\n",
       "      <th>end</th>\n",
       "      <th>segment</th>\n",
       "      <th>seq</th>\n",
       "    </tr>\n",
       "  </thead>\n",
       "  <tbody>\n",
       "    <tr>\n",
       "      <th>0</th>\n",
       "      <td>0</td>\n",
       "      <td>0</td>\n",
       "      <td>0</td>\n",
       "      <td>40</td>\n",
       "      <td>preamble</td>\n",
       "      <td>0</td>\n",
       "    </tr>\n",
       "    <tr>\n",
       "      <th>1</th>\n",
       "      <td>0</td>\n",
       "      <td>0</td>\n",
       "      <td>41</td>\n",
       "      <td>135</td>\n",
       "      <td>instruction</td>\n",
       "      <td>1</td>\n",
       "    </tr>\n",
       "    <tr>\n",
       "      <th>2</th>\n",
       "      <td>0</td>\n",
       "      <td>0</td>\n",
       "      <td>136</td>\n",
       "      <td>644</td>\n",
       "      <td>input</td>\n",
       "      <td>2</td>\n",
       "    </tr>\n",
       "    <tr>\n",
       "      <th>3</th>\n",
       "      <td>0</td>\n",
       "      <td>0</td>\n",
       "      <td>645</td>\n",
       "      <td>1980</td>\n",
       "      <td>question</td>\n",
       "      <td>3</td>\n",
       "    </tr>\n",
       "    <tr>\n",
       "      <th>4</th>\n",
       "      <td>0</td>\n",
       "      <td>0</td>\n",
       "      <td>1981</td>\n",
       "      <td>2045</td>\n",
       "      <td>postilla</td>\n",
       "      <td>4</td>\n",
       "    </tr>\n",
       "    <tr>\n",
       "      <th>...</th>\n",
       "      <td>...</td>\n",
       "      <td>...</td>\n",
       "      <td>...</td>\n",
       "      <td>...</td>\n",
       "      <td>...</td>\n",
       "      <td>...</td>\n",
       "    </tr>\n",
       "    <tr>\n",
       "      <th>5995</th>\n",
       "      <td>9</td>\n",
       "      <td>99</td>\n",
       "      <td>41</td>\n",
       "      <td>135</td>\n",
       "      <td>instruction</td>\n",
       "      <td>1</td>\n",
       "    </tr>\n",
       "    <tr>\n",
       "      <th>5996</th>\n",
       "      <td>9</td>\n",
       "      <td>99</td>\n",
       "      <td>136</td>\n",
       "      <td>1397</td>\n",
       "      <td>input</td>\n",
       "      <td>2</td>\n",
       "    </tr>\n",
       "    <tr>\n",
       "      <th>5997</th>\n",
       "      <td>9</td>\n",
       "      <td>99</td>\n",
       "      <td>1398</td>\n",
       "      <td>3174</td>\n",
       "      <td>question</td>\n",
       "      <td>3</td>\n",
       "    </tr>\n",
       "    <tr>\n",
       "      <th>5998</th>\n",
       "      <td>9</td>\n",
       "      <td>99</td>\n",
       "      <td>3175</td>\n",
       "      <td>3239</td>\n",
       "      <td>postilla</td>\n",
       "      <td>4</td>\n",
       "    </tr>\n",
       "    <tr>\n",
       "      <th>5999</th>\n",
       "      <td>9</td>\n",
       "      <td>99</td>\n",
       "      <td>3240</td>\n",
       "      <td>3270</td>\n",
       "      <td>generated</td>\n",
       "      <td>5</td>\n",
       "    </tr>\n",
       "  </tbody>\n",
       "</table>\n",
       "<p>6000 rows × 6 columns</p>\n",
       "</div>"
      ],
      "text/plain": [
       "      run  pid  start   end      segment  seq\n",
       "0       0    0      0    40     preamble    0\n",
       "1       0    0     41   135  instruction    1\n",
       "2       0    0    136   644        input    2\n",
       "3       0    0    645  1980     question    3\n",
       "4       0    0   1981  2045     postilla    4\n",
       "...   ...  ...    ...   ...          ...  ...\n",
       "5995    9   99     41   135  instruction    1\n",
       "5996    9   99    136  1397        input    2\n",
       "5997    9   99   1398  3174     question    3\n",
       "5998    9   99   3175  3239     postilla    4\n",
       "5999    9   99   3240  3270    generated    5\n",
       "\n",
       "[6000 rows x 6 columns]"
      ]
     },
     "execution_count": 368,
     "metadata": {},
     "output_type": "execute_result"
    }
   ],
   "source": [
    "segments"
   ]
  },
  {
   "cell_type": "markdown",
   "id": "d40f8291",
   "metadata": {},
   "source": [
    "### collect observables"
   ]
  },
  {
   "cell_type": "code",
   "execution_count": 369,
   "id": "767cb537",
   "metadata": {},
   "outputs": [],
   "source": [
    "shapes_pre = []\n",
    "\n",
    "# for each prompt\n",
    "for i, p in enumerate(outlist):\n",
    "    # for each token\n",
    "    run = p['run']\n",
    "    pid = p['pid']\n",
    "    for j, pp in enumerate(p['pre_output_proba_topn']):\n",
    "        shapes_pre.append((run,pid,j,'prompt',\n",
    "                           len(pp['top_n_indices']),\n",
    "                           p['pre_output_true_entropies'][j],\n",
    "                           max(pp['top_n_probs'])))\n",
    "        \n",
    "    for jj, pp in enumerate(p['post_output_proba_topn']):\n",
    "        shapes_pre.append((run,pid,j+jj+1,'generated',\n",
    "                           len(pp['top_n_indices']),\n",
    "                           p['pre_output_true_entropies'][jj],\n",
    "                           max(pp['top_n_probs'])))"
   ]
  },
  {
   "cell_type": "code",
   "execution_count": 370,
   "id": "ca5d006b",
   "metadata": {},
   "outputs": [],
   "source": [
    "import pandas as pd\n",
    "import numpy as np\n",
    "d = pd.DataFrame(shapes_pre, columns=['run', 'pid', 'tok', 'area', 'shape', 'true_ent', 'maxp'])"
   ]
  },
  {
   "cell_type": "code",
   "execution_count": 371,
   "id": "87b50ed9",
   "metadata": {},
   "outputs": [
    {
     "data": {
      "text/plain": [
       "True"
      ]
     },
     "execution_count": 371,
     "metadata": {},
     "output_type": "execute_result"
    }
   ],
   "source": [
    "# are the max index equal in observables and segments (must be True)\n",
    "d.groupby(['run','pid']).tok.max().sort_values().reset_index(drop=True).equals(segments.groupby(['run','pid']).end.max().sort_values().reset_index(drop=True))"
   ]
  },
  {
   "cell_type": "code",
   "execution_count": 372,
   "id": "fa8240d6",
   "metadata": {},
   "outputs": [
    {
     "name": "stdout",
     "output_type": "stream",
     "text": [
      "CPU times: user 1.47 s, sys: 474 ms, total: 1.94 s\n",
      "Wall time: 1.95 s\n"
     ]
    }
   ],
   "source": [
    "%%time\n",
    "\n",
    "# attach prompt section\n",
    "m = d.merge(segments, on=['run','pid'], how='left')\n",
    "m = m[(m.start <= m.tok) & (m.tok <= m.end)]"
   ]
  },
  {
   "cell_type": "code",
   "execution_count": 373,
   "id": "d8da0351",
   "metadata": {},
   "outputs": [
    {
     "data": {
      "text/html": [
       "<div>\n",
       "<style scoped>\n",
       "    .dataframe tbody tr th:only-of-type {\n",
       "        vertical-align: middle;\n",
       "    }\n",
       "\n",
       "    .dataframe tbody tr th {\n",
       "        vertical-align: top;\n",
       "    }\n",
       "\n",
       "    .dataframe thead th {\n",
       "        text-align: right;\n",
       "    }\n",
       "</style>\n",
       "<table border=\"1\" class=\"dataframe\">\n",
       "  <thead>\n",
       "    <tr style=\"text-align: right;\">\n",
       "      <th></th>\n",
       "      <th>run</th>\n",
       "      <th>pid</th>\n",
       "      <th>tok</th>\n",
       "      <th>area</th>\n",
       "      <th>shape</th>\n",
       "      <th>true_ent</th>\n",
       "      <th>maxp</th>\n",
       "      <th>start</th>\n",
       "      <th>end</th>\n",
       "      <th>segment</th>\n",
       "      <th>seq</th>\n",
       "    </tr>\n",
       "  </thead>\n",
       "  <tbody>\n",
       "    <tr>\n",
       "      <th>0</th>\n",
       "      <td>0</td>\n",
       "      <td>0</td>\n",
       "      <td>0</td>\n",
       "      <td>prompt</td>\n",
       "      <td>19127</td>\n",
       "      <td>9.342692</td>\n",
       "      <td>0.011505</td>\n",
       "      <td>0</td>\n",
       "      <td>40</td>\n",
       "      <td>preamble</td>\n",
       "      <td>0</td>\n",
       "    </tr>\n",
       "    <tr>\n",
       "      <th>6</th>\n",
       "      <td>0</td>\n",
       "      <td>0</td>\n",
       "      <td>1</td>\n",
       "      <td>prompt</td>\n",
       "      <td>4954</td>\n",
       "      <td>6.863560</td>\n",
       "      <td>0.110962</td>\n",
       "      <td>0</td>\n",
       "      <td>40</td>\n",
       "      <td>preamble</td>\n",
       "      <td>0</td>\n",
       "    </tr>\n",
       "    <tr>\n",
       "      <th>12</th>\n",
       "      <td>0</td>\n",
       "      <td>0</td>\n",
       "      <td>2</td>\n",
       "      <td>prompt</td>\n",
       "      <td>9</td>\n",
       "      <td>1.748911</td>\n",
       "      <td>0.684082</td>\n",
       "      <td>0</td>\n",
       "      <td>40</td>\n",
       "      <td>preamble</td>\n",
       "      <td>0</td>\n",
       "    </tr>\n",
       "    <tr>\n",
       "      <th>18</th>\n",
       "      <td>0</td>\n",
       "      <td>0</td>\n",
       "      <td>3</td>\n",
       "      <td>prompt</td>\n",
       "      <td>178</td>\n",
       "      <td>4.617726</td>\n",
       "      <td>0.093811</td>\n",
       "      <td>0</td>\n",
       "      <td>40</td>\n",
       "      <td>preamble</td>\n",
       "      <td>0</td>\n",
       "    </tr>\n",
       "    <tr>\n",
       "      <th>24</th>\n",
       "      <td>0</td>\n",
       "      <td>0</td>\n",
       "      <td>4</td>\n",
       "      <td>prompt</td>\n",
       "      <td>5</td>\n",
       "      <td>1.100033</td>\n",
       "      <td>0.811523</td>\n",
       "      <td>0</td>\n",
       "      <td>40</td>\n",
       "      <td>preamble</td>\n",
       "      <td>0</td>\n",
       "    </tr>\n",
       "    <tr>\n",
       "      <th>...</th>\n",
       "      <td>...</td>\n",
       "      <td>...</td>\n",
       "      <td>...</td>\n",
       "      <td>...</td>\n",
       "      <td>...</td>\n",
       "      <td>...</td>\n",
       "      <td>...</td>\n",
       "      <td>...</td>\n",
       "      <td>...</td>\n",
       "      <td>...</td>\n",
       "      <td>...</td>\n",
       "    </tr>\n",
       "    <tr>\n",
       "      <th>23143721</th>\n",
       "      <td>9</td>\n",
       "      <td>99</td>\n",
       "      <td>3266</td>\n",
       "      <td>generated</td>\n",
       "      <td>1</td>\n",
       "      <td>0.007299</td>\n",
       "      <td>1.000000</td>\n",
       "      <td>3240</td>\n",
       "      <td>3270</td>\n",
       "      <td>generated</td>\n",
       "      <td>5</td>\n",
       "    </tr>\n",
       "    <tr>\n",
       "      <th>23143727</th>\n",
       "      <td>9</td>\n",
       "      <td>99</td>\n",
       "      <td>3267</td>\n",
       "      <td>generated</td>\n",
       "      <td>1</td>\n",
       "      <td>1.784877</td>\n",
       "      <td>1.000000</td>\n",
       "      <td>3240</td>\n",
       "      <td>3270</td>\n",
       "      <td>generated</td>\n",
       "      <td>5</td>\n",
       "    </tr>\n",
       "    <tr>\n",
       "      <th>23143733</th>\n",
       "      <td>9</td>\n",
       "      <td>99</td>\n",
       "      <td>3268</td>\n",
       "      <td>generated</td>\n",
       "      <td>1</td>\n",
       "      <td>3.481779</td>\n",
       "      <td>1.000000</td>\n",
       "      <td>3240</td>\n",
       "      <td>3270</td>\n",
       "      <td>generated</td>\n",
       "      <td>5</td>\n",
       "    </tr>\n",
       "    <tr>\n",
       "      <th>23143739</th>\n",
       "      <td>9</td>\n",
       "      <td>99</td>\n",
       "      <td>3269</td>\n",
       "      <td>generated</td>\n",
       "      <td>1</td>\n",
       "      <td>2.092228</td>\n",
       "      <td>1.000000</td>\n",
       "      <td>3240</td>\n",
       "      <td>3270</td>\n",
       "      <td>generated</td>\n",
       "      <td>5</td>\n",
       "    </tr>\n",
       "    <tr>\n",
       "      <th>23143745</th>\n",
       "      <td>9</td>\n",
       "      <td>99</td>\n",
       "      <td>3270</td>\n",
       "      <td>generated</td>\n",
       "      <td>1</td>\n",
       "      <td>8.877462</td>\n",
       "      <td>1.000000</td>\n",
       "      <td>3240</td>\n",
       "      <td>3270</td>\n",
       "      <td>generated</td>\n",
       "      <td>5</td>\n",
       "    </tr>\n",
       "  </tbody>\n",
       "</table>\n",
       "<p>3857291 rows × 11 columns</p>\n",
       "</div>"
      ],
      "text/plain": [
       "          run  pid   tok       area  shape  true_ent      maxp  start   end  \\\n",
       "0           0    0     0     prompt  19127  9.342692  0.011505      0    40   \n",
       "6           0    0     1     prompt   4954  6.863560  0.110962      0    40   \n",
       "12          0    0     2     prompt      9  1.748911  0.684082      0    40   \n",
       "18          0    0     3     prompt    178  4.617726  0.093811      0    40   \n",
       "24          0    0     4     prompt      5  1.100033  0.811523      0    40   \n",
       "...       ...  ...   ...        ...    ...       ...       ...    ...   ...   \n",
       "23143721    9   99  3266  generated      1  0.007299  1.000000   3240  3270   \n",
       "23143727    9   99  3267  generated      1  1.784877  1.000000   3240  3270   \n",
       "23143733    9   99  3268  generated      1  3.481779  1.000000   3240  3270   \n",
       "23143739    9   99  3269  generated      1  2.092228  1.000000   3240  3270   \n",
       "23143745    9   99  3270  generated      1  8.877462  1.000000   3240  3270   \n",
       "\n",
       "            segment  seq  \n",
       "0          preamble    0  \n",
       "6          preamble    0  \n",
       "12         preamble    0  \n",
       "18         preamble    0  \n",
       "24         preamble    0  \n",
       "...             ...  ...  \n",
       "23143721  generated    5  \n",
       "23143727  generated    5  \n",
       "23143733  generated    5  \n",
       "23143739  generated    5  \n",
       "23143745  generated    5  \n",
       "\n",
       "[3857291 rows x 11 columns]"
      ]
     },
     "execution_count": 373,
     "metadata": {},
     "output_type": "execute_result"
    }
   ],
   "source": [
    "m"
   ]
  },
  {
   "cell_type": "code",
   "execution_count": 374,
   "id": "ecb99d28",
   "metadata": {},
   "outputs": [
    {
     "data": {
      "text/plain": [
       "True"
      ]
     },
     "execution_count": 374,
     "metadata": {},
     "output_type": "execute_result"
    }
   ],
   "source": [
    "# did we merge all the tokens to their segments (must be True)\n",
    "d[['run', 'pid', 'tok']].sort_values(['run', 'pid', 'tok']).reset_index(drop=True).equals(m[['run', 'pid', 'tok']].sort_values(['run', 'pid', 'tok']).reset_index(drop=True))"
   ]
  },
  {
   "cell_type": "code",
   "execution_count": 376,
   "id": "085d1db3",
   "metadata": {},
   "outputs": [
    {
     "data": {
      "text/plain": [
       "True"
      ]
     },
     "execution_count": 376,
     "metadata": {},
     "output_type": "execute_result"
    }
   ],
   "source": [
    "# check that all the six sections are present in each prompt (must be True)\n",
    "m.drop_duplicates(['pid', 'segment']).shape[0] == m.pid.nunique() * 6"
   ]
  },
  {
   "cell_type": "markdown",
   "id": "c8e012a7",
   "metadata": {},
   "source": [
    "### token position normalization"
   ]
  },
  {
   "cell_type": "code",
   "execution_count": 377,
   "id": "c9d992d2",
   "metadata": {},
   "outputs": [],
   "source": [
    "segments['length'] = segments.end - segments.start"
   ]
  },
  {
   "cell_type": "code",
   "execution_count": 378,
   "id": "526a0df6",
   "metadata": {},
   "outputs": [
    {
     "data": {
      "text/html": [
       "<div>\n",
       "<style scoped>\n",
       "    .dataframe tbody tr th:only-of-type {\n",
       "        vertical-align: middle;\n",
       "    }\n",
       "\n",
       "    .dataframe tbody tr th {\n",
       "        vertical-align: top;\n",
       "    }\n",
       "\n",
       "    .dataframe thead th {\n",
       "        text-align: right;\n",
       "    }\n",
       "</style>\n",
       "<table border=\"1\" class=\"dataframe\">\n",
       "  <thead>\n",
       "    <tr style=\"text-align: right;\">\n",
       "      <th></th>\n",
       "      <th>segment</th>\n",
       "      <th>seq</th>\n",
       "      <th>avg_length</th>\n",
       "      <th>std_length</th>\n",
       "      <th>min_length</th>\n",
       "      <th>max_length</th>\n",
       "      <th>avg_length_rel</th>\n",
       "      <th>avg_cumlen</th>\n",
       "    </tr>\n",
       "  </thead>\n",
       "  <tbody>\n",
       "    <tr>\n",
       "      <th>4</th>\n",
       "      <td>preamble</td>\n",
       "      <td>0</td>\n",
       "      <td>40.000</td>\n",
       "      <td>0.000000</td>\n",
       "      <td>40</td>\n",
       "      <td>40</td>\n",
       "      <td>0.010386</td>\n",
       "      <td>0.010386</td>\n",
       "    </tr>\n",
       "    <tr>\n",
       "      <th>2</th>\n",
       "      <td>instruction</td>\n",
       "      <td>1</td>\n",
       "      <td>94.000</td>\n",
       "      <td>0.000000</td>\n",
       "      <td>94</td>\n",
       "      <td>94</td>\n",
       "      <td>0.024407</td>\n",
       "      <td>0.034794</td>\n",
       "    </tr>\n",
       "    <tr>\n",
       "      <th>1</th>\n",
       "      <td>input</td>\n",
       "      <td>2</td>\n",
       "      <td>2322.480</td>\n",
       "      <td>2017.818287</td>\n",
       "      <td>192</td>\n",
       "      <td>6587</td>\n",
       "      <td>0.603039</td>\n",
       "      <td>0.637833</td>\n",
       "    </tr>\n",
       "    <tr>\n",
       "      <th>5</th>\n",
       "      <td>question</td>\n",
       "      <td>3</td>\n",
       "      <td>1306.130</td>\n",
       "      <td>365.860694</td>\n",
       "      <td>119</td>\n",
       "      <td>3814</td>\n",
       "      <td>0.339141</td>\n",
       "      <td>0.976974</td>\n",
       "    </tr>\n",
       "    <tr>\n",
       "      <th>3</th>\n",
       "      <td>postilla</td>\n",
       "      <td>4</td>\n",
       "      <td>64.000</td>\n",
       "      <td>0.000000</td>\n",
       "      <td>64</td>\n",
       "      <td>64</td>\n",
       "      <td>0.016618</td>\n",
       "      <td>0.993591</td>\n",
       "    </tr>\n",
       "    <tr>\n",
       "      <th>0</th>\n",
       "      <td>generated</td>\n",
       "      <td>5</td>\n",
       "      <td>24.681</td>\n",
       "      <td>5.805768</td>\n",
       "      <td>15</td>\n",
       "      <td>44</td>\n",
       "      <td>0.006409</td>\n",
       "      <td>1.000000</td>\n",
       "    </tr>\n",
       "  </tbody>\n",
       "</table>\n",
       "</div>"
      ],
      "text/plain": [
       "       segment  seq  avg_length   std_length  min_length  max_length  \\\n",
       "4     preamble    0      40.000     0.000000          40          40   \n",
       "2  instruction    1      94.000     0.000000          94          94   \n",
       "1        input    2    2322.480  2017.818287         192        6587   \n",
       "5     question    3    1306.130   365.860694         119        3814   \n",
       "3     postilla    4      64.000     0.000000          64          64   \n",
       "0    generated    5      24.681     5.805768          15          44   \n",
       "\n",
       "   avg_length_rel  avg_cumlen  \n",
       "4        0.010386    0.010386  \n",
       "2        0.024407    0.034794  \n",
       "1        0.603039    0.637833  \n",
       "5        0.339141    0.976974  \n",
       "3        0.016618    0.993591  \n",
       "0        0.006409    1.000000  "
      ]
     },
     "execution_count": 378,
     "metadata": {},
     "output_type": "execute_result"
    }
   ],
   "source": [
    "avg_seq_widths = segments.groupby(['segment', 'seq']).length.agg(['mean', 'std', 'min', 'max']).reset_index().sort_values('seq')\n",
    "avg_seq_widths = avg_seq_widths.rename(columns = {'mean': 'avg_length', \n",
    "                                                  'std': 'std_length', \n",
    "                                                  'min': 'min_length',\n",
    "                                                  'max': 'max_length'})\n",
    "avg_seq_widths['avg_length_rel'] = avg_seq_widths['avg_length'] / avg_seq_widths['avg_length'].sum()\n",
    "avg_seq_widths['avg_cumlen'] = avg_seq_widths['avg_length_rel'].cumsum() \n",
    "avg_seq_widths"
   ]
  },
  {
   "cell_type": "code",
   "execution_count": 379,
   "id": "74272c95",
   "metadata": {},
   "outputs": [
    {
     "data": {
      "text/plain": [
       "<Axes: xlabel='length', ylabel='Count'>"
      ]
     },
     "execution_count": 379,
     "metadata": {},
     "output_type": "execute_result"
    },
    {
     "data": {
      "image/png": "[encoded data removed]",
      "text/plain": [
       "<Figure size 640x480 with 1 Axes>"
      ]
     },
     "metadata": {},
     "output_type": "display_data"
    }
   ],
   "source": [
    "sns.histplot(segments[segments.segment=='input'], x='length', hue='segment', multiple='dodge', binwidth=100)"
   ]
  },
  {
   "cell_type": "code",
   "execution_count": 380,
   "id": "c33f8015",
   "metadata": {},
   "outputs": [],
   "source": [
    "# normalized per section, offset by section sequence number\n",
    "m['tok_rel_segm'] = m.tok / m.end\n",
    "\n",
    "\n",
    "# normalized per section, each section same width\n",
    "m['tok_rel_segm_abs'] = m.seq + ((m.tok - m.start) / (m.end - m.start))\n",
    "\n",
    "\n",
    "# old\n",
    "# d['tok_rel'] = d.groupby('pid').tok.transform(lambda x: x / x.max())"
   ]
  },
  {
   "cell_type": "code",
   "execution_count": 381,
   "id": "fa3167c7",
   "metadata": {},
   "outputs": [],
   "source": [
    "# Define background regions [(start, end, color, label)] based on the cumulative sections spans (for the first viz above)\n",
    "\n",
    "from palettable.cartocolors.qualitative import Prism_10, Bold_10\n",
    "palette = Prism_10.mpl_colors \n",
    "\n",
    "myl = avg_seq_widths.avg_cumlen.to_list()\n",
    "sections = ['preamble', 'instruction', 'input', 'question', 'postilla', 'generated']\n",
    "\n",
    "\n",
    "first = (0., myl[0], palette[0], sections[0])\n",
    "background_regions = [first]\n",
    "\n",
    "for z1, z2, l, i in zip(myl, myl[1:], sections[1:], range(len(myl))):\n",
    "    background_regions.append((z1,z2, palette[i+1], l))"
   ]
  },
  {
   "cell_type": "markdown",
   "id": "b8e07ef5",
   "metadata": {},
   "source": [
    "### check variances"
   ]
  },
  {
   "cell_type": "code",
   "execution_count": 382,
   "id": "aa2a54c5",
   "metadata": {},
   "outputs": [
    {
     "data": {
      "text/plain": [
       "0.0"
      ]
     },
     "execution_count": 382,
     "metadata": {},
     "output_type": "execute_result"
    }
   ],
   "source": [
    "m[m.segment=='preamble'].drop_duplicates('pid', keep='first')['true_ent'].var()"
   ]
  },
  {
   "cell_type": "code",
   "execution_count": 383,
   "id": "9d5da9ca",
   "metadata": {},
   "outputs": [
    {
     "data": {
      "text/plain": [
       "0.0"
      ]
     },
     "execution_count": 383,
     "metadata": {},
     "output_type": "execute_result"
    }
   ],
   "source": [
    "m[m.segment=='preamble'].drop_duplicates('pid', keep='last')['true_ent'].var()"
   ]
  },
  {
   "cell_type": "code",
   "execution_count": 384,
   "id": "82b620a8",
   "metadata": {},
   "outputs": [
    {
     "data": {
      "text/plain": [
       "0.0"
      ]
     },
     "execution_count": 384,
     "metadata": {},
     "output_type": "execute_result"
    }
   ],
   "source": [
    "m[m.segment=='instruction'].drop_duplicates('pid', keep='first')['true_ent'].var()"
   ]
  },
  {
   "cell_type": "code",
   "execution_count": 385,
   "id": "dcfc0ca6",
   "metadata": {},
   "outputs": [
    {
     "data": {
      "text/plain": [
       "0.0"
      ]
     },
     "execution_count": 385,
     "metadata": {},
     "output_type": "execute_result"
    }
   ],
   "source": [
    "m[m.segment=='instruction'].drop_duplicates('pid', keep='last')['true_ent'].var()"
   ]
  },
  {
   "cell_type": "code",
   "execution_count": 386,
   "id": "c23c1335",
   "metadata": {},
   "outputs": [
    {
     "data": {
      "text/plain": [
       "0.28056654"
      ]
     },
     "execution_count": 386,
     "metadata": {},
     "output_type": "execute_result"
    }
   ],
   "source": [
    "m[m.segment=='question'].drop_duplicates('pid', keep='first')['true_ent'].var()"
   ]
  },
  {
   "cell_type": "code",
   "execution_count": 387,
   "id": "7c70e88a",
   "metadata": {},
   "outputs": [
    {
     "data": {
      "text/plain": [
       "0.057353463"
      ]
     },
     "execution_count": 387,
     "metadata": {},
     "output_type": "execute_result"
    }
   ],
   "source": [
    "m[m.segment=='question'].drop_duplicates('pid', keep='last')['true_ent'].var()"
   ]
  },
  {
   "cell_type": "code",
   "execution_count": 388,
   "id": "1fc2294c",
   "metadata": {},
   "outputs": [],
   "source": [
    "mm = m.copy()"
   ]
  },
  {
   "cell_type": "markdown",
   "id": "3f1ff329",
   "metadata": {},
   "source": [
    "### single run plots"
   ]
  },
  {
   "cell_type": "code",
   "execution_count": 389,
   "id": "978ca6d5",
   "metadata": {},
   "outputs": [],
   "source": [
    "m = mm[mm.run==0].copy()"
   ]
  },
  {
   "cell_type": "code",
   "execution_count": 390,
   "id": "7240b54a",
   "metadata": {},
   "outputs": [],
   "source": [
    "# binning\n",
    "NUM_BINS = 100"
   ]
  },
  {
   "cell_type": "code",
   "execution_count": 391,
   "id": "aed30094",
   "metadata": {},
   "outputs": [
    {
     "name": "stdout",
     "output_type": "stream",
     "text": [
      "99\n"
     ]
    },
    {
     "data": {
      "image/png": "[encoded data removed]",
      "text/plain": [
       "<Figure size 1400x600 with 1 Axes>"
      ]
     },
     "metadata": {},
     "output_type": "display_data"
    }
   ],
   "source": [
    "import matplotlib.pyplot as plt\n",
    "import seaborn as sns\n",
    "import pandas as pd\n",
    "from matplotlib.ticker import MaxNLocator\n",
    "import matplotlib.patches as mpatches\n",
    "\n",
    "plt.figure(figsize=(14, 6))\n",
    "ax = plt.gca()  # Get current axis\n",
    "\n",
    "m['tok_bin'] = pd.cut(m['tok_rel_segm'], bins=NUM_BINS)\n",
    "m['tok_bin_hi'] = m['tok_bin'].apply(lambda x: x.right).astype(float)\n",
    "m['tok_bin_lo'] = m['tok_bin'].apply(lambda x: x.left).astype(float)\n",
    "\n",
    "unique_bins = np.sort(m['tok_bin_hi'].unique())  \n",
    "bin_mapping = {bin_val: i for i, bin_val in enumerate(unique_bins)}\n",
    "bks = list(bin_mapping.keys())\n",
    "\n",
    "print(len(bks))\n",
    "\n",
    "patches = []\n",
    "for start, end, color, label in background_regions:\n",
    "    start_bin = [ n for n,i in enumerate(bin_mapping.keys()) if i > start ][0]\n",
    "    end_bin = [ n for n,i in enumerate(bin_mapping.keys()) if i > end ]\n",
    "    if not end_bin: end_bin = len(bin_mapping) - 1 \n",
    "    else: end_bin = end_bin[0] - 1\n",
    "    ax.axvspan(bin_mapping[bks[start_bin]]-0.5, bin_mapping[bks[end_bin]]+0.5, color=color, alpha=0.3)\n",
    "    patches.append(mpatches.Patch(color=color, alpha=0.3, label=label)) \n",
    "\n",
    "df = m.sort_values(by=['pid', 'tok_bin_hi'])\n",
    "df['tok_bin_idx'] = df['tok_bin_hi'].map(bin_mapping)\n",
    "\n",
    "sns.boxplot(\n",
    "    data=df, \n",
    "    x=\"tok_bin_hi\", \n",
    "    y=\"true_ent\", \n",
    "    showcaps=True,        \n",
    "    showfliers=False,\n",
    "    whis=[10, 90],\n",
    "    boxprops={'facecolor': 'none'},\n",
    "    medianprops={'color': 'red', 'linewidth': 2},\n",
    "    ax = ax\n",
    ")\n",
    "\n",
    "plt.yscale(\"log\")\n",
    "\n",
    "plt.xticks(rotation=45)\n",
    "\n",
    "plt.xlabel(\"Position (normalized)\")\n",
    "plt.ylabel(\"H\")\n",
    "plt.title(\"Entropy\")\n",
    "\n",
    "ax.legend(handles=patches, title=\"Segments\", loc=\"lower right\")\n",
    "\n",
    "plt.tight_layout()\n",
    "\n",
    "plt.show()"
   ]
  },
  {
   "cell_type": "code",
   "execution_count": 392,
   "id": "9aefcebd",
   "metadata": {},
   "outputs": [
    {
     "data": {
      "image/png": "[encoded data removed]",
      "text/plain": [
       "<Figure size 1400x600 with 1 Axes>"
      ]
     },
     "metadata": {},
     "output_type": "display_data"
    }
   ],
   "source": [
    "import matplotlib.pyplot as plt\n",
    "import seaborn as sns\n",
    "import pandas as pd\n",
    "from matplotlib.ticker import MaxNLocator\n",
    "import matplotlib.patches as mpatches\n",
    "\n",
    "plt.figure(figsize=(14, 6))\n",
    "ax = plt.gca()  # Get current axis\n",
    "\n",
    "m['tok_bin'] = pd.cut(m['tok_rel_segm_abs'], bins=NUM_BINS)\n",
    "m['tok_bin_hi'] = m['tok_bin'].apply(lambda x: x.right).astype(float)\n",
    "m['tok_bin_lo'] = m['tok_bin'].apply(lambda x: x.left).astype(float)\n",
    "\n",
    "\n",
    "patches = []\n",
    "c = -0.5\n",
    "delta = int(len(bks)/6)+1\n",
    "for start, end, color, label in background_regions:\n",
    "    ax.axvspan(c, c+delta, color=color, alpha=0.3)\n",
    "    patches.append(mpatches.Patch(color=color, alpha=0.3, label=label)) \n",
    "    c += delta\n",
    "\n",
    "df = m.sort_values(by=['pid', 'tok_bin_hi'])\n",
    "df['tok_bin_idx'] = df['tok_bin_hi'].map(bin_mapping)\n",
    "\n",
    "sns.boxplot(\n",
    "    data=df, \n",
    "    x=\"tok_bin_hi\", \n",
    "    y=\"true_ent\", \n",
    "    showcaps=True,        \n",
    "    showfliers=False,\n",
    "    whis=[10, 90],\n",
    "    boxprops={'facecolor': 'none'},\n",
    "    medianprops={'color': 'red', 'linewidth': 2},\n",
    "    ax = ax\n",
    ")\n",
    "\n",
    "plt.yscale(\"log\")\n",
    "\n",
    "plt.xticks(rotation=45)\n",
    "\n",
    "plt.xlabel(\"Position (normalized)\")\n",
    "plt.ylabel(\"H\")\n",
    "plt.title(\"Entropy\")\n",
    "\n",
    "ax.legend(handles=patches, title=\"Segments\", loc=\"lower right\")\n",
    "\n",
    "plt.tight_layout()\n",
    "\n",
    "plt.show()"
   ]
  },
  {
   "cell_type": "code",
   "execution_count": 393,
   "id": "9042add0",
   "metadata": {},
   "outputs": [
    {
     "data": {
      "image/png": "[encoded data removed]",
      "text/plain": [
       "<Figure size 1400x600 with 1 Axes>"
      ]
     },
     "metadata": {},
     "output_type": "display_data"
    }
   ],
   "source": [
    "import matplotlib.pyplot as plt\n",
    "import seaborn as sns\n",
    "import pandas as pd\n",
    "from matplotlib.ticker import MaxNLocator\n",
    "import matplotlib.patches as mpatches\n",
    "\n",
    "plt.figure(figsize=(14, 6))\n",
    "ax = plt.gca()  # Get current axis\n",
    "\n",
    "m_ = m[m.tok<200]\n",
    "\n",
    "background_regions_ = [\n",
    "    (0.0, 40.0, palette[0], 'preamble'),\n",
    "    (41.0, 135.0, palette[1], 'instruction'),\n",
    "    (136.0, 1000.0, palette[2], 'input'),\n",
    "    #    (3.0, 4.0, palette[3], 'question'),\n",
    "    #    (4.0, 5.0, palette[4], 'postilla'),\n",
    "    #    (5.0, 6.0, palette[5], 'generated')\n",
    "    ]\n",
    "\n",
    "patches = []\n",
    "for start, end, color, label in background_regions_:\n",
    "    ax.axvspan(start -0.5, end + 0.5, color=color, alpha=0.3)\n",
    "    patches.append(mpatches.Patch(color=color, alpha=0.3, label=label)) \n",
    "\n",
    "sns.boxplot(\n",
    "    data=m_, \n",
    "    x=\"tok\", \n",
    "    y=\"true_ent\", \n",
    "    showcaps=True,        \n",
    "    showfliers=False,\n",
    "    whis=[10, 90],\n",
    "    boxprops={'facecolor': 'none'},\n",
    "    medianprops={'color': 'red', 'linewidth': 2},\n",
    "    ax = ax\n",
    ")\n",
    "\n",
    "plt.yscale(\"log\")\n",
    "\n",
    "plt.xticks(rotation=45)\n",
    "\n",
    "plt.xlabel(\"Position (normalized)\")\n",
    "plt.ylabel(\"H\")\n",
    "plt.title(\"Entropy\")\n",
    "\n",
    "ax.legend(handles=patches, title=\"Segments\", loc=\"lower right\")\n",
    "\n",
    "plt.tight_layout()\n",
    "\n",
    "plt.show()"
   ]
  },
  {
   "cell_type": "code",
   "execution_count": 394,
   "id": "cf61337e",
   "metadata": {},
   "outputs": [
    {
     "data": {
      "text/plain": [
       "array(['preamble', 'instruction', 'input', 'question', 'postilla',\n",
       "       'generated'], dtype=object)"
      ]
     },
     "execution_count": 394,
     "metadata": {},
     "output_type": "execute_result"
    }
   ],
   "source": [
    "m.segment.unique()"
   ]
  },
  {
   "cell_type": "code",
   "execution_count": 395,
   "id": "cc85d9bd",
   "metadata": {},
   "outputs": [
    {
     "data": {
      "text/plain": [
       "0.0"
      ]
     },
     "execution_count": 395,
     "metadata": {},
     "output_type": "execute_result"
    }
   ],
   "source": [
    "m[m.segment=='preamble'].groupby('pid').size().std()"
   ]
  },
  {
   "cell_type": "code",
   "execution_count": 396,
   "id": "8dae976e",
   "metadata": {},
   "outputs": [
    {
     "data": {
      "text/plain": [
       "0.0"
      ]
     },
     "execution_count": 396,
     "metadata": {},
     "output_type": "execute_result"
    }
   ],
   "source": [
    "m[m.segment=='instruction'].groupby('pid').size().std()"
   ]
  },
  {
   "cell_type": "code",
   "execution_count": 397,
   "id": "66699d0f",
   "metadata": {},
   "outputs": [
    {
     "data": {
      "text/plain": [
       "2026.9694375115923"
      ]
     },
     "execution_count": 397,
     "metadata": {},
     "output_type": "execute_result"
    }
   ],
   "source": [
    "m[m.segment=='input'].groupby('pid').size().std()"
   ]
  },
  {
   "cell_type": "code",
   "execution_count": 398,
   "id": "8a3ac1a3",
   "metadata": {},
   "outputs": [
    {
     "data": {
      "text/plain": [
       "5.9585185"
      ]
     },
     "execution_count": 398,
     "metadata": {},
     "output_type": "execute_result"
    }
   ],
   "source": [
    "m[m.tok_rel_segm_abs<1.].true_ent.var()"
   ]
  },
  {
   "cell_type": "code",
   "execution_count": 399,
   "id": "10938bfd",
   "metadata": {},
   "outputs": [
    {
     "data": {
      "text/plain": [
       "nan"
      ]
     },
     "execution_count": 399,
     "metadata": {},
     "output_type": "execute_result"
    }
   ],
   "source": [
    "df[df.tok_bin_idx==0].true_ent.var()"
   ]
  },
  {
   "cell_type": "code",
   "execution_count": 400,
   "id": "59e6789b",
   "metadata": {},
   "outputs": [
    {
     "name": "stdout",
     "output_type": "stream",
     "text": [
      "99\n"
     ]
    },
    {
     "data": {
      "image/png": "[encoded data removed]",
      "text/plain": [
       "<Figure size 1400x600 with 1 Axes>"
      ]
     },
     "metadata": {},
     "output_type": "display_data"
    }
   ],
   "source": [
    "import matplotlib.pyplot as plt\n",
    "import seaborn as sns\n",
    "import pandas as pd\n",
    "from matplotlib.ticker import MaxNLocator\n",
    "import matplotlib.patches as mpatches\n",
    "\n",
    "plt.figure(figsize=(14, 6))\n",
    "ax = plt.gca()  # Get current axis\n",
    "\n",
    "m['tok_bin'] = pd.cut(m['tok_rel_segm'], bins=NUM_BINS)\n",
    "m['tok_bin_hi'] = m['tok_bin'].apply(lambda x: x.right).astype(float)\n",
    "m['tok_bin_lo'] = m['tok_bin'].apply(lambda x: x.left).astype(float)\n",
    "\n",
    "unique_bins = np.sort(m['tok_bin_hi'].unique())  \n",
    "bin_mapping = {bin_val: i for i, bin_val in enumerate(unique_bins)}\n",
    "bks = list(bin_mapping.keys())\n",
    "\n",
    "print(len(bks))\n",
    "\n",
    "patches = []\n",
    "for start, end, color, label in background_regions:\n",
    "    start_bin = [ n for n,i in enumerate(bin_mapping.keys()) if i > start ][0]\n",
    "    end_bin = [ n for n,i in enumerate(bin_mapping.keys()) if i > end ]\n",
    "    if not end_bin: end_bin = len(bin_mapping) - 1 \n",
    "    else: end_bin = end_bin[0] - 1\n",
    "    ax.axvspan(bin_mapping[bks[start_bin]]-0.5, bin_mapping[bks[end_bin]]+0.5, color=color, alpha=0.3)\n",
    "    patches.append(mpatches.Patch(color=color, alpha=0.3, label=label)) \n",
    "\n",
    "df = m.sort_values(by=['pid', 'tok_bin_hi'])\n",
    "df['tok_bin_idx'] = df['tok_bin_hi'].map(bin_mapping)\n",
    "\n",
    "sns.boxplot(\n",
    "    data=df, \n",
    "    x=\"tok_bin_hi\", \n",
    "    y=\"maxp\", \n",
    "    showcaps=True,        \n",
    "    showfliers=False,\n",
    "    whis=[10, 90],\n",
    "    boxprops={'facecolor': 'none'},\n",
    "    medianprops={'color': 'red', 'linewidth': 2},\n",
    "    ax = ax\n",
    ")\n",
    "\n",
    "plt.yscale(\"log\")\n",
    "\n",
    "plt.xticks(rotation=45)\n",
    "\n",
    "plt.xlabel(\"Position (normalized)\")\n",
    "plt.ylabel(\"P\")\n",
    "plt.title(\"MaxP\")\n",
    "\n",
    "ax.legend(handles=patches, title=\"Segments\", loc=\"lower right\")\n",
    "\n",
    "plt.tight_layout()\n",
    "\n",
    "plt.show()"
   ]
  },
  {
   "cell_type": "code",
   "execution_count": 401,
   "id": "8b8c0039",
   "metadata": {},
   "outputs": [
    {
     "name": "stdout",
     "output_type": "stream",
     "text": [
      "99\n"
     ]
    },
    {
     "data": {
      "image/png": "[encoded data removed]",
      "text/plain": [
       "<Figure size 1400x600 with 1 Axes>"
      ]
     },
     "metadata": {},
     "output_type": "display_data"
    }
   ],
   "source": [
    "import matplotlib.pyplot as plt\n",
    "import seaborn as sns\n",
    "import pandas as pd\n",
    "from matplotlib.ticker import MaxNLocator\n",
    "import matplotlib.patches as mpatches\n",
    "\n",
    "plt.figure(figsize=(14, 6))\n",
    "ax = plt.gca()  # Get current axis\n",
    "\n",
    "m['tok_bin'] = pd.cut(m['tok_rel_segm'], bins=NUM_BINS)\n",
    "m['tok_bin_hi'] = m['tok_bin'].apply(lambda x: x.right).astype(float)\n",
    "m['tok_bin_lo'] = m['tok_bin'].apply(lambda x: x.left).astype(float)\n",
    "\n",
    "unique_bins = np.sort(m['tok_bin_hi'].unique())  \n",
    "bin_mapping = {bin_val: i for i, bin_val in enumerate(unique_bins)}\n",
    "bks = list(bin_mapping.keys())\n",
    "\n",
    "print(len(bks))\n",
    "\n",
    "patches = []\n",
    "for start, end, color, label in background_regions:\n",
    "    start_bin = [ n for n,i in enumerate(bin_mapping.keys()) if i > start ][0]\n",
    "    end_bin = [ n for n,i in enumerate(bin_mapping.keys()) if i > end ]\n",
    "    if not end_bin: end_bin = len(bin_mapping) - 1 \n",
    "    else: end_bin = end_bin[0] - 1\n",
    "    ax.axvspan(bin_mapping[bks[start_bin]]-0.5, bin_mapping[bks[end_bin]]+0.5, color=color, alpha=0.3)\n",
    "    patches.append(mpatches.Patch(color=color, alpha=0.3, label=label)) \n",
    "\n",
    "# Sort for proper order\n",
    "df = m.sort_values(by=['pid', 'tok_bin_hi'])\n",
    "df['tok_bin_idx'] = df['tok_bin_hi'].map(bin_mapping)  # Assign numerical index\n",
    "\n",
    "sns.boxplot(\n",
    "    data=df, \n",
    "    x=\"tok_bin_hi\", \n",
    "    y=\"shape\", \n",
    "    showcaps=True,        \n",
    "    showfliers=False,\n",
    "    whis=[10, 90],\n",
    "    boxprops={'facecolor': 'none'},\n",
    "    medianprops={'color': 'red', 'linewidth': 2},\n",
    "    ax = ax\n",
    ")\n",
    "\n",
    "plt.yscale(\"log\")\n",
    "\n",
    "plt.xticks(rotation=45)\n",
    "\n",
    "plt.xlabel(\"Position (normalized)\")\n",
    "plt.ylabel(\"P\")\n",
    "plt.title(\"Number of tokens in TopP (0.9)\")\n",
    "\n",
    "ax.legend(handles=patches, title=\"Segments\", loc=\"upper right\")\n",
    "\n",
    "plt.tight_layout()\n",
    "\n",
    "plt.show()"
   ]
  },
  {
   "cell_type": "markdown",
   "id": "124a2f22",
   "metadata": {},
   "source": [
    "## multiple runs"
   ]
  },
  {
   "cell_type": "markdown",
   "id": "7004b9a1",
   "metadata": {},
   "source": [
    "### check no variance in forward"
   ]
  },
  {
   "cell_type": "code",
   "execution_count": 403,
   "id": "60d152e1",
   "metadata": {},
   "outputs": [
    {
     "data": {
      "text/plain": [
       "count    3.831610e+06\n",
       "mean     7.413328e-01\n",
       "std      1.171134e+00\n",
       "min      0.000000e+00\n",
       "25%      6.286605e-04\n",
       "50%      9.805856e-02\n",
       "75%      1.074651e+00\n",
       "max      9.495135e+00\n",
       "Name: true_ent, dtype: float64"
      ]
     },
     "execution_count": 403,
     "metadata": {},
     "output_type": "execute_result"
    }
   ],
   "source": [
    "mm[mm.area=='prompt'].true_ent.describe()"
   ]
  },
  {
   "cell_type": "code",
   "execution_count": 404,
   "id": "a1923af3",
   "metadata": {},
   "outputs": [
    {
     "data": {
      "text/html": [
       "<div>\n",
       "<style scoped>\n",
       "    .dataframe tbody tr th:only-of-type {\n",
       "        vertical-align: middle;\n",
       "    }\n",
       "\n",
       "    .dataframe tbody tr th {\n",
       "        vertical-align: top;\n",
       "    }\n",
       "\n",
       "    .dataframe thead th {\n",
       "        text-align: right;\n",
       "    }\n",
       "</style>\n",
       "<table border=\"1\" class=\"dataframe\">\n",
       "  <thead>\n",
       "    <tr style=\"text-align: right;\">\n",
       "      <th></th>\n",
       "      <th>run</th>\n",
       "      <th>pid</th>\n",
       "      <th>tok</th>\n",
       "      <th>area</th>\n",
       "      <th>shape</th>\n",
       "      <th>true_ent</th>\n",
       "      <th>maxp</th>\n",
       "      <th>start</th>\n",
       "      <th>end</th>\n",
       "      <th>segment</th>\n",
       "      <th>seq</th>\n",
       "      <th>tok_rel_segm</th>\n",
       "      <th>tok_rel_segm_abs</th>\n",
       "    </tr>\n",
       "  </thead>\n",
       "  <tbody>\n",
       "    <tr>\n",
       "      <th>0</th>\n",
       "      <td>0</td>\n",
       "      <td>0</td>\n",
       "      <td>0</td>\n",
       "      <td>prompt</td>\n",
       "      <td>19127</td>\n",
       "      <td>9.342692</td>\n",
       "      <td>0.011505</td>\n",
       "      <td>0</td>\n",
       "      <td>40</td>\n",
       "      <td>preamble</td>\n",
       "      <td>0</td>\n",
       "      <td>0.000000</td>\n",
       "      <td>0.000000</td>\n",
       "    </tr>\n",
       "    <tr>\n",
       "      <th>6</th>\n",
       "      <td>0</td>\n",
       "      <td>0</td>\n",
       "      <td>1</td>\n",
       "      <td>prompt</td>\n",
       "      <td>4954</td>\n",
       "      <td>6.863560</td>\n",
       "      <td>0.110962</td>\n",
       "      <td>0</td>\n",
       "      <td>40</td>\n",
       "      <td>preamble</td>\n",
       "      <td>0</td>\n",
       "      <td>0.025000</td>\n",
       "      <td>0.025000</td>\n",
       "    </tr>\n",
       "    <tr>\n",
       "      <th>12</th>\n",
       "      <td>0</td>\n",
       "      <td>0</td>\n",
       "      <td>2</td>\n",
       "      <td>prompt</td>\n",
       "      <td>9</td>\n",
       "      <td>1.748911</td>\n",
       "      <td>0.684082</td>\n",
       "      <td>0</td>\n",
       "      <td>40</td>\n",
       "      <td>preamble</td>\n",
       "      <td>0</td>\n",
       "      <td>0.050000</td>\n",
       "      <td>0.050000</td>\n",
       "    </tr>\n",
       "    <tr>\n",
       "      <th>18</th>\n",
       "      <td>0</td>\n",
       "      <td>0</td>\n",
       "      <td>3</td>\n",
       "      <td>prompt</td>\n",
       "      <td>178</td>\n",
       "      <td>4.617726</td>\n",
       "      <td>0.093811</td>\n",
       "      <td>0</td>\n",
       "      <td>40</td>\n",
       "      <td>preamble</td>\n",
       "      <td>0</td>\n",
       "      <td>0.075000</td>\n",
       "      <td>0.075000</td>\n",
       "    </tr>\n",
       "    <tr>\n",
       "      <th>24</th>\n",
       "      <td>0</td>\n",
       "      <td>0</td>\n",
       "      <td>4</td>\n",
       "      <td>prompt</td>\n",
       "      <td>5</td>\n",
       "      <td>1.100033</td>\n",
       "      <td>0.811523</td>\n",
       "      <td>0</td>\n",
       "      <td>40</td>\n",
       "      <td>preamble</td>\n",
       "      <td>0</td>\n",
       "      <td>0.100000</td>\n",
       "      <td>0.100000</td>\n",
       "    </tr>\n",
       "    <tr>\n",
       "      <th>...</th>\n",
       "      <td>...</td>\n",
       "      <td>...</td>\n",
       "      <td>...</td>\n",
       "      <td>...</td>\n",
       "      <td>...</td>\n",
       "      <td>...</td>\n",
       "      <td>...</td>\n",
       "      <td>...</td>\n",
       "      <td>...</td>\n",
       "      <td>...</td>\n",
       "      <td>...</td>\n",
       "      <td>...</td>\n",
       "      <td>...</td>\n",
       "    </tr>\n",
       "    <tr>\n",
       "      <th>23143721</th>\n",
       "      <td>9</td>\n",
       "      <td>99</td>\n",
       "      <td>3266</td>\n",
       "      <td>generated</td>\n",
       "      <td>1</td>\n",
       "      <td>0.007299</td>\n",
       "      <td>1.000000</td>\n",
       "      <td>3240</td>\n",
       "      <td>3270</td>\n",
       "      <td>generated</td>\n",
       "      <td>5</td>\n",
       "      <td>0.998777</td>\n",
       "      <td>5.866667</td>\n",
       "    </tr>\n",
       "    <tr>\n",
       "      <th>23143727</th>\n",
       "      <td>9</td>\n",
       "      <td>99</td>\n",
       "      <td>3267</td>\n",
       "      <td>generated</td>\n",
       "      <td>1</td>\n",
       "      <td>1.784877</td>\n",
       "      <td>1.000000</td>\n",
       "      <td>3240</td>\n",
       "      <td>3270</td>\n",
       "      <td>generated</td>\n",
       "      <td>5</td>\n",
       "      <td>0.999083</td>\n",
       "      <td>5.900000</td>\n",
       "    </tr>\n",
       "    <tr>\n",
       "      <th>23143733</th>\n",
       "      <td>9</td>\n",
       "      <td>99</td>\n",
       "      <td>3268</td>\n",
       "      <td>generated</td>\n",
       "      <td>1</td>\n",
       "      <td>3.481779</td>\n",
       "      <td>1.000000</td>\n",
       "      <td>3240</td>\n",
       "      <td>3270</td>\n",
       "      <td>generated</td>\n",
       "      <td>5</td>\n",
       "      <td>0.999388</td>\n",
       "      <td>5.933333</td>\n",
       "    </tr>\n",
       "    <tr>\n",
       "      <th>23143739</th>\n",
       "      <td>9</td>\n",
       "      <td>99</td>\n",
       "      <td>3269</td>\n",
       "      <td>generated</td>\n",
       "      <td>1</td>\n",
       "      <td>2.092228</td>\n",
       "      <td>1.000000</td>\n",
       "      <td>3240</td>\n",
       "      <td>3270</td>\n",
       "      <td>generated</td>\n",
       "      <td>5</td>\n",
       "      <td>0.999694</td>\n",
       "      <td>5.966667</td>\n",
       "    </tr>\n",
       "    <tr>\n",
       "      <th>23143745</th>\n",
       "      <td>9</td>\n",
       "      <td>99</td>\n",
       "      <td>3270</td>\n",
       "      <td>generated</td>\n",
       "      <td>1</td>\n",
       "      <td>8.877462</td>\n",
       "      <td>1.000000</td>\n",
       "      <td>3240</td>\n",
       "      <td>3270</td>\n",
       "      <td>generated</td>\n",
       "      <td>5</td>\n",
       "      <td>1.000000</td>\n",
       "      <td>6.000000</td>\n",
       "    </tr>\n",
       "  </tbody>\n",
       "</table>\n",
       "<p>3857291 rows × 13 columns</p>\n",
       "</div>"
      ],
      "text/plain": [
       "          run  pid   tok       area  shape  true_ent      maxp  start   end  \\\n",
       "0           0    0     0     prompt  19127  9.342692  0.011505      0    40   \n",
       "6           0    0     1     prompt   4954  6.863560  0.110962      0    40   \n",
       "12          0    0     2     prompt      9  1.748911  0.684082      0    40   \n",
       "18          0    0     3     prompt    178  4.617726  0.093811      0    40   \n",
       "24          0    0     4     prompt      5  1.100033  0.811523      0    40   \n",
       "...       ...  ...   ...        ...    ...       ...       ...    ...   ...   \n",
       "23143721    9   99  3266  generated      1  0.007299  1.000000   3240  3270   \n",
       "23143727    9   99  3267  generated      1  1.784877  1.000000   3240  3270   \n",
       "23143733    9   99  3268  generated      1  3.481779  1.000000   3240  3270   \n",
       "23143739    9   99  3269  generated      1  2.092228  1.000000   3240  3270   \n",
       "23143745    9   99  3270  generated      1  8.877462  1.000000   3240  3270   \n",
       "\n",
       "            segment  seq  tok_rel_segm  tok_rel_segm_abs  \n",
       "0          preamble    0      0.000000          0.000000  \n",
       "6          preamble    0      0.025000          0.025000  \n",
       "12         preamble    0      0.050000          0.050000  \n",
       "18         preamble    0      0.075000          0.075000  \n",
       "24         preamble    0      0.100000          0.100000  \n",
       "...             ...  ...           ...               ...  \n",
       "23143721  generated    5      0.998777          5.866667  \n",
       "23143727  generated    5      0.999083          5.900000  \n",
       "23143733  generated    5      0.999388          5.933333  \n",
       "23143739  generated    5      0.999694          5.966667  \n",
       "23143745  generated    5      1.000000          6.000000  \n",
       "\n",
       "[3857291 rows x 13 columns]"
      ]
     },
     "execution_count": 404,
     "metadata": {},
     "output_type": "execute_result"
    }
   ],
   "source": [
    "mm"
   ]
  },
  {
   "cell_type": "code",
   "execution_count": 431,
   "id": "762d91eb",
   "metadata": {},
   "outputs": [
    {
     "data": {
      "text/plain": [
       "0.0"
      ]
     },
     "execution_count": 431,
     "metadata": {},
     "output_type": "execute_result"
    }
   ],
   "source": [
    "# variance before generate\n",
    "mm[mm.area=='prompt'].groupby(['pid', 'tok'])['true_ent'].var().sum()"
   ]
  },
  {
   "cell_type": "code",
   "execution_count": 430,
   "id": "fcab426f",
   "metadata": {},
   "outputs": [
    {
     "data": {
      "text/plain": [
       "0.0"
      ]
     },
     "execution_count": 430,
     "metadata": {},
     "output_type": "execute_result"
    }
   ],
   "source": [
    "mm[mm.area=='prompt'].groupby(['pid', 'tok'])['shape'].var().sum()"
   ]
  },
  {
   "cell_type": "code",
   "execution_count": 429,
   "id": "baf265e0",
   "metadata": {},
   "outputs": [
    {
     "data": {
      "text/plain": [
       "0.0"
      ]
     },
     "execution_count": 429,
     "metadata": {},
     "output_type": "execute_result"
    }
   ],
   "source": [
    "mm[mm.area=='prompt'].groupby(['pid', 'tok'])['maxp'].var().sum()"
   ]
  },
  {
   "cell_type": "code",
   "execution_count": 423,
   "id": "1d0f4b33",
   "metadata": {},
   "outputs": [
    {
     "data": {
      "text/plain": [
       "0.0"
      ]
     },
     "execution_count": 423,
     "metadata": {},
     "output_type": "execute_result"
    }
   ],
   "source": [
    "# variance after generate\n",
    "mm[mm.segment=='generated'].groupby(['pid', 'tok'])['true_ent'].var().sum()"
   ]
  },
  {
   "cell_type": "code",
   "execution_count": 439,
   "id": "eaa0803d",
   "metadata": {},
   "outputs": [
    {
     "data": {
      "text/plain": [
       "5.733333333333334"
      ]
     },
     "execution_count": 439,
     "metadata": {},
     "output_type": "execute_result"
    }
   ],
   "source": [
    "mm[mm.segment=='generated'].groupby(['pid', 'tok'])['shape'].var().sum()"
   ]
  },
  {
   "cell_type": "code",
   "execution_count": 425,
   "id": "a9d1baac",
   "metadata": {},
   "outputs": [
    {
     "data": {
      "text/plain": [
       "0.21312056992208012"
      ]
     },
     "execution_count": 425,
     "metadata": {},
     "output_type": "execute_result"
    }
   ],
   "source": [
    "mm[mm.segment=='generated'].groupby(['pid', 'tok'])['maxp'].var().sum()"
   ]
  },
  {
   "cell_type": "code",
   "execution_count": 437,
   "id": "4764f92a",
   "metadata": {},
   "outputs": [],
   "source": [
    "mm[mm.segment=='generated'].sort_values(['pid', 'tok'], ascending=[True,True]).to_excel(\"delme.xlsx\")"
   ]
  },
  {
   "cell_type": "markdown",
   "id": "13d6919a",
   "metadata": {},
   "source": [
    "### search prompts for which top-p varies"
   ]
  },
  {
   "cell_type": "code",
   "execution_count": 470,
   "id": "f77e8ed2",
   "metadata": {},
   "outputs": [],
   "source": [
    "myvars = mm[mm.segment=='generated'].groupby(['pid', 'tok'])['maxp'].var()\n",
    "variators = myvars[myvars>0.].to_frame().reset_index().pid.unique()"
   ]
  },
  {
   "cell_type": "code",
   "execution_count": 471,
   "id": "b5c96086",
   "metadata": {},
   "outputs": [],
   "source": [
    "mv = mm[mm.pid.isin(variators)]"
   ]
  },
  {
   "cell_type": "code",
   "execution_count": 472,
   "id": "253cd722",
   "metadata": {},
   "outputs": [
    {
     "data": {
      "text/plain": [
       "array([ 9, 14, 17, 18, 45, 53])"
      ]
     },
     "execution_count": 472,
     "metadata": {},
     "output_type": "execute_result"
    }
   ],
   "source": [
    "# prompts for which we observe an observable change over runs\n",
    "v1 = mv.pid.unique()\n",
    "v1"
   ]
  },
  {
   "cell_type": "code",
   "execution_count": 473,
   "id": "01c91c19",
   "metadata": {},
   "outputs": [],
   "source": [
    "avg_truth = truth.groupby('pid').correct.mean().to_frame().reset_index()"
   ]
  },
  {
   "cell_type": "code",
   "execution_count": 474,
   "id": "d2edeb7f",
   "metadata": {},
   "outputs": [
    {
     "data": {
      "text/plain": [
       "array([ 9, 10, 12, 14, 17, 18, 23, 41, 45, 53, 63, 74, 79, 85, 86, 88, 89,\n",
       "       94])"
      ]
     },
     "execution_count": 474,
     "metadata": {},
     "output_type": "execute_result"
    }
   ],
   "source": [
    "# prompts for which we observe an output change over runs\n",
    "v2 = avg_truth[avg_truth.correct<1.].pid.unique()\n",
    "v2"
   ]
  },
  {
   "cell_type": "code",
   "execution_count": 475,
   "id": "ea34114e",
   "metadata": {},
   "outputs": [
    {
     "data": {
      "text/plain": [
       "set()"
      ]
     },
     "execution_count": 475,
     "metadata": {},
     "output_type": "execute_result"
    }
   ],
   "source": [
    "set(v1) - set(v2)"
   ]
  },
  {
   "cell_type": "code",
   "execution_count": 479,
   "id": "b33f7b11",
   "metadata": {},
   "outputs": [
    {
     "data": {
      "text/html": [
       "<div>\n",
       "<style scoped>\n",
       "    .dataframe tbody tr th:only-of-type {\n",
       "        vertical-align: middle;\n",
       "    }\n",
       "\n",
       "    .dataframe tbody tr th {\n",
       "        vertical-align: top;\n",
       "    }\n",
       "\n",
       "    .dataframe thead th {\n",
       "        text-align: right;\n",
       "    }\n",
       "</style>\n",
       "<table border=\"1\" class=\"dataframe\">\n",
       "  <thead>\n",
       "    <tr style=\"text-align: right;\">\n",
       "      <th></th>\n",
       "      <th>pid</th>\n",
       "      <th>correct</th>\n",
       "    </tr>\n",
       "  </thead>\n",
       "  <tbody>\n",
       "    <tr>\n",
       "      <th>9</th>\n",
       "      <td>9</td>\n",
       "      <td>0.4</td>\n",
       "    </tr>\n",
       "    <tr>\n",
       "      <th>14</th>\n",
       "      <td>14</td>\n",
       "      <td>0.4</td>\n",
       "    </tr>\n",
       "    <tr>\n",
       "      <th>17</th>\n",
       "      <td>17</td>\n",
       "      <td>0.4</td>\n",
       "    </tr>\n",
       "    <tr>\n",
       "      <th>18</th>\n",
       "      <td>18</td>\n",
       "      <td>0.5</td>\n",
       "    </tr>\n",
       "    <tr>\n",
       "      <th>45</th>\n",
       "      <td>45</td>\n",
       "      <td>0.5</td>\n",
       "    </tr>\n",
       "    <tr>\n",
       "      <th>53</th>\n",
       "      <td>53</td>\n",
       "      <td>0.7</td>\n",
       "    </tr>\n",
       "  </tbody>\n",
       "</table>\n",
       "</div>"
      ],
      "text/plain": [
       "    pid  correct\n",
       "9     9      0.4\n",
       "14   14      0.4\n",
       "17   17      0.4\n",
       "18   18      0.5\n",
       "45   45      0.5\n",
       "53   53      0.7"
      ]
     },
     "execution_count": 479,
     "metadata": {},
     "output_type": "execute_result"
    }
   ],
   "source": [
    "# correctness over prompts for which observable changed over different runs\n",
    "avg_truth[avg_truth.pid.isin(v1)]"
   ]
  },
  {
   "cell_type": "code",
   "execution_count": 480,
   "id": "22a3978a",
   "metadata": {},
   "outputs": [
    {
     "data": {
      "text/html": [
       "<div>\n",
       "<style scoped>\n",
       "    .dataframe tbody tr th:only-of-type {\n",
       "        vertical-align: middle;\n",
       "    }\n",
       "\n",
       "    .dataframe tbody tr th {\n",
       "        vertical-align: top;\n",
       "    }\n",
       "\n",
       "    .dataframe thead th {\n",
       "        text-align: right;\n",
       "    }\n",
       "</style>\n",
       "<table border=\"1\" class=\"dataframe\">\n",
       "  <thead>\n",
       "    <tr style=\"text-align: right;\">\n",
       "      <th></th>\n",
       "      <th>pid</th>\n",
       "      <th>correct</th>\n",
       "    </tr>\n",
       "  </thead>\n",
       "  <tbody>\n",
       "    <tr>\n",
       "      <th>12</th>\n",
       "      <td>12</td>\n",
       "      <td>0.4</td>\n",
       "    </tr>\n",
       "    <tr>\n",
       "      <th>23</th>\n",
       "      <td>23</td>\n",
       "      <td>0.2</td>\n",
       "    </tr>\n",
       "    <tr>\n",
       "      <th>41</th>\n",
       "      <td>41</td>\n",
       "      <td>0.6</td>\n",
       "    </tr>\n",
       "    <tr>\n",
       "      <th>63</th>\n",
       "      <td>63</td>\n",
       "      <td>0.4</td>\n",
       "    </tr>\n",
       "    <tr>\n",
       "      <th>74</th>\n",
       "      <td>74</td>\n",
       "      <td>0.6</td>\n",
       "    </tr>\n",
       "    <tr>\n",
       "      <th>88</th>\n",
       "      <td>88</td>\n",
       "      <td>0.8</td>\n",
       "    </tr>\n",
       "    <tr>\n",
       "      <th>89</th>\n",
       "      <td>89</td>\n",
       "      <td>0.7</td>\n",
       "    </tr>\n",
       "    <tr>\n",
       "      <th>94</th>\n",
       "      <td>94</td>\n",
       "      <td>0.2</td>\n",
       "    </tr>\n",
       "  </tbody>\n",
       "</table>\n",
       "</div>"
      ],
      "text/plain": [
       "    pid  correct\n",
       "12   12      0.4\n",
       "23   23      0.2\n",
       "41   41      0.6\n",
       "63   63      0.4\n",
       "74   74      0.6\n",
       "88   88      0.8\n",
       "89   89      0.7\n",
       "94   94      0.2"
      ]
     },
     "execution_count": 480,
     "metadata": {},
     "output_type": "execute_result"
    }
   ],
   "source": [
    "# ??? correctness over prompts for which observable did NOT change over different runs\n",
    "avg_truth[(~avg_truth.pid.isin(v1)) & (avg_truth.correct<1.) & (avg_truth.correct>0.)]"
   ]
  },
  {
   "cell_type": "code",
   "execution_count": 490,
   "id": "ced7cb8f",
   "metadata": {},
   "outputs": [
    {
     "data": {
      "text/html": [
       "<div>\n",
       "<style scoped>\n",
       "    .dataframe tbody tr th:only-of-type {\n",
       "        vertical-align: middle;\n",
       "    }\n",
       "\n",
       "    .dataframe tbody tr th {\n",
       "        vertical-align: top;\n",
       "    }\n",
       "\n",
       "    .dataframe thead th {\n",
       "        text-align: right;\n",
       "    }\n",
       "</style>\n",
       "<table border=\"1\" class=\"dataframe\">\n",
       "  <thead>\n",
       "    <tr style=\"text-align: right;\">\n",
       "      <th></th>\n",
       "      <th>run</th>\n",
       "      <th>pid</th>\n",
       "      <th>tok</th>\n",
       "      <th>area</th>\n",
       "      <th>shape</th>\n",
       "      <th>true_ent</th>\n",
       "      <th>maxp</th>\n",
       "      <th>start</th>\n",
       "      <th>end</th>\n",
       "      <th>segment</th>\n",
       "      <th>seq</th>\n",
       "      <th>tok_rel_segm</th>\n",
       "      <th>tok_rel_segm_abs</th>\n",
       "      <th>tokzero</th>\n",
       "    </tr>\n",
       "  </thead>\n",
       "  <tbody>\n",
       "    <tr>\n",
       "      <th>12281</th>\n",
       "      <td>0</td>\n",
       "      <td>0</td>\n",
       "      <td>2046</td>\n",
       "      <td>generated</td>\n",
       "      <td>1</td>\n",
       "      <td>9.342692</td>\n",
       "      <td>1.0</td>\n",
       "      <td>2046</td>\n",
       "      <td>2066</td>\n",
       "      <td>generated</td>\n",
       "      <td>5</td>\n",
       "      <td>0.990319</td>\n",
       "      <td>5.000000</td>\n",
       "      <td>0</td>\n",
       "    </tr>\n",
       "    <tr>\n",
       "      <th>12287</th>\n",
       "      <td>0</td>\n",
       "      <td>0</td>\n",
       "      <td>2047</td>\n",
       "      <td>generated</td>\n",
       "      <td>1</td>\n",
       "      <td>6.863560</td>\n",
       "      <td>1.0</td>\n",
       "      <td>2046</td>\n",
       "      <td>2066</td>\n",
       "      <td>generated</td>\n",
       "      <td>5</td>\n",
       "      <td>0.990803</td>\n",
       "      <td>5.050000</td>\n",
       "      <td>1</td>\n",
       "    </tr>\n",
       "    <tr>\n",
       "      <th>12293</th>\n",
       "      <td>0</td>\n",
       "      <td>0</td>\n",
       "      <td>2048</td>\n",
       "      <td>generated</td>\n",
       "      <td>1</td>\n",
       "      <td>1.748911</td>\n",
       "      <td>1.0</td>\n",
       "      <td>2046</td>\n",
       "      <td>2066</td>\n",
       "      <td>generated</td>\n",
       "      <td>5</td>\n",
       "      <td>0.991288</td>\n",
       "      <td>5.100000</td>\n",
       "      <td>2</td>\n",
       "    </tr>\n",
       "    <tr>\n",
       "      <th>12299</th>\n",
       "      <td>0</td>\n",
       "      <td>0</td>\n",
       "      <td>2049</td>\n",
       "      <td>generated</td>\n",
       "      <td>1</td>\n",
       "      <td>4.617726</td>\n",
       "      <td>1.0</td>\n",
       "      <td>2046</td>\n",
       "      <td>2066</td>\n",
       "      <td>generated</td>\n",
       "      <td>5</td>\n",
       "      <td>0.991772</td>\n",
       "      <td>5.150000</td>\n",
       "      <td>3</td>\n",
       "    </tr>\n",
       "    <tr>\n",
       "      <th>12305</th>\n",
       "      <td>0</td>\n",
       "      <td>0</td>\n",
       "      <td>2050</td>\n",
       "      <td>generated</td>\n",
       "      <td>1</td>\n",
       "      <td>1.100033</td>\n",
       "      <td>1.0</td>\n",
       "      <td>2046</td>\n",
       "      <td>2066</td>\n",
       "      <td>generated</td>\n",
       "      <td>5</td>\n",
       "      <td>0.992256</td>\n",
       "      <td>5.200000</td>\n",
       "      <td>4</td>\n",
       "    </tr>\n",
       "    <tr>\n",
       "      <th>...</th>\n",
       "      <td>...</td>\n",
       "      <td>...</td>\n",
       "      <td>...</td>\n",
       "      <td>...</td>\n",
       "      <td>...</td>\n",
       "      <td>...</td>\n",
       "      <td>...</td>\n",
       "      <td>...</td>\n",
       "      <td>...</td>\n",
       "      <td>...</td>\n",
       "      <td>...</td>\n",
       "      <td>...</td>\n",
       "      <td>...</td>\n",
       "      <td>...</td>\n",
       "    </tr>\n",
       "    <tr>\n",
       "      <th>23143721</th>\n",
       "      <td>9</td>\n",
       "      <td>99</td>\n",
       "      <td>3266</td>\n",
       "      <td>generated</td>\n",
       "      <td>1</td>\n",
       "      <td>0.007299</td>\n",
       "      <td>1.0</td>\n",
       "      <td>3240</td>\n",
       "      <td>3270</td>\n",
       "      <td>generated</td>\n",
       "      <td>5</td>\n",
       "      <td>0.998777</td>\n",
       "      <td>5.866667</td>\n",
       "      <td>26</td>\n",
       "    </tr>\n",
       "    <tr>\n",
       "      <th>23143727</th>\n",
       "      <td>9</td>\n",
       "      <td>99</td>\n",
       "      <td>3267</td>\n",
       "      <td>generated</td>\n",
       "      <td>1</td>\n",
       "      <td>1.784877</td>\n",
       "      <td>1.0</td>\n",
       "      <td>3240</td>\n",
       "      <td>3270</td>\n",
       "      <td>generated</td>\n",
       "      <td>5</td>\n",
       "      <td>0.999083</td>\n",
       "      <td>5.900000</td>\n",
       "      <td>27</td>\n",
       "    </tr>\n",
       "    <tr>\n",
       "      <th>23143733</th>\n",
       "      <td>9</td>\n",
       "      <td>99</td>\n",
       "      <td>3268</td>\n",
       "      <td>generated</td>\n",
       "      <td>1</td>\n",
       "      <td>3.481779</td>\n",
       "      <td>1.0</td>\n",
       "      <td>3240</td>\n",
       "      <td>3270</td>\n",
       "      <td>generated</td>\n",
       "      <td>5</td>\n",
       "      <td>0.999388</td>\n",
       "      <td>5.933333</td>\n",
       "      <td>28</td>\n",
       "    </tr>\n",
       "    <tr>\n",
       "      <th>23143739</th>\n",
       "      <td>9</td>\n",
       "      <td>99</td>\n",
       "      <td>3269</td>\n",
       "      <td>generated</td>\n",
       "      <td>1</td>\n",
       "      <td>2.092228</td>\n",
       "      <td>1.0</td>\n",
       "      <td>3240</td>\n",
       "      <td>3270</td>\n",
       "      <td>generated</td>\n",
       "      <td>5</td>\n",
       "      <td>0.999694</td>\n",
       "      <td>5.966667</td>\n",
       "      <td>29</td>\n",
       "    </tr>\n",
       "    <tr>\n",
       "      <th>23143745</th>\n",
       "      <td>9</td>\n",
       "      <td>99</td>\n",
       "      <td>3270</td>\n",
       "      <td>generated</td>\n",
       "      <td>1</td>\n",
       "      <td>8.877462</td>\n",
       "      <td>1.0</td>\n",
       "      <td>3240</td>\n",
       "      <td>3270</td>\n",
       "      <td>generated</td>\n",
       "      <td>5</td>\n",
       "      <td>1.000000</td>\n",
       "      <td>6.000000</td>\n",
       "      <td>30</td>\n",
       "    </tr>\n",
       "  </tbody>\n",
       "</table>\n",
       "<p>25681 rows × 14 columns</p>\n",
       "</div>"
      ],
      "text/plain": [
       "          run  pid   tok       area  shape  true_ent  maxp  start   end  \\\n",
       "12281       0    0  2046  generated      1  9.342692   1.0   2046  2066   \n",
       "12287       0    0  2047  generated      1  6.863560   1.0   2046  2066   \n",
       "12293       0    0  2048  generated      1  1.748911   1.0   2046  2066   \n",
       "12299       0    0  2049  generated      1  4.617726   1.0   2046  2066   \n",
       "12305       0    0  2050  generated      1  1.100033   1.0   2046  2066   \n",
       "...       ...  ...   ...        ...    ...       ...   ...    ...   ...   \n",
       "23143721    9   99  3266  generated      1  0.007299   1.0   3240  3270   \n",
       "23143727    9   99  3267  generated      1  1.784877   1.0   3240  3270   \n",
       "23143733    9   99  3268  generated      1  3.481779   1.0   3240  3270   \n",
       "23143739    9   99  3269  generated      1  2.092228   1.0   3240  3270   \n",
       "23143745    9   99  3270  generated      1  8.877462   1.0   3240  3270   \n",
       "\n",
       "            segment  seq  tok_rel_segm  tok_rel_segm_abs  tokzero  \n",
       "12281     generated    5      0.990319          5.000000        0  \n",
       "12287     generated    5      0.990803          5.050000        1  \n",
       "12293     generated    5      0.991288          5.100000        2  \n",
       "12299     generated    5      0.991772          5.150000        3  \n",
       "12305     generated    5      0.992256          5.200000        4  \n",
       "...             ...  ...           ...               ...      ...  \n",
       "23143721  generated    5      0.998777          5.866667       26  \n",
       "23143727  generated    5      0.999083          5.900000       27  \n",
       "23143733  generated    5      0.999388          5.933333       28  \n",
       "23143739  generated    5      0.999694          5.966667       29  \n",
       "23143745  generated    5      1.000000          6.000000       30  \n",
       "\n",
       "[25681 rows x 14 columns]"
      ]
     },
     "execution_count": 490,
     "metadata": {},
     "output_type": "execute_result"
    }
   ],
   "source": [
    "m_"
   ]
  },
  {
   "cell_type": "code",
   "execution_count": 496,
   "id": "9f23b045",
   "metadata": {},
   "outputs": [
    {
     "data": {
      "image/png": "[encoded data removed]",
      "text/plain": [
       "<Figure size 1400x600 with 1 Axes>"
      ]
     },
     "metadata": {},
     "output_type": "display_data"
    }
   ],
   "source": [
    "import matplotlib.pyplot as plt\n",
    "import seaborn as sns\n",
    "import pandas as pd\n",
    "from matplotlib.ticker import MaxNLocator\n",
    "import matplotlib.patches as mpatches\n",
    "\n",
    "plt.figure(figsize=(14, 6))\n",
    "ax = plt.gca()  # Get current axis\n",
    "\n",
    "m_ = mm[mm.segment=='generated'].copy()\n",
    "m_['tokzero'] = m_['tok'] - m_['start']\n",
    " \n",
    "sns.boxplot(\n",
    "    data=m_, \n",
    "    x=\"tokzero\", \n",
    "    y=\"maxp\", \n",
    "    # hue='pid',\n",
    "    showcaps=True,        \n",
    "    showfliers=True,\n",
    "    whis=[10, 90],\n",
    "    boxprops={'facecolor': 'none'},\n",
    "    medianprops={'color': 'red', 'linewidth': 2},\n",
    "    flierprops = dict(marker='o', markerfacecolor='None', markersize=3,  markeredgecolor='black'),\n",
    "    ax = ax\n",
    ")\n",
    "\n",
    "plt.yscale(\"log\")\n",
    "\n",
    "plt.xticks(rotation=45)\n",
    "\n",
    "plt.xlabel(\"Position (absolute)\")\n",
    "plt.ylabel(\"P\")\n",
    "plt.title(\"Top-P\")\n",
    "\n",
    "\n",
    "plt.tight_layout()\n",
    "\n",
    "plt.show()"
   ]
  },
  {
   "cell_type": "code",
   "execution_count": 497,
   "id": "65e3a1b1",
   "metadata": {},
   "outputs": [
    {
     "data": {
      "image/png": "[encoded data removed]",
      "text/plain": [
       "<Figure size 1400x600 with 1 Axes>"
      ]
     },
     "metadata": {},
     "output_type": "display_data"
    }
   ],
   "source": [
    "import matplotlib.pyplot as plt\n",
    "import seaborn as sns\n",
    "import pandas as pd\n",
    "from matplotlib.ticker import MaxNLocator\n",
    "import matplotlib.patches as mpatches\n",
    "\n",
    "plt.figure(figsize=(14, 6))\n",
    "ax = plt.gca()  # Get current axis\n",
    "\n",
    "m_ = mm[mm.segment=='generated'].copy()\n",
    "m_['tokzero'] = m_['tok'] - m_['start']\n",
    " \n",
    "sns.boxplot(\n",
    "    data=m_, \n",
    "    x=\"tokzero\", \n",
    "    y=\"true_ent\", \n",
    "    # hue='pid',\n",
    "    showcaps=True,        \n",
    "    showfliers=True,\n",
    "    whis=[10, 90],\n",
    "    boxprops={'facecolor': 'none'},\n",
    "    medianprops={'color': 'red', 'linewidth': 2},\n",
    "    flierprops = dict(marker='o', markerfacecolor='None', markersize=3,  markeredgecolor='black'),\n",
    "    ax = ax\n",
    ")\n",
    "\n",
    "plt.yscale(\"log\")\n",
    "\n",
    "plt.xticks(rotation=45)\n",
    "\n",
    "plt.xlabel(\"Position (absolute)\")\n",
    "plt.ylabel(\"H\")\n",
    "plt.title(\"Entropy\")\n",
    "\n",
    "\n",
    "plt.tight_layout()\n",
    "\n",
    "plt.show()"
   ]
  },
  {
   "cell_type": "code",
   "execution_count": null,
   "id": "610d8f96",
   "metadata": {},
   "outputs": [],
   "source": []
  },
  {
   "cell_type": "code",
   "execution_count": 341,
   "id": "99b5a685",
   "metadata": {},
   "outputs": [
    {
     "data": {
      "text/plain": [
       "(3857291, 13)"
      ]
     },
     "execution_count": 341,
     "metadata": {},
     "output_type": "execute_result"
    }
   ],
   "source": [
    "mm.shape"
   ]
  },
  {
   "cell_type": "code",
   "execution_count": 342,
   "id": "f126ce16",
   "metadata": {},
   "outputs": [
    {
     "data": {
      "text/plain": [
       "(385715, 16)"
      ]
     },
     "execution_count": 342,
     "metadata": {},
     "output_type": "execute_result"
    }
   ],
   "source": [
    "m.shape"
   ]
  },
  {
   "cell_type": "code",
   "execution_count": null,
   "id": "255679e3",
   "metadata": {},
   "outputs": [],
   "source": [
    "# TODO: compare variance in generate (same prompt / multiple prompts)"
   ]
  },
  {
   "cell_type": "code",
   "execution_count": null,
   "id": "74f41421",
   "metadata": {},
   "outputs": [],
   "source": [
    "# TODO: compare observables grouping by truth"
   ]
  },
  {
   "cell_type": "code",
   "execution_count": null,
   "id": "c373ccd5",
   "metadata": {},
   "outputs": [],
   "source": [
    "# TODO: plot truth vs aggregated uncertainty"
   ]
  }
 ],
 "metadata": {
  "kernelspec": {
   "display_name": "doubt",
   "language": "python",
   "name": "doubt"
  },
  "language_info": {
   "codemirror_mode": {
    "name": "ipython",
    "version": 3
   },
   "file_extension": ".py",
   "mimetype": "text/x-python",
   "name": "python",
   "nbconvert_exporter": "python",
   "pygments_lexer": "ipython3",
   "version": "3.8.10"
  }
 },
 "nbformat": 4,
 "nbformat_minor": 5
}

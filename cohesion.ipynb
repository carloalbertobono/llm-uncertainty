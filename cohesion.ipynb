{
 "cells": [
  {
   "cell_type": "code",
   "execution_count": 1,
   "id": "d2ab59da",
   "metadata": {},
   "outputs": [],
   "source": [
    "import os\n",
    "import json\n",
    "import pandas as pd\n",
    "\n",
    "import torch\n",
    "import torch.nn.functional as F\n",
    "import transformers\n",
    "from transformers import AutoModelForSequenceClassification, AutoTokenizer"
   ]
  },
  {
   "cell_type": "code",
   "execution_count": 2,
   "id": "e332ca38",
   "metadata": {},
   "outputs": [],
   "source": [
    "model_name = \"osunlp/TableLlama\"\n",
    "config = transformers.AutoConfig.from_pretrained(model_name)\n",
    "orig_ctx_len = getattr(config, \"max_position_embeddings\", None)\n",
    "tokenizer = AutoTokenizer.from_pretrained(model_name, model_max_length=orig_ctx_len, padding_side=\"left\", use_fast=False)"
   ]
  },
  {
   "cell_type": "code",
   "execution_count": 3,
   "id": "d387cd8a",
   "metadata": {},
   "outputs": [],
   "source": [
    "# prompt formatting\n",
    "\n",
    "PROMPT_DICT = {\n",
    "    \"prompt_input\": (\n",
    "        \"Below is an instruction that describes a task, paired with an input that provides further context. \"\n",
    "        \"Write a response that appropriately completes the request.\\n\\n\"\n",
    "        \"### Instruction:\\n{instruction}\\n\\n### Input:\\n{input_seg}\\n\\n### Question:\\n{question}\\n\\n### Response:\"\n",
    "    ),\n",
    "    \"prompt_no_input\": (\n",
    "        \"Below is an instruction that describes a task. \"\n",
    "        \"Write a response that appropriately completes the request.\\n\\n\"\n",
    "        \"### Instruction:\\n{instruction}\\n\\n### Response:\"\n",
    "    ),\n",
    "}\n",
    "\n",
    "def generate_prompt(instruction, question, input_seg=None):\n",
    "    question += \" Answer with just a candidate, selected from the provided referent entity candidates list, and nothing else. The selected candidate must be reported verbatim from the list provided as input. Each candidate in the list is enclosed between < and > and reports [DESC] and [TYPE] information.\"\n",
    "    if input_seg:\n",
    "        return PROMPT_DICT[\"prompt_input\"].format(instruction=instruction, input_seg=input_seg, question=question)\n",
    "    else:\n",
    "        return PROMPT_DICT[\"prompt_no_input\"].format(instruction=instruction)"
   ]
  },
  {
   "cell_type": "code",
   "execution_count": 4,
   "id": "1fc32167",
   "metadata": {},
   "outputs": [],
   "source": [
    "# load questions\n",
    "\n",
    "file_path = \"turl_test_2k_prompts_50.jsonl\"\n",
    "\n",
    "with open(file_path, \"r\", encoding=\"utf-8\") as f:\n",
    "    prompts = [json.loads(line) for line in f]"
   ]
  },
  {
   "cell_type": "code",
   "execution_count": 5,
   "id": "b941efc1",
   "metadata": {},
   "outputs": [
    {
     "name": "stderr",
     "output_type": "stream",
     "text": [
      "Token indices sequence length is longer than the specified maximum sequence length for this model (4857 > 4096). Running this sequence through the model will result in indexing errors\n"
     ]
    }
   ],
   "source": [
    "# tokenize inputs\n",
    "\n",
    "tokenized = []\n",
    "\n",
    "for idx, p in enumerate(prompts):\n",
    "    prompt = generate_prompt(p[\"instruction\"], p[\"question\"], p[\"input\"])\n",
    "    inputs = tokenizer(prompt, return_tensors=\"pt\")\n",
    "    p['pid'] = idx\n",
    "    p['prompt'] = prompt\n",
    "    p['tokenized'] = inputs\n",
    "    tokenized.append(p)"
   ]
  },
  {
   "cell_type": "code",
   "execution_count": 25,
   "id": "3921f506",
   "metadata": {},
   "outputs": [],
   "source": [
    "prompt_lenghts = []\n",
    "\n",
    "for p in tokenized:\n",
    "    plen = p['tokenized']['input_ids'][0].shape[0]\n",
    "    \n",
    "    cand_len = len(p['question'].split('>,'))\n",
    "    cand_pos = [idx for idx, cand in enumerate(p['question'].split('>,')) if p['output'] in cand + '>']\n",
    "    \n",
    "    # extract candidates\n",
    "    candidates = p['question'].split(',. What')[0].split('<')[1:]\n",
    "    candidates = [c.replace('>,', '').replace('>', '') for c in candidates]\n",
    "    \n",
    "    candidates_clean = [c.replace('[DESC] ', '').replace('[TYPE] ', '') for c in candidates]\n",
    "    candidates_clean = [c for c in candidates if c]\n",
    "    \n",
    "    prompt_lenghts.append((p['pid'], len(p['prompt']), plen, cand_len, cand_pos, candidates, candidates_clean))\n",
    "\n",
    "pl = pd.DataFrame(prompt_lenghts, columns=['pid', 'char_len', 'tok_len', 'cand_len', 'cand_pos', 'cand', 'cand_clean'])\n",
    "pl['cand_pos_first'] = pl.cand_pos.str[0]"
   ]
  },
  {
   "cell_type": "code",
   "execution_count": 24,
   "id": "4db039cd",
   "metadata": {},
   "outputs": [
    {
     "data": {
      "text/plain": [
       "{'table': '23625363-1',\n",
       " 'cell': '23625363-1',\n",
       " 'instruction': 'This is an entity linking task. The goal for this task is to link the selected entity mention in the table cells to the entity in the knowledge base. You will be given a list of referent entities, with each one composed of an entity name, its description and its type. Please choose the correct one from the referent entity candidates. Note that the Wikipedia page, Wikipedia section and table caption (if any) provide important information for choosing the correct referent entity.',\n",
       " 'input': '[TLE] List of Tamil films of 1959.  [TAB] col: |title|director|production|music|cast| row 0: |Abalai Anjugam|R.M. Krishnaswamy|Aruna Films|K.V. Mahadevan|sriranjani , Muthuraman| row 1: |Alli Petra Pillai|K. Somu|M. M. Production|K.V. Mahadevan|S.S. Rajendran , Rajasulochana , M.N. Rajam| row 2: |Amudhavalli|A.K. Sekar|Jupiter Pictures P Limited|G. Ramanathan|T.R. Mahalingam , G. Varalakshmi , K.A. Thangavelu| row 3: |Arumai Magal Abirami|V. Krishnan|Aravind Pictures|K.V. Mahadevan|| row 4: |Athisaya Penn|M.V. Raman|National Pictures|Govardhan|E.V. Saroja , Gemini Ganesan , K.A. Thangavelu| row 5: |Aval Yaar|K.J. Mahadevan|Sudarsanam Pictures|S.Rajeshwararao|Sivaji Ganesan , Pandari Bai , Jawar Sitharaman| row 6: |Azhagarmalai Kalvan|Kemparaj Urs|Kempraj Productions|Pandurangan|Kempraj , G. Varalakshmi| row 7: |Baga Pirivinai|A. Bhim Singh|Saravana Films|Viswanathan Ramamoorthy|Sivaji Ganesan , B. Sarojadevi , M.R. Radha| row 8: |Bhagya Devathai|Tapi Chanakya|Sri Sarathi Studios|K.V. Mahadevan|Gemini Ganesan , Savitri , Nagaiya| row 9: |Deivame Thunai|Ch. Narayanamurthi|Ravi Films|Govardhan|Padmini , K.A. Thangavelu| row 10: |Enga Veetu Mahalakshmi|G. Ramineedu|Annapurna Pictures P Limited|K.V. Mahadevan|A. Nageswara Rao , Savitri , K.A. Thangavelu| row 11: |Engal Kuladevi|Adurthi Subba Rao|Modern Theaters Limited|K.V. Mahadevan|A. Nageswara Rao , Savitri , K.Balaji , Javer Seetharaman , M Pandaribai , M. Mainavathi| row 12: |Kalyana Parisu|Sridhar|Venus Pictures|A. M. Rajah|Gemini Ganesan , B. Sarojadevi , K.A. Thangavelu| row 13: |Kalyana Penn|Yoganand|||| row 14: |Kalyanikku Kalyanam|A.S.A. Sami|Manohar Pictures|Viswanathan Ramamoorthy|Pandari Bai , Chittur Nagaiah| row 15: |Kan Thiranthathu|K.V. Srinivasan|Narayanan & Co P Limited|Viswanathan Ramamoorthy|Ramanathan , Mainavadhi| row 16: |Kaveryin Kanavan|Yoganand|Arunachalam Studios|K.V. Mahadevan|| row 17: |Mala Oru Mangala Vilakku|S. Mukerjee|Srimati Pictures|T.G. Lingappa|Devika , Muthuraman , M.R. Radha| row 18: |Mamiyar Mechiya Marumagal|Krishnan Panju|A.V.M. Productions|R. Sudarsanam|S.S. Rajendran , M.N. Rajam , G. Varalakshmi| row 19: |Manaiviey Manidhanin Manikkam|K. Vembu|K. U. D. V. I. N. Production||K.Balaji| row 20: |Manimekalai|V.S. Raghavan|Sekar Art Film Enterprises||| row 21: |Manjal Magimai|A. Subbarao|Annapurna Pictures P Limited|S. Rajeswara Rao|A. Nageswara Rao , Savitri , K.A. Thangavelu| row 22: |Maragadam|S. M. Sriramulu Naidu|Pakshiraja Studios|S. M. Subbaiah Naidu|Sivaji Ganesan , Veenai S Balachander , Padmini| row 23: |Naalu Veli Nilam|Mukta V. Srinivasan|Seva Screens|K.V. Mahadevan|S.V. Sahasranamam , Muthuraman , Mainavadhi| row 24: |Naan Sollum Ragasiyam|P. Sridhar Rao|Kasturi Films|G. Ramanathan|Sivaji Ganesan , Anjali Devi , T.S. Balaiah| row 25: |Nalla Theerppu|P. Prakashrao|Sri Productions|T. Chellapathirao|Gemini Ganesan , S.V. Sahasranamam , T.S. Muthiah| row 26: |Nattukku Oru Nallavan|K. Dasaratha Ramaiah|Majestic Pictures||| row 27: |Ode Vilayadu Papa|Mukta V. Srinivasan|Mukta Films|Viswanathan Ramamoorthy|Gemini Ganesan , Savitri| row 28: |Orey Vazhi|K. Shankar & Vasudeva Menon|Vasu Films||| row 29: |Pachai Malai Kurathi|K. Kameshwara Rao|||| row 30: |Panchali|V. Srinivasan|M. A. V. Pictures|K.V. Mahadevan|Devika , S.S. Rajendran , Ramarao| row 31: |Pandi Thevan|K. Subramaniam|Morak Pvt Limited||S.S. Rajendran , S.A. Natrajan| row 32: |Pattharai Mattu Thangam|K.S. Mani|Manivel Pictures|G. Govindarajulu Naidu|| row 33: |Pennkulathu Ponvillakku|K. Somu|Asoka Pictures|K.V. Mahadevan|Anjali Devi , Gemini Ganesan , M.R. Radha| row 34: |Pon Vilayum Boomi|A. Bhim Singh|Oriental Movies|Viswanathan Ramamoorthy|Gemini Ganesan , Padmini , T.S. Balaiah| row 35: |President Panchatsharam|A. Bhim Singh|Savithri Pictures|G. Ramanathan|S. S. Rajendran , Devika , S.V. Sahasranamam| row 36: |Pudhumai Penn|M. Thiruvengadam|Sri Gajalakshmi Pictures||| row 37: |Raja Makutam|B.N. Reddi|Vahini Productions|Master Venu|N.T. Rama Rao , Gummadi Venkateswara Rao , P. Kannamba| row 38: |Raja Malayasimman|B.S. Ranga|Vikram Production|Viswanathan Ramamoorthy|Ranjan , Jayashree| row 39: |Raja Sevai|K. Kameshwara Rao|Swasthi Sri Pictures||| row 40: |Sahodhari|A. Bhim Singh|G. K. Productions|R. Sudarsanam|K. Balaji , Devika , S.S. Rajendran| row 41: |Sivagangai Seemai|K. Shankar|Kannadasan Productions|Viswanathan Ramamoorthy|S. S. Rajendran , P.S. Veerappa , M.N. Rajam| row 42: |Sollu Thambi Sollu|T.V. Sundaram|T. V. S. Production|Veda|S.S. Rajendran , Mainavadhi , R.S. Manohar| row 43: |Sumangali|M.K.R. Nambiar|Rajeswari Films|Pendiyala|Jamuna , P. Kannamba , Ramakrishnan| row 44: |Thaai Magalukku Kattiya Thaali|R.R. Chandran|Kalpana Kala Mandir|T.R. Pappa|Jamuna , M.G. Ramachandran , P. Kannamba| row 45: |Thalai Koduthan Thambi|T.R. Sundaram|Modern Theaters Limited|K.V. Mahadevan|P.S. Veerapa , S.S. Rajendran , Vijayakumari| row 46: |Thamarai Kulam|Muktha V. Srinivasan|Kalyani Pictures|K.V. Mahadevan|M.R. Radha , Sowkar Janaki , Prem Nazeer| row 47: |Thanga Padhumai|A.S.A. Sami|Jupiter Pictures|Viswanathan Ramamoorthy|Sivaji Ganesan , Padmini , M.N. Nambiar| row 48: |Thayapol Pillai Noolapol Selai|K. Somu|Sri Lakshmi Pictures|K.V. Mahadevan|Prem Nazir , V.k.Ramasamy , Devika| row 49: |Ulagam Sirikkiradhu|K. Ramamurthy|Prabhu Films||| row 50: |Utthami Petra Rathinam|M.A. Thirumugam|Amara Productions|K.V. Mahadevan|S.S. Rajendran , Rajasulochana , T.K. Ramachandran| row 51: |Uzhavukkum Thozhilukkum Vandhanai Saivom|M.A. Thirumugam|Lalithkala Films P Limited|K.V. Mahadevan|Prem Nazir , Rajasulochana| row 52: |Vannakili|T. R. Ragunath|Modern Theaters|K.V. Mahadevan|R. S. Manohar , B. S. Saroja| row 53: |Vazhavaitha Daivam|M.A. Thirumugam|Devar Films|K. V. Mahadevan|Gemini Ganesan , B. Sarojadevi , Manorama| row 54: |Vazhkai Oppandham|K.V. Reddy|Jayanthi Production||| row 55: |Veerapandiya Kattabomman|B.R. Panthulu|Padmini Pictures|G. Ramanathan|Sivaji Ganesan , Gemini Ganesan , Padmini| row 56: |Yanai Valartha Vanampadi|P. Subramanyam|Neela Productions|Devarajan|Rajasree , T.S. Balaiah| ',\n",
       " 'question': \"The selected entity mention in the table cell is: 'Prem Nazir , V.k.Ramasamy , Devika'. The column name for 'Prem Nazir , V.k.Ramasamy , Devika' is col4. The referent entity candidates are: <, 2nd edition [DESC] None [TYPE] scholarly article>,<Charis [DESC] given name [TYPE] unisex given name>,<Hyas [DESC] mythical character [TYPE] mythological Greek character>,<Districts under Central Government Jurisdiction [DESC] region of Tajikistan [TYPE] first-level administrative country subdivision>,<किनारी बाजार , चाँदनी चौक , दिल्ली [DESC] None [TYPE] None>,<croquer [DESC] conjugation table for French verb [TYPE] conjugation table for French verb>,<Cervidae [DESC] family of even-toed ungulates [TYPE] taxon>,<दरीबा कलाँ , चाँदनी चौक , दिल्ली [DESC] None [TYPE] None>,<Menesthius [DESC] son of Spercheus in Greek mythology [TYPE] mythological Greek character>,<The Estrogen Receptors , , and cx [DESC] scientific article published on 01 November 2005 [TYPE] scholarly article>,<Asteria [DESC] in Greek mythology, a name attributed to any of eleven individual characters [TYPE] set of mythological Greek characters>,<Johnson [DESC] town in Lamoille County, Vermont, United States [TYPE] New England town>,<Prem Nazir [DESC] Indian actor [TYPE] actor>,<Castor and Pollux [DESC] Greek mythical siblings [TYPE] couple of mythological Greek characters>,<A Shipyard , Shoreham , Sussex [DESC] painting by Wilson Steer [TYPE] painting>,<सदर बाजार , पहाङगंज , दिल्ली [DESC] None [TYPE] None>,<San Sebastián de Yalí [DESC] municipality in Jinotega Department, Nicaragua [TYPE] municipality of Nicaragua>,<London, Paris, New York [DESC] 2012 film by Anuradha Menon [TYPE] film>,<Alpheus [DESC] river and river god in Greek mythology [TYPE] Potamoi>,<पहाङी धीरज , पहाङगंज , दिल्ली [DESC] None [TYPE] None>,<, Dr. MacDonald? [DESC] None [TYPE] scholarly article>,<Leda [DESC] mythical character [TYPE] mythological Greek character>,<Shambala [DESC] town in Xiangcheng County, Sichuan [TYPE] township in China>,<BIOLUMINESCENT DINOFLAGELLATES , [DESC] None [TYPE] scholarly article>,<चावङी बाजार , चाँदनी चौक , दिल्ली [DESC] None [TYPE] None>,<Palamedes [DESC] mythical son of Nauplius [TYPE] mythological Greek character>,<Blur [DESC] English alternative rock band [TYPE] musical group>,<Prem Nazir filmography [DESC] filmography [TYPE] filmography>,<Kalahandi Balangir Koraput Region [DESC] region in Odisha, India [TYPE] None>,<Mees , maal [DESC] None [TYPE] painting>,<Eudoros [DESC] Greek mythical character, leader of the Myrmidons [TYPE] mythological Greek character>,<Govt. V.H.S.S Aranmula [DESC] School in Pathanamthitta district, Kerala [TYPE] state school>,<Wadada Okobo Dori , Tokyo , Jabaan [DESC] None [TYPE] None>,<Phosphorus [DESC] personification of the Morning Star in Greek and Roman mythology [TYPE] personification>,<Hecuba [DESC] spouse of king Priam [TYPE] king>,<Glyn, , , [DESC] Grid Reference: UN Address: , , Materials Monument Type: CHAPEL Form: Documents [TYPE] chapel>,<Worth [DESC] municipality in Schleswig-Holstein, Germany [TYPE] non-urban municipality of Germany>,<Hesperus [DESC] personification of the planet Venus or its manifestation in the evening [TYPE] Greek deity>,<Prem Nazir Award [DESC] None [TYPE] None>,<महेन्द्रनाथ मंदिर , सिवान , बिहार [DESC] None [TYPE] None>,<कौङिया पुल , चाँदनी चौक , दिल्ली [DESC] None [TYPE] None>,<Sakti [DESC] human settlement in Leh district [TYPE] village in India>,<Results on , , from KEDR [DESC] None [TYPE] scholarly article>,<CORDOBA , KAUGE [DESC] None [TYPE] literary work>,<saigner [DESC] conjugation table for French verb [TYPE] conjugation table for French verb>,<Lac Routhier [DESC] lake in Rouyn-Noranda, Quebec, Canada [TYPE] lake>,<Annebergssjöns , public beach [DESC] public beach in Värnamo Municipality, Sweden [TYPE] bathing site>,<المشرف , حجاجة [DESC] village in Hajjah Governorate, Yemen [TYPE] human settlement>,<G.D.C. , Dhanpuri [DESC] college affiliated to the Awadhesh Pratap Singh University [TYPE] college>,<एस्प्लेनेड मार्ग , चाँदनी चौक , दिल्ली [DESC] None [TYPE] None>,. What is the correct referent entity for the entity mention ’Prem Nazir , V.k.Ramasamy , Devika’?\",\n",
       " 'output': '<Prem Nazir [DESC] Indian actor [TYPE] actor>',\n",
       " 'pid': 1796,\n",
       " 'prompt': \"Below is an instruction that describes a task, paired with an input that provides further context. Write a response that appropriately completes the request.\\n\\n### Instruction:\\nThis is an entity linking task. The goal for this task is to link the selected entity mention in the table cells to the entity in the knowledge base. You will be given a list of referent entities, with each one composed of an entity name, its description and its type. Please choose the correct one from the referent entity candidates. Note that the Wikipedia page, Wikipedia section and table caption (if any) provide important information for choosing the correct referent entity.\\n\\n### Input:\\n[TLE] List of Tamil films of 1959.  [TAB] col: |title|director|production|music|cast| row 0: |Abalai Anjugam|R.M. Krishnaswamy|Aruna Films|K.V. Mahadevan|sriranjani , Muthuraman| row 1: |Alli Petra Pillai|K. Somu|M. M. Production|K.V. Mahadevan|S.S. Rajendran , Rajasulochana , M.N. Rajam| row 2: |Amudhavalli|A.K. Sekar|Jupiter Pictures P Limited|G. Ramanathan|T.R. Mahalingam , G. Varalakshmi , K.A. Thangavelu| row 3: |Arumai Magal Abirami|V. Krishnan|Aravind Pictures|K.V. Mahadevan|| row 4: |Athisaya Penn|M.V. Raman|National Pictures|Govardhan|E.V. Saroja , Gemini Ganesan , K.A. Thangavelu| row 5: |Aval Yaar|K.J. Mahadevan|Sudarsanam Pictures|S.Rajeshwararao|Sivaji Ganesan , Pandari Bai , Jawar Sitharaman| row 6: |Azhagarmalai Kalvan|Kemparaj Urs|Kempraj Productions|Pandurangan|Kempraj , G. Varalakshmi| row 7: |Baga Pirivinai|A. Bhim Singh|Saravana Films|Viswanathan Ramamoorthy|Sivaji Ganesan , B. Sarojadevi , M.R. Radha| row 8: |Bhagya Devathai|Tapi Chanakya|Sri Sarathi Studios|K.V. Mahadevan|Gemini Ganesan , Savitri , Nagaiya| row 9: |Deivame Thunai|Ch. Narayanamurthi|Ravi Films|Govardhan|Padmini , K.A. Thangavelu| row 10: |Enga Veetu Mahalakshmi|G. Ramineedu|Annapurna Pictures P Limited|K.V. Mahadevan|A. Nageswara Rao , Savitri , K.A. Thangavelu| row 11: |Engal Kuladevi|Adurthi Subba Rao|Modern Theaters Limited|K.V. Mahadevan|A. Nageswara Rao , Savitri , K.Balaji , Javer Seetharaman , M Pandaribai , M. Mainavathi| row 12: |Kalyana Parisu|Sridhar|Venus Pictures|A. M. Rajah|Gemini Ganesan , B. Sarojadevi , K.A. Thangavelu| row 13: |Kalyana Penn|Yoganand|||| row 14: |Kalyanikku Kalyanam|A.S.A. Sami|Manohar Pictures|Viswanathan Ramamoorthy|Pandari Bai , Chittur Nagaiah| row 15: |Kan Thiranthathu|K.V. Srinivasan|Narayanan & Co P Limited|Viswanathan Ramamoorthy|Ramanathan , Mainavadhi| row 16: |Kaveryin Kanavan|Yoganand|Arunachalam Studios|K.V. Mahadevan|| row 17: |Mala Oru Mangala Vilakku|S. Mukerjee|Srimati Pictures|T.G. Lingappa|Devika , Muthuraman , M.R. Radha| row 18: |Mamiyar Mechiya Marumagal|Krishnan Panju|A.V.M. Productions|R. Sudarsanam|S.S. Rajendran , M.N. Rajam , G. Varalakshmi| row 19: |Manaiviey Manidhanin Manikkam|K. Vembu|K. U. D. V. I. N. Production||K.Balaji| row 20: |Manimekalai|V.S. Raghavan|Sekar Art Film Enterprises||| row 21: |Manjal Magimai|A. Subbarao|Annapurna Pictures P Limited|S. Rajeswara Rao|A. Nageswara Rao , Savitri , K.A. Thangavelu| row 22: |Maragadam|S. M. Sriramulu Naidu|Pakshiraja Studios|S. M. Subbaiah Naidu|Sivaji Ganesan , Veenai S Balachander , Padmini| row 23: |Naalu Veli Nilam|Mukta V. Srinivasan|Seva Screens|K.V. Mahadevan|S.V. Sahasranamam , Muthuraman , Mainavadhi| row 24: |Naan Sollum Ragasiyam|P. Sridhar Rao|Kasturi Films|G. Ramanathan|Sivaji Ganesan , Anjali Devi , T.S. Balaiah| row 25: |Nalla Theerppu|P. Prakashrao|Sri Productions|T. Chellapathirao|Gemini Ganesan , S.V. Sahasranamam , T.S. Muthiah| row 26: |Nattukku Oru Nallavan|K. Dasaratha Ramaiah|Majestic Pictures||| row 27: |Ode Vilayadu Papa|Mukta V. Srinivasan|Mukta Films|Viswanathan Ramamoorthy|Gemini Ganesan , Savitri| row 28: |Orey Vazhi|K. Shankar & Vasudeva Menon|Vasu Films||| row 29: |Pachai Malai Kurathi|K. Kameshwara Rao|||| row 30: |Panchali|V. Srinivasan|M. A. V. Pictures|K.V. Mahadevan|Devika , S.S. Rajendran , Ramarao| row 31: |Pandi Thevan|K. Subramaniam|Morak Pvt Limited||S.S. Rajendran , S.A. Natrajan| row 32: |Pattharai Mattu Thangam|K.S. Mani|Manivel Pictures|G. Govindarajulu Naidu|| row 33: |Pennkulathu Ponvillakku|K. Somu|Asoka Pictures|K.V. Mahadevan|Anjali Devi , Gemini Ganesan , M.R. Radha| row 34: |Pon Vilayum Boomi|A. Bhim Singh|Oriental Movies|Viswanathan Ramamoorthy|Gemini Ganesan , Padmini , T.S. Balaiah| row 35: |President Panchatsharam|A. Bhim Singh|Savithri Pictures|G. Ramanathan|S. S. Rajendran , Devika , S.V. Sahasranamam| row 36: |Pudhumai Penn|M. Thiruvengadam|Sri Gajalakshmi Pictures||| row 37: |Raja Makutam|B.N. Reddi|Vahini Productions|Master Venu|N.T. Rama Rao , Gummadi Venkateswara Rao , P. Kannamba| row 38: |Raja Malayasimman|B.S. Ranga|Vikram Production|Viswanathan Ramamoorthy|Ranjan , Jayashree| row 39: |Raja Sevai|K. Kameshwara Rao|Swasthi Sri Pictures||| row 40: |Sahodhari|A. Bhim Singh|G. K. Productions|R. Sudarsanam|K. Balaji , Devika , S.S. Rajendran| row 41: |Sivagangai Seemai|K. Shankar|Kannadasan Productions|Viswanathan Ramamoorthy|S. S. Rajendran , P.S. Veerappa , M.N. Rajam| row 42: |Sollu Thambi Sollu|T.V. Sundaram|T. V. S. Production|Veda|S.S. Rajendran , Mainavadhi , R.S. Manohar| row 43: |Sumangali|M.K.R. Nambiar|Rajeswari Films|Pendiyala|Jamuna , P. Kannamba , Ramakrishnan| row 44: |Thaai Magalukku Kattiya Thaali|R.R. Chandran|Kalpana Kala Mandir|T.R. Pappa|Jamuna , M.G. Ramachandran , P. Kannamba| row 45: |Thalai Koduthan Thambi|T.R. Sundaram|Modern Theaters Limited|K.V. Mahadevan|P.S. Veerapa , S.S. Rajendran , Vijayakumari| row 46: |Thamarai Kulam|Muktha V. Srinivasan|Kalyani Pictures|K.V. Mahadevan|M.R. Radha , Sowkar Janaki , Prem Nazeer| row 47: |Thanga Padhumai|A.S.A. Sami|Jupiter Pictures|Viswanathan Ramamoorthy|Sivaji Ganesan , Padmini , M.N. Nambiar| row 48: |Thayapol Pillai Noolapol Selai|K. Somu|Sri Lakshmi Pictures|K.V. Mahadevan|Prem Nazir , V.k.Ramasamy , Devika| row 49: |Ulagam Sirikkiradhu|K. Ramamurthy|Prabhu Films||| row 50: |Utthami Petra Rathinam|M.A. Thirumugam|Amara Productions|K.V. Mahadevan|S.S. Rajendran , Rajasulochana , T.K. Ramachandran| row 51: |Uzhavukkum Thozhilukkum Vandhanai Saivom|M.A. Thirumugam|Lalithkala Films P Limited|K.V. Mahadevan|Prem Nazir , Rajasulochana| row 52: |Vannakili|T. R. Ragunath|Modern Theaters|K.V. Mahadevan|R. S. Manohar , B. S. Saroja| row 53: |Vazhavaitha Daivam|M.A. Thirumugam|Devar Films|K. V. Mahadevan|Gemini Ganesan , B. Sarojadevi , Manorama| row 54: |Vazhkai Oppandham|K.V. Reddy|Jayanthi Production||| row 55: |Veerapandiya Kattabomman|B.R. Panthulu|Padmini Pictures|G. Ramanathan|Sivaji Ganesan , Gemini Ganesan , Padmini| row 56: |Yanai Valartha Vanampadi|P. Subramanyam|Neela Productions|Devarajan|Rajasree , T.S. Balaiah| \\n\\n### Question:\\nThe selected entity mention in the table cell is: 'Prem Nazir , V.k.Ramasamy , Devika'. The column name for 'Prem Nazir , V.k.Ramasamy , Devika' is col4. The referent entity candidates are: <, 2nd edition [DESC] None [TYPE] scholarly article>,<Charis [DESC] given name [TYPE] unisex given name>,<Hyas [DESC] mythical character [TYPE] mythological Greek character>,<Districts under Central Government Jurisdiction [DESC] region of Tajikistan [TYPE] first-level administrative country subdivision>,<किनारी बाजार , चाँदनी चौक , दिल्ली [DESC] None [TYPE] None>,<croquer [DESC] conjugation table for French verb [TYPE] conjugation table for French verb>,<Cervidae [DESC] family of even-toed ungulates [TYPE] taxon>,<दरीबा कलाँ , चाँदनी चौक , दिल्ली [DESC] None [TYPE] None>,<Menesthius [DESC] son of Spercheus in Greek mythology [TYPE] mythological Greek character>,<The Estrogen Receptors , , and cx [DESC] scientific article published on 01 November 2005 [TYPE] scholarly article>,<Asteria [DESC] in Greek mythology, a name attributed to any of eleven individual characters [TYPE] set of mythological Greek characters>,<Johnson [DESC] town in Lamoille County, Vermont, United States [TYPE] New England town>,<Prem Nazir [DESC] Indian actor [TYPE] actor>,<Castor and Pollux [DESC] Greek mythical siblings [TYPE] couple of mythological Greek characters>,<A Shipyard , Shoreham , Sussex [DESC] painting by Wilson Steer [TYPE] painting>,<सदर बाजार , पहाङगंज , दिल्ली [DESC] None [TYPE] None>,<San Sebastián de Yalí [DESC] municipality in Jinotega Department, Nicaragua [TYPE] municipality of Nicaragua>,<London, Paris, New York [DESC] 2012 film by Anuradha Menon [TYPE] film>,<Alpheus [DESC] river and river god in Greek mythology [TYPE] Potamoi>,<पहाङी धीरज , पहाङगंज , दिल्ली [DESC] None [TYPE] None>,<, Dr. MacDonald? [DESC] None [TYPE] scholarly article>,<Leda [DESC] mythical character [TYPE] mythological Greek character>,<Shambala [DESC] town in Xiangcheng County, Sichuan [TYPE] township in China>,<BIOLUMINESCENT DINOFLAGELLATES , [DESC] None [TYPE] scholarly article>,<चावङी बाजार , चाँदनी चौक , दिल्ली [DESC] None [TYPE] None>,<Palamedes [DESC] mythical son of Nauplius [TYPE] mythological Greek character>,<Blur [DESC] English alternative rock band [TYPE] musical group>,<Prem Nazir filmography [DESC] filmography [TYPE] filmography>,<Kalahandi Balangir Koraput Region [DESC] region in Odisha, India [TYPE] None>,<Mees , maal [DESC] None [TYPE] painting>,<Eudoros [DESC] Greek mythical character, leader of the Myrmidons [TYPE] mythological Greek character>,<Govt. V.H.S.S Aranmula [DESC] School in Pathanamthitta district, Kerala [TYPE] state school>,<Wadada Okobo Dori , Tokyo , Jabaan [DESC] None [TYPE] None>,<Phosphorus [DESC] personification of the Morning Star in Greek and Roman mythology [TYPE] personification>,<Hecuba [DESC] spouse of king Priam [TYPE] king>,<Glyn, , , [DESC] Grid Reference: UN Address: , , Materials Monument Type: CHAPEL Form: Documents [TYPE] chapel>,<Worth [DESC] municipality in Schleswig-Holstein, Germany [TYPE] non-urban municipality of Germany>,<Hesperus [DESC] personification of the planet Venus or its manifestation in the evening [TYPE] Greek deity>,<Prem Nazir Award [DESC] None [TYPE] None>,<महेन्द्रनाथ मंदिर , सिवान , बिहार [DESC] None [TYPE] None>,<कौङिया पुल , चाँदनी चौक , दिल्ली [DESC] None [TYPE] None>,<Sakti [DESC] human settlement in Leh district [TYPE] village in India>,<Results on , , from KEDR [DESC] None [TYPE] scholarly article>,<CORDOBA , KAUGE [DESC] None [TYPE] literary work>,<saigner [DESC] conjugation table for French verb [TYPE] conjugation table for French verb>,<Lac Routhier [DESC] lake in Rouyn-Noranda, Quebec, Canada [TYPE] lake>,<Annebergssjöns , public beach [DESC] public beach in Värnamo Municipality, Sweden [TYPE] bathing site>,<المشرف , حجاجة [DESC] village in Hajjah Governorate, Yemen [TYPE] human settlement>,<G.D.C. , Dhanpuri [DESC] college affiliated to the Awadhesh Pratap Singh University [TYPE] college>,<एस्प्लेनेड मार्ग , चाँदनी चौक , दिल्ली [DESC] None [TYPE] None>,. What is the correct referent entity for the entity mention ’Prem Nazir , V.k.Ramasamy , Devika’? Answer with just a candidate, selected from the provided referent entity candidates list, and nothing else. The selected candidate must be reported verbatim from the list provided as input. Each candidate in the list is enclosed between < and > and reports [DESC] and [TYPE] information.\\n\\n### Response:\",\n",
       " 'tokenized': {'input_ids': tensor([[    1, 13866,   338,  ..., 29937, 13291, 29901]]), 'attention_mask': tensor([[1, 1, 1,  ..., 1, 1, 1]])}}"
      ]
     },
     "execution_count": 24,
     "metadata": {},
     "output_type": "execute_result"
    }
   ],
   "source": [
    "# p"
   ]
  },
  {
   "cell_type": "code",
   "execution_count": 26,
   "id": "6ce3da5c",
   "metadata": {},
   "outputs": [
    {
     "data": {
      "text/plain": [
       "0       49\n",
       "1       50\n",
       "2       49\n",
       "3       49\n",
       "4       49\n",
       "        ..\n",
       "1796    50\n",
       "1797    55\n",
       "1798    50\n",
       "1799    49\n",
       "1800    49\n",
       "Name: cand, Length: 1801, dtype: int64"
      ]
     },
     "execution_count": 26,
     "metadata": {},
     "output_type": "execute_result"
    }
   ],
   "source": [
    "pl.cand.str.len()"
   ]
  },
  {
   "cell_type": "code",
   "execution_count": 27,
   "id": "27f79624",
   "metadata": {},
   "outputs": [
    {
     "data": {
      "text/plain": [
       "0       50\n",
       "1       51\n",
       "2       50\n",
       "3       50\n",
       "4       50\n",
       "        ..\n",
       "1796    51\n",
       "1797    53\n",
       "1798    51\n",
       "1799    50\n",
       "1800    50\n",
       "Name: cand_len, Length: 1801, dtype: int64"
      ]
     },
     "execution_count": 27,
     "metadata": {},
     "output_type": "execute_result"
    }
   ],
   "source": [
    "pl.cand_len"
   ]
  },
  {
   "cell_type": "code",
   "execution_count": 28,
   "id": "dab239ca",
   "metadata": {},
   "outputs": [
    {
     "data": {
      "text/html": [
       "<div>\n",
       "<style scoped>\n",
       "    .dataframe tbody tr th:only-of-type {\n",
       "        vertical-align: middle;\n",
       "    }\n",
       "\n",
       "    .dataframe tbody tr th {\n",
       "        vertical-align: top;\n",
       "    }\n",
       "\n",
       "    .dataframe thead th {\n",
       "        text-align: right;\n",
       "    }\n",
       "</style>\n",
       "<table border=\"1\" class=\"dataframe\">\n",
       "  <thead>\n",
       "    <tr style=\"text-align: right;\">\n",
       "      <th></th>\n",
       "      <th>pid</th>\n",
       "      <th>char_len</th>\n",
       "      <th>tok_len</th>\n",
       "      <th>cand_len</th>\n",
       "      <th>cand_pos</th>\n",
       "      <th>cand</th>\n",
       "      <th>cand_clean</th>\n",
       "      <th>cand_pos_first</th>\n",
       "    </tr>\n",
       "  </thead>\n",
       "  <tbody>\n",
       "    <tr>\n",
       "      <th>0</th>\n",
       "      <td>0</td>\n",
       "      <td>5932</td>\n",
       "      <td>2046</td>\n",
       "      <td>50</td>\n",
       "      <td>[25]</td>\n",
       "      <td>[Petaling Jaya City Council [DESC] None [TYPE]...</td>\n",
       "      <td>[Petaling Jaya City Council [DESC] None [TYPE]...</td>\n",
       "      <td>25</td>\n",
       "    </tr>\n",
       "    <tr>\n",
       "      <th>1</th>\n",
       "      <td>1</td>\n",
       "      <td>6254</td>\n",
       "      <td>1960</td>\n",
       "      <td>51</td>\n",
       "      <td>[7]</td>\n",
       "      <td>[flag of Eritrea [DESC] flag [TYPE] national f...</td>\n",
       "      <td>[flag of Eritrea [DESC] flag [TYPE] national f...</td>\n",
       "      <td>7</td>\n",
       "    </tr>\n",
       "    <tr>\n",
       "      <th>2</th>\n",
       "      <td>2</td>\n",
       "      <td>7084</td>\n",
       "      <td>2341</td>\n",
       "      <td>50</td>\n",
       "      <td>[22]</td>\n",
       "      <td>[David R. Macdonald Papers (NAID 649130) [DESC...</td>\n",
       "      <td>[David R. Macdonald Papers (NAID 649130) [DESC...</td>\n",
       "      <td>22</td>\n",
       "    </tr>\n",
       "    <tr>\n",
       "      <th>3</th>\n",
       "      <td>3</td>\n",
       "      <td>8322</td>\n",
       "      <td>2801</td>\n",
       "      <td>50</td>\n",
       "      <td>[16]</td>\n",
       "      <td>[3218 Delphine [DESC] asteroid [TYPE] asteroid...</td>\n",
       "      <td>[3218 Delphine [DESC] asteroid [TYPE] asteroid...</td>\n",
       "      <td>16</td>\n",
       "    </tr>\n",
       "    <tr>\n",
       "      <th>4</th>\n",
       "      <td>4</td>\n",
       "      <td>5771</td>\n",
       "      <td>1931</td>\n",
       "      <td>50</td>\n",
       "      <td>[25]</td>\n",
       "      <td>[Cleaning Pots [DESC] painting by Louis Mettli...</td>\n",
       "      <td>[Cleaning Pots [DESC] painting by Louis Mettli...</td>\n",
       "      <td>25</td>\n",
       "    </tr>\n",
       "    <tr>\n",
       "      <th>...</th>\n",
       "      <td>...</td>\n",
       "      <td>...</td>\n",
       "      <td>...</td>\n",
       "      <td>...</td>\n",
       "      <td>...</td>\n",
       "      <td>...</td>\n",
       "      <td>...</td>\n",
       "      <td>...</td>\n",
       "    </tr>\n",
       "    <tr>\n",
       "      <th>1796</th>\n",
       "      <td>1796</td>\n",
       "      <td>11211</td>\n",
       "      <td>4548</td>\n",
       "      <td>51</td>\n",
       "      <td>[12]</td>\n",
       "      <td>[, 2nd edition [DESC] None [TYPE] scholarly ar...</td>\n",
       "      <td>[, 2nd edition [DESC] None [TYPE] scholarly ar...</td>\n",
       "      <td>12</td>\n",
       "    </tr>\n",
       "    <tr>\n",
       "      <th>1797</th>\n",
       "      <td>1797</td>\n",
       "      <td>19596</td>\n",
       "      <td>5464</td>\n",
       "      <td>53</td>\n",
       "      <td>[21]</td>\n",
       "      <td>[A Manual of the Climate and Diseases of Tropi...</td>\n",
       "      <td>[A Manual of the Climate and Diseases of Tropi...</td>\n",
       "      <td>21</td>\n",
       "    </tr>\n",
       "    <tr>\n",
       "      <th>1798</th>\n",
       "      <td>1798</td>\n",
       "      <td>11557</td>\n",
       "      <td>2907</td>\n",
       "      <td>51</td>\n",
       "      <td>[8]</td>\n",
       "      <td>[Glacier Park International Airport [DESC] reg...</td>\n",
       "      <td>[Glacier Park International Airport [DESC] reg...</td>\n",
       "      <td>8</td>\n",
       "    </tr>\n",
       "    <tr>\n",
       "      <th>1799</th>\n",
       "      <td>1799</td>\n",
       "      <td>10639</td>\n",
       "      <td>2717</td>\n",
       "      <td>50</td>\n",
       "      <td>[47]</td>\n",
       "      <td>[Southfield [DESC] suburb of Cape Town, South ...</td>\n",
       "      <td>[Southfield [DESC] suburb of Cape Town, South ...</td>\n",
       "      <td>47</td>\n",
       "    </tr>\n",
       "    <tr>\n",
       "      <th>1800</th>\n",
       "      <td>1800</td>\n",
       "      <td>5953</td>\n",
       "      <td>1824</td>\n",
       "      <td>50</td>\n",
       "      <td>[6]</td>\n",
       "      <td>[Gilbert [DESC] city in Saint Louis County, Mi...</td>\n",
       "      <td>[Gilbert [DESC] city in Saint Louis County, Mi...</td>\n",
       "      <td>6</td>\n",
       "    </tr>\n",
       "  </tbody>\n",
       "</table>\n",
       "<p>1801 rows × 8 columns</p>\n",
       "</div>"
      ],
      "text/plain": [
       "       pid  char_len  tok_len  cand_len cand_pos  \\\n",
       "0        0      5932     2046        50     [25]   \n",
       "1        1      6254     1960        51      [7]   \n",
       "2        2      7084     2341        50     [22]   \n",
       "3        3      8322     2801        50     [16]   \n",
       "4        4      5771     1931        50     [25]   \n",
       "...    ...       ...      ...       ...      ...   \n",
       "1796  1796     11211     4548        51     [12]   \n",
       "1797  1797     19596     5464        53     [21]   \n",
       "1798  1798     11557     2907        51      [8]   \n",
       "1799  1799     10639     2717        50     [47]   \n",
       "1800  1800      5953     1824        50      [6]   \n",
       "\n",
       "                                                   cand  \\\n",
       "0     [Petaling Jaya City Council [DESC] None [TYPE]...   \n",
       "1     [flag of Eritrea [DESC] flag [TYPE] national f...   \n",
       "2     [David R. Macdonald Papers (NAID 649130) [DESC...   \n",
       "3     [3218 Delphine [DESC] asteroid [TYPE] asteroid...   \n",
       "4     [Cleaning Pots [DESC] painting by Louis Mettli...   \n",
       "...                                                 ...   \n",
       "1796  [, 2nd edition [DESC] None [TYPE] scholarly ar...   \n",
       "1797  [A Manual of the Climate and Diseases of Tropi...   \n",
       "1798  [Glacier Park International Airport [DESC] reg...   \n",
       "1799  [Southfield [DESC] suburb of Cape Town, South ...   \n",
       "1800  [Gilbert [DESC] city in Saint Louis County, Mi...   \n",
       "\n",
       "                                             cand_clean  cand_pos_first  \n",
       "0     [Petaling Jaya City Council [DESC] None [TYPE]...              25  \n",
       "1     [flag of Eritrea [DESC] flag [TYPE] national f...               7  \n",
       "2     [David R. Macdonald Papers (NAID 649130) [DESC...              22  \n",
       "3     [3218 Delphine [DESC] asteroid [TYPE] asteroid...              16  \n",
       "4     [Cleaning Pots [DESC] painting by Louis Mettli...              25  \n",
       "...                                                 ...             ...  \n",
       "1796  [, 2nd edition [DESC] None [TYPE] scholarly ar...              12  \n",
       "1797  [A Manual of the Climate and Diseases of Tropi...              21  \n",
       "1798  [Glacier Park International Airport [DESC] reg...               8  \n",
       "1799  [Southfield [DESC] suburb of Cape Town, South ...              47  \n",
       "1800  [Gilbert [DESC] city in Saint Louis County, Mi...               6  \n",
       "\n",
       "[1801 rows x 8 columns]"
      ]
     },
     "execution_count": 28,
     "metadata": {},
     "output_type": "execute_result"
    }
   ],
   "source": [
    "pl"
   ]
  },
  {
   "cell_type": "code",
   "execution_count": 21,
   "id": "ed1b72fd",
   "metadata": {},
   "outputs": [
    {
     "data": {
      "text/plain": [
       "[', 2nd edition [DESC] None [TYPE] scholarly article',\n",
       " 'Charis [DESC] given name [TYPE] unisex given name',\n",
       " 'Hyas [DESC] mythical character [TYPE] mythological Greek character',\n",
       " 'Districts under Central Government Jurisdiction [DESC] region of Tajikistan [TYPE] first-level administrative country subdivision',\n",
       " 'किनारी बाजार , चाँदनी चौक , दिल्ली [DESC] None [TYPE] None',\n",
       " 'croquer [DESC] conjugation table for French verb [TYPE] conjugation table for French verb',\n",
       " 'Cervidae [DESC] family of even-toed ungulates [TYPE] taxon',\n",
       " 'दरीबा कलाँ , चाँदनी चौक , दिल्ली [DESC] None [TYPE] None',\n",
       " 'Menesthius [DESC] son of Spercheus in Greek mythology [TYPE] mythological Greek character',\n",
       " 'The Estrogen Receptors , , and cx [DESC] scientific article published on 01 November 2005 [TYPE] scholarly article',\n",
       " 'Asteria [DESC] in Greek mythology, a name attributed to any of eleven individual characters [TYPE] set of mythological Greek characters',\n",
       " 'Johnson [DESC] town in Lamoille County, Vermont, United States [TYPE] New England town',\n",
       " 'Prem Nazir [DESC] Indian actor [TYPE] actor',\n",
       " 'Castor and Pollux [DESC] Greek mythical siblings [TYPE] couple of mythological Greek characters',\n",
       " 'A Shipyard , Shoreham , Sussex [DESC] painting by Wilson Steer [TYPE] painting',\n",
       " 'सदर बाजार , पहाङगंज , दिल्ली [DESC] None [TYPE] None',\n",
       " 'San Sebastián de Yalí [DESC] municipality in Jinotega Department, Nicaragua [TYPE] municipality of Nicaragua',\n",
       " 'London, Paris, New York [DESC] 2012 film by Anuradha Menon [TYPE] film',\n",
       " 'Alpheus [DESC] river and river god in Greek mythology [TYPE] Potamoi',\n",
       " 'पहाङी धीरज , पहाङगंज , दिल्ली [DESC] None [TYPE] None',\n",
       " ', Dr. MacDonald? [DESC] None [TYPE] scholarly article',\n",
       " 'Leda [DESC] mythical character [TYPE] mythological Greek character',\n",
       " 'Shambala [DESC] town in Xiangcheng County, Sichuan [TYPE] township in China',\n",
       " 'BIOLUMINESCENT DINOFLAGELLATES , [DESC] None [TYPE] scholarly article',\n",
       " 'चावङी बाजार , चाँदनी चौक , दिल्ली [DESC] None [TYPE] None',\n",
       " 'Palamedes [DESC] mythical son of Nauplius [TYPE] mythological Greek character',\n",
       " 'Blur [DESC] English alternative rock band [TYPE] musical group',\n",
       " 'Prem Nazir filmography [DESC] filmography [TYPE] filmography',\n",
       " 'Kalahandi Balangir Koraput Region [DESC] region in Odisha, India [TYPE] None',\n",
       " 'Mees , maal [DESC] None [TYPE] painting',\n",
       " 'Eudoros [DESC] Greek mythical character, leader of the Myrmidons [TYPE] mythological Greek character',\n",
       " 'Govt. V.H.S.S Aranmula [DESC] School in Pathanamthitta district, Kerala [TYPE] state school',\n",
       " 'Wadada Okobo Dori , Tokyo , Jabaan [DESC] None [TYPE] None',\n",
       " 'Phosphorus [DESC] personification of the Morning Star in Greek and Roman mythology [TYPE] personification',\n",
       " 'Hecuba [DESC] spouse of king Priam [TYPE] king',\n",
       " 'Glyn, , , [DESC] Grid Reference: UN Address: , , Materials Monument Type: CHAPEL Form: Documents [TYPE] chapel',\n",
       " 'Worth [DESC] municipality in Schleswig-Holstein, Germany [TYPE] non-urban municipality of Germany',\n",
       " 'Hesperus [DESC] personification of the planet Venus or its manifestation in the evening [TYPE] Greek deity',\n",
       " 'Prem Nazir Award [DESC] None [TYPE] None',\n",
       " 'महेन्द्रनाथ मंदिर , सिवान , बिहार [DESC] None [TYPE] None',\n",
       " 'कौङिया पुल , चाँदनी चौक , दिल्ली [DESC] None [TYPE] None',\n",
       " 'Sakti [DESC] human settlement in Leh district [TYPE] village in India',\n",
       " 'Results on , , from KEDR [DESC] None [TYPE] scholarly article',\n",
       " 'CORDOBA , KAUGE [DESC] None [TYPE] literary work',\n",
       " 'saigner [DESC] conjugation table for French verb [TYPE] conjugation table for French verb',\n",
       " 'Lac Routhier [DESC] lake in Rouyn-Noranda, Quebec, Canada [TYPE] lake',\n",
       " 'Annebergssjöns , public beach [DESC] public beach in Värnamo Municipality, Sweden [TYPE] bathing site',\n",
       " 'المشرف , حجاجة [DESC] village in Hajjah Governorate, Yemen [TYPE] human settlement',\n",
       " 'G.D.C. , Dhanpuri [DESC] college affiliated to the Awadhesh Pratap Singh University [TYPE] college',\n",
       " 'एस्प्लेनेड मार्ग , चाँदनी चौक , दिल्ली [DESC] None [TYPE] None']"
      ]
     },
     "execution_count": 21,
     "metadata": {},
     "output_type": "execute_result"
    }
   ],
   "source": [
    "pl.loc[1796]['cand_clean']"
   ]
  },
  {
   "cell_type": "code",
   "execution_count": 2,
   "id": "964dad10",
   "metadata": {},
   "outputs": [],
   "source": [
    "DEVICE = \"mps\"\n",
    "\n",
    "class BaseEntailment:\n",
    "    def save_prediction_cache(self):\n",
    "        pass\n",
    "\n",
    "\n",
    "class EntailmentDeberta(BaseEntailment):\n",
    "    def __init__(self):\n",
    "        self.tokenizer = AutoTokenizer.from_pretrained(\"microsoft/deberta-v2-xlarge-mnli\")\n",
    "        self.model = AutoModelForSequenceClassification.from_pretrained(\n",
    "            \"microsoft/deberta-v2-xlarge-mnli\").to(DEVICE)\n",
    "\n",
    "    def check_implication(self, text1, text2, *args, **kwargs):\n",
    "        inputs = self.tokenizer(text1, text2, return_tensors=\"pt\").to(DEVICE)\n",
    "        # The model checks if text1 -> text2, i.e. if text2 follows from text1.\n",
    "        # check_implication('The weather is good', 'The weather is good and I like you') --> 1\n",
    "        # check_implication('The weather is good and I like you', 'The weather is good') --> 2\n",
    "        outputs = self.model(**inputs)\n",
    "        logits = outputs.logits\n",
    "        # Deberta-mnli returns `neutral` and `entailment` classes at indices 1 and 2.\n",
    "        largest_index = torch.argmax(F.softmax(logits, dim=1))  # pylint: disable=no-member\n",
    "        prediction = largest_index.cpu().item()\n",
    "\n",
    "        # print('Deberta Input: %s -> %s', text1, text2)\n",
    "        # print('Deberta Prediction: %s', prediction)\n",
    "\n",
    "        return prediction\n"
   ]
  },
  {
   "cell_type": "code",
   "execution_count": 3,
   "id": "c948e8c1",
   "metadata": {},
   "outputs": [
    {
     "data": {
      "application/vnd.jupyter.widget-view+json": {
       "model_id": "818f8dab6e1e456489c9abd8d299b1f1",
       "version_major": 2,
       "version_minor": 0
      },
      "text/plain": [
       "tokenizer_config.json:   0%|          | 0.00/70.0 [00:00<?, ?B/s]"
      ]
     },
     "metadata": {},
     "output_type": "display_data"
    },
    {
     "data": {
      "application/vnd.jupyter.widget-view+json": {
       "model_id": "c5a3352249644b168866ec4d0741aaed",
       "version_major": 2,
       "version_minor": 0
      },
      "text/plain": [
       "config.json:   0%|          | 0.00/952 [00:00<?, ?B/s]"
      ]
     },
     "metadata": {},
     "output_type": "display_data"
    },
    {
     "data": {
      "application/vnd.jupyter.widget-view+json": {
       "model_id": "e40763e7eda747b58f10c1619fc3c7f3",
       "version_major": 2,
       "version_minor": 0
      },
      "text/plain": [
       "spm.model:   0%|          | 0.00/2.45M [00:00<?, ?B/s]"
      ]
     },
     "metadata": {},
     "output_type": "display_data"
    },
    {
     "data": {
      "application/vnd.jupyter.widget-view+json": {
       "model_id": "41dbf4c6cc204a928c3ae018bd9759f0",
       "version_major": 2,
       "version_minor": 0
      },
      "text/plain": [
       "pytorch_model.bin:   0%|          | 0.00/1.77G [00:00<?, ?B/s]"
      ]
     },
     "metadata": {},
     "output_type": "display_data"
    }
   ],
   "source": [
    "model = EntailmentDeberta()"
   ]
  },
  {
   "cell_type": "code",
   "execution_count": 5,
   "id": "a6640406",
   "metadata": {},
   "outputs": [
    {
     "data": {
      "text/plain": [
       "2"
      ]
     },
     "execution_count": 5,
     "metadata": {},
     "output_type": "execute_result"
    }
   ],
   "source": [
    "s1 = \"today is sunny and when it is sunny I am happy\"\n",
    "s2 = \"today I am happy\"\n",
    "model.check_implication(s1, s2)"
   ]
  },
  {
   "cell_type": "code",
   "execution_count": null,
   "id": "af7159b1",
   "metadata": {},
   "outputs": [],
   "source": [
    "candidates = p['question'].split(',. What')[0].split('<')[1:]\n",
    "candidates = [c.replace('>,', '').replace('>', '') for c in candidates]"
   ]
  },
  {
   "cell_type": "code",
   "execution_count": null,
   "id": "1337fc8c",
   "metadata": {},
   "outputs": [],
   "source": [
    "# TODO scatterplot cohesion (embeddings and/or implication) VS output variability"
   ]
  }
 ],
 "metadata": {
  "kernelspec": {
   "display_name": "doubt",
   "language": "python",
   "name": "doubt"
  },
  "language_info": {
   "codemirror_mode": {
    "name": "ipython",
    "version": 3
   },
   "file_extension": ".py",
   "mimetype": "text/x-python",
   "name": "python",
   "nbconvert_exporter": "python",
   "pygments_lexer": "ipython3",
   "version": "3.8.10"
  }
 },
 "nbformat": 4,
 "nbformat_minor": 5
}

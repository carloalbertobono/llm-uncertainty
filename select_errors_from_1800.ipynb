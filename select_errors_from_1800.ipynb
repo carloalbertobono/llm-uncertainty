{
 "cells": [
  {
   "cell_type": "code",
   "execution_count": 1,
   "id": "d2ab59da",
   "metadata": {},
   "outputs": [],
   "source": [
    "import os\n",
    "import json\n",
    "import pandas as pd\n",
    "\n",
    "import torch\n",
    "import torch.nn.functional as F\n",
    "import transformers\n",
    "from transformers import AutoModelForSequenceClassification, AutoTokenizer"
   ]
  },
  {
   "cell_type": "code",
   "execution_count": 3,
   "id": "e332ca38",
   "metadata": {},
   "outputs": [],
   "source": [
    "file_path = \"turl_test_2k_prompts_50.jsonl\"\n",
    "device = torch.device(\"mps\")\n",
    "\n",
    "model_name = \"osunlp/TableLlama\"\n",
    "config = transformers.AutoConfig.from_pretrained(model_name)\n",
    "orig_ctx_len = getattr(config, \"max_position_embeddings\", None)\n",
    "tokenizer = AutoTokenizer.from_pretrained(model_name, model_max_length=orig_ctx_len, padding_side=\"left\", use_fast=False)"
   ]
  },
  {
   "cell_type": "code",
   "execution_count": 3,
   "id": "d387cd8a",
   "metadata": {},
   "outputs": [],
   "source": [
    "# prompt formatting\n",
    "\n",
    "PROMPT_DICT = {\n",
    "    \"prompt_input\": (\n",
    "        \"Below is an instruction that describes a task, paired with an input that provides further context. \"\n",
    "        \"Write a response that appropriately completes the request.\\n\\n\"\n",
    "        \"### Instruction:\\n{instruction}\\n\\n### Input:\\n{input_seg}\\n\\n### Question:\\n{question}\\n\\n### Response:\"\n",
    "    ),\n",
    "    \"prompt_no_input\": (\n",
    "        \"Below is an instruction that describes a task. \"\n",
    "        \"Write a response that appropriately completes the request.\\n\\n\"\n",
    "        \"### Instruction:\\n{instruction}\\n\\n### Response:\"\n",
    "    ),\n",
    "}\n",
    "\n",
    "def generate_prompt(instruction, question, input_seg=None):\n",
    "    question += \" Answer with just a candidate, selected from the provided referent entity candidates list, and nothing else. The selected candidate must be reported verbatim from the list provided as input. Each candidate in the list is enclosed between < and > and reports [DESC] and [TYPE] information.\"\n",
    "    if input_seg:\n",
    "        return PROMPT_DICT[\"prompt_input\"].format(instruction=instruction, input_seg=input_seg, question=question)\n",
    "    else:\n",
    "        return PROMPT_DICT[\"prompt_no_input\"].format(instruction=instruction)"
   ]
  },
  {
   "cell_type": "code",
   "execution_count": 4,
   "id": "947af3e0",
   "metadata": {},
   "outputs": [
    {
     "name": "stdout",
     "output_type": "stream",
     "text": [
      "total 37203968\r\n",
      "drwx------  1 bono  staff   1.0M Feb 17 08:52 \u001b[34m..\u001b[m\u001b[m\r\n",
      "-rwx------@ 1 bono  staff   4.4G Mar  7 12:23 \u001b[31mTableLlama.1548780410.pickle\u001b[m\u001b[m\r\n",
      "drwx------  1 bono  staff   1.0M Mar  7 14:45 \u001b[34m.\u001b[m\u001b[m\r\n",
      "-rwx------  1 bono  staff   4.0K Mar  7 14:46 \u001b[31m._TableLlama.1548780410.pickle\u001b[m\u001b[m\r\n",
      "-rwx------@ 1 bono  staff   4.4G Mar  8 14:55 \u001b[31mTableLlama.2573653229.pickle\u001b[m\u001b[m\r\n",
      "-rwx------  1 bono  staff   4.0K Mar  8 14:56 \u001b[31m._TableLlama.2573653229.pickle\u001b[m\u001b[m\r\n",
      "-rwx------@ 1 bono  staff   4.4G Mar  9 10:21 \u001b[31mTableLlama.1765523202.pickle\u001b[m\u001b[m\r\n",
      "-rwx------  1 bono  staff   4.0K Mar  9 10:27 \u001b[31m._TableLlama.1765523202.pickle\u001b[m\u001b[m\r\n",
      "-rwx------@ 1 bono  staff   4.4G Mar 10 08:18 \u001b[31mTableLlama.940523022.pickle\u001b[m\u001b[m\r\n",
      "-rwx------  1 bono  staff   4.0K Mar 10 08:35 \u001b[31m._TableLlama.940523022.pickle\u001b[m\u001b[m\r\n"
     ]
    }
   ],
   "source": [
    "!ls -larth \"/Volumes/ssd/uncertainty/tablellama su 1800 prompts/\""
   ]
  },
  {
   "cell_type": "code",
   "execution_count": 7,
   "id": "e9d97183",
   "metadata": {},
   "outputs": [
    {
     "name": "stdout",
     "output_type": "stream",
     "text": [
      "TableLlama.1548780410.pickle\n",
      "TableLlama.1765523202.pickle\n",
      "TableLlama.2573653229.pickle\n",
      "TableLlama.940523022.pickle\n",
      "CPU times: user 1min 58s, sys: 49.7 s, total: 2min 48s\n",
      "Wall time: 2min 59s\n"
     ]
    },
    {
     "data": {
      "text/plain": [
       "7204"
      ]
     },
     "execution_count": 7,
     "metadata": {},
     "output_type": "execute_result"
    }
   ],
   "source": [
    "%%time\n",
    "\n",
    "# load processed data\n",
    "\n",
    "import os\n",
    "import pickle\n",
    "\n",
    "prefix = '/Volumes/ssd/uncertainty/tablellama su 1800 prompts/'\n",
    "\n",
    "run = 0\n",
    "\n",
    "outlist = []\n",
    "for file in os.listdir(prefix):\n",
    "    if file.endswith('pickle') and not file.startswith('.'):\n",
    "        print(file)\n",
    "        with open(os.path.join(prefix, file), 'rb') as handle:\n",
    "            outlist_ = pickle.load(handle)\n",
    "           \n",
    "            for pid, o in enumerate(outlist_):\n",
    "                del o['pre_output_proba_topn']\n",
    "                del o['pre_output_proba_topk']\n",
    "                del o['pre_output_true_entropies']\n",
    "                del o['post_output_proba_topn']\n",
    "                del o['post_output_proba_topk']\n",
    "                del o['post_output_true_entropies']\n",
    "                o['run'] = run\n",
    "                o['pid'] = pid\n",
    "                outlist.append(o)\n",
    "        run += 1\n",
    "\n",
    "len(outlist)"
   ]
  },
  {
   "cell_type": "code",
   "execution_count": 5,
   "id": "cc6ce8d3",
   "metadata": {},
   "outputs": [],
   "source": [
    "import pickle\n",
    "\n",
    "if False:\n",
    "    with open('1800.pickle', 'wb') as handle:\n",
    "        pickle.dump(outlist, handle, protocol=pickle.HIGHEST_PROTOCOL)\n",
    "else:\n",
    "    with open('1800.pickle', 'rb') as handle:\n",
    "        outlist = pickle.load(handle)"
   ]
  },
  {
   "cell_type": "code",
   "execution_count": 6,
   "id": "ab98ed2b",
   "metadata": {},
   "outputs": [
    {
     "data": {
      "text/plain": [
       "7204"
      ]
     },
     "execution_count": 6,
     "metadata": {},
     "output_type": "execute_result"
    }
   ],
   "source": [
    "len(outlist)"
   ]
  },
  {
   "cell_type": "markdown",
   "id": "f007b83e",
   "metadata": {},
   "source": [
    "### check outputs against ground truth"
   ]
  },
  {
   "cell_type": "code",
   "execution_count": 7,
   "id": "8b59b037",
   "metadata": {},
   "outputs": [
    {
     "name": "stderr",
     "output_type": "stream",
     "text": [
      "Token indices sequence length is longer than the specified maximum sequence length for this model (4857 > 4096). Running this sequence through the model will result in indexing errors\n"
     ]
    },
    {
     "name": "stdout",
     "output_type": "stream",
     "text": [
      "CPU times: user 1min 8s, sys: 2.28 s, total: 1min 11s\n",
      "Wall time: 1min 15s\n"
     ]
    }
   ],
   "source": [
    "%%time\n",
    "\n",
    "# show results\n",
    "\n",
    "c=0\n",
    "t=0\n",
    "h=0\n",
    "\n",
    "truth = []\n",
    "\n",
    "for idx, p in enumerate(outlist):\n",
    "    print(idx, end='\\r')\n",
    "    c+=1\n",
    "    # in\n",
    "    prompt = generate_prompt(p[\"instruction\"], p[\"question\"], p[\"input\"])\n",
    "    inputs = tokenizer(prompt, return_tensors=\"pt\").to(device)\n",
    "    # computed\n",
    "    # post_output_scores = p['post_output_scores']\n",
    "    post_output_sequences = p['post_output_sequences']\n",
    "    # bases\n",
    "    baseid = len(inputs[\"input_ids\"][0]) + 1\n",
    "    endid = len(post_output_sequences[0])\n",
    "    # lookout\n",
    "    generated_ids = post_output_sequences\n",
    "    generated_text = tokenizer.decode(generated_ids[0][baseid:endid], skip_special_tokens=True)\n",
    "    # print\n",
    "    # print(generated_text)\n",
    "    # print(p['output'])\n",
    "    # print('\\n')\n",
    "    #test\n",
    "    a = generated_text.lower().strip()\n",
    "    b = p['output'].lower().strip()\n",
    "    # correct\n",
    "    correct = False\n",
    "    if (a in b) or (b in a) or (b.startswith(a)) or (a.startswith(b)): \n",
    "        correct = True\n",
    "        t+=1\n",
    "    # hallucinated\n",
    "    elif a not in prompt.lower().strip(): \n",
    "        h+=1\n",
    "    # incorrect\n",
    "    else:\n",
    "        pass\n",
    "        #print(generated_text)\n",
    "        #print(p['output'])\n",
    "        #print('\\n')\n",
    "        # print(prompt)\n",
    "        # print('\\n')\n",
    "        \n",
    "    truth.append((p['run'], p['pid'], correct))"
   ]
  },
  {
   "cell_type": "code",
   "execution_count": 8,
   "id": "bc34a25d",
   "metadata": {},
   "outputs": [],
   "source": [
    "truth = pd.DataFrame(truth, columns=['run', 'pid', 'correct'])"
   ]
  },
  {
   "cell_type": "code",
   "execution_count": 9,
   "id": "9840ce60",
   "metadata": {},
   "outputs": [
    {
     "data": {
      "text/plain": [
       "4    1801\n",
       "Name: count, dtype: int64"
      ]
     },
     "execution_count": 9,
     "metadata": {},
     "output_type": "execute_result"
    }
   ],
   "source": [
    "truth.groupby('pid').size().value_counts()"
   ]
  },
  {
   "cell_type": "code",
   "execution_count": 10,
   "id": "583aa919",
   "metadata": {},
   "outputs": [
    {
     "data": {
      "text/plain": [
       "<Axes: xlabel='correct', ylabel='Count'>"
      ]
     },
     "execution_count": 10,
     "metadata": {},
     "output_type": "execute_result"
    },
    {
     "data": {
      "image/png": "[encoded data removed]",
      "text/plain": [
       "<Figure size 640x480 with 1 Axes>"
      ]
     },
     "metadata": {},
     "output_type": "display_data"
    }
   ],
   "source": [
    "import seaborn as sns\n",
    "sns.histplot(truth.groupby('pid').correct.mean())"
   ]
  },
  {
   "cell_type": "code",
   "execution_count": 11,
   "id": "52c9aeb5",
   "metadata": {},
   "outputs": [],
   "source": [
    "accu = truth.groupby('pid').correct.mean()"
   ]
  },
  {
   "cell_type": "code",
   "execution_count": 12,
   "id": "0efd3d11",
   "metadata": {},
   "outputs": [
    {
     "data": {
      "text/plain": [
       "(344,)"
      ]
     },
     "execution_count": 12,
     "metadata": {},
     "output_type": "execute_result"
    }
   ],
   "source": [
    "accu[accu<1.].shape"
   ]
  },
  {
   "cell_type": "code",
   "execution_count": 13,
   "id": "62c5662a",
   "metadata": {},
   "outputs": [
    {
     "data": {
      "text/plain": [
       "correct\n",
       "0.00    125\n",
       "0.75    107\n",
       "0.50     78\n",
       "0.25     34\n",
       "Name: count, dtype: int64"
      ]
     },
     "execution_count": 13,
     "metadata": {},
     "output_type": "execute_result"
    }
   ],
   "source": [
    "accu[accu<1.].value_counts()"
   ]
  },
  {
   "cell_type": "code",
   "execution_count": 14,
   "id": "137c9ae3",
   "metadata": {},
   "outputs": [],
   "source": [
    "# all prompts with errors plus a sample of noerrors\n",
    "err_idx = accu[accu<1.].index.tolist()\n",
    "noerr_idx = accu[accu==1.].sample(len(accu[accu<1.]), random_state=42).index.tolist()"
   ]
  },
  {
   "cell_type": "code",
   "execution_count": 15,
   "id": "6f19ee6f",
   "metadata": {},
   "outputs": [
    {
     "data": {
      "text/plain": [
       "set()"
      ]
     },
     "execution_count": 15,
     "metadata": {},
     "output_type": "execute_result"
    }
   ],
   "source": [
    "set(err_idx) & set(noerr_idx)"
   ]
  },
  {
   "cell_type": "code",
   "execution_count": 16,
   "id": "80143637",
   "metadata": {},
   "outputs": [
    {
     "data": {
      "text/plain": [
       "688"
      ]
     },
     "execution_count": 16,
     "metadata": {},
     "output_type": "execute_result"
    }
   ],
   "source": [
    "selected_pids = set(err_idx) | set(noerr_idx)\n",
    "len(selected_pids)"
   ]
  },
  {
   "cell_type": "code",
   "execution_count": 17,
   "id": "a1f3417c",
   "metadata": {},
   "outputs": [
    {
     "name": "stdout",
     "output_type": "stream",
     "text": [
      "TableLlama.1548780410.pickle\n",
      "TableLlama.1765523202.pickle\n",
      "TableLlama.2573653229.pickle\n",
      "TableLlama.940523022.pickle\n",
      "CPU times: user 2min 20s, sys: 2min 3s, total: 4min 23s\n",
      "Wall time: 5min 10s\n"
     ]
    },
    {
     "data": {
      "text/plain": [
       "2752"
      ]
     },
     "execution_count": 17,
     "metadata": {},
     "output_type": "execute_result"
    }
   ],
   "source": [
    "%%time\n",
    "\n",
    "# load processed data\n",
    "\n",
    "import os\n",
    "import pickle\n",
    "\n",
    "prefix = '/Volumes/ssd/uncertainty/tablellama su 1800 prompts/'\n",
    "\n",
    "run = 0\n",
    "\n",
    "outlist = []\n",
    "for file in os.listdir(prefix):\n",
    "    if file.endswith('pickle') and not file.startswith('.'):\n",
    "        print(file)\n",
    "        with open(os.path.join(prefix, file), 'rb') as handle:\n",
    "            outlist_ = pickle.load(handle)\n",
    "           \n",
    "            for pid, o in enumerate(outlist_):\n",
    "                if pid in selected_pids:\n",
    "                    o['run'] = run\n",
    "                    o['pid'] = pid\n",
    "                    outlist.append(o)\n",
    "        run += 1\n",
    "\n",
    "len(outlist)"
   ]
  },
  {
   "cell_type": "code",
   "execution_count": 60,
   "id": "4b4b62d8",
   "metadata": {},
   "outputs": [
    {
     "data": {
      "text/plain": [
       "dict_keys(['table', 'cell', 'instruction', 'input', 'question', 'output', 'pre_output_proba_topn', 'pre_output_proba_topk', 'pre_output_true_entropies', 'post_output_sequences', 'post_output_proba_topn', 'post_output_proba_topk', 'post_output_true_entropies', 'elapsed', 'run', 'pid'])"
      ]
     },
     "execution_count": 60,
     "metadata": {},
     "output_type": "execute_result"
    }
   ],
   "source": [
    "outlist[0].keys()"
   ]
  },
  {
   "cell_type": "code",
   "execution_count": null,
   "id": "4e57d940",
   "metadata": {},
   "outputs": [],
   "source": []
  },
  {
   "cell_type": "code",
   "execution_count": 18,
   "id": "b1beafeb",
   "metadata": {},
   "outputs": [
    {
     "data": {
      "text/plain": [
       "3"
      ]
     },
     "execution_count": 18,
     "metadata": {},
     "output_type": "execute_result"
    }
   ],
   "source": [
    "outlist[-1]['run']"
   ]
  },
  {
   "cell_type": "code",
   "execution_count": 19,
   "id": "8dc9317e",
   "metadata": {},
   "outputs": [],
   "source": [
    "import pickle\n",
    "with open('644.data.pickle', 'wb') as handle:\n",
    "    pickle.dump(outlist, handle, protocol=pickle.HIGHEST_PROTOCOL)"
   ]
  },
  {
   "cell_type": "code",
   "execution_count": 56,
   "id": "749ad873",
   "metadata": {
    "scrolled": true
   },
   "outputs": [
    {
     "name": "stdout",
     "output_type": "stream",
     "text": [
      "total 43159720\r\n",
      "-rw-r--r--@  1 bono  staff    15M May 14  2024 turl_test_2k_prompts_50.jsonl\r\n",
      "-rw-r--r--   1 bono  staff    17B Feb 10 10:37 README.md\r\n",
      "-rwx------@  1 bono  staff   4.8K Feb 19 14:05 \u001b[31mrunner.py\u001b[m\u001b[m\r\n",
      "-rw-r--r--   1 bono  staff   137M Feb 19 16:32 gemma-2-2b-it.3892595837.pickle\r\n",
      "-rw-r--r--@  1 bono  staff   5.0K Feb 20 09:23 prompt100.py\r\n",
      "-rw-r--r--   1 bono  staff    16M Feb 20 20:07 tablellama.preprocessed.pickle\r\n",
      "-rw-r--r--@  1 bono  staff   5.2K Feb 20 21:04 prompt100tablellama.py\r\n",
      "-rw-r--r--   1 bono  staff   117M Feb 22 09:11 gemma-2-9b-it-4bit.3246737286.pickle\r\n",
      "drwxr-xr-x   4 bono  staff   128B Feb 27 07:56 \u001b[34mmirror\u001b[m\u001b[m\r\n",
      "drwxr-xr-x@ 11 bono  staff   352B Feb 27 08:19 \u001b[34m..\u001b[m\u001b[m\r\n",
      "-rw-r--r--@  1 bono  staff   5.3K Mar  2 14:55 prompt100gemmalocal.py\r\n",
      "-rw-r--r--   1 bono  staff   222K Mar  4 13:37 jensension.ipynb\r\n",
      "drwxr-xr-x   4 bono  staff   128B Mar  5 20:03 \u001b[34molder tablellama\u001b[m\u001b[m\r\n",
      "drwxr-xr-x  12 bono  staff   384B Mar  6 15:38 \u001b[34mtablellama10runs\u001b[m\u001b[m\r\n",
      "-rw-r--r--   1 bono  staff   450K Mar  6 16:03 tablellama-multipass.ipynb\r\n",
      "-rw-r--r--   1 bono  staff   450K Mar  6 16:09 tablellama-plot copy.ipynb\r\n",
      "drwxr-xr-x  16 bono  staff   512B Mar  6 17:50 \u001b[34m.git\u001b[m\u001b[m\r\n",
      "-rw-r--r--@  1 bono  staff   6.2K Mar  6 19:31 prompt_wip.py\r\n",
      "-rw-rw----@  1 bono  staff   1.3M Mar  7 14:52 delme.xlsx\r\n",
      "-rw-r--r--   1 bono  staff   726K Mar  7 15:06 logits-tablellama.ipynb\r\n",
      "-rw-r--r--   1 bono  staff   779K Mar  7 15:41 tablellama-plot.ipynb\r\n",
      "-rw-r--r--@  1 bono  staff   4.4G Mar  8 13:37 TableLlama.2573653229.pickle\r\n",
      "drwxr-xr-x   2 bono  staff    64B Mar  8 14:54 \u001b[34mtest\u001b[m\u001b[m\r\n",
      "-rw-r--r--@  1 bono  staff   8.0K Mar  8 14:54 .DS_Store\r\n",
      "-rw-r--r--@  1 bono  staff   4.4G Mar  9 10:21 TableLlama.1765523202.pickle\r\n",
      "-rw-r--r--@  1 bono  staff   4.4G Mar 10 08:18 TableLlama.940523022.pickle\r\n",
      "drwxr-xr-x   9 bono  staff   288B Mar 10 08:36 \u001b[34m.ipynb_checkpoints\u001b[m\u001b[m\r\n",
      "-rw-r--r--   1 bono  staff   127M Mar 10 08:46 1800.pickle\r\n",
      "-rw-r--r--   1 bono  staff    33K Mar 10 09:00 orrors.ipynb\r\n",
      "-rw-r--r--   1 bono  staff    17K Mar 10 09:02 cohesion.ipynb\r\n",
      "drwxr-xr-x  32 bono  staff   1.0K Mar 10 09:02 \u001b[34m.\u001b[m\u001b[m\r\n",
      "-rw-r--r--   1 bono  staff   6.9G Mar 10 09:02 1800.data.pickle\r\n"
     ]
    }
   ],
   "source": [
    "!ls -larth"
   ]
  },
  {
   "cell_type": "markdown",
   "id": "e5fbbdca",
   "metadata": {},
   "source": [
    "### DELETE ME"
   ]
  },
  {
   "cell_type": "code",
   "execution_count": 1,
   "id": "08531053",
   "metadata": {},
   "outputs": [
    {
     "ename": "FileNotFoundError",
     "evalue": "[Errno 2] No such file or directory: './644sample/644.data.pickle'",
     "output_type": "error",
     "traceback": [
      "\u001b[0;31m---------------------------------------------------------------------------\u001b[0m",
      "\u001b[0;31mFileNotFoundError\u001b[0m                         Traceback (most recent call last)",
      "Cell \u001b[0;32mIn[1], line 2\u001b[0m\n\u001b[1;32m      1\u001b[0m \u001b[38;5;28;01mimport\u001b[39;00m \u001b[38;5;21;01mpickle\u001b[39;00m\n\u001b[0;32m----> 2\u001b[0m \u001b[38;5;28;01mwith\u001b[39;00m \u001b[38;5;28;43mopen\u001b[39;49m\u001b[43m(\u001b[49m\u001b[38;5;124;43m'\u001b[39;49m\u001b[38;5;124;43m./644sample/644.data.pickle\u001b[39;49m\u001b[38;5;124;43m'\u001b[39;49m\u001b[43m,\u001b[49m\u001b[43m \u001b[49m\u001b[38;5;124;43m'\u001b[39;49m\u001b[38;5;124;43mrb\u001b[39;49m\u001b[38;5;124;43m'\u001b[39;49m\u001b[43m)\u001b[49m \u001b[38;5;28;01mas\u001b[39;00m handle:\n\u001b[1;32m      3\u001b[0m     selected \u001b[38;5;241m=\u001b[39m pickle\u001b[38;5;241m.\u001b[39mload(handle)\n",
      "File \u001b[0;32m~/miniforge3/envs/doubt/lib/python3.8/site-packages/IPython/core/interactiveshell.py:284\u001b[0m, in \u001b[0;36m_modified_open\u001b[0;34m(file, *args, **kwargs)\u001b[0m\n\u001b[1;32m    277\u001b[0m \u001b[38;5;28;01mif\u001b[39;00m file \u001b[38;5;129;01min\u001b[39;00m {\u001b[38;5;241m0\u001b[39m, \u001b[38;5;241m1\u001b[39m, \u001b[38;5;241m2\u001b[39m}:\n\u001b[1;32m    278\u001b[0m     \u001b[38;5;28;01mraise\u001b[39;00m \u001b[38;5;167;01mValueError\u001b[39;00m(\n\u001b[1;32m    279\u001b[0m         \u001b[38;5;124mf\u001b[39m\u001b[38;5;124m\"\u001b[39m\u001b[38;5;124mIPython won\u001b[39m\u001b[38;5;124m'\u001b[39m\u001b[38;5;124mt let you open fd=\u001b[39m\u001b[38;5;132;01m{\u001b[39;00mfile\u001b[38;5;132;01m}\u001b[39;00m\u001b[38;5;124m by default \u001b[39m\u001b[38;5;124m\"\u001b[39m\n\u001b[1;32m    280\u001b[0m         \u001b[38;5;124m\"\u001b[39m\u001b[38;5;124mas it is likely to crash IPython. If you know what you are doing, \u001b[39m\u001b[38;5;124m\"\u001b[39m\n\u001b[1;32m    281\u001b[0m         \u001b[38;5;124m\"\u001b[39m\u001b[38;5;124myou can use builtins\u001b[39m\u001b[38;5;124m'\u001b[39m\u001b[38;5;124m open.\u001b[39m\u001b[38;5;124m\"\u001b[39m\n\u001b[1;32m    282\u001b[0m     )\n\u001b[0;32m--> 284\u001b[0m \u001b[38;5;28;01mreturn\u001b[39;00m \u001b[43mio_open\u001b[49m\u001b[43m(\u001b[49m\u001b[43mfile\u001b[49m\u001b[43m,\u001b[49m\u001b[43m \u001b[49m\u001b[38;5;241;43m*\u001b[39;49m\u001b[43margs\u001b[49m\u001b[43m,\u001b[49m\u001b[43m \u001b[49m\u001b[38;5;241;43m*\u001b[39;49m\u001b[38;5;241;43m*\u001b[39;49m\u001b[43mkwargs\u001b[49m\u001b[43m)\u001b[49m\n",
      "\u001b[0;31mFileNotFoundError\u001b[0m: [Errno 2] No such file or directory: './644sample/644.data.pickle'"
     ]
    }
   ],
   "source": [
    "import pickle\n",
    "with open('./644sample/644.data.pickle', 'rb') as handle:\n",
    "    selected = pickle.load(handle)"
   ]
  },
  {
   "cell_type": "code",
   "execution_count": 5,
   "id": "c4ecdbbe",
   "metadata": {},
   "outputs": [
    {
     "data": {
      "text/plain": [
       "2752"
      ]
     },
     "execution_count": 5,
     "metadata": {},
     "output_type": "execute_result"
    }
   ],
   "source": [
    "len(selected)"
   ]
  },
  {
   "cell_type": "code",
   "execution_count": 8,
   "id": "6ae2df27",
   "metadata": {},
   "outputs": [
    {
     "data": {
      "text/plain": [
       "2752"
      ]
     },
     "execution_count": 8,
     "metadata": {},
     "output_type": "execute_result"
    }
   ],
   "source": [
    "688*4"
   ]
  },
  {
   "cell_type": "code",
   "execution_count": 9,
   "id": "c3194b37",
   "metadata": {},
   "outputs": [
    {
     "name": "stdout",
     "output_type": "stream",
     "text": [
      "CPU times: user 3.22 ms, sys: 1.83 ms, total: 5.05 ms\n",
      "Wall time: 5.1 ms\n"
     ]
    }
   ],
   "source": [
    "%%time\n",
    "selected_pids = set([s['pid'] for s in selected])"
   ]
  },
  {
   "cell_type": "code",
   "execution_count": 14,
   "id": "0b627c05",
   "metadata": {},
   "outputs": [],
   "source": [
    "import pickle\n",
    "with open('selected_pids.688.pickle', 'wb') as handle:\n",
    "    pickle.dump(selected_pids, handle, protocol=pickle.HIGHEST_PROTOCOL)"
   ]
  },
  {
   "cell_type": "code",
   "execution_count": 15,
   "id": "98a006d1",
   "metadata": {},
   "outputs": [
    {
     "name": "stdout",
     "output_type": "stream",
     "text": [
      "total 3810400\r\n",
      "-rw-r--r--@  1 bono  staff    15M May 14  2024 turl_test_2k_prompts_50.jsonl\r\n",
      "-rw-r--r--   1 bono  staff    17B Feb 10 10:37 README.md\r\n",
      "-rwx------@  1 bono  staff   4.8K Feb 19 14:05 \u001b[31mrunner.py\u001b[m\u001b[m\r\n",
      "-rw-r--r--   1 bono  staff   137M Feb 19 16:32 gemma-2-2b-it.3892595837.pickle\r\n",
      "-rw-r--r--@  1 bono  staff   5.0K Feb 20 09:23 prompt100.py\r\n",
      "-rw-r--r--   1 bono  staff    16M Feb 20 20:07 tablellama.preprocessed.pickle\r\n",
      "-rw-r--r--@  1 bono  staff   5.2K Feb 20 21:04 prompt100tablellama.py\r\n",
      "-rw-r--r--   1 bono  staff   117M Feb 22 09:11 gemma-2-9b-it-4bit.3246737286.pickle\r\n",
      "drwxr-xr-x   4 bono  staff   128B Feb 27 07:56 \u001b[34mmirror\u001b[m\u001b[m\r\n",
      "drwxr-xr-x@ 11 bono  staff   352B Feb 27 08:19 \u001b[34m..\u001b[m\u001b[m\r\n",
      "-rw-r--r--@  1 bono  staff   5.3K Mar  2 14:55 prompt100gemmalocal.py\r\n",
      "-rw-r--r--   1 bono  staff   222K Mar  4 13:37 jensension.ipynb\r\n",
      "drwxr-xr-x   4 bono  staff   128B Mar  5 20:03 \u001b[34molder tablellama\u001b[m\u001b[m\r\n",
      "drwxr-xr-x  12 bono  staff   384B Mar  6 15:38 \u001b[34mtablellama10runs\u001b[m\u001b[m\r\n",
      "-rw-r--r--   1 bono  staff   450K Mar  6 16:03 tablellama-multipass.ipynb\r\n",
      "-rw-r--r--   1 bono  staff   450K Mar  6 16:09 tablellama-plot copy.ipynb\r\n",
      "-rw-r--r--@  1 bono  staff   6.2K Mar  6 19:31 prompt_wip.py\r\n",
      "-rw-r--r--@  1 bono  staff   6.2K Mar  6 19:31 prompt_wip sel.py\r\n",
      "-rw-r--r--   1 bono  staff   726K Mar  7 15:06 logits-tablellama.ipynb\r\n",
      "drwxr-xr-x   2 bono  staff    64B Mar  8 14:54 \u001b[34mtest\u001b[m\u001b[m\r\n",
      "-rw-r--r--   1 bono  staff   127M Mar 10 08:46 1800.pickle\r\n",
      "-rw-rw----@  1 bono  staff   4.0M Mar 10 10:26 delme.xlsx\r\n",
      "drwxr-xr-x   9 bono  staff   288B Mar 10 16:41 \u001b[34mpdf\u001b[m\u001b[m\r\n",
      "drwxr-xr-x  10 bono  staff   320B Mar 11 09:07 \u001b[34m.ipynb_checkpoints\u001b[m\u001b[m\r\n",
      "-rw-r--r--   1 bono  staff   892K Mar 11 10:52 tablellama-classifier.ipynb\r\n",
      "drwxr-xr-x   4 bono  staff   128B Mar 11 15:24 \u001b[34m644sample\u001b[m\u001b[m\r\n",
      "-rw-r--r--   1 bono  staff   1.0G Mar 11 15:27 preprocessed.pickle\r\n",
      "-rw-r--r--   1 bono  staff   1.4M Mar 11 15:28 tablellama-plot.ipynb\r\n",
      "-rw-r--r--   1 bono  staff   390M Mar 11 16:16 cohesion.pickle\r\n",
      "-rw-r--r--   1 bono  staff   114K Mar 11 16:25 cohesion.ipynb\r\n",
      "drwxr-xr-x  16 bono  staff   512B Mar 11 16:36 \u001b[34m.git\u001b[m\u001b[m\r\n",
      "-rw-r--r--@  1 bono  staff    10K Mar 11 17:49 .DS_Store\r\n",
      "-rw-r--r--   1 bono  staff     0B Mar 11 17:52 selected_pids.644.pickle\r\n",
      "-rw-r--r--   1 bono  staff    36K Mar 11 17:56 select_errors_from_1800.ipynb\r\n",
      "drwxr-xr-x  36 bono  staff   1.1K Mar 11 17:56 \u001b[34m.\u001b[m\u001b[m\r\n",
      "-rw-r--r--   1 bono  staff   1.9K Mar 11 18:12 selected_pids.688.pickle\r\n"
     ]
    }
   ],
   "source": [
    "!ls -larth"
   ]
  },
  {
   "cell_type": "markdown",
   "id": "1297c3fc",
   "metadata": {},
   "source": [
    "### debug (transition scores)"
   ]
  },
  {
   "cell_type": "code",
   "execution_count": 3,
   "id": "7115aaa1",
   "metadata": {},
   "outputs": [
    {
     "data": {
      "application/vnd.jupyter.widget-view+json": {
       "model_id": "d4d800d12cf74090b3b61becb532b77a",
       "version_major": 2,
       "version_minor": 0
      },
      "text/plain": [
       "Loading checkpoint shards:   0%|          | 0/2 [00:00<?, ?it/s]"
      ]
     },
     "metadata": {},
     "output_type": "display_data"
    }
   ],
   "source": [
    "import torch\n",
    "import torch.nn.functional as F\n",
    "import transformers\n",
    "from transformers import AutoTokenizer, AutoModelForCausalLM\n",
    "import json\n",
    "from tqdm import tqdm\n",
    "import gc\n",
    "import os\n",
    "import time\n",
    "\n",
    "# run params\n",
    "temperature=1.0\n",
    "top_p=0.9\n",
    "max_new_tokens=128\n",
    "use_cache=True\n",
    "device = \"mps\"\n",
    "\n",
    "model_name = \"osunlp/TableLlama\"\n",
    "\n",
    "# load inputs\n",
    "file_path = \"turl_test_2k_prompts_50.jsonl\"\n",
    "device = torch.device(device)\n",
    "\n",
    "with open(file_path, \"r\", encoding=\"utf-8\") as f:\n",
    "    prompts = [json.loads(line) for line in f]\n",
    "\n",
    "config = transformers.AutoConfig.from_pretrained(model_name)\n",
    "orig_ctx_len = getattr(config, \"max_position_embeddings\", None)\n",
    "model = AutoModelForCausalLM.from_pretrained(model_name, torch_dtype=torch.float16).to(device)\n",
    "model.resize_token_embeddings(32001)\n",
    "tokenizer = AutoTokenizer.from_pretrained(model_name, model_max_length=orig_ctx_len, padding_side=\"left\", use_fast=False)\n",
    "model.eval()\n",
    "\n",
    "# build prompts\n",
    "PROMPT_DICT = {\n",
    "    \"prompt_input\": (\n",
    "        \"Below is an instruction that describes a task, paired with an input that provides further context. \"\n",
    "        \"Write a response that appropriately completes the request.\\n\\n\"\n",
    "        \"### Instruction:\\n{instruction}\\n\\n### Input:\\n{input_seg}\\n\\n### Question:\\n{question}\\n\\n### Response:\"\n",
    "    ),\n",
    "    \"prompt_no_input\": (\n",
    "        \"Below is an instruction that describes a task. \"\n",
    "        \"Write a response that appropriately completes the request.\\n\\n\"\n",
    "        \"### Instruction:\\n{instruction}\\n\\n### Response:\"\n",
    "    ),\n",
    "}\n",
    "\n",
    "def generate_prompt(instruction, question, input_seg=None):\n",
    "    question += \" Answer with just a candidate, selected from the provided referent entity candidates list, and nothing else. The selected candidate must be reported verbatim from the list provided as input. Each candidate in the list is enclosed between < and > and reports [DESC] and [TYPE] information.\"\n",
    "    if input_seg:\n",
    "        return PROMPT_DICT[\"prompt_input\"].format(instruction=instruction, input_seg=input_seg, question=question)\n",
    "    else:\n",
    "        return PROMPT_DICT[\"prompt_no_input\"].format(instruction=instruction)"
   ]
  },
  {
   "cell_type": "code",
   "execution_count": 4,
   "id": "c6fc7b47",
   "metadata": {},
   "outputs": [],
   "source": [
    "# p = prompts[742] # 742 is shortest\n",
    "p = prompts[840] # average joe"
   ]
  },
  {
   "cell_type": "code",
   "execution_count": 5,
   "id": "b5854033",
   "metadata": {},
   "outputs": [
    {
     "name": "stdout",
     "output_type": "stream",
     "text": [
      "CPU times: user 221 ms, sys: 498 ms, total: 719 ms\n",
      "Wall time: 3.04 s\n"
     ]
    }
   ],
   "source": [
    "%%time\n",
    "\n",
    "prompt = generate_prompt(p[\"instruction\"], p[\"question\"], p[\"input\"])\n",
    "inputs = tokenizer(prompt, return_tensors=\"pt\").to(device)\n",
    "with torch.no_grad():\n",
    "    pre_output = model(**inputs, use_cache=use_cache)\n",
    "pre_output = pre_output.logits.cpu().detach()"
   ]
  },
  {
   "cell_type": "code",
   "execution_count": 6,
   "id": "bb64b717",
   "metadata": {},
   "outputs": [
    {
     "name": "stderr",
     "output_type": "stream",
     "text": [
      "From v4.47 onwards, when a model cache is to be returned, `generate` will return a `Cache` instance instead by default (as opposed to the legacy tuple of tuples format). If you want to keep returning the legacy format, please set `return_legacy_cache=True`.\n"
     ]
    },
    {
     "name": "stdout",
     "output_type": "stream",
     "text": [
      "CPU times: user 1.87 s, sys: 945 ms, total: 2.82 s\n",
      "Wall time: 5.5 s\n"
     ]
    }
   ],
   "source": [
    "%%time\n",
    "\n",
    "post_output = model.generate(\n",
    "    **inputs,\n",
    "    max_new_tokens=max_new_tokens,\n",
    "    temperature=temperature,\n",
    "    top_p=top_p,\n",
    "    output_scores=True,\n",
    "    return_dict_in_generate=True,\n",
    "    output_logits=True,\n",
    "    use_cache=use_cache\n",
    "    )"
   ]
  },
  {
   "cell_type": "code",
   "execution_count": 7,
   "id": "539779e3",
   "metadata": {},
   "outputs": [],
   "source": [
    "transition_scores = model.compute_transition_scores(post_output.sequences, post_output.scores, normalize_logits=True)"
   ]
  },
  {
   "cell_type": "code",
   "execution_count": 8,
   "id": "772738ab",
   "metadata": {},
   "outputs": [
    {
     "data": {
      "text/plain": [
       "(torch.Size([1, 1094]), 21, torch.Size([1, 32001]), torch.Size([1, 21]))"
      ]
     },
     "execution_count": 8,
     "metadata": {},
     "output_type": "execute_result"
    }
   ],
   "source": [
    "post_output.sequences.shape, len(post_output.scores), post_output.scores[0].shape, transition_scores.shape"
   ]
  },
  {
   "cell_type": "code",
   "execution_count": 9,
   "id": "72a9695f",
   "metadata": {},
   "outputs": [
    {
     "data": {
      "text/plain": [
       "torch.Size([1, 32001])"
      ]
     },
     "execution_count": 9,
     "metadata": {},
     "output_type": "execute_result"
    }
   ],
   "source": [
    "post_output.scores[0].shape"
   ]
  },
  {
   "cell_type": "code",
   "execution_count": 10,
   "id": "7e0d2817",
   "metadata": {},
   "outputs": [
    {
     "data": {
      "text/plain": [
       "tensor([0., 0., 0., 0., 0., 0., 0., 0., 0., 0., 0., 0., 0., 0., 0., 0., 0., 0., 0., 0., 0.],\n",
       "       device='mps:0')"
      ]
     },
     "execution_count": 10,
     "metadata": {},
     "output_type": "execute_result"
    }
   ],
   "source": [
    "transition_scores[0]"
   ]
  },
  {
   "cell_type": "code",
   "execution_count": 11,
   "id": "a7f687ff",
   "metadata": {},
   "outputs": [],
   "source": [
    "log_likelihoods = [score.item() for score in transition_scores[0]]"
   ]
  },
  {
   "cell_type": "code",
   "execution_count": 13,
   "id": "a5af0080",
   "metadata": {},
   "outputs": [
    {
     "data": {
      "text/plain": [
       "[0.0,\n",
       " 0.0,\n",
       " 0.0,\n",
       " 0.0,\n",
       " 0.0,\n",
       " 0.0,\n",
       " 0.0,\n",
       " 0.0,\n",
       " 0.0,\n",
       " 0.0,\n",
       " 0.0,\n",
       " 0.0,\n",
       " 0.0,\n",
       " 0.0,\n",
       " 0.0,\n",
       " 0.0,\n",
       " 0.0,\n",
       " 0.0,\n",
       " 0.0,\n",
       " 0.0,\n",
       " 0.0]"
      ]
     },
     "execution_count": 13,
     "metadata": {},
     "output_type": "execute_result"
    }
   ],
   "source": [
    "log_likelihoods"
   ]
  },
  {
   "cell_type": "code",
   "execution_count": 14,
   "id": "3557f69c",
   "metadata": {},
   "outputs": [
    {
     "data": {
      "text/plain": [
       "[0.0,\n",
       " 0.0,\n",
       " 0.0,\n",
       " 0.0,\n",
       " 0.0,\n",
       " 0.0,\n",
       " 0.0,\n",
       " 0.0,\n",
       " 0.0,\n",
       " 0.0,\n",
       " 0.0,\n",
       " 0.0,\n",
       " 0.0,\n",
       " 0.0,\n",
       " 0.0,\n",
       " 0.0,\n",
       " 0.0,\n",
       " 0.0,\n",
       " 0.0,\n",
       " 0.0,\n",
       " 0.0]"
      ]
     },
     "execution_count": 14,
     "metadata": {},
     "output_type": "execute_result"
    }
   ],
   "source": [
    "transition_scores_s = model.compute_transition_scores(post_output.sequences, post_output.scores, normalize_logits=True)\n",
    "log_likelihoods_s = [score.item() for score in transition_scores[0]]"
   ]
  },
  {
   "cell_type": "code",
   "execution_count": 15,
   "id": "9e079b80",
   "metadata": {},
   "outputs": [
    {
     "data": {
      "text/plain": [
       "tensor([[0., 0., 0., 0., 0., 0., 0., 0., 0., 0., 0., 0., 0., 0., 0., 0., 0., 0., 0., 0., 0.]],\n",
       "       device='mps:0')"
      ]
     },
     "execution_count": 15,
     "metadata": {},
     "output_type": "execute_result"
    }
   ],
   "source": [
    "transition_scores"
   ]
  },
  {
   "cell_type": "code",
   "execution_count": 16,
   "id": "3f264bbe",
   "metadata": {},
   "outputs": [
    {
     "data": {
      "text/plain": [
       "[-4.768370445162873e-07,\n",
       " -0.09085541218519211,\n",
       " -0.10185058414936066,\n",
       " -4.768370445162873e-07,\n",
       " -1.1920928244535389e-07,\n",
       " -2.407998726994265e-05,\n",
       " -0.0023836076725274324,\n",
       " 0.0,\n",
       " 0.0,\n",
       " -0.022649873048067093,\n",
       " -0.007525428663939238,\n",
       " -9.536738616588991e-07,\n",
       " -3.576278118089249e-07,\n",
       " 0.0,\n",
       " -2.3841855067985307e-07,\n",
       " 0.0,\n",
       " -3.2186455882765586e-06,\n",
       " -7.867782187531702e-06,\n",
       " -5.960462772236497e-07,\n",
       " -1.1920928244535389e-07,\n",
       " 0.0]"
      ]
     },
     "execution_count": 16,
     "metadata": {},
     "output_type": "execute_result"
    }
   ],
   "source": [
    "transition_scores_l = model.compute_transition_scores(post_output.sequences, post_output.logits, normalize_logits=True)\n",
    "log_likelihoods_l = [score.item() for score in transition_scores[0]]"
   ]
  },
  {
   "cell_type": "code",
   "execution_count": 17,
   "id": "91fad576",
   "metadata": {},
   "outputs": [
    {
     "data": {
      "text/plain": [
       "tensor([[-4.7684e-07, -9.0855e-02, -1.0185e-01, -4.7684e-07, -1.1921e-07,\n",
       "         -2.4080e-05, -2.3836e-03,  0.0000e+00,  0.0000e+00, -2.2650e-02,\n",
       "         -7.5254e-03, -9.5367e-07, -3.5763e-07,  0.0000e+00, -2.3842e-07,\n",
       "          0.0000e+00, -3.2186e-06, -7.8678e-06, -5.9605e-07, -1.1921e-07,\n",
       "          0.0000e+00]], device='mps:0')"
      ]
     },
     "execution_count": 17,
     "metadata": {},
     "output_type": "execute_result"
    }
   ],
   "source": [
    "transition_scores"
   ]
  },
  {
   "cell_type": "code",
   "execution_count": null,
   "id": "9ef2d91d",
   "metadata": {},
   "outputs": [],
   "source": []
  }
 ],
 "metadata": {
  "kernelspec": {
   "display_name": "doubt",
   "language": "python",
   "name": "doubt"
  },
  "language_info": {
   "codemirror_mode": {
    "name": "ipython",
    "version": 3
   },
   "file_extension": ".py",
   "mimetype": "text/x-python",
   "name": "python",
   "nbconvert_exporter": "python",
   "pygments_lexer": "ipython3",
   "version": "3.8.10"
  }
 },
 "nbformat": 4,
 "nbformat_minor": 5
}

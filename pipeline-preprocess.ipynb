{
 "cells": [
  {
   "cell_type": "code",
   "execution_count": 1,
   "id": "7139c697",
   "metadata": {},
   "outputs": [],
   "source": [
    "import torch\n",
    "import torch.nn.functional as F\n",
    "import transformers\n",
    "from transformers import AutoTokenizer, AutoModelForCausalLM\n",
    "import json\n",
    "from tqdm import tqdm\n",
    "import gc\n",
    "import pandas as pd\n",
    "import seaborn as sns\n",
    "import pickle\n",
    "import math\n",
    "from IPython.display import clear_output\n",
    "import numpy as np\n",
    "import re\n",
    "\n",
    "sns.set_context(\"notebook\", font_scale=1.25)\n",
    " \n",
    "file_path = \"turl_test_2k_prompts_50_unique.jsonl\"\n",
    "device = torch.device(\"mps\")\n",
    "prefix = 'pickle'"
   ]
  },
  {
   "cell_type": "code",
   "execution_count": 2,
   "id": "be22a379",
   "metadata": {},
   "outputs": [],
   "source": [
    "# https://github.com/ipython-contrib/jupyter_contrib_nbextensions/pull/1663"
   ]
  },
  {
   "cell_type": "code",
   "execution_count": 3,
   "id": "99e5f44c",
   "metadata": {},
   "outputs": [],
   "source": [
    "from io import BytesIO\n",
    "\n",
    "def fix(map_loc):\n",
    "    # Closure rather than a lambda to preserve map_loc \n",
    "    return lambda b: torch.load(BytesIO(b), map_location=map_loc)\n",
    "\n",
    "class MappedUnpickler(pickle.Unpickler):\n",
    "    # https://github.com/pytorch/pytorch/issues/16797#issuecomment-633423219\n",
    "\n",
    "    def __init__(self, *args, map_location='cpu', **kwargs):\n",
    "        self._map_location = map_location\n",
    "        super().__init__(*args, **kwargs)\n",
    "\n",
    "    def find_class(self, module, name):\n",
    "        if module == 'torch.storage' and name == '_load_from_bytes':\n",
    "            return fix(self._map_location)\n",
    "        else: \n",
    "            return super().find_class(module, name)\n",
    "\n",
    "def mapped_loads(s, map_location='cpu'):\n",
    "    bs = BytesIO(s)\n",
    "    unpickler = MappedUnpickler(bs, map_location=map_location)\n",
    "    return unpickler.load()"
   ]
  },
  {
   "cell_type": "code",
   "execution_count": 4,
   "id": "6ae2e7dc",
   "metadata": {},
   "outputs": [],
   "source": [
    "# prompt formatting\n",
    "\n",
    "PROMPT_DICT = {\n",
    "    \"prompt_input\": (\n",
    "        \"Below is an instruction that describes a task, paired with an input that provides further context. \"\n",
    "        \"Write a response that appropriately completes the request.\\n\\n\"\n",
    "        \"### Instruction:\\n{instruction}\\n\\n### Input:\\n{input_seg}\\n\\n### Question:\\n{question}\\n\\n### Response:\"\n",
    "    ),\n",
    "    \"prompt_no_input\": (\n",
    "        \"Below is an instruction that describes a task. \"\n",
    "        \"Write a response that appropriately completes the request.\\n\\n\"\n",
    "        \"### Instruction:\\n{instruction}\\n\\n### Response:\"\n",
    "    ),\n",
    "}\n",
    "\n",
    "def generate_prompt(instruction, question, input_seg=None):\n",
    "    question += \" Answer with just a candidate, selected from the provided referent entity candidates list, and nothing else. The selected candidate must be reported verbatim from the list provided as input. Each candidate in the list is enclosed between < and > and reports [DESC] and [TYPE] information.\"\n",
    "    if input_seg:\n",
    "        return PROMPT_DICT[\"prompt_input\"].format(instruction=instruction, input_seg=input_seg, question=question)\n",
    "    else:\n",
    "        return PROMPT_DICT[\"prompt_no_input\"].format(instruction=instruction)"
   ]
  },
  {
   "cell_type": "code",
   "execution_count": 5,
   "id": "36d31bb5",
   "metadata": {},
   "outputs": [],
   "source": [
    "# load questions (to be removed)\n",
    "\n",
    "with open(file_path, \"r\", encoding=\"utf-8\") as f:\n",
    "    prompts = [json.loads(line) for line in f]"
   ]
  },
  {
   "cell_type": "code",
   "execution_count": 6,
   "id": "cdab57cf",
   "metadata": {
    "scrolled": true
   },
   "outputs": [
    {
     "name": "stdout",
     "output_type": "stream",
     "text": [
      "output-tablellama.zip\n"
     ]
    },
    {
     "name": "stderr",
     "output_type": "stream",
     "text": [
      "  0%|                                                  | 0/1353 [00:00<?, ?it/s]/var/folders/kn/n2krf1q970d6cfl43cjq73s80000gn/T/ipykernel_5794/3807410893.py:5: FutureWarning: You are using `torch.load` with `weights_only=False` (the current default value), which uses the default pickle module implicitly. It is possible to construct malicious pickle data which will execute arbitrary code during unpickling (See https://github.com/pytorch/pytorch/blob/main/SECURITY.md#untrusted-models for more details). In a future release, the default value for `weights_only` will be flipped to `True`. This limits the functions that could be executed during unpickling. Arbitrary objects will no longer be allowed to be loaded via this mode unless they are explicitly allowlisted by the user via `torch.serialization.add_safe_globals`. We recommend you start setting `weights_only=True` for any use case where you don't have full control of the loaded file. Please open an issue on GitHub for any issues related to this experimental feature.\n",
      "  return lambda b: torch.load(BytesIO(b), map_location=map_loc)\n",
      "100%|███████████████████████████████████████| 1353/1353 [00:32<00:00, 42.23it/s]\n"
     ]
    },
    {
     "data": {
      "text/plain": [
       "13530"
      ]
     },
     "execution_count": 6,
     "metadata": {},
     "output_type": "execute_result"
    }
   ],
   "source": [
    "import os\n",
    "import pickle\n",
    "from copy import copy, deepcopy\n",
    "import zipfile\n",
    "\n",
    "pre_keys = ['pre_output_proba_topn',\n",
    " 'pre_output_proba_topk',\n",
    " 'pre_output_true_entropies',\n",
    " 'pre_output_layers_kl']\n",
    "\n",
    "run = 0\n",
    "outlist = []\n",
    "\n",
    "for file in os.listdir(prefix):\n",
    "    if file.endswith('zip'):\n",
    "        print(file)\n",
    "        archive = zipfile.ZipFile(os.path.join(prefix, file), 'r')\n",
    "        for pid, single_file in enumerate(tqdm(archive.filelist)):\n",
    "            \n",
    "            if single_file.filename.startswith('_') or single_file.filename.startswith('.'): continue\n",
    "                \n",
    "            # item = pickle.loads(archive.read(single_file.filename))\n",
    "            item = mapped_loads(archive.read(single_file.filename))\n",
    "            \n",
    "            for i, _ in enumerate(item[\"post_output_sequences\"]):\n",
    "                \n",
    "                item_ = copy(item)\n",
    "                item_[\"post_output_sequences\"] = item[\"post_output_sequences\"][i]\n",
    "                \n",
    "                item_[\"post_output_proba_topn\"] = item[\"post_output_proba_topn\"][i]\n",
    "                item_[\"post_output_proba_topk\"] = item[\"post_output_proba_topk\"][i]\n",
    "                item_[\"post_output_true_entropies\"] = item[\"post_output_true_entropies\"][i] \n",
    "\n",
    "                item_[\"post_output_layers_kl\"] = item[\"post_output_layers_kl\"][i]\n",
    "                item_[\"transition_scores_s\"] = item[\"transition_scores_s\"][i]\n",
    "                item_[\"transition_scores_l\"] = item[\"transition_scores_l\"][i]\n",
    "\n",
    "                item_[\"run\"] = run + i\n",
    "                \n",
    "                outlist.append(item_)\n",
    "                \n",
    "                # whatever is generated for pre_ is propagated only to the first run\n",
    "                if i == 0:\n",
    "                    for k in pre_keys: item.pop(k, None)\n",
    "      \n",
    "        run = run + i + 1 # next zip file\n",
    "\n",
    "len(outlist)"
   ]
  },
  {
   "cell_type": "code",
   "execution_count": 7,
   "id": "14f24a24",
   "metadata": {},
   "outputs": [
    {
     "name": "stdout",
     "output_type": "stream",
     "text": [
      "osunlp/TableLlama\n"
     ]
    }
   ],
   "source": [
    "# prefix, model_name = './tablellama-complete/', \"osunlp/TableLlama\"\n",
    "# prefix, model_name = './gemma-9b-complete/', \"google/gemma-2-9b-it\"\n",
    "\n",
    "model_name = item['args']['model_name'] # get model from last processed item\n",
    "print(model_name)\n",
    "\n",
    "if model_name.startswith(\"osunlp\"):\n",
    "    config = transformers.AutoConfig.from_pretrained(model_name)\n",
    "\n",
    "    orig_ctx_len = getattr(config, \"max_position_embeddings\", None)\n",
    "    context_size = 8192\n",
    "    if orig_ctx_len and context_size > orig_ctx_len:\n",
    "            scaling_factor = float(math.ceil(context_size / orig_ctx_len))\n",
    "            config.rope_scaling = {\"type\": \"linear\", \"factor\": scaling_factor}\n",
    "\n",
    "    tokenizer = AutoTokenizer.from_pretrained(model_name, \n",
    "                                              model_max_length=(context_size if context_size > orig_ctx_len else orig_ctx_len),\n",
    "                                              padding_side=\"left\", \n",
    "                                              use_fast=False)\n",
    "\n",
    "else:\n",
    "    config = transformers.AutoConfig.from_pretrained(model_name)\n",
    "    tokenizer = AutoTokenizer.from_pretrained(model_name)"
   ]
  },
  {
   "cell_type": "markdown",
   "id": "fd3c5010",
   "metadata": {},
   "source": [
    "### check output against ground truth"
   ]
  },
  {
   "cell_type": "code",
   "execution_count": 8,
   "id": "d955f13a",
   "metadata": {},
   "outputs": [
    {
     "name": "stdout",
     "output_type": "stream",
     "text": [
      "CPU times: user 1min 35s, sys: 6.83 s, total: 1min 42s\n",
      "Wall time: 1min 45s\n"
     ]
    }
   ],
   "source": [
    "%%time\n",
    "\n",
    "# show results\n",
    "\n",
    "c=0\n",
    "t=0\n",
    "h=0\n",
    "\n",
    "truth = []\n",
    "outseq = []\n",
    "\n",
    "pdbg = None\n",
    "\n",
    "for idx, p in enumerate(outlist):\n",
    "    clear_output(wait=True)\n",
    "    print(idx, end='\\r')\n",
    "    c+=1\n",
    "    pdbg = p\n",
    "    \n",
    "    # in\n",
    "    prompt = generate_prompt(p[\"instruction\"], p[\"question\"], p[\"input\"])\n",
    "    inputs = tokenizer(prompt, return_tensors=\"pt\").to(device)\n",
    "        \n",
    "    # computed\n",
    "    # post_output_scores = p['post_output_scores']\n",
    "    post_output_sequences = p['post_output_sequences']\n",
    "    \n",
    "    # bases\n",
    "    baseid = len(inputs[\"input_ids\"][0]) + 1\n",
    "    endid = len(post_output_sequences[0])\n",
    "    # lookout\n",
    "    generated_ids = post_output_sequences\n",
    "    generated_text = tokenizer.decode(generated_ids[0][baseid:endid], skip_special_tokens=True)\n",
    "    # print\n",
    "    # print(generated_text)\n",
    "    # print(p['output'])\n",
    "    # print('\\n')\n",
    "    #test\n",
    "    \n",
    "    # replacement due to tablellama \"hallucinations\"\n",
    "    a = generated_text.replace('[DESCRIPTION]', '[DESC]').lower().strip()\n",
    "    a = \" \".join(a.split(\" \"))\n",
    "    if len(a) < 1: \n",
    "        print(\"SOMETHING WENT HORRIBLY WRONG, GIVING UP\")\n",
    "        break\n",
    "\n",
    "    b = p['output'].lower().strip()\n",
    "    b = \" \".join(b.split(\" \"))\n",
    "    # correct\n",
    "    correct = False\n",
    "    hallucinated = False\n",
    "    if ((a in b) or (b in a) or (b.startswith(a)) or (a.startswith(b))) and (('desc' in a) and ('type' in a)): \n",
    "        correct = True\n",
    "        t+=1\n",
    "    # hallucinated\n",
    "    elif a not in prompt.lower().strip(): \n",
    "        h+=1\n",
    "        hallucinated = True\n",
    "    # incorrect\n",
    "    else:\n",
    "        pass\n",
    "        #print(generated_text)\n",
    "        #print(p['output'])\n",
    "        #print('\\n')\n",
    "        # print(prompt)\n",
    "        # print('\\n')\n",
    "        \n",
    "    # loose correctness\n",
    "    # TODO concat without sep\n",
    "    # TODO check also incorrect candidates\n",
    "    _, three_ = b.split('[type]')\n",
    "    one_, two_ = _.split('[desc]')\n",
    "    one_ = one_.replace('<', '').replace('>', '').replace(']', '').replace('[', '').strip()\n",
    "    two_ = two_.replace('<', '').replace('>', '').replace(']', '').replace('[', '').strip()\n",
    "    three_ = three_.replace('<', '').replace('>', '').replace(']', '').replace('[', '').strip()\n",
    "    \n",
    "    loosely_correct = False\n",
    "    try:\n",
    "        regex = re.compile(re.escape(one_) + r'.*' + re.escape(two_) + r'.*' + re.escape(three_))\n",
    "        if regex.search(a): loosely_correct = True\n",
    "    except Exception as e:\n",
    "        pass# if it fails, default\n",
    "\n",
    "    truth.append((p['run'], p['pid'], correct, hallucinated, loosely_correct))\n",
    "    outseq.append((p['run'], p['pid'], a, post_output_sequences, b))\n"
   ]
  },
  {
   "cell_type": "code",
   "execution_count": 9,
   "id": "827f827e",
   "metadata": {},
   "outputs": [
    {
     "data": {
      "text/plain": [
       "(2868, 2889)"
      ]
     },
     "execution_count": 9,
     "metadata": {},
     "output_type": "execute_result"
    }
   ],
   "source": [
    "len(inputs.input_ids[0]), len(post_output_sequences[0])"
   ]
  },
  {
   "cell_type": "code",
   "execution_count": 10,
   "id": "659b7e51",
   "metadata": {},
   "outputs": [
    {
     "data": {
      "text/plain": [
       "(11970, 9, 13530)"
      ]
     },
     "execution_count": 10,
     "metadata": {},
     "output_type": "execute_result"
    }
   ],
   "source": [
    "# true, hallucinated, counted\n",
    "# (3702, 26, 5120) tablellama old\n",
    "# (11190, 880, 14770) gemma 9b\n",
    "t, h, c"
   ]
  },
  {
   "cell_type": "code",
   "execution_count": 11,
   "id": "cbc4c7f4",
   "metadata": {},
   "outputs": [
    {
     "data": {
      "text/plain": [
       "(0.88470066518847, 0.0006651884700665188)"
      ]
     },
     "execution_count": 11,
     "metadata": {},
     "output_type": "execute_result"
    }
   ],
   "source": [
    "# correct answers rate, hannucinated answers rate\n",
    "t/c, h/c"
   ]
  },
  {
   "cell_type": "code",
   "execution_count": 12,
   "id": "938692fb",
   "metadata": {},
   "outputs": [],
   "source": [
    "truth = pd.DataFrame(truth, columns=['run', 'pid', 'correct', 'hallucinated', 'loosely_correct'])"
   ]
  },
  {
   "cell_type": "code",
   "execution_count": 13,
   "id": "b2092d2d",
   "metadata": {},
   "outputs": [],
   "source": [
    "corec = truth.groupby('pid').correct.mean()"
   ]
  },
  {
   "cell_type": "code",
   "execution_count": 14,
   "id": "3e48cac7",
   "metadata": {},
   "outputs": [
    {
     "data": {
      "image/png": "[encoded data removed]",
      "text/plain": [
       "<Figure size 700x600 with 1 Axes>"
      ]
     },
     "metadata": {},
     "output_type": "display_data"
    }
   ],
   "source": [
    "import seaborn as sns\n",
    "import matplotlib.pyplot as plt\n",
    "\n",
    "from palettable.cartocolors.qualitative import Prism_10, Bold_10\n",
    "palette = Prism_10.mpl_colors \n",
    "\n",
    "sns.set_theme(style=\"ticks\")\n",
    "\n",
    "f, ax = plt.subplots(figsize=(7, 6))\n",
    "\n",
    "sns.histplot(corec, bins=corec.nunique(), color=Prism_10.mpl_colors[5])\n",
    "\n",
    "ax.yaxis.grid(True)\n",
    "\n",
    "plt.show()"
   ]
  },
  {
   "cell_type": "code",
   "execution_count": 15,
   "id": "e7c62a75",
   "metadata": {},
   "outputs": [
    {
     "data": {
      "text/plain": [
       "0.8344419807834442"
      ]
     },
     "execution_count": 15,
     "metadata": {},
     "output_type": "execute_result"
    }
   ],
   "source": [
    "# probability mass for \"convinced\" prediction\n",
    "(np.isclose(corec, 0.) | np.isclose(corec, 1.)).sum() / corec.shape[0]"
   ]
  },
  {
   "cell_type": "code",
   "execution_count": 16,
   "id": "77b3b4a3",
   "metadata": {},
   "outputs": [
    {
     "data": {
      "text/plain": [
       "0.1655580192165558"
      ]
     },
     "execution_count": 16,
     "metadata": {},
     "output_type": "execute_result"
    }
   ],
   "source": [
    "# how many \"changed at least once\"\n",
    "((corec>0.) & (corec<1.)).sum() / corec.shape[0]"
   ]
  },
  {
   "cell_type": "code",
   "execution_count": 17,
   "id": "91196aac",
   "metadata": {},
   "outputs": [
    {
     "data": {
      "text/plain": [
       "0.1648189209164819"
      ]
     },
     "execution_count": 17,
     "metadata": {},
     "output_type": "execute_result"
    }
   ],
   "source": [
    "# again but without hallucinated\n",
    "\n",
    "truth_ = truth[(~truth.hallucinated)].copy()\n",
    "truth_['true_err'] = truth_.correct\n",
    "\n",
    "corec_ = truth_.groupby('pid').true_err.mean()\n",
    "\n",
    "((corec_>0.) & (corec_<1.)).sum() / corec_.shape[0]"
   ]
  },
  {
   "cell_type": "code",
   "execution_count": 18,
   "id": "9541cf3b",
   "metadata": {},
   "outputs": [
    {
     "data": {
      "image/png": "[encoded data removed]",
      "text/plain": [
       "<Figure size 700x600 with 1 Axes>"
      ]
     },
     "metadata": {},
     "output_type": "display_data"
    }
   ],
   "source": [
    "# loosely correct\n",
    "\n",
    "import seaborn as sns\n",
    "import matplotlib.pyplot as plt\n",
    "\n",
    "from palettable.cartocolors.qualitative import Prism_10, Bold_10\n",
    "palette = Prism_10.mpl_colors \n",
    "\n",
    "sns.set_theme(style=\"ticks\")\n",
    "\n",
    "corek = truth.groupby('pid').loosely_correct.mean()\n",
    "\n",
    "f, ax = plt.subplots(figsize=(7, 6))\n",
    "\n",
    "sns.histplot(corek, bins=corek.nunique(), color=Prism_10.mpl_colors[5])\n",
    "\n",
    "ax.yaxis.grid(True)\n",
    "\n",
    "plt.show()"
   ]
  },
  {
   "cell_type": "code",
   "execution_count": 19,
   "id": "5686a908",
   "metadata": {},
   "outputs": [
    {
     "data": {
      "image/png": "[encoded data removed]",
      "text/plain": [
       "<Figure size 700x600 with 1 Axes>"
      ]
     },
     "metadata": {},
     "output_type": "display_data"
    }
   ],
   "source": [
    "import seaborn as sns\n",
    "import matplotlib.pyplot as plt\n",
    "\n",
    "from palettable.cartocolors.qualitative import Prism_10, Bold_10\n",
    "palette = Prism_10.mpl_colors \n",
    "\n",
    "sns.set_theme(style=\"ticks\")\n",
    "\n",
    "f, ax = plt.subplots(figsize=(7, 6))\n",
    "\n",
    "sns.histplot(truth.groupby('pid').hallucinated.mean(), bins=corec.nunique(), color=Prism_10.mpl_colors[8])\n",
    "\n",
    "ax.yaxis.grid(True)\n",
    "\n",
    "plt.show()"
   ]
  },
  {
   "cell_type": "code",
   "execution_count": 20,
   "id": "967cf734",
   "metadata": {},
   "outputs": [
    {
     "data": {
      "text/plain": [
       "0.0029563932002956393"
      ]
     },
     "execution_count": 20,
     "metadata": {},
     "output_type": "execute_result"
    }
   ],
   "source": [
    "# how many hallucinated\n",
    "(truth.groupby('pid').hallucinated.mean()>0.).sum() / truth.pid.nunique()"
   ]
  },
  {
   "cell_type": "code",
   "execution_count": 21,
   "id": "f0929546",
   "metadata": {},
   "outputs": [
    {
     "data": {
      "image/png": "[encoded data removed]",
      "text/plain": [
       "<Figure size 640x480 with 2 Axes>"
      ]
     },
     "metadata": {},
     "output_type": "display_data"
    }
   ],
   "source": [
    "contingency = pd.crosstab(truth.correct, truth.hallucinated)\n",
    "\n",
    "sns.heatmap(contingency, annot=True, fmt=\"d\", cmap=\"YlOrRd\")\n",
    "\n",
    "plt.title(\"Correct vs Hallucinated\")\n",
    "plt.xlabel(\"Hallucinated\")\n",
    "plt.ylabel(\"Correct\")\n",
    "plt.show()"
   ]
  },
  {
   "cell_type": "code",
   "execution_count": 22,
   "id": "7758129e",
   "metadata": {},
   "outputs": [
    {
     "data": {
      "image/png": "[encoded data removed]",
      "text/plain": [
       "<Figure size 640x480 with 2 Axes>"
      ]
     },
     "metadata": {},
     "output_type": "display_data"
    }
   ],
   "source": [
    "contingency = pd.crosstab(truth.correct, truth.loosely_correct)\n",
    "\n",
    "sns.heatmap(contingency, annot=True, fmt=\"d\", cmap=\"YlOrRd\")\n",
    "\n",
    "plt.title(\"Correct vs Hallucinated\")\n",
    "plt.xlabel(\"Loosely correct\")\n",
    "plt.ylabel(\"Correct\")\n",
    "plt.show()"
   ]
  },
  {
   "cell_type": "code",
   "execution_count": 25,
   "id": "ef3c166a",
   "metadata": {},
   "outputs": [],
   "source": [
    "# answers\n",
    "answers = pd.DataFrame(outseq, columns=['run', 'pid', 'answer', 'answer_seq', 'right_answer'])\n",
    "answers.answer = answers.answer.str[:-1]"
   ]
  },
  {
   "cell_type": "code",
   "execution_count": 26,
   "id": "5cbb4959",
   "metadata": {},
   "outputs": [
    {
     "data": {
      "text/plain": [
       "(1, 6)"
      ]
     },
     "execution_count": 26,
     "metadata": {},
     "output_type": "execute_result"
    }
   ],
   "source": [
    "# min and max number of unique answers\n",
    "answers.groupby('pid').answer.nunique().min(), answers.groupby('pid').answer.nunique().max()"
   ]
  },
  {
   "cell_type": "code",
   "execution_count": 27,
   "id": "b80c2bf2",
   "metadata": {},
   "outputs": [
    {
     "data": {
      "text/html": [
       "<div>\n",
       "<style scoped>\n",
       "    .dataframe tbody tr th:only-of-type {\n",
       "        vertical-align: middle;\n",
       "    }\n",
       "\n",
       "    .dataframe tbody tr th {\n",
       "        vertical-align: top;\n",
       "    }\n",
       "\n",
       "    .dataframe thead th {\n",
       "        text-align: right;\n",
       "    }\n",
       "</style>\n",
       "<table border=\"1\" class=\"dataframe\">\n",
       "  <thead>\n",
       "    <tr style=\"text-align: right;\">\n",
       "      <th></th>\n",
       "      <th>run</th>\n",
       "      <th>pid</th>\n",
       "      <th>answer</th>\n",
       "      <th>answer_seq</th>\n",
       "      <th>right_answer</th>\n",
       "    </tr>\n",
       "  </thead>\n",
       "  <tbody>\n",
       "    <tr>\n",
       "      <th>0</th>\n",
       "      <td>0</td>\n",
       "      <td>1676</td>\n",
       "      <td>washington commanders [desc] american football...</td>\n",
       "      <td>[[1, 13866, 338, 385, 15278, 393, 16612, 263, ...</td>\n",
       "      <td>&lt;washington commanders [desc] american footbal...</td>\n",
       "    </tr>\n",
       "    <tr>\n",
       "      <th>1</th>\n",
       "      <td>1</td>\n",
       "      <td>1676</td>\n",
       "      <td>washington commanders [desc] american football...</td>\n",
       "      <td>[[1, 13866, 338, 385, 15278, 393, 16612, 263, ...</td>\n",
       "      <td>&lt;washington commanders [desc] american footbal...</td>\n",
       "    </tr>\n",
       "    <tr>\n",
       "      <th>2</th>\n",
       "      <td>2</td>\n",
       "      <td>1676</td>\n",
       "      <td>washington commanders [desc] american football...</td>\n",
       "      <td>[[1, 13866, 338, 385, 15278, 393, 16612, 263, ...</td>\n",
       "      <td>&lt;washington commanders [desc] american footbal...</td>\n",
       "    </tr>\n",
       "    <tr>\n",
       "      <th>3</th>\n",
       "      <td>3</td>\n",
       "      <td>1676</td>\n",
       "      <td>washington commanders [desc] american football...</td>\n",
       "      <td>[[1, 13866, 338, 385, 15278, 393, 16612, 263, ...</td>\n",
       "      <td>&lt;washington commanders [desc] american footbal...</td>\n",
       "    </tr>\n",
       "    <tr>\n",
       "      <th>4</th>\n",
       "      <td>4</td>\n",
       "      <td>1676</td>\n",
       "      <td>washington commanders [desc] american football...</td>\n",
       "      <td>[[1, 13866, 338, 385, 15278, 393, 16612, 263, ...</td>\n",
       "      <td>&lt;washington commanders [desc] american footbal...</td>\n",
       "    </tr>\n",
       "    <tr>\n",
       "      <th>...</th>\n",
       "      <td>...</td>\n",
       "      <td>...</td>\n",
       "      <td>...</td>\n",
       "      <td>...</td>\n",
       "      <td>...</td>\n",
       "    </tr>\n",
       "    <tr>\n",
       "      <th>13525</th>\n",
       "      <td>5</td>\n",
       "      <td>491</td>\n",
       "      <td>rafał szukała [desc] polish swimmer [type] swi...</td>\n",
       "      <td>[[1, 13866, 338, 385, 15278, 393, 16612, 263, ...</td>\n",
       "      <td>&lt;rafał szukała [desc] polish swimmer [type] sw...</td>\n",
       "    </tr>\n",
       "    <tr>\n",
       "      <th>13526</th>\n",
       "      <td>6</td>\n",
       "      <td>491</td>\n",
       "      <td>rafał szukała [desc] polish swimmer [type] swi...</td>\n",
       "      <td>[[1, 13866, 338, 385, 15278, 393, 16612, 263, ...</td>\n",
       "      <td>&lt;rafał szukała [desc] polish swimmer [type] sw...</td>\n",
       "    </tr>\n",
       "    <tr>\n",
       "      <th>13527</th>\n",
       "      <td>7</td>\n",
       "      <td>491</td>\n",
       "      <td>rafał szukała [desc] polish swimmer [type] swi...</td>\n",
       "      <td>[[1, 13866, 338, 385, 15278, 393, 16612, 263, ...</td>\n",
       "      <td>&lt;rafał szukała [desc] polish swimmer [type] sw...</td>\n",
       "    </tr>\n",
       "    <tr>\n",
       "      <th>13528</th>\n",
       "      <td>8</td>\n",
       "      <td>491</td>\n",
       "      <td>rafał szukała [desc] polish swimmer [type] swi...</td>\n",
       "      <td>[[1, 13866, 338, 385, 15278, 393, 16612, 263, ...</td>\n",
       "      <td>&lt;rafał szukała [desc] polish swimmer [type] sw...</td>\n",
       "    </tr>\n",
       "    <tr>\n",
       "      <th>13529</th>\n",
       "      <td>9</td>\n",
       "      <td>491</td>\n",
       "      <td>rafał szukała [desc] polish swimmer [type] swi...</td>\n",
       "      <td>[[1, 13866, 338, 385, 15278, 393, 16612, 263, ...</td>\n",
       "      <td>&lt;rafał szukała [desc] polish swimmer [type] sw...</td>\n",
       "    </tr>\n",
       "  </tbody>\n",
       "</table>\n",
       "<p>13530 rows × 5 columns</p>\n",
       "</div>"
      ],
      "text/plain": [
       "       run   pid                                             answer  \\\n",
       "0        0  1676  washington commanders [desc] american football...   \n",
       "1        1  1676  washington commanders [desc] american football...   \n",
       "2        2  1676  washington commanders [desc] american football...   \n",
       "3        3  1676  washington commanders [desc] american football...   \n",
       "4        4  1676  washington commanders [desc] american football...   \n",
       "...    ...   ...                                                ...   \n",
       "13525    5   491  rafał szukała [desc] polish swimmer [type] swi...   \n",
       "13526    6   491  rafał szukała [desc] polish swimmer [type] swi...   \n",
       "13527    7   491  rafał szukała [desc] polish swimmer [type] swi...   \n",
       "13528    8   491  rafał szukała [desc] polish swimmer [type] swi...   \n",
       "13529    9   491  rafał szukała [desc] polish swimmer [type] swi...   \n",
       "\n",
       "                                              answer_seq  \\\n",
       "0      [[1, 13866, 338, 385, 15278, 393, 16612, 263, ...   \n",
       "1      [[1, 13866, 338, 385, 15278, 393, 16612, 263, ...   \n",
       "2      [[1, 13866, 338, 385, 15278, 393, 16612, 263, ...   \n",
       "3      [[1, 13866, 338, 385, 15278, 393, 16612, 263, ...   \n",
       "4      [[1, 13866, 338, 385, 15278, 393, 16612, 263, ...   \n",
       "...                                                  ...   \n",
       "13525  [[1, 13866, 338, 385, 15278, 393, 16612, 263, ...   \n",
       "13526  [[1, 13866, 338, 385, 15278, 393, 16612, 263, ...   \n",
       "13527  [[1, 13866, 338, 385, 15278, 393, 16612, 263, ...   \n",
       "13528  [[1, 13866, 338, 385, 15278, 393, 16612, 263, ...   \n",
       "13529  [[1, 13866, 338, 385, 15278, 393, 16612, 263, ...   \n",
       "\n",
       "                                            right_answer  \n",
       "0      <washington commanders [desc] american footbal...  \n",
       "1      <washington commanders [desc] american footbal...  \n",
       "2      <washington commanders [desc] american footbal...  \n",
       "3      <washington commanders [desc] american footbal...  \n",
       "4      <washington commanders [desc] american footbal...  \n",
       "...                                                  ...  \n",
       "13525  <rafał szukała [desc] polish swimmer [type] sw...  \n",
       "13526  <rafał szukała [desc] polish swimmer [type] sw...  \n",
       "13527  <rafał szukała [desc] polish swimmer [type] sw...  \n",
       "13528  <rafał szukała [desc] polish swimmer [type] sw...  \n",
       "13529  <rafał szukała [desc] polish swimmer [type] sw...  \n",
       "\n",
       "[13530 rows x 5 columns]"
      ]
     },
     "execution_count": 27,
     "metadata": {},
     "output_type": "execute_result"
    }
   ],
   "source": [
    "# wrong answers\n",
    "\n",
    "import numpy as np\n",
    "def fun (a,b):\n",
    "    return a.startswith(b) or b.startswith(a)\n",
    "\n",
    "foon = np.vectorize(fun)\n",
    "aoh = pd.Series(foon(answers.answer, answers.right_answer), index=answers.index)\n",
    "\n",
    "answers[~aoh]"
   ]
  },
  {
   "cell_type": "code",
   "execution_count": 28,
   "id": "a2bc9376",
   "metadata": {},
   "outputs": [
    {
     "data": {
      "text/html": [
       "<div>\n",
       "<style scoped>\n",
       "    .dataframe tbody tr th:only-of-type {\n",
       "        vertical-align: middle;\n",
       "    }\n",
       "\n",
       "    .dataframe tbody tr th {\n",
       "        vertical-align: top;\n",
       "    }\n",
       "\n",
       "    .dataframe thead th {\n",
       "        text-align: right;\n",
       "    }\n",
       "</style>\n",
       "<table border=\"1\" class=\"dataframe\">\n",
       "  <thead>\n",
       "    <tr style=\"text-align: right;\">\n",
       "      <th></th>\n",
       "      <th>run</th>\n",
       "      <th>pid</th>\n",
       "      <th>correct</th>\n",
       "      <th>hallucinated</th>\n",
       "      <th>loosely_correct</th>\n",
       "      <th>answer</th>\n",
       "      <th>answer_seq</th>\n",
       "      <th>right_answer</th>\n",
       "    </tr>\n",
       "  </thead>\n",
       "  <tbody>\n",
       "    <tr>\n",
       "      <th>944</th>\n",
       "      <td>4</td>\n",
       "      <td>992</td>\n",
       "      <td>False</td>\n",
       "      <td>False</td>\n",
       "      <td>True</td>\n",
       "      <td>andrey krylov [desc] russian swimmer [type] sw...</td>\n",
       "      <td>[[1, 13866, 338, 385, 15278, 393, 16612, 263, ...</td>\n",
       "      <td>&lt;andrey krylov [desc] swimmer [type] swimmer&gt;</td>\n",
       "    </tr>\n",
       "    <tr>\n",
       "      <th>945</th>\n",
       "      <td>5</td>\n",
       "      <td>992</td>\n",
       "      <td>False</td>\n",
       "      <td>False</td>\n",
       "      <td>True</td>\n",
       "      <td>andrey krylov [desc] russian swimmer [type] sw...</td>\n",
       "      <td>[[1, 13866, 338, 385, 15278, 393, 16612, 263, ...</td>\n",
       "      <td>&lt;andrey krylov [desc] swimmer [type] swimmer&gt;</td>\n",
       "    </tr>\n",
       "    <tr>\n",
       "      <th>946</th>\n",
       "      <td>6</td>\n",
       "      <td>992</td>\n",
       "      <td>False</td>\n",
       "      <td>False</td>\n",
       "      <td>True</td>\n",
       "      <td>andrey krylov [desc] russian swimmer [type] sw...</td>\n",
       "      <td>[[1, 13866, 338, 385, 15278, 393, 16612, 263, ...</td>\n",
       "      <td>&lt;andrey krylov [desc] swimmer [type] swimmer&gt;</td>\n",
       "    </tr>\n",
       "    <tr>\n",
       "      <th>947</th>\n",
       "      <td>7</td>\n",
       "      <td>992</td>\n",
       "      <td>False</td>\n",
       "      <td>False</td>\n",
       "      <td>True</td>\n",
       "      <td>andrey krylov [desc] russian swimmer [type] sw...</td>\n",
       "      <td>[[1, 13866, 338, 385, 15278, 393, 16612, 263, ...</td>\n",
       "      <td>&lt;andrey krylov [desc] swimmer [type] swimmer&gt;</td>\n",
       "    </tr>\n",
       "    <tr>\n",
       "      <th>9420</th>\n",
       "      <td>0</td>\n",
       "      <td>1579</td>\n",
       "      <td>False</td>\n",
       "      <td>False</td>\n",
       "      <td>True</td>\n",
       "      <td>major general [desc] military rank of the unit...</td>\n",
       "      <td>[[1, 13866, 338, 385, 15278, 393, 16612, 263, ...</td>\n",
       "      <td>&lt;major general [desc] military rank [type] mil...</td>\n",
       "    </tr>\n",
       "    <tr>\n",
       "      <th>9421</th>\n",
       "      <td>1</td>\n",
       "      <td>1579</td>\n",
       "      <td>False</td>\n",
       "      <td>False</td>\n",
       "      <td>True</td>\n",
       "      <td>major general [desc] military rank of the unit...</td>\n",
       "      <td>[[1, 13866, 338, 385, 15278, 393, 16612, 263, ...</td>\n",
       "      <td>&lt;major general [desc] military rank [type] mil...</td>\n",
       "    </tr>\n",
       "    <tr>\n",
       "      <th>9422</th>\n",
       "      <td>2</td>\n",
       "      <td>1579</td>\n",
       "      <td>False</td>\n",
       "      <td>False</td>\n",
       "      <td>True</td>\n",
       "      <td>major general [desc] military rank of the unit...</td>\n",
       "      <td>[[1, 13866, 338, 385, 15278, 393, 16612, 263, ...</td>\n",
       "      <td>&lt;major general [desc] military rank [type] mil...</td>\n",
       "    </tr>\n",
       "    <tr>\n",
       "      <th>9423</th>\n",
       "      <td>3</td>\n",
       "      <td>1579</td>\n",
       "      <td>False</td>\n",
       "      <td>False</td>\n",
       "      <td>True</td>\n",
       "      <td>major general [desc] military rank of the unit...</td>\n",
       "      <td>[[1, 13866, 338, 385, 15278, 393, 16612, 263, ...</td>\n",
       "      <td>&lt;major general [desc] military rank [type] mil...</td>\n",
       "    </tr>\n",
       "    <tr>\n",
       "      <th>9424</th>\n",
       "      <td>4</td>\n",
       "      <td>1579</td>\n",
       "      <td>False</td>\n",
       "      <td>False</td>\n",
       "      <td>True</td>\n",
       "      <td>major general [desc] military rank of the unit...</td>\n",
       "      <td>[[1, 13866, 338, 385, 15278, 393, 16612, 263, ...</td>\n",
       "      <td>&lt;major general [desc] military rank [type] mil...</td>\n",
       "    </tr>\n",
       "    <tr>\n",
       "      <th>9425</th>\n",
       "      <td>5</td>\n",
       "      <td>1579</td>\n",
       "      <td>False</td>\n",
       "      <td>False</td>\n",
       "      <td>True</td>\n",
       "      <td>major general [desc] military rank of the unit...</td>\n",
       "      <td>[[1, 13866, 338, 385, 15278, 393, 16612, 263, ...</td>\n",
       "      <td>&lt;major general [desc] military rank [type] mil...</td>\n",
       "    </tr>\n",
       "    <tr>\n",
       "      <th>9426</th>\n",
       "      <td>6</td>\n",
       "      <td>1579</td>\n",
       "      <td>False</td>\n",
       "      <td>False</td>\n",
       "      <td>True</td>\n",
       "      <td>major general [desc] military rank of the unit...</td>\n",
       "      <td>[[1, 13866, 338, 385, 15278, 393, 16612, 263, ...</td>\n",
       "      <td>&lt;major general [desc] military rank [type] mil...</td>\n",
       "    </tr>\n",
       "    <tr>\n",
       "      <th>9428</th>\n",
       "      <td>8</td>\n",
       "      <td>1579</td>\n",
       "      <td>False</td>\n",
       "      <td>False</td>\n",
       "      <td>True</td>\n",
       "      <td>major general [desc] military rank of the unit...</td>\n",
       "      <td>[[1, 13866, 338, 385, 15278, 393, 16612, 263, ...</td>\n",
       "      <td>&lt;major general [desc] military rank [type] mil...</td>\n",
       "    </tr>\n",
       "    <tr>\n",
       "      <th>9429</th>\n",
       "      <td>9</td>\n",
       "      <td>1579</td>\n",
       "      <td>False</td>\n",
       "      <td>False</td>\n",
       "      <td>True</td>\n",
       "      <td>major general [desc] military rank of the unit...</td>\n",
       "      <td>[[1, 13866, 338, 385, 15278, 393, 16612, 263, ...</td>\n",
       "      <td>&lt;major general [desc] military rank [type] mil...</td>\n",
       "    </tr>\n",
       "  </tbody>\n",
       "</table>\n",
       "</div>"
      ],
      "text/plain": [
       "      run   pid  correct  hallucinated  loosely_correct  \\\n",
       "944     4   992    False         False             True   \n",
       "945     5   992    False         False             True   \n",
       "946     6   992    False         False             True   \n",
       "947     7   992    False         False             True   \n",
       "9420    0  1579    False         False             True   \n",
       "9421    1  1579    False         False             True   \n",
       "9422    2  1579    False         False             True   \n",
       "9423    3  1579    False         False             True   \n",
       "9424    4  1579    False         False             True   \n",
       "9425    5  1579    False         False             True   \n",
       "9426    6  1579    False         False             True   \n",
       "9428    8  1579    False         False             True   \n",
       "9429    9  1579    False         False             True   \n",
       "\n",
       "                                                 answer  \\\n",
       "944   andrey krylov [desc] russian swimmer [type] sw...   \n",
       "945   andrey krylov [desc] russian swimmer [type] sw...   \n",
       "946   andrey krylov [desc] russian swimmer [type] sw...   \n",
       "947   andrey krylov [desc] russian swimmer [type] sw...   \n",
       "9420  major general [desc] military rank of the unit...   \n",
       "9421  major general [desc] military rank of the unit...   \n",
       "9422  major general [desc] military rank of the unit...   \n",
       "9423  major general [desc] military rank of the unit...   \n",
       "9424  major general [desc] military rank of the unit...   \n",
       "9425  major general [desc] military rank of the unit...   \n",
       "9426  major general [desc] military rank of the unit...   \n",
       "9428  major general [desc] military rank of the unit...   \n",
       "9429  major general [desc] military rank of the unit...   \n",
       "\n",
       "                                             answer_seq  \\\n",
       "944   [[1, 13866, 338, 385, 15278, 393, 16612, 263, ...   \n",
       "945   [[1, 13866, 338, 385, 15278, 393, 16612, 263, ...   \n",
       "946   [[1, 13866, 338, 385, 15278, 393, 16612, 263, ...   \n",
       "947   [[1, 13866, 338, 385, 15278, 393, 16612, 263, ...   \n",
       "9420  [[1, 13866, 338, 385, 15278, 393, 16612, 263, ...   \n",
       "9421  [[1, 13866, 338, 385, 15278, 393, 16612, 263, ...   \n",
       "9422  [[1, 13866, 338, 385, 15278, 393, 16612, 263, ...   \n",
       "9423  [[1, 13866, 338, 385, 15278, 393, 16612, 263, ...   \n",
       "9424  [[1, 13866, 338, 385, 15278, 393, 16612, 263, ...   \n",
       "9425  [[1, 13866, 338, 385, 15278, 393, 16612, 263, ...   \n",
       "9426  [[1, 13866, 338, 385, 15278, 393, 16612, 263, ...   \n",
       "9428  [[1, 13866, 338, 385, 15278, 393, 16612, 263, ...   \n",
       "9429  [[1, 13866, 338, 385, 15278, 393, 16612, 263, ...   \n",
       "\n",
       "                                           right_answer  \n",
       "944       <andrey krylov [desc] swimmer [type] swimmer>  \n",
       "945       <andrey krylov [desc] swimmer [type] swimmer>  \n",
       "946       <andrey krylov [desc] swimmer [type] swimmer>  \n",
       "947       <andrey krylov [desc] swimmer [type] swimmer>  \n",
       "9420  <major general [desc] military rank [type] mil...  \n",
       "9421  <major general [desc] military rank [type] mil...  \n",
       "9422  <major general [desc] military rank [type] mil...  \n",
       "9423  <major general [desc] military rank [type] mil...  \n",
       "9424  <major general [desc] military rank [type] mil...  \n",
       "9425  <major general [desc] military rank [type] mil...  \n",
       "9426  <major general [desc] military rank [type] mil...  \n",
       "9428  <major general [desc] military rank [type] mil...  \n",
       "9429  <major general [desc] military rank [type] mil...  "
      ]
     },
     "execution_count": 28,
     "metadata": {},
     "output_type": "execute_result"
    }
   ],
   "source": [
    "# correct but not loosely correct?\n",
    "gg = pd.merge(truth, answers, on=['run', 'pid'], how='inner')\n",
    "gg[(gg.loosely_correct) & (~gg.correct)]"
   ]
  },
  {
   "cell_type": "code",
   "execution_count": 219,
   "id": "ba1d4689",
   "metadata": {},
   "outputs": [
    {
     "data": {
      "text/html": [
       "<div>\n",
       "<style scoped>\n",
       "    .dataframe tbody tr th:only-of-type {\n",
       "        vertical-align: middle;\n",
       "    }\n",
       "\n",
       "    .dataframe tbody tr th {\n",
       "        vertical-align: top;\n",
       "    }\n",
       "\n",
       "    .dataframe thead th {\n",
       "        text-align: right;\n",
       "    }\n",
       "</style>\n",
       "<table border=\"1\" class=\"dataframe\">\n",
       "  <thead>\n",
       "    <tr style=\"text-align: right;\">\n",
       "      <th></th>\n",
       "      <th>run</th>\n",
       "      <th>pid</th>\n",
       "      <th>correct</th>\n",
       "      <th>hallucinated</th>\n",
       "      <th>loosely_correct</th>\n",
       "      <th>answer</th>\n",
       "      <th>answer_seq</th>\n",
       "      <th>right_answer</th>\n",
       "    </tr>\n",
       "  </thead>\n",
       "  <tbody>\n",
       "    <tr>\n",
       "      <th>3884</th>\n",
       "      <td>4</td>\n",
       "      <td>37</td>\n",
       "      <td>False</td>\n",
       "      <td>False</td>\n",
       "      <td>True</td>\n",
       "      <td>australia [desc] country in oceania [type] oec...</td>\n",
       "      <td>[[128000, 39314, 374, 459, 7754, 430, 16964, 2...</td>\n",
       "      <td>&lt;australia [desc] country in oceania [type] oe...</td>\n",
       "    </tr>\n",
       "  </tbody>\n",
       "</table>\n",
       "</div>"
      ],
      "text/plain": [
       "      run  pid  correct  hallucinated  loosely_correct  \\\n",
       "3884    4   37    False         False             True   \n",
       "\n",
       "                                                 answer  \\\n",
       "3884  australia [desc] country in oceania [type] oec...   \n",
       "\n",
       "                                             answer_seq  \\\n",
       "3884  [[128000, 39314, 374, 459, 7754, 430, 16964, 2...   \n",
       "\n",
       "                                           right_answer  \n",
       "3884  <australia [desc] country in oceania [type] oe...  "
      ]
     },
     "execution_count": 219,
     "metadata": {},
     "output_type": "execute_result"
    }
   ],
   "source": [
    "# only loosely correct\n",
    "gg = pd.merge(truth, answers, on=['run', 'pid'], how='inner')\n",
    "gg[(gg.loosely_correct) & (~gg.correct) & (~gg.hallucinated)]"
   ]
  },
  {
   "cell_type": "markdown",
   "id": "cf1c8e14",
   "metadata": {},
   "source": [
    "### sequence components alignment\n",
    "### (build \"segments\" for each sequence)"
   ]
  },
  {
   "cell_type": "code",
   "execution_count": 24,
   "id": "ff3dca16",
   "metadata": {},
   "outputs": [],
   "source": [
    "def is_sublist(c, m, label):\n",
    "    if not c: return False\n",
    "    if not m or len(c) > len(m): return False\n",
    "\n",
    "    for i in range(len(m) - len(c) + 1):\n",
    "        if m[i:i+len(c)] == c:\n",
    "            return (i, i + len(c), label)\n",
    "    return False"
   ]
  },
  {
   "cell_type": "code",
   "execution_count": 25,
   "id": "433b6efb",
   "metadata": {},
   "outputs": [],
   "source": [
    "# %%time\n",
    "\n",
    "checks = []\n",
    "alls = set()\n",
    "\n",
    "for idx, p in enumerate(outlist):\n",
    "    clear_output(wait=True)\n",
    "    print(idx, end='\\r')\n",
    "    \n",
    "    run = p['run']\n",
    "    pid = p['pid']\n",
    "    \n",
    "    alls.add(p['table'])\n",
    "    \n",
    "    # this is the generated sequence\n",
    "    output_seq = p['post_output_sequences'][0]\n",
    "    \n",
    "    # overall prompt sequence\n",
    "    prompt = generate_prompt(p[\"instruction\"], p[\"question\"], p[\"input\"])\n",
    "    prompt_seq = tokenizer(prompt, return_tensors=\"pt\")\n",
    "    prompt_seq = prompt_seq['input_ids'][0].numpy().tolist()\n",
    "\n",
    "    # subsequences TODO FIX THESE\n",
    "    instruction_seq = tokenizer(p[\"instruction\"], return_tensors=\"pt\")\n",
    "    instruction_seq = instruction_seq['input_ids'][0].numpy().tolist()\n",
    "\n",
    "    question_seq = tokenizer(p[\"question\"], return_tensors=\"pt\")\n",
    "    question_seq = question_seq['input_ids'][0].numpy().tolist()\n",
    "\n",
    "    input_seq = tokenizer(p[\"input\"], return_tensors=\"pt\")\n",
    "    input_seq = input_seq['input_ids'][0].numpy().tolist()\n",
    "\n",
    "    postilla = \" Answer with just a candidate, selected from the provided referent entity candidates list, and nothing else. The selected candidate must be reported verbatim from the list provided as input. Each candidate in the list is enclosed between < and > and reports [DESC] and [TYPE] information.\"\n",
    "    postilla += \"\\n\\n### Response:\"\n",
    "    postilla_seq = tokenizer(postilla, return_tensors=\"pt\")\n",
    "    postilla_seq = postilla_seq['input_ids'][0].numpy().tolist()\n",
    "    \n",
    "    # subseq matching\n",
    "    if model_name.startswith('osunlp'): start_tok = 2\n",
    "    else: start_tok = 1\n",
    "    \n",
    "    instruction_match = is_sublist(instruction_seq[start_tok:], output_seq, 'instruction')\n",
    "    if not instruction_match: instruction_match = is_sublist(instruction_seq[start_tok:-1], output_seq, 'instruction')\n",
    "    input_match = is_sublist(input_seq[start_tok:], output_seq, 'input')\n",
    "    if not input_match: input_match = is_sublist(input_seq[start_tok:-1], output_seq, 'input')\n",
    "    question_match = is_sublist(question_seq[start_tok:], output_seq, 'question')\n",
    "    if not question_match: question_match = is_sublist(question_seq[start_tok:-1], output_seq, 'question')\n",
    "    postilla_match = is_sublist(postilla_seq[start_tok:], output_seq, 'postilla')\n",
    "    \n",
    "    # boundaries are inclusive\n",
    "    checks.append((run, pid, 0, instruction_match[0] - 1, 'preamble')) # preamble\n",
    "    checks.append((run, pid, instruction_match[0]) + instruction_match[1:])\n",
    "    checks.append((run, pid, instruction_match[1] + 1) + input_match[1:]) # sew to preceding\n",
    "    # checks.append((run, pid, input_match[1] + 1) + question_match[1:]) # sew to preceding\n",
    "    checks.append((run, pid, input_match[1] + 1) + (postilla_match[0]-1, 'question')) # sew to both\n",
    "    \n",
    "    \n",
    "    # CORRECT skipped the last token in pre_\n",
    "    checks.append((run, pid, postilla_match[0], len(prompt_seq) - 1, 'postilla')) # stretch postilla until the end of the prompt\n",
    "    checks.append((run, pid, len(prompt_seq) , len(output_seq) - 1, 'generated')) # assume everything else is generated    \n",
    "    \n",
    "    # COMPATIBILITY with crippled cache\n",
    "    # checks.append((run, pid, postilla_match[0], len(prompt_seq) - 2, 'postilla'))\n",
    "    # checks.append((run, pid, len(prompt_seq)-1 , len(output_seq) - 2, 'generated')) # assume everything else is generated    \n",
    "    \n",
    "    \n",
    "    \n",
    "    # before caching dirty trick\n",
    "    # checks.append((run, pid, postilla_match[0] + 1, len(prompt_seq) - 1, 'postilla')) # stretch postilla until the end of the prompt\n",
    "    # checks.append((run, pid, len(prompt_seq), len(output_seq) - 1, 'generated')) # assume everything else is generated\n",
    "    \n",
    "    #print(len(prompt_seq), len(output_seq) - 1)\n"
   ]
  },
  {
   "cell_type": "code",
   "execution_count": 26,
   "id": "f34145e5",
   "metadata": {},
   "outputs": [],
   "source": [
    "# check the checks (must be False)\n",
    "'False' in checks"
   ]
  },
  {
   "cell_type": "code",
   "execution_count": 27,
   "id": "13265c19",
   "metadata": {},
   "outputs": [],
   "source": [
    "segments = pd.DataFrame(checks, columns = ['run', 'pid', 'start', 'end', 'segment'])"
   ]
  },
  {
   "cell_type": "code",
   "execution_count": 28,
   "id": "095d0f8b",
   "metadata": {},
   "outputs": [],
   "source": [
    "segments['seq'] = segments.segment.map({'preamble': 0, 'instruction': 1, 'input': 2, 'question': 3, 'postilla': 4, 'generated': 5})"
   ]
  },
  {
   "cell_type": "code",
   "execution_count": 29,
   "id": "6f927728",
   "metadata": {},
   "outputs": [],
   "source": [
    "segments['length'] = segments.end - segments.start + 1"
   ]
  },
  {
   "cell_type": "code",
   "execution_count": 30,
   "id": "ab71d07c",
   "metadata": {},
   "outputs": [],
   "source": [
    "segments"
   ]
  },
  {
   "cell_type": "markdown",
   "id": "8c11613b",
   "metadata": {},
   "source": [
    "### debug alignment here"
   ]
  },
  {
   "cell_type": "code",
   "execution_count": 31,
   "id": "645c92f2",
   "metadata": {},
   "outputs": [],
   "source": [
    "segments[(p['pid'] == segments['pid']) & (segments['run']==0)]"
   ]
  },
  {
   "cell_type": "code",
   "execution_count": 32,
   "id": "a8d2435a",
   "metadata": {},
   "outputs": [],
   "source": [
    "# debug\n",
    "p = outlist[0]\n",
    "prompt = generate_prompt(p[\"instruction\"], p[\"question\"], p[\"input\"])\n",
    "prompt_seq = tokenizer(prompt, return_tensors=\"pt\")"
   ]
  },
  {
   "cell_type": "code",
   "execution_count": 33,
   "id": "21715410",
   "metadata": {},
   "outputs": [],
   "source": [
    "myids = segments[(p['pid'] == segments['pid']) & (segments['run']==0) & (segments['segment']=='preamble')]\n",
    "tokens = tokenizer.batch_decode(prompt_seq[\"input_ids\"][0][myids.start.iloc[0]:myids.end.iloc[0]+1], skip_special_tokens=False, clean_up_tokenization_spaces=True)\n",
    "\n",
    "''.join(tokens)"
   ]
  },
  {
   "cell_type": "code",
   "execution_count": 34,
   "id": "94a8d549",
   "metadata": {},
   "outputs": [],
   "source": [
    "myids = segments[(p['pid'] == segments['pid']) & (segments['run']==0) & (segments['segment']=='instruction')]\n",
    "\n",
    "tokens = tokenizer.batch_decode(prompt_seq[\"input_ids\"][0][myids.start.iloc[0]:myids.end.iloc[0]+1], skip_special_tokens=False, clean_up_tokenization_spaces=True)\n",
    "''.join(tokens)"
   ]
  },
  {
   "cell_type": "code",
   "execution_count": 35,
   "id": "f17361dd",
   "metadata": {},
   "outputs": [],
   "source": [
    "myids = segments[(p['pid'] == segments['pid']) & (segments['run']==0) & (segments['segment']=='input')]\n",
    "\n",
    "tokens = tokenizer.batch_decode(prompt_seq[\"input_ids\"][0][myids.start.iloc[0]:myids.end.iloc[0]+1], skip_special_tokens=False, clean_up_tokenization_spaces=True)\n",
    "''.join(tokens)"
   ]
  },
  {
   "cell_type": "code",
   "execution_count": 36,
   "id": "80a0d9ae",
   "metadata": {},
   "outputs": [],
   "source": [
    "myids = segments[(p['pid'] == segments['pid']) & (segments['run']==0) & (segments['segment']=='question')]\n",
    "\n",
    "tokens = tokenizer.batch_decode(prompt_seq[\"input_ids\"][0][myids.start.iloc[0]:myids.end.iloc[0]+1], skip_special_tokens=False, clean_up_tokenization_spaces=True)\n",
    "''.join(tokens)"
   ]
  },
  {
   "cell_type": "code",
   "execution_count": 37,
   "id": "0d6eeefc",
   "metadata": {},
   "outputs": [],
   "source": [
    "myids = segments[(p['pid'] == segments['pid']) & (segments['run']==0) & (segments['segment']=='postilla')]\n",
    "\n",
    "tokens = tokenizer.batch_decode(prompt_seq[\"input_ids\"][0][myids.start.iloc[0]:myids.end.iloc[0]+1], skip_special_tokens=False, clean_up_tokenization_spaces=True)\n",
    "''.join(tokens)"
   ]
  },
  {
   "cell_type": "code",
   "execution_count": 38,
   "id": "3648d64a",
   "metadata": {},
   "outputs": [],
   "source": [
    "myids = segments[(p['pid'] == segments['pid']) & (segments['run']==0) & (segments['segment']=='generated')]\n",
    "\n",
    "tokens = tokenizer.batch_decode(prompt_seq[\"input_ids\"][0][myids.start.iloc[0]:myids.end.iloc[0]+1], skip_special_tokens=False, clean_up_tokenization_spaces=True)\n",
    "''.join([t.replace('▁', '') for t in tokens])"
   ]
  },
  {
   "cell_type": "markdown",
   "id": "095e5986",
   "metadata": {},
   "source": [
    "### segment description"
   ]
  },
  {
   "cell_type": "code",
   "execution_count": 39,
   "id": "6ee3be0b",
   "metadata": {},
   "outputs": [],
   "source": [
    "avg_seq_widths = segments.groupby(['segment', 'seq']).length.agg(['mean', 'std', 'min', 'max']).reset_index().sort_values('seq')\n",
    "avg_seq_widths = avg_seq_widths.rename(columns = {'mean': 'avg_length', \n",
    "                                                  'std': 'std_length', \n",
    "                                                  'min': 'min_length',\n",
    "                                                  'max': 'max_length'})\n",
    "avg_seq_widths['avg_length_rel'] = avg_seq_widths['avg_length'] / avg_seq_widths['avg_length'].sum()\n",
    "avg_seq_widths['avg_cumlen'] = avg_seq_widths['avg_length_rel'].cumsum() \n",
    "avg_seq_widths"
   ]
  },
  {
   "cell_type": "code",
   "execution_count": 40,
   "id": "f172a596",
   "metadata": {},
   "outputs": [],
   "source": [
    "sns.histplot(segments[segments.segment=='input'], x='length', hue='segment', multiple='dodge', binwidth=100)"
   ]
  },
  {
   "cell_type": "code",
   "execution_count": 41,
   "id": "fa291f2f",
   "metadata": {},
   "outputs": [],
   "source": [
    "import seaborn as sns\n",
    "import matplotlib.pyplot as plt\n",
    "\n",
    "from palettable.cartocolors.qualitative import Prism_10, Bold_10\n",
    "palette = Prism_10.mpl_colors \n",
    "\n",
    "sns.set_theme(style=\"ticks\")\n",
    "\n",
    "f, ax = plt.subplots(figsize=(7, 6))\n",
    "\n",
    "sns.histplot(segments[segments.segment=='input'], x='length', color=Prism_10.mpl_colors[3], multiple='dodge', binwidth=100)\n",
    "\n",
    "ax.yaxis.grid(True)\n",
    "\n",
    "plt.show()"
   ]
  },
  {
   "cell_type": "code",
   "execution_count": 42,
   "id": "190bb3c2",
   "metadata": {},
   "outputs": [],
   "source": [
    "# Define background regions [(start, end, color, label)] based on the cumulative sections spans (for the first viz above)\n",
    "\n",
    "from palettable.cartocolors.qualitative import Prism_10, Bold_10\n",
    "palette = Prism_10.mpl_colors \n",
    "\n",
    "myl = avg_seq_widths.avg_cumlen.to_list()\n",
    "sections = ['preamble', 'instruction', 'input', 'question', 'postilla', 'generated']\n",
    "\n",
    "\n",
    "first = (0., myl[0], palette[0], sections[0])\n",
    "background_regions = [first]\n",
    "\n",
    "for z1, z2, l, i in zip(myl, myl[1:], sections[1:], range(len(myl))):\n",
    "    background_regions.append((z1,z2, palette[i+1], l))"
   ]
  },
  {
   "cell_type": "code",
   "execution_count": 43,
   "id": "e05209ab",
   "metadata": {},
   "outputs": [],
   "source": [
    "import seaborn as sns\n",
    "import matplotlib.pyplot as plt\n",
    "\n",
    "sns.set_theme(style=\"ticks\")\n",
    "\n",
    "# Initialize the figure with a logarithmic x axis\n",
    "f, ax = plt.subplots(figsize=(7, 6))\n",
    "ax.set_xscale(\"log\")\n",
    "\n",
    "# Plot the orbital period with horizontal boxes\n",
    "sns.boxplot(\n",
    "    segments, x=\"length\", y=\"segment\", hue=\"segment\",\n",
    "    whis=[0, 100], palette=[b[2] for b in background_regions]\n",
    ")\n",
    "\n",
    "for patch in ax.patches:\n",
    "    r, g, b, a = patch.get_facecolor()\n",
    "    patch.set_facecolor((r, g, b, .3))\n",
    "\n",
    "ax.xaxis.grid(True)\n",
    "ax.set(ylabel=\"\")\n",
    "\n",
    "plt.show()"
   ]
  },
  {
   "cell_type": "markdown",
   "id": "d40f8291",
   "metadata": {},
   "source": [
    "### collect observables"
   ]
  },
  {
   "cell_type": "code",
   "execution_count": 44,
   "id": "efbcfd3b",
   "metadata": {},
   "outputs": [],
   "source": [
    "# outlist[0]['post_output_layers_kl'] ha dimensione n layer x m token generati\n",
    "# outlist[0]['transition_scores_s'] ha dimensione m token generati"
   ]
  },
  {
   "cell_type": "code",
   "execution_count": 45,
   "id": "767cb537",
   "metadata": {},
   "outputs": [],
   "source": [
    "%%time\n",
    "\n",
    "shapes = []\n",
    "\n",
    "# for each prompt\n",
    "for i, p in enumerate(outlist):\n",
    "    # for each token\n",
    "    run = p['run']\n",
    "    pid = p['pid']\n",
    "    \n",
    "    \n",
    "    # append all forward data (for run0 only)   \n",
    "    if 'pre_output_proba_topn' in p:\n",
    "        transpose_kl_pre = list(map(list, zip(*p['pre_output_layers_kl'])))\n",
    "        for j, pp in enumerate(p['pre_output_proba_topn']):\n",
    "            shapes.append((run,pid,j,'prompt',\n",
    "                               len(pp['top_n_indices']),\n",
    "                               p['pre_output_true_entropies'][j],\n",
    "                               max(pp['top_n_probs']),\n",
    "                               None,\n",
    "                               None,\n",
    "                               transpose_kl_pre[j],\n",
    "                               None))\n",
    "            # print(max(pp['top_n_probs']), max(pp['top_k_probs']))\n",
    "    \n",
    "    \n",
    "    transpose_kl = list(map(list, zip(*p['post_output_layers_kl'])))\n",
    "    # transpose_iou = list(map(list, zip(*p['post_output_layers_iou'])))\n",
    "    # append all generation data\n",
    "    for jj, pp in enumerate(p['post_output_proba_topn']):\n",
    "        shapes.append((run,pid,j+jj+1,'generated',\n",
    "                           len(pp['top_n_indices']),\n",
    "                           p['post_output_true_entropies'][jj],\n",
    "                           max(pp['top_n_probs']),\n",
    "                           p['transition_scores_s'][jj],\n",
    "                           p['transition_scores_l'][jj],\n",
    "                           transpose_kl[jj],\n",
    "                           None))\n",
    "    \n",
    "    # check that we have all data aligned correctly among prompt and generated\n",
    "    if 'pre_output_proba_topn' in p and len(p['post_output_sequences'][0]) != len(p['pre_output_proba_topn']) + len(p['post_output_true_entropies']):\n",
    "        print(\"SOMETHING VERY BAD OCCURRED\")\n",
    "        break\n"
   ]
  },
  {
   "cell_type": "code",
   "execution_count": 46,
   "id": "ca5d006b",
   "metadata": {},
   "outputs": [],
   "source": [
    "%%time \n",
    "\n",
    "import pandas as pd\n",
    "import numpy as np\n",
    "d = pd.DataFrame(shapes, columns=['run', 'pid', 'tok', 'area', 'shape', 'true_ent', 'maxp', 'trans_s', 'trans_l', 'logitlens_kl', 'logitlens_iou'])"
   ]
  },
  {
   "cell_type": "code",
   "execution_count": 47,
   "id": "87b50ed9",
   "metadata": {},
   "outputs": [],
   "source": [
    "# are the max index equal in observables and segments (must be True)\n",
    "d.groupby(['run','pid']).tok.max().sort_values().reset_index(drop=True).equals(segments.groupby(['run','pid']).end.max().sort_values().reset_index(drop=True))"
   ]
  },
  {
   "cell_type": "code",
   "execution_count": 48,
   "id": "a599cf9d",
   "metadata": {},
   "outputs": [],
   "source": [
    "# (first 10 in generated)\n",
    "d[d.area=='prompt'].groupby(['run', 'pid'], group_keys=False).apply(lambda x: x.tail(10)).describe()"
   ]
  },
  {
   "cell_type": "code",
   "execution_count": 49,
   "id": "15eaba90",
   "metadata": {},
   "outputs": [],
   "source": [
    "# (last 10 in prompt)\n",
    "d[d.area=='generated'].groupby(['run', 'pid'], group_keys=False).apply(lambda x: x.head(10)).describe()"
   ]
  },
  {
   "cell_type": "code",
   "execution_count": 50,
   "id": "fa8240d6",
   "metadata": {},
   "outputs": [],
   "source": [
    "%%time\n",
    "\n",
    "# attach sections\n",
    "\n",
    "m = d.merge(segments, on=['run','pid'], how='left')\n",
    "print(m.shape, d.shape)\n",
    "m = m[(m.tok >= m.start) & (m.tok <= m.end)] # segment indices are non-overlapping\n",
    "print(m.shape) # misses last token for every run0"
   ]
  },
  {
   "cell_type": "code",
   "execution_count": 51,
   "id": "4a776191",
   "metadata": {},
   "outputs": [],
   "source": [
    "# check overlap between prompt and generated"
   ]
  },
  {
   "cell_type": "code",
   "execution_count": 52,
   "id": "e00cf27d",
   "metadata": {},
   "outputs": [],
   "source": [
    "m[(m.area=='generated') & (m.segment=='postilla')]"
   ]
  },
  {
   "cell_type": "code",
   "execution_count": 53,
   "id": "fa0a282c",
   "metadata": {},
   "outputs": [],
   "source": [
    "m[(m.area=='prompt') & (m.segment=='generated')]"
   ]
  },
  {
   "cell_type": "code",
   "execution_count": 54,
   "id": "63200b51",
   "metadata": {},
   "outputs": [],
   "source": [
    "d[['run', 'pid', 'tok']].shape, d[['run', 'pid', 'tok']].drop_duplicates().shape"
   ]
  },
  {
   "cell_type": "code",
   "execution_count": 55,
   "id": "3f573236",
   "metadata": {},
   "outputs": [],
   "source": [
    "m[['run', 'pid', 'tok']].shape, m[['run', 'pid', 'tok']].drop_duplicates().shape"
   ]
  },
  {
   "cell_type": "code",
   "execution_count": 56,
   "id": "9c6c6f72",
   "metadata": {},
   "outputs": [],
   "source": [
    "m[['run', 'pid', 'tok']].sort_values(['pid', 'run', 'tok'])"
   ]
  },
  {
   "cell_type": "code",
   "execution_count": 57,
   "id": "cd8a5d32",
   "metadata": {},
   "outputs": [],
   "source": [
    "m[(m.segment=='postilla')][['run', 'pid', 'tok']]"
   ]
  },
  {
   "cell_type": "code",
   "execution_count": 58,
   "id": "ecb99d28",
   "metadata": {},
   "outputs": [],
   "source": [
    "# invalidated by caching without the last token\n",
    "# did we merge all the tokens to their segments (must be True)\n",
    "# d[['run', 'pid', 'tok']].sort_values(['run', 'pid', 'tok']).reset_index(drop=True).equals(m[['run', 'pid', 'tok']].sort_values(['run', 'pid', 'tok']).reset_index(drop=True))"
   ]
  },
  {
   "cell_type": "code",
   "execution_count": 59,
   "id": "085d1db3",
   "metadata": {},
   "outputs": [],
   "source": [
    "# check that all the six sections are present in each prompt (must be True)\n",
    "m.drop_duplicates(['pid', 'segment']).shape[0] == m.pid.nunique() * 6"
   ]
  },
  {
   "cell_type": "code",
   "execution_count": 60,
   "id": "98655a4a",
   "metadata": {},
   "outputs": [],
   "source": [
    "# token position normalization\n",
    "\n",
    "# normalized per section, offset by section sequence number\n",
    "m['tok_rel_segm'] = m.tok / m.end\n",
    "\n",
    "# normalized per section, each section same width\n",
    "m['tok_rel_segm_abs'] = m.seq + ((m.tok - m.start) / (m.end - m.start))\n",
    "\n",
    "# token relative to section start\n",
    "m['tokzero'] = m['tok'] - m['start']\n",
    "\n",
    "# token relative to section end (negative)\n",
    "m['tokzero_end'] = m['tok'] - m['end'] - 1"
   ]
  },
  {
   "cell_type": "code",
   "execution_count": 61,
   "id": "79665a6f",
   "metadata": {},
   "outputs": [],
   "source": [
    "m[(m.segment=='postilla') & (m.tokzero==59)][['run', 'pid', 'tok', 'tokzero']]"
   ]
  },
  {
   "cell_type": "markdown",
   "id": "e5533cc6",
   "metadata": {},
   "source": [
    "### check variances"
   ]
  },
  {
   "cell_type": "code",
   "execution_count": 62,
   "id": "899bf830",
   "metadata": {},
   "outputs": [],
   "source": [
    "m[m.segment=='preamble'].drop_duplicates('pid', keep='first')['true_ent'].var()"
   ]
  },
  {
   "cell_type": "code",
   "execution_count": 63,
   "id": "06fdde4f",
   "metadata": {},
   "outputs": [],
   "source": [
    "m[m.segment=='preamble'].drop_duplicates('pid', keep='last')['true_ent'].var()"
   ]
  },
  {
   "cell_type": "code",
   "execution_count": 64,
   "id": "8509fff0",
   "metadata": {},
   "outputs": [],
   "source": [
    "m[m.segment=='instruction'].drop_duplicates('pid', keep='first')['true_ent'].var()"
   ]
  },
  {
   "cell_type": "code",
   "execution_count": 65,
   "id": "c1eb307c",
   "metadata": {},
   "outputs": [],
   "source": [
    "m[m.segment=='instruction'].drop_duplicates('pid', keep='last')['true_ent'].var()"
   ]
  },
  {
   "cell_type": "code",
   "execution_count": 66,
   "id": "b04095e4",
   "metadata": {},
   "outputs": [],
   "source": [
    "m[m.segment=='question'].drop_duplicates('pid', keep='first')['true_ent'].var()"
   ]
  },
  {
   "cell_type": "code",
   "execution_count": 67,
   "id": "88345c4b",
   "metadata": {},
   "outputs": [],
   "source": [
    "m[m.segment=='question'].drop_duplicates('pid', keep='last')['true_ent'].var()"
   ]
  },
  {
   "cell_type": "code",
   "execution_count": 68,
   "id": "d64b827b",
   "metadata": {},
   "outputs": [],
   "source": [
    "m[m.segment=='generated'].drop_duplicates('pid', keep='first')['true_ent'].var()"
   ]
  },
  {
   "cell_type": "code",
   "execution_count": 69,
   "id": "32d49064",
   "metadata": {},
   "outputs": [],
   "source": [
    "m[m.segment=='generated'].drop_duplicates('pid', keep='last')['true_ent'].var()"
   ]
  },
  {
   "cell_type": "code",
   "execution_count": 70,
   "id": "63c9ccf0",
   "metadata": {},
   "outputs": [],
   "source": [
    "if True:\n",
    "    myoutdict = {'truth': truth, 'segments': segments, 'm': m, 'answers': answers, 'model_name': model_name}\n",
    "\n",
    "    import pickle\n",
    "\n",
    "    with open('preprocessed.pickle', 'wb') as handle:\n",
    "        pickle.dump(myoutdict, handle, protocol=pickle.HIGHEST_PROTOCOL)\n"
   ]
  },
  {
   "cell_type": "code",
   "execution_count": 71,
   "id": "07a98d26",
   "metadata": {},
   "outputs": [],
   "source": [
    "!ls -larth | grep preprocessed"
   ]
  },
  {
   "cell_type": "code",
   "execution_count": 75,
   "id": "9200fc75",
   "metadata": {},
   "outputs": [
    {
     "data": {
      "text/html": [
       "<div>\n",
       "<style scoped>\n",
       "    .dataframe tbody tr th:only-of-type {\n",
       "        vertical-align: middle;\n",
       "    }\n",
       "\n",
       "    .dataframe tbody tr th {\n",
       "        vertical-align: top;\n",
       "    }\n",
       "\n",
       "    .dataframe thead th {\n",
       "        text-align: right;\n",
       "    }\n",
       "</style>\n",
       "<table border=\"1\" class=\"dataframe\">\n",
       "  <thead>\n",
       "    <tr style=\"text-align: right;\">\n",
       "      <th></th>\n",
       "      <th>run</th>\n",
       "      <th>pid</th>\n",
       "      <th>answer</th>\n",
       "      <th>answer_seq</th>\n",
       "      <th>right_answer</th>\n",
       "    </tr>\n",
       "  </thead>\n",
       "  <tbody>\n",
       "    <tr>\n",
       "      <th>0</th>\n",
       "      <td>0</td>\n",
       "      <td>129</td>\n",
       "      <td>netball [desc] ball sport [type] type of sport...</td>\n",
       "      <td>[[128000, 39314, 374, 459, 7754, 430, 16964, 2...</td>\n",
       "      <td>&lt;netball [desc] ball sport [type] type of sport&gt;</td>\n",
       "    </tr>\n",
       "    <tr>\n",
       "      <th>1</th>\n",
       "      <td>1</td>\n",
       "      <td>129</td>\n",
       "      <td>netball [desc] ball sport [type] type of sport...</td>\n",
       "      <td>[[128000, 39314, 374, 459, 7754, 430, 16964, 2...</td>\n",
       "      <td>&lt;netball [desc] ball sport [type] type of sport&gt;</td>\n",
       "    </tr>\n",
       "    <tr>\n",
       "      <th>2</th>\n",
       "      <td>2</td>\n",
       "      <td>129</td>\n",
       "      <td>netball [desc] ball sport [type] type of sport...</td>\n",
       "      <td>[[128000, 39314, 374, 459, 7754, 430, 16964, 2...</td>\n",
       "      <td>&lt;netball [desc] ball sport [type] type of sport&gt;</td>\n",
       "    </tr>\n",
       "    <tr>\n",
       "      <th>3</th>\n",
       "      <td>3</td>\n",
       "      <td>129</td>\n",
       "      <td>ball [desc] ball sport [type] type of sport]. ...</td>\n",
       "      <td>[[128000, 39314, 374, 459, 7754, 430, 16964, 2...</td>\n",
       "      <td>&lt;netball [desc] ball sport [type] type of sport&gt;</td>\n",
       "    </tr>\n",
       "    <tr>\n",
       "      <th>4</th>\n",
       "      <td>4</td>\n",
       "      <td>129</td>\n",
       "      <td>&gt;netball [desc] ball sport [type] type of spor...</td>\n",
       "      <td>[[128000, 39314, 374, 459, 7754, 430, 16964, 2...</td>\n",
       "      <td>&lt;netball [desc] ball sport [type] type of sport&gt;</td>\n",
       "    </tr>\n",
       "    <tr>\n",
       "      <th>...</th>\n",
       "      <td>...</td>\n",
       "      <td>...</td>\n",
       "      <td>...</td>\n",
       "      <td>...</td>\n",
       "      <td>...</td>\n",
       "    </tr>\n",
       "    <tr>\n",
       "      <th>15015</th>\n",
       "      <td>5</td>\n",
       "      <td>599</td>\n",
       "      <td>&lt;philippe sutherland [desc] french basketball ...</td>\n",
       "      <td>[[128000, 39314, 374, 459, 7754, 430, 16964, 2...</td>\n",
       "      <td>&lt;sutherland [desc] former state electoral dist...</td>\n",
       "    </tr>\n",
       "    <tr>\n",
       "      <th>15016</th>\n",
       "      <td>6</td>\n",
       "      <td>599</td>\n",
       "      <td>sutherland shire [desc] local government area ...</td>\n",
       "      <td>[[128000, 39314, 374, 459, 7754, 430, 16964, 2...</td>\n",
       "      <td>&lt;sutherland [desc] former state electoral dist...</td>\n",
       "    </tr>\n",
       "    <tr>\n",
       "      <th>15017</th>\n",
       "      <td>7</td>\n",
       "      <td>599</td>\n",
       "      <td>the selected entity mention in the table cell ...</td>\n",
       "      <td>[[128000, 39314, 374, 459, 7754, 430, 16964, 2...</td>\n",
       "      <td>&lt;sutherland [desc] former state electoral dist...</td>\n",
       "    </tr>\n",
       "    <tr>\n",
       "      <th>15018</th>\n",
       "      <td>8</td>\n",
       "      <td>599</td>\n",
       "      <td>sutherland shire [desc] local government area ...</td>\n",
       "      <td>[[128000, 39314, 374, 459, 7754, 430, 16964, 2...</td>\n",
       "      <td>&lt;sutherland [desc] former state electoral dist...</td>\n",
       "    </tr>\n",
       "    <tr>\n",
       "      <th>15019</th>\n",
       "      <td>9</td>\n",
       "      <td>599</td>\n",
       "      <td>sutherland shire [desc] local government area ...</td>\n",
       "      <td>[[128000, 39314, 374, 459, 7754, 430, 16964, 2...</td>\n",
       "      <td>&lt;sutherland [desc] former state electoral dist...</td>\n",
       "    </tr>\n",
       "  </tbody>\n",
       "</table>\n",
       "<p>15020 rows × 5 columns</p>\n",
       "</div>"
      ],
      "text/plain": [
       "       run  pid                                             answer  \\\n",
       "0        0  129  netball [desc] ball sport [type] type of sport...   \n",
       "1        1  129  netball [desc] ball sport [type] type of sport...   \n",
       "2        2  129  netball [desc] ball sport [type] type of sport...   \n",
       "3        3  129  ball [desc] ball sport [type] type of sport]. ...   \n",
       "4        4  129  >netball [desc] ball sport [type] type of spor...   \n",
       "...    ...  ...                                                ...   \n",
       "15015    5  599  <philippe sutherland [desc] french basketball ...   \n",
       "15016    6  599  sutherland shire [desc] local government area ...   \n",
       "15017    7  599  the selected entity mention in the table cell ...   \n",
       "15018    8  599  sutherland shire [desc] local government area ...   \n",
       "15019    9  599  sutherland shire [desc] local government area ...   \n",
       "\n",
       "                                              answer_seq  \\\n",
       "0      [[128000, 39314, 374, 459, 7754, 430, 16964, 2...   \n",
       "1      [[128000, 39314, 374, 459, 7754, 430, 16964, 2...   \n",
       "2      [[128000, 39314, 374, 459, 7754, 430, 16964, 2...   \n",
       "3      [[128000, 39314, 374, 459, 7754, 430, 16964, 2...   \n",
       "4      [[128000, 39314, 374, 459, 7754, 430, 16964, 2...   \n",
       "...                                                  ...   \n",
       "15015  [[128000, 39314, 374, 459, 7754, 430, 16964, 2...   \n",
       "15016  [[128000, 39314, 374, 459, 7754, 430, 16964, 2...   \n",
       "15017  [[128000, 39314, 374, 459, 7754, 430, 16964, 2...   \n",
       "15018  [[128000, 39314, 374, 459, 7754, 430, 16964, 2...   \n",
       "15019  [[128000, 39314, 374, 459, 7754, 430, 16964, 2...   \n",
       "\n",
       "                                            right_answer  \n",
       "0       <netball [desc] ball sport [type] type of sport>  \n",
       "1       <netball [desc] ball sport [type] type of sport>  \n",
       "2       <netball [desc] ball sport [type] type of sport>  \n",
       "3       <netball [desc] ball sport [type] type of sport>  \n",
       "4       <netball [desc] ball sport [type] type of sport>  \n",
       "...                                                  ...  \n",
       "15015  <sutherland [desc] former state electoral dist...  \n",
       "15016  <sutherland [desc] former state electoral dist...  \n",
       "15017  <sutherland [desc] former state electoral dist...  \n",
       "15018  <sutherland [desc] former state electoral dist...  \n",
       "15019  <sutherland [desc] former state electoral dist...  \n",
       "\n",
       "[15020 rows x 5 columns]"
      ]
     },
     "execution_count": 75,
     "metadata": {},
     "output_type": "execute_result"
    }
   ],
   "source": [
    "answers"
   ]
  },
  {
   "cell_type": "code",
   "execution_count": 77,
   "id": "f4641c62",
   "metadata": {},
   "outputs": [
    {
     "data": {
      "text/plain": [
       "\"<women's 200 metres [desc] gendered athletics discipline competition class [type] classification in sports]>  ### end of response. ### below is the solution. i will use the provided entities to guide my response. we're given a list of referent entity candidates for the entity mention '200 metres\""
      ]
     },
     "execution_count": 77,
     "metadata": {},
     "output_type": "execute_result"
    }
   ],
   "source": [
    "answers.iloc[10].answer"
   ]
  },
  {
   "cell_type": "markdown",
   "id": "fed2c482",
   "metadata": {},
   "source": [
    "### other debug"
   ]
  },
  {
   "cell_type": "code",
   "execution_count": null,
   "id": "ebe972a2",
   "metadata": {},
   "outputs": [],
   "source": [
    "\n",
    "m[(m.run==0) & (m.pid==416)].tok.shape"
   ]
  },
  {
   "cell_type": "code",
   "execution_count": null,
   "id": "a1ffc62d",
   "metadata": {},
   "outputs": [],
   "source": [
    "p = outlist[0]\n",
    "p['pid']"
   ]
  },
  {
   "cell_type": "code",
   "execution_count": null,
   "id": "026985ea",
   "metadata": {},
   "outputs": [],
   "source": [
    "p['tokenized_inputs'].input_ids[0].shape"
   ]
  },
  {
   "cell_type": "code",
   "execution_count": null,
   "id": "4d7cd1f4",
   "metadata": {},
   "outputs": [],
   "source": [
    "p['tokenized_inputs'].input_ids[0][:10]"
   ]
  },
  {
   "cell_type": "code",
   "execution_count": null,
   "id": "db696130",
   "metadata": {},
   "outputs": [],
   "source": [
    "p['post_output_sequences'][0][:10]"
   ]
  },
  {
   "cell_type": "code",
   "execution_count": null,
   "id": "a98be5af",
   "metadata": {},
   "outputs": [],
   "source": [
    "p['tokenized_inputs'].input_ids[0][-10:]"
   ]
  },
  {
   "cell_type": "code",
   "execution_count": null,
   "id": "468ddf8d",
   "metadata": {},
   "outputs": [],
   "source": [
    "p['post_output_sequences'][0][-22:]"
   ]
  },
  {
   "cell_type": "code",
   "execution_count": null,
   "id": "cb53847d",
   "metadata": {},
   "outputs": [],
   "source": [
    "len(p['post_output_sequences'][0])"
   ]
  },
  {
   "cell_type": "code",
   "execution_count": null,
   "id": "6b924b70",
   "metadata": {},
   "outputs": [],
   "source": [
    "len(p['post_output_true_entropies'])"
   ]
  },
  {
   "cell_type": "code",
   "execution_count": null,
   "id": "1242f836",
   "metadata": {},
   "outputs": [],
   "source": [
    "prompt = generate_prompt(p[\"instruction\"], p[\"question\"], p[\"input\"])\n",
    "prompt_seq = tokenizer(prompt, return_tensors=\"pt\")"
   ]
  },
  {
   "cell_type": "code",
   "execution_count": null,
   "id": "c1b5284c",
   "metadata": {},
   "outputs": [],
   "source": [
    "prompt_seq.input_ids[0].shape"
   ]
  },
  {
   "cell_type": "code",
   "execution_count": null,
   "id": "d7de7586",
   "metadata": {},
   "outputs": [],
   "source": [
    "segments[(segments.run==0) & (segments.pid==416)]"
   ]
  },
  {
   "cell_type": "code",
   "execution_count": null,
   "id": "a5393a56",
   "metadata": {},
   "outputs": [],
   "source": []
  },
  {
   "cell_type": "markdown",
   "id": "bc780e2a",
   "metadata": {},
   "source": [
    "## Load preprocessed"
   ]
  },
  {
   "cell_type": "code",
   "execution_count": null,
   "id": "4fb8d562",
   "metadata": {},
   "outputs": [],
   "source": [
    "%%time\n",
    "\n",
    "with open('preprocessed.pickle', 'rb') as handle:\n",
    "    mydict = pickle.load(handle)\n",
    "    \n",
    "truth = mydict['truth']\n",
    "segments = mydict['segments']\n",
    "m = mydict['m']\n",
    "answers = mydict['answers']"
   ]
  },
  {
   "cell_type": "code",
   "execution_count": null,
   "id": "bfbdbe53",
   "metadata": {},
   "outputs": [],
   "source": [
    "NUM_BINS = 100"
   ]
  },
  {
   "cell_type": "code",
   "execution_count": null,
   "id": "aed30094",
   "metadata": {
    "scrolled": false
   },
   "outputs": [],
   "source": [
    "import matplotlib.pyplot as plt\n",
    "import seaborn as sns\n",
    "import pandas as pd\n",
    "from matplotlib.ticker import MaxNLocator\n",
    "import matplotlib.patches as mpatches\n",
    "\n",
    "plt.figure(figsize=(14, 6))\n",
    "ax = plt.gca()\n",
    "\n",
    "m['tok_bin'] = pd.cut(m['tok_rel_segm'], bins=NUM_BINS)\n",
    "m['tok_bin_hi'] = m['tok_bin'].apply(lambda x: x.right).astype(float)\n",
    "m['tok_bin_lo'] = m['tok_bin'].apply(lambda x: x.left).astype(float)\n",
    "\n",
    "unique_bins = np.sort(m['tok_bin_hi'].unique())  \n",
    "bin_mapping = {bin_val: i for i, bin_val in enumerate(unique_bins)}\n",
    "bks = list(bin_mapping.keys())\n",
    "\n",
    "print(len(bks))\n",
    "\n",
    "patches = []\n",
    "for start, end, color, label in background_regions:\n",
    "    start_bin = [ n for n,i in enumerate(bin_mapping.keys()) if i > start ][0]\n",
    "    end_bin = [ n for n,i in enumerate(bin_mapping.keys()) if i > end ]\n",
    "    if not end_bin: end_bin = len(bin_mapping) - 1 \n",
    "    else: end_bin = end_bin[0] - 1\n",
    "    ax.axvspan(bin_mapping[bks[start_bin]]-0.5, bin_mapping[bks[end_bin]]+0.5, color=color, alpha=0.3)\n",
    "    patches.append(mpatches.Patch(color=color, alpha=0.3, label=label)) \n",
    "\n",
    "df = m.sort_values(by=['pid', 'tok_bin_hi'])\n",
    "df['tok_bin_idx'] = df['tok_bin_hi'].map(bin_mapping)\n",
    "\n",
    "sns.boxplot(\n",
    "    data=df, \n",
    "    x=\"tok_bin_hi\", \n",
    "    y=\"true_ent\", \n",
    "    showcaps=True,        \n",
    "    showfliers=False,\n",
    "    whis=[25, 75],\n",
    "    boxprops={'facecolor': 'none'},\n",
    "    medianprops={'color': 'red', 'linewidth': 2},\n",
    "    ax = ax\n",
    ")\n",
    "\n",
    "# plt.yscale(\"log\")\n",
    "# ax.set(ylim=(0, 2))\n",
    "\n",
    "ax.xaxis.set_major_locator(MaxNLocator(nbins=20))\n",
    "plt.xticks(rotation=45)\n",
    "\n",
    "plt.xlabel(\"Position (normalized)\")\n",
    "plt.ylabel(\"H\")\n",
    "plt.title(\"Entropy\")\n",
    "\n",
    "ax.legend(handles=patches, title=\"Segments\", loc=\"upper right\")\n",
    "\n",
    "plt.tight_layout()\n",
    "\n",
    "plt.show()"
   ]
  },
  {
   "cell_type": "code",
   "execution_count": null,
   "id": "8a96f530",
   "metadata": {},
   "outputs": [],
   "source": [
    "ax.figure.savefig('./pdf/entropy_per_segment.pdf',dpi=600, bbox_inches=\"tight\")"
   ]
  },
  {
   "cell_type": "code",
   "execution_count": null,
   "id": "ba7c350f",
   "metadata": {},
   "outputs": [],
   "source": [
    "import matplotlib.pyplot as plt\n",
    "import seaborn as sns\n",
    "import pandas as pd\n",
    "from matplotlib.ticker import MaxNLocator\n",
    "import matplotlib.patches as mpatches\n",
    "\n",
    "plt.figure(figsize=(14, 6))\n",
    "ax = plt.gca()  # Get current axis\n",
    "\n",
    "m['tok_bin'] = pd.cut(m['tok_rel_segm_abs'], bins=NUM_BINS)\n",
    "m['tok_bin_hi'] = m['tok_bin'].apply(lambda x: x.right).astype(float)\n",
    "m['tok_bin_lo'] = m['tok_bin'].apply(lambda x: x.left).astype(float)\n",
    "\n",
    "unique_bins = np.sort(m['tok_bin_hi'].unique())  \n",
    "bin_mapping = {bin_val: i for i, bin_val in enumerate(unique_bins)}\n",
    "bks = list(bin_mapping.keys())\n",
    "\n",
    "print(len(bks))\n",
    "\n",
    "\n",
    "patches = []\n",
    "c = -0.5\n",
    "delta = int(len(bks)/6)+1\n",
    "for start, end, color, label in background_regions:\n",
    "    ax.axvspan(c, c+delta, color=color, alpha=0.3)\n",
    "    patches.append(mpatches.Patch(color=color, alpha=0.3, label=label)) \n",
    "    c += delta\n",
    "\n",
    "df = m.sort_values(by=['pid', 'tok_bin_hi'])\n",
    "df['tok_bin_idx'] = df['tok_bin_hi'].map(bin_mapping)\n",
    "\n",
    "sns.boxplot(\n",
    "    data=df, \n",
    "    x=\"tok_bin_hi\", \n",
    "    y=\"true_ent\", \n",
    "    showcaps=True,        \n",
    "    showfliers=False,\n",
    "    whis=[10, 90],\n",
    "    boxprops={'facecolor': 'none'},\n",
    "    medianprops={'color': 'red', 'linewidth': 2},\n",
    "    ax = ax\n",
    ")\n",
    "\n",
    "# plt.yscale(\"log\")\n",
    "ax.xaxis.set_major_locator(MaxNLocator(nbins=20))\n",
    "plt.xticks(rotation=45)\n",
    "\n",
    "plt.xlabel(\"Position (normalized)\")\n",
    "plt.ylabel(\"H\")\n",
    "plt.title(\"Entropy\")\n",
    "\n",
    "ax.legend(handles=patches, title=\"Segments\", loc=\"upper right\")\n",
    "\n",
    "plt.tight_layout()\n",
    "\n",
    "plt.show()"
   ]
  },
  {
   "cell_type": "code",
   "execution_count": null,
   "id": "d1599ba5",
   "metadata": {},
   "outputs": [],
   "source": [
    "ax.figure.savefig('./pdf/entropy_per_segment_unnorm.pdf',dpi=600, bbox_inches=\"tight\")"
   ]
  },
  {
   "cell_type": "code",
   "execution_count": null,
   "id": "69df6fb9",
   "metadata": {},
   "outputs": [],
   "source": [
    "import matplotlib.pyplot as plt\n",
    "import seaborn as sns\n",
    "import pandas as pd\n",
    "from matplotlib.ticker import MaxNLocator\n",
    "import matplotlib.patches as mpatches\n",
    "\n",
    "plt.figure(figsize=(14, 6))\n",
    "ax = plt.gca()  # Get current axis\n",
    "\n",
    "m_ = m[m.tok<180]\n",
    "\n",
    "background_regions_ = [\n",
    "    (0.0, 40.0, palette[0], 'preamble'),\n",
    "    (41.0, 135.0, palette[1], 'instruction'),\n",
    "    (136.0, 1000.0, palette[2], 'input'),\n",
    "    #    (3.0, 4.0, palette[3], 'question'),\n",
    "    #    (4.0, 5.0, palette[4], 'postilla'),\n",
    "    #    (5.0, 6.0, palette[5], 'generated')\n",
    "    ]\n",
    "\n",
    "patches = []\n",
    "for start, end, color, label in background_regions_:\n",
    "    ax.axvspan(start -0.5, end + 0.5, color=color, alpha=0.3)\n",
    "    patches.append(mpatches.Patch(color=color, alpha=0.3, label=label)) \n",
    "\n",
    "sns.boxplot(\n",
    "    data=m_, \n",
    "    x=\"tok\", \n",
    "    y=\"true_ent\", \n",
    "    showcaps=True,        \n",
    "    showfliers=False,\n",
    "    whis=[10, 90],\n",
    "    boxprops={'facecolor': 'none'},\n",
    "    medianprops={'color': 'red', 'linewidth': 2},\n",
    "    ax = ax\n",
    ")\n",
    "\n",
    "# plt.yscale(\"log\")\n",
    "ax.xaxis.set_major_locator(MaxNLocator(nbins=20))\n",
    "plt.xticks(rotation=45)\n",
    "\n",
    "plt.xlabel(\"Position (abs)\")\n",
    "plt.ylabel(\"H\")\n",
    "plt.title(\"Entropy\")\n",
    "\n",
    "ax.legend(handles=patches, title=\"Segments\", loc=\"upper right\")\n",
    "\n",
    "plt.tight_layout()\n",
    "\n",
    "plt.show()"
   ]
  },
  {
   "cell_type": "code",
   "execution_count": null,
   "id": "2c4ef0a7",
   "metadata": {},
   "outputs": [],
   "source": [
    "ax.figure.savefig('./pdf/entropy_beginning.pdf',dpi=600, bbox_inches=\"tight\")"
   ]
  },
  {
   "cell_type": "markdown",
   "id": "d4c12c62",
   "metadata": {},
   "source": [
    "### absolute boundary between input and question"
   ]
  },
  {
   "cell_type": "code",
   "execution_count": null,
   "id": "5209720a",
   "metadata": {},
   "outputs": [],
   "source": [
    "import matplotlib.pyplot as plt\n",
    "import seaborn as sns\n",
    "import pandas as pd\n",
    "from matplotlib.ticker import MaxNLocator\n",
    "import matplotlib.patches as mpatches\n",
    "\n",
    "plt.figure(figsize=(14, 6))\n",
    "ax = plt.gca()  # Get current axis\n",
    "\n",
    "delta = 40\n",
    "m_ = m[ ((m.segment == 'input') & (m.tokzero_end >= -delta))] #  \n",
    "\n",
    "background_regions_ = [\n",
    "    (0, delta, palette[2], 'input'),\n",
    "    (delta, 2*delta, palette[3], 'question'),\n",
    "    #(41.0, 135.0, palette[1], 'instruction'),\n",
    "    # (136.0, 1000.0, palette[2], 'input'),\n",
    "    #    (3.0, 4.0, palette[3], 'question'),\n",
    "    #    (4.0, 5.0, palette[4], 'postilla'),\n",
    "    #    (5.0, 6.0, palette[5], 'generated')\n",
    "    ]\n",
    "\n",
    "patches = []\n",
    "for start, end, color, label in background_regions_:\n",
    "    ax.axvspan(start - 0.5, end - 0.5, color=color, alpha=0.3)\n",
    "    patches.append(mpatches.Patch(color=color, alpha=0.3, label=label)) \n",
    "\n",
    "sns.boxplot(\n",
    "    data=m_, \n",
    "    x=\"tokzero_end\", \n",
    "    y=\"true_ent\", \n",
    "    showcaps=True,        \n",
    "    showfliers=False,\n",
    "    whis=[10, 90],\n",
    "    boxprops={'facecolor': 'none'},\n",
    "    medianprops={'color': 'blue', 'linewidth': 2},\n",
    "    ax = ax\n",
    ")\n",
    "\n",
    "m_ = m[ (m.segment == 'question') & (m.tokzero < delta) ]\n",
    "\n",
    "sns.boxplot(\n",
    "    data=m_, \n",
    "    x=\"tokzero\", \n",
    "    y=\"true_ent\", \n",
    "    showcaps=True,        \n",
    "    showfliers=False,\n",
    "    whis=[10, 90],\n",
    "    boxprops={'facecolor': 'none'},\n",
    "    medianprops={'color': 'red', 'linewidth': 2},\n",
    "    ax = ax\n",
    ")\n",
    "\n",
    "# plt.yscale(\"log\")\n",
    "ax.xaxis.set_major_locator(MaxNLocator(nbins=20))\n",
    "plt.xticks(rotation=45)\n",
    "\n",
    "plt.xlabel(\"Position (abs)\")\n",
    "plt.ylabel(\"H\")\n",
    "plt.title(\"Entropy\")\n",
    "\n",
    "ax.legend(handles=patches, title=\"Segments\", loc=\"upper right\")\n",
    "\n",
    "plt.tight_layout()\n",
    "\n",
    "plt.show()"
   ]
  },
  {
   "cell_type": "code",
   "execution_count": null,
   "id": "a4873de8",
   "metadata": {},
   "outputs": [],
   "source": [
    "ax.figure.savefig('./pdf/entropy_boundary_input_and_question.pdf',dpi=600, bbox_inches=\"tight\")"
   ]
  },
  {
   "cell_type": "markdown",
   "id": "37ed9b0a",
   "metadata": {},
   "source": [
    "### absolute boundary between  question and postilla"
   ]
  },
  {
   "cell_type": "code",
   "execution_count": null,
   "id": "7e4f1266",
   "metadata": {},
   "outputs": [],
   "source": [
    "import matplotlib.pyplot as plt\n",
    "import seaborn as sns\n",
    "import pandas as pd\n",
    "from matplotlib.ticker import MaxNLocator\n",
    "import matplotlib.patches as mpatches\n",
    "\n",
    "plt.figure(figsize=(14, 6))\n",
    "ax = plt.gca()  # Get current axis\n",
    "\n",
    "delta = 64\n",
    "m_ = m[ ((m.segment == 'question') & (m.tokzero_end >= -delta))] #  \n",
    "\n",
    "postillalen = m[m.segment=='postilla'].tokzero.max()\n",
    "\n",
    "background_regions_ = [\n",
    "    (0, delta, palette[3], 'question'),\n",
    "    (delta, 2 * delta + 1, palette[4], 'postilla'),\n",
    "    #(41.0, 135.0, palette[1], 'instruction'),\n",
    "    # (136.0, 1000.0, palette[2], 'input'),\n",
    "    #    (3.0, 4.0, palette[3], 'question'),\n",
    "    #    (4.0, 5.0, palette[4], 'postilla'),\n",
    "    #    (5.0, 6.0, palette[5], 'generated')\n",
    "    ]\n",
    "\n",
    "patches = []\n",
    "for start, end, color, label in background_regions_:\n",
    "    ax.axvspan(start - 0.5, end - 0.5, color=color, alpha=0.3)\n",
    "    patches.append(mpatches.Patch(color=color, alpha=0.3, label=label)) \n",
    "\n",
    "sns.boxplot(\n",
    "    data=m_, \n",
    "    x=\"tokzero_end\", \n",
    "    y=\"true_ent\", \n",
    "    showcaps=True,        \n",
    "    showfliers=False,\n",
    "    whis=[10, 90],\n",
    "    boxprops={'facecolor': 'none'},\n",
    "    medianprops={'color': 'blue', 'linewidth': 2},\n",
    "    ax = ax\n",
    ")\n",
    "\n",
    "m_ = m[ (m.segment == 'postilla') & (m.tokzero < delta) ]\n",
    "\n",
    "sns.boxplot(\n",
    "    data=m_, \n",
    "    x=\"tokzero\", \n",
    "    y=\"true_ent\", \n",
    "    showcaps=False,        \n",
    "    showfliers=False,\n",
    "    whis=[10, 90],\n",
    "    boxprops={'facecolor': 'none'},\n",
    "    medianprops={'color': 'red', 'linewidth': 2},\n",
    "    ax = ax\n",
    ")\n",
    "\n",
    "\n",
    "# plt.yscale(\"log\")\n",
    "ax.xaxis.set_major_locator(MaxNLocator(nbins=20))\n",
    "plt.xticks(rotation=45)\n",
    "\n",
    "plt.xlabel(\"Position (abs)\")\n",
    "plt.ylabel(\"H\")\n",
    "plt.title(\"Entropy\")\n",
    "\n",
    "ax.legend(handles=patches, title=\"Segments\", loc=\"upper right\")\n",
    "\n",
    "plt.tight_layout()\n",
    "\n",
    "plt.show()"
   ]
  },
  {
   "cell_type": "code",
   "execution_count": null,
   "id": "1714cf19",
   "metadata": {},
   "outputs": [],
   "source": [
    "ax.figure.savefig('./pdf/entropy_boundary_question_and_postilla.pdf',dpi=600, bbox_inches=\"tight\")"
   ]
  },
  {
   "cell_type": "markdown",
   "id": "af076858",
   "metadata": {},
   "source": [
    "### boundary between postilla and generated"
   ]
  },
  {
   "cell_type": "code",
   "execution_count": null,
   "id": "ecc6e600",
   "metadata": {},
   "outputs": [],
   "source": [
    "import matplotlib.pyplot as plt\n",
    "import seaborn as sns\n",
    "import pandas as pd\n",
    "from matplotlib.ticker import MaxNLocator\n",
    "import matplotlib.patches as mpatches\n",
    "\n",
    "plt.figure(figsize=(14, 6))\n",
    "ax = plt.gca()  # Get current axis\n",
    "\n",
    "delta = 40\n",
    "m_ = m[ ((m.segment == 'postilla') & (m.tokzero_end >= -delta))] #  \n",
    "\n",
    "background_regions_ = [\n",
    "    (0, delta, palette[4], 'postilla'),\n",
    "    (delta, 2 * delta + 1, palette[5], 'generated'),\n",
    "    #(41.0, 135.0, palette[1], 'instruction'),\n",
    "    # (136.0, 1000.0, palette[2], 'input'),\n",
    "    #    (3.0, 4.0, palette[3], 'question'),\n",
    "    #    (4.0, 5.0, palette[4], 'postilla'),\n",
    "    #    (5.0, 6.0, palette[5], 'generated')\n",
    "    ]\n",
    "\n",
    "patches = []\n",
    "for start, end, color, label in background_regions_:\n",
    "    ax.axvspan(start - 0.5, end - 0.5, color=color, alpha=0.3)\n",
    "    patches.append(mpatches.Patch(color=color, alpha=0.3, label=label)) \n",
    "\n",
    "sns.boxplot(\n",
    "    data=m_, \n",
    "    x=\"tokzero_end\", \n",
    "    y=\"true_ent\", \n",
    "    showcaps=True,        \n",
    "    showfliers=False,\n",
    "    whis=[10, 90],\n",
    "    boxprops={'facecolor': 'none'},\n",
    "    medianprops={'color': 'blue', 'linewidth': 2},\n",
    "    ax = ax\n",
    ")\n",
    "\n",
    "m_ = m[ (m.segment == 'generated') & (m.tokzero < delta) ]\n",
    "\n",
    "sns.boxplot(\n",
    "    data=m_, \n",
    "    x=\"tokzero\", \n",
    "    y=\"true_ent\", \n",
    "    showcaps=True,        \n",
    "    showfliers=True,\n",
    "    whis=[10, 90],\n",
    "    boxprops={'facecolor': 'none'},\n",
    "    medianprops={'color': 'red', 'linewidth': 2},\n",
    "    ax = ax\n",
    ")\n",
    "\n",
    "\n",
    "# plt.yscale(\"log\")\n",
    "ax.xaxis.set_major_locator(MaxNLocator(nbins=20))\n",
    "plt.xticks(rotation=45)\n",
    "\n",
    "plt.xlabel(\"Position (normalized)\")\n",
    "plt.ylabel(\"H\")\n",
    "plt.title(\"Entropy\")\n",
    "\n",
    "ax.legend(handles=patches, title=\"Segments\", loc=\"upper right\")\n",
    "\n",
    "plt.tight_layout()\n",
    "\n",
    "plt.show()"
   ]
  },
  {
   "cell_type": "code",
   "execution_count": null,
   "id": "6dba1c19",
   "metadata": {},
   "outputs": [],
   "source": [
    "ax.figure.savefig('./pdf/entropy_boundary_postilla_and_generated.pdf',dpi=600, bbox_inches=\"tight\")"
   ]
  },
  {
   "cell_type": "code",
   "execution_count": null,
   "id": "88ea1c6b",
   "metadata": {},
   "outputs": [],
   "source": [
    "import matplotlib.pyplot as plt\n",
    "import seaborn as sns\n",
    "import pandas as pd\n",
    "from matplotlib.ticker import MaxNLocator\n",
    "import matplotlib.patches as mpatches\n",
    "\n",
    "plt.figure(figsize=(14, 6))\n",
    "ax = plt.gca()  # Get current axis\n",
    "\n",
    "delta = 15\n",
    "m_ = m[ ((m.segment == 'postilla') & (m.tokzero_end >= -delta))] #  \n",
    "m_ = m_.merge(truth, on=['run', 'pid'])\n",
    "\n",
    "\n",
    "background_regions_ = [\n",
    "    (0, delta, palette[4], 'postilla'),\n",
    "    (delta, 2 * delta + 1, palette[5], 'generated'),\n",
    "    #(41.0, 135.0, palette[1], 'instruction'),\n",
    "    # (136.0, 1000.0, palette[2], 'input'),\n",
    "    #    (3.0, 4.0, palette[3], 'question'),\n",
    "    #    (4.0, 5.0, palette[4], 'postilla'),\n",
    "    #    (5.0, 6.0, palette[5], 'generated')\n",
    "    ]\n",
    "\n",
    "patches = []\n",
    "for start, end, color, label in background_regions_:\n",
    "    ax.axvspan(start - 0.5, end - 0.5, color=color, alpha=0.3)\n",
    "    patches.append(mpatches.Patch(color=color, alpha=0.3, label=label)) \n",
    "\n",
    "subpalette = [palette[7], palette[1]]\n",
    "sns.boxplot(\n",
    "    data=m_, \n",
    "    x=\"tokzero_end\", \n",
    "    y=\"maxp\", \n",
    "    showcaps=True,        \n",
    "    showfliers=True,\n",
    "    whis=[10, 90],\n",
    "    medianprops={'linewidth': 2},\n",
    "    hue='correct',\n",
    "    fill=False,\n",
    "    palette=subpalette,\n",
    "    flierprops = {'marker':'o', 'markersize':3},\n",
    "    ax = ax\n",
    ")\n",
    "\n",
    "m_ = m[ (m.segment == 'generated') & (m.tokzero < delta) ]\n",
    "m_ = m_.merge(truth, on=['run', 'pid'])\n",
    "\n",
    "sns.boxplot(\n",
    "    data=m_, \n",
    "    x=\"tokzero\", \n",
    "    y=\"maxp\", \n",
    "    showcaps=True,        \n",
    "    showfliers=True,\n",
    "    whis=[10, 90],\n",
    "    # boxprops={'facecolor': 'none'},\n",
    "    # medianprops={'color': 'red', 'linewidth': 2},\n",
    "    medianprops={'linewidth': 2},\n",
    "    hue='correct',\n",
    "    fill=False,\n",
    "    palette=subpalette,\n",
    "    flierprops = {'marker':'o', 'markersize':3},\n",
    "    ax = ax\n",
    ")\n",
    "\n",
    "patches.append(mpatches.Patch(color=subpalette[0], alpha=0.3, label='False'))\n",
    "patches.append(mpatches.Patch(color=subpalette[1], alpha=0.3, label='True'))\n",
    "\n",
    "\n",
    "#plt.yscale(\"log\")\n",
    "\n",
    "plt.xticks(rotation=45)\n",
    "\n",
    "plt.xlabel(\"Position (normalized)\")\n",
    "plt.ylabel(\"P\")\n",
    "plt.title(\"MaxP\")\n",
    "\n",
    "ax.legend(handles=patches, title=\"Segments / correct\", loc=\"lower right\")\n",
    "\n",
    "plt.tight_layout()\n",
    "\n",
    "plt.show()"
   ]
  },
  {
   "cell_type": "code",
   "execution_count": null,
   "id": "4efa4117",
   "metadata": {},
   "outputs": [],
   "source": [
    "ax.figure.savefig('./pdf/entropy_boundary_postilla_and_generated_grouped_by_correct.pdf',dpi=600, bbox_inches=\"tight\")"
   ]
  },
  {
   "cell_type": "code",
   "execution_count": null,
   "id": "c2dcbf55",
   "metadata": {},
   "outputs": [],
   "source": [
    "import matplotlib.pyplot as plt\n",
    "import seaborn as sns\n",
    "import pandas as pd\n",
    "from matplotlib.ticker import MaxNLocator\n",
    "import matplotlib.patches as mpatches\n",
    "\n",
    "plt.figure(figsize=(14, 6))\n",
    "ax = plt.gca()  # Get current axis\n",
    "\n",
    "delta = 15\n",
    "m_ = m[ ((m.segment == 'postilla') & (m.tokzero_end >= -delta))] #  \n",
    "m_ = m_.merge(truth, on=['run', 'pid'])\n",
    "\n",
    "\n",
    "background_regions_ = [\n",
    "    (0, delta, palette[4], 'postilla'),\n",
    "    (delta, 2 * delta + 1, palette[5], 'generated'),\n",
    "    #(41.0, 135.0, palette[1], 'instruction'),\n",
    "    # (136.0, 1000.0, palette[2], 'input'),\n",
    "    #    (3.0, 4.0, palette[3], 'question'),\n",
    "    #    (4.0, 5.0, palette[4], 'postilla'),\n",
    "    #    (5.0, 6.0, palette[5], 'generated')\n",
    "    ]\n",
    "\n",
    "patches = []\n",
    "for start, end, color, label in background_regions_:\n",
    "    ax.axvspan(start - 0.5, end - 0.5, color=color, alpha=0.3)\n",
    "    patches.append(mpatches.Patch(color=color, alpha=0.3, label=label)) \n",
    "\n",
    "sns.boxplot(\n",
    "    data=m_, \n",
    "    x=\"tokzero_end\", \n",
    "    y=\"true_ent\", \n",
    "    showcaps=True,        \n",
    "    showfliers=True,\n",
    "    whis=[10, 90],\n",
    "    medianprops={'linewidth': 2},\n",
    "    hue='correct',\n",
    "    fill=False,\n",
    "    palette=subpalette,\n",
    "    flierprops = {'marker':'o', 'markersize':3},\n",
    "    ax = ax\n",
    ")\n",
    "\n",
    "m_ = m[ (m.segment == 'generated') & (m.tokzero < delta) ]\n",
    "m_ = m_.merge(truth, on=['run', 'pid'])\n",
    "\n",
    "sns.boxplot(\n",
    "    data=m_, \n",
    "    x=\"tokzero\", \n",
    "    y=\"true_ent\", \n",
    "    showcaps=True,        \n",
    "    showfliers=True,\n",
    "    whis=[10, 90],\n",
    "    # boxprops={'facecolor': 'none'},\n",
    "    # medianprops={'color': 'red', 'linewidth': 2},\n",
    "    medianprops={'linewidth': 2},\n",
    "    hue='correct',\n",
    "    fill=False,\n",
    "    palette=subpalette,\n",
    "    flierprops = {'marker':'o', 'markersize':3},\n",
    "    ax = ax\n",
    ")\n",
    "\n",
    "patches.append(mpatches.Patch(color=subpalette[0], alpha=0.3, label='False'))\n",
    "patches.append(mpatches.Patch(color=subpalette[1], alpha=0.3, label='True'))\n",
    "\n",
    "\n",
    "#plt.yscale(\"log\")\n",
    "\n",
    "plt.xticks(rotation=45)\n",
    "\n",
    "plt.xlabel(\"Position (normalized)\")\n",
    "plt.ylabel(\"H\")\n",
    "plt.title(\"Entropy\")\n",
    "\n",
    "ax.legend(handles=patches, title=\"Segments / correct\", loc=\"upper right\")\n",
    "\n",
    "plt.tight_layout()\n",
    "\n",
    "plt.show()"
   ]
  },
  {
   "cell_type": "code",
   "execution_count": null,
   "id": "0e110a85",
   "metadata": {},
   "outputs": [],
   "source": [
    "import matplotlib.pyplot as plt\n",
    "import seaborn as sns\n",
    "import pandas as pd\n",
    "from matplotlib.ticker import MaxNLocator\n",
    "import matplotlib.patches as mpatches\n",
    "\n",
    "plt.figure(figsize=(14, 6))\n",
    "ax = plt.gca()  # Get current axis\n",
    "\n",
    "m['tok_bin'] = pd.cut(m['tok_rel_segm'], bins=NUM_BINS)\n",
    "m['tok_bin_hi'] = m['tok_bin'].apply(lambda x: x.right).astype(float)\n",
    "m['tok_bin_lo'] = m['tok_bin'].apply(lambda x: x.left).astype(float)\n",
    "\n",
    "unique_bins = np.sort(m['tok_bin_hi'].unique())  \n",
    "bin_mapping = {bin_val: i for i, bin_val in enumerate(unique_bins)}\n",
    "bks = list(bin_mapping.keys())\n",
    "\n",
    "print(len(bks))\n",
    "\n",
    "patches = []\n",
    "for start, end, color, label in background_regions:\n",
    "    start_bin = [ n for n,i in enumerate(bin_mapping.keys()) if i > start ][0]\n",
    "    end_bin = [ n for n,i in enumerate(bin_mapping.keys()) if i > end ]\n",
    "    if not end_bin: end_bin = len(bin_mapping) - 1 \n",
    "    else: end_bin = end_bin[0] - 1\n",
    "    ax.axvspan(bin_mapping[bks[start_bin]]-0.5, bin_mapping[bks[end_bin]]+0.5, color=color, alpha=0.3)\n",
    "    patches.append(mpatches.Patch(color=color, alpha=0.3, label=label)) \n",
    "\n",
    "df = m.sort_values(by=['pid', 'tok_bin_hi'])\n",
    "df['tok_bin_idx'] = df['tok_bin_hi'].map(bin_mapping)\n",
    "\n",
    "sns.boxplot(\n",
    "    data=df, \n",
    "    x=\"tok_bin_hi\", \n",
    "    y=\"maxp\", \n",
    "    showcaps=True,        \n",
    "    showfliers=False,\n",
    "    whis=[25, 75],\n",
    "    boxprops={'facecolor': 'none'},\n",
    "    medianprops={'color': 'red', 'linewidth': 2},\n",
    "    ax = ax\n",
    ")\n",
    "\n",
    "ax.xaxis.set_major_locator(MaxNLocator(nbins=20))\n",
    "plt.xticks(rotation=45)\n",
    "\n",
    "plt.xlabel(\"Position (normalized)\")\n",
    "plt.ylabel(\"P\")\n",
    "plt.title(\"MaxP\")\n",
    "\n",
    "ax.legend(handles=patches, title=\"Segments\", loc=\"lower right\")\n",
    "\n",
    "plt.tight_layout()\n",
    "\n",
    "plt.show()"
   ]
  },
  {
   "cell_type": "code",
   "execution_count": null,
   "id": "9f321502",
   "metadata": {},
   "outputs": [],
   "source": [
    "import matplotlib.pyplot as plt\n",
    "import seaborn as sns\n",
    "import pandas as pd\n",
    "from matplotlib.ticker import MaxNLocator\n",
    "import matplotlib.patches as mpatches\n",
    "\n",
    "plt.figure(figsize=(14, 6))\n",
    "ax = plt.gca()  # Get current axis\n",
    "\n",
    "m['tok_bin'] = pd.cut(m['tok_rel_segm'], bins=NUM_BINS)\n",
    "m['tok_bin_hi'] = m['tok_bin'].apply(lambda x: x.right).astype(float)\n",
    "m['tok_bin_lo'] = m['tok_bin'].apply(lambda x: x.left).astype(float)\n",
    "\n",
    "unique_bins = np.sort(m['tok_bin_hi'].unique())  \n",
    "bin_mapping = {bin_val: i for i, bin_val in enumerate(unique_bins)}\n",
    "bks = list(bin_mapping.keys())\n",
    "\n",
    "print(len(bks))\n",
    "\n",
    "patches = []\n",
    "for start, end, color, label in background_regions:\n",
    "    start_bin = [ n for n,i in enumerate(bin_mapping.keys()) if i > start ][0]\n",
    "    end_bin = [ n for n,i in enumerate(bin_mapping.keys()) if i > end ]\n",
    "    if not end_bin: end_bin = len(bin_mapping) - 1 \n",
    "    else: end_bin = end_bin[0] - 1\n",
    "    ax.axvspan(bin_mapping[bks[start_bin]]-0.5, bin_mapping[bks[end_bin]]+0.5, color=color, alpha=0.3)\n",
    "    patches.append(mpatches.Patch(color=color, alpha=0.3, label=label)) \n",
    "\n",
    "# Sort for proper order\n",
    "df = m.sort_values(by=['pid', 'tok_bin_hi'])\n",
    "df['tok_bin_idx'] = df['tok_bin_hi'].map(bin_mapping)  # Assign numerical index\n",
    "\n",
    "sns.boxplot(\n",
    "    data=df, \n",
    "    x=\"tok_bin_hi\", \n",
    "    y=\"shape\", \n",
    "    showcaps=True,        \n",
    "    showfliers=False,\n",
    "    whis=[10, 90],\n",
    "    boxprops={'facecolor': 'none'},\n",
    "    medianprops={'color': 'red', 'linewidth': 2},\n",
    "    ax = ax\n",
    ")\n",
    "\n",
    "plt.yscale(\"log\")\n",
    "\n",
    "ax.xaxis.set_major_locator(MaxNLocator(nbins=20))\n",
    "plt.xticks(rotation=45)\n",
    "\n",
    "plt.xlabel(\"Position (normalized)\")\n",
    "plt.ylabel(\"P\")\n",
    "plt.title(\"Number of tokens in TopP (0.9)\")\n",
    "\n",
    "ax.legend(handles=patches, title=\"Segments\", loc=\"upper right\")\n",
    "\n",
    "plt.tight_layout()\n",
    "\n",
    "plt.show()"
   ]
  },
  {
   "cell_type": "markdown",
   "id": "e3eaa6d9",
   "metadata": {},
   "source": [
    "## multiple runs"
   ]
  },
  {
   "cell_type": "markdown",
   "id": "08431957",
   "metadata": {},
   "source": [
    "### check no variance in forward"
   ]
  },
  {
   "cell_type": "code",
   "execution_count": null,
   "id": "be916cd4",
   "metadata": {
    "scrolled": false
   },
   "outputs": [],
   "source": [
    "mm = m.copy()"
   ]
  },
  {
   "cell_type": "code",
   "execution_count": null,
   "id": "588f099c",
   "metadata": {},
   "outputs": [],
   "source": [
    "# variance before generate\n",
    "mm[mm.area=='prompt'].groupby(['pid', 'tok'])['true_ent'].var().sum()"
   ]
  },
  {
   "cell_type": "code",
   "execution_count": null,
   "id": "67be6f7f",
   "metadata": {},
   "outputs": [],
   "source": [
    "mm[mm.area=='prompt'].groupby(['pid', 'tok'])['shape'].var().sum()"
   ]
  },
  {
   "cell_type": "code",
   "execution_count": null,
   "id": "19553a23",
   "metadata": {},
   "outputs": [],
   "source": [
    "mm[mm.area=='prompt'].groupby(['pid', 'tok'])['maxp'].var().sum()"
   ]
  },
  {
   "cell_type": "code",
   "execution_count": null,
   "id": "1ed88677",
   "metadata": {},
   "outputs": [],
   "source": [
    "# variance after generate\n",
    "mm[mm.segment=='generated'].groupby(['pid', 'tok'])['true_ent'].var().sum()"
   ]
  },
  {
   "cell_type": "code",
   "execution_count": null,
   "id": "a4362fd5",
   "metadata": {},
   "outputs": [],
   "source": [
    "mm[mm.segment=='generated'].groupby(['pid', 'tok'])['shape'].var().sum()"
   ]
  },
  {
   "cell_type": "code",
   "execution_count": null,
   "id": "e522e4d7",
   "metadata": {},
   "outputs": [],
   "source": [
    "mm[mm.segment=='generated'].groupby(['pid', 'tok'])['maxp'].var().sum()"
   ]
  },
  {
   "cell_type": "markdown",
   "id": "5a698c36",
   "metadata": {},
   "source": [
    "### search prompts for which top-p varies"
   ]
  },
  {
   "cell_type": "code",
   "execution_count": null,
   "id": "a84690e3",
   "metadata": {},
   "outputs": [],
   "source": [
    "myvars = mm[mm.segment=='generated'].groupby(['pid', 'tok'])['maxp'].var()\n",
    "variators = myvars[myvars>0.].to_frame().reset_index().pid.unique()"
   ]
  },
  {
   "cell_type": "code",
   "execution_count": null,
   "id": "8198126d",
   "metadata": {},
   "outputs": [],
   "source": [
    "mv = mm[mm.pid.isin(variators)]"
   ]
  },
  {
   "cell_type": "code",
   "execution_count": null,
   "id": "00a0f2a7",
   "metadata": {},
   "outputs": [],
   "source": [
    "# prompts for which we observe an observable change over runs\n",
    "v1 = mv.pid.unique()\n",
    "v1"
   ]
  },
  {
   "cell_type": "code",
   "execution_count": null,
   "id": "701f47bc",
   "metadata": {},
   "outputs": [],
   "source": [
    "avg_truth = truth.groupby('pid').correct.mean().to_frame().reset_index()"
   ]
  },
  {
   "cell_type": "code",
   "execution_count": null,
   "id": "78a2acd7",
   "metadata": {},
   "outputs": [],
   "source": [
    "# prompts for which we observe an output change over runs\n",
    "v2 = avg_truth[avg_truth.correct<1.].pid.unique()\n",
    "v2"
   ]
  },
  {
   "cell_type": "code",
   "execution_count": null,
   "id": "08587d2f",
   "metadata": {},
   "outputs": [],
   "source": [
    "set(v1) - set(v2)"
   ]
  },
  {
   "cell_type": "code",
   "execution_count": null,
   "id": "9fc0b481",
   "metadata": {},
   "outputs": [],
   "source": [
    "# correctness over prompts for which observable changed over different runs\n",
    "avg_truth[avg_truth.pid.isin(v1)]"
   ]
  },
  {
   "cell_type": "code",
   "execution_count": null,
   "id": "b5ed3ad9",
   "metadata": {},
   "outputs": [],
   "source": [
    "# ??? correctness over prompts for which observable did NOT change over different runs\n",
    "avg_truth[(~avg_truth.pid.isin(v1)) & (avg_truth.correct<1.) & (avg_truth.correct>0.)]"
   ]
  },
  {
   "cell_type": "code",
   "execution_count": null,
   "id": "8bb09067",
   "metadata": {},
   "outputs": [],
   "source": [
    "m_"
   ]
  },
  {
   "cell_type": "code",
   "execution_count": null,
   "id": "af6cd2b8",
   "metadata": {
    "scrolled": false
   },
   "outputs": [],
   "source": [
    "import matplotlib.pyplot as plt\n",
    "import seaborn as sns\n",
    "import pandas as pd\n",
    "from matplotlib.ticker import MaxNLocator\n",
    "import matplotlib.patches as mpatches\n",
    "\n",
    "plt.figure(figsize=(14, 6))\n",
    "ax = plt.gca()  # Get current axis\n",
    "\n",
    "m_ = mm[mm.segment=='generated'].copy()\n",
    "m_['tokzero'] = m_['tok'] - m_['start']\n",
    " \n",
    "sns.boxplot(\n",
    "    data=m_, \n",
    "    x=\"tokzero\", \n",
    "    y=\"maxp\", \n",
    "    # hue='pid',\n",
    "    showcaps=True,        \n",
    "    showfliers=True,\n",
    "    whis=[10, 90],\n",
    "    boxprops={'facecolor': 'none'},\n",
    "    medianprops={'color': 'red', 'linewidth': 2},\n",
    "    flierprops = dict(marker='o', markerfacecolor='None', markersize=3,  markeredgecolor='black'),\n",
    "    ax = ax\n",
    ")\n",
    "\n",
    "plt.yscale(\"log\")\n",
    "\n",
    "plt.xticks(rotation=45)\n",
    "\n",
    "plt.xlabel(\"Position (absolute)\")\n",
    "plt.ylabel(\"P\")\n",
    "plt.title(\"Top-P\")\n",
    "\n",
    "\n",
    "plt.tight_layout()\n",
    "\n",
    "plt.show()"
   ]
  },
  {
   "cell_type": "code",
   "execution_count": null,
   "id": "7fcfd813",
   "metadata": {},
   "outputs": [],
   "source": [
    "import matplotlib.pyplot as plt\n",
    "import seaborn as sns\n",
    "import pandas as pd\n",
    "from matplotlib.ticker import MaxNLocator\n",
    "import matplotlib.patches as mpatches\n",
    "\n",
    "plt.figure(figsize=(14, 6))\n",
    "ax = plt.gca()  # Get current axis\n",
    "\n",
    "m_ = mm[mm.segment=='generated'].copy()\n",
    "\n",
    "m_['tokzero'] = m_['tok'] - m_['start']\n",
    "\n",
    "sns.boxplot(\n",
    "    data=m_, \n",
    "    x=\"tokzero\", \n",
    "    y=\"shape\", \n",
    "    showcaps=True,        \n",
    "    showfliers=True,\n",
    "    whis=[10, 90],\n",
    "    boxprops={'facecolor': 'none'},\n",
    "    flierprops = dict(marker='o', markerfacecolor='None', markersize=3,  markeredgecolor='black'),\n",
    "    ax = ax\n",
    ")\n",
    "\n",
    "plt.yscale(\"log\")\n",
    "\n",
    "plt.xticks(rotation=45)\n",
    "\n",
    "plt.xlabel(\"Position (absolute)\")\n",
    "plt.ylabel(\"P\")\n",
    "plt.title(\"Top-P\")\n",
    "\n",
    "\n",
    "plt.tight_layout()\n",
    "\n",
    "plt.show()"
   ]
  },
  {
   "cell_type": "code",
   "execution_count": null,
   "id": "f9efbaa1",
   "metadata": {},
   "outputs": [],
   "source": [
    "import matplotlib.pyplot as plt\n",
    "import seaborn as sns\n",
    "import pandas as pd\n",
    "from matplotlib.ticker import MaxNLocator\n",
    "import matplotlib.patches as mpatches\n",
    "\n",
    "plt.figure(figsize=(14, 6))\n",
    "ax = plt.gca()  # Get current axis\n",
    "\n",
    "m_ = mm[mm.segment=='generated'].copy()\n",
    "\n",
    "\n",
    "m_ = m_.merge(truth, on=['run', 'pid'])\n",
    "\n",
    "sns.stripplot(\n",
    "    data=m_, \n",
    "    x=\"tokzero\", \n",
    "    y=\"shape\", \n",
    "    hue='correct',\n",
    "    ax = ax\n",
    ")\n",
    "\n",
    "# plt.yscale(\"log\")\n",
    "\n",
    "plt.xticks(rotation=45)\n",
    "\n",
    "plt.ylabel(\"Number of token in top-p\")\n",
    "plt.xlabel(\"Token position (generated)\")\n",
    "plt.title(\"Top-P\")\n",
    "\n",
    "\n",
    "plt.tight_layout()\n",
    "\n",
    "plt.show()"
   ]
  },
  {
   "cell_type": "code",
   "execution_count": null,
   "id": "93df190d",
   "metadata": {},
   "outputs": [],
   "source": [
    "import matplotlib.pyplot as plt\n",
    "import seaborn as sns\n",
    "import pandas as pd\n",
    "from matplotlib.ticker import MaxNLocator\n",
    "import matplotlib.patches as mpatches\n",
    "\n",
    "plt.figure(figsize=(14, 6))\n",
    "ax = plt.gca()  # Get current axis\n",
    "\n",
    "m_ = mm[mm.segment=='generated'].copy()\n",
    "\n",
    "\n",
    "m_ = m_.merge(truth, on=['run', 'pid'])\n",
    "\n",
    "sns.stripplot(\n",
    "    data=m_, \n",
    "    y=\"tokzero\", \n",
    "    x=\"shape\", \n",
    "    hue='correct',\n",
    "    ax = ax\n",
    ")\n",
    "\n",
    "# plt.yscale(\"log\")\n",
    "\n",
    "plt.xticks(rotation=45)\n",
    "\n",
    "plt.xlabel(\"Number of token in top-p\")\n",
    "plt.ylabel(\"Token position (generated)\")\n",
    "plt.title(\"Number of tokens\")\n",
    "\n",
    "\n",
    "plt.tight_layout()\n",
    "\n",
    "plt.show()"
   ]
  },
  {
   "cell_type": "code",
   "execution_count": null,
   "id": "06d08495",
   "metadata": {},
   "outputs": [],
   "source": [
    "m_.groupby('shape').correct.agg(['count', 'mean'])[:20]"
   ]
  },
  {
   "cell_type": "code",
   "execution_count": null,
   "id": "158ede66",
   "metadata": {},
   "outputs": [],
   "source": [
    "m_.groupby('shape').correct.agg(['count', 'mean'])"
   ]
  },
  {
   "cell_type": "code",
   "execution_count": null,
   "id": "4a212ace",
   "metadata": {},
   "outputs": [],
   "source": [
    "# 2%\n",
    "m_.groupby('shape').correct.count() / m_.groupby('shape').correct.count().sum()"
   ]
  },
  {
   "cell_type": "code",
   "execution_count": null,
   "id": "90c9964b",
   "metadata": {},
   "outputs": [],
   "source": [
    "mm[mm.segment=='generated'].true_ent.describe()"
   ]
  },
  {
   "cell_type": "code",
   "execution_count": null,
   "id": "a4701dc5",
   "metadata": {},
   "outputs": [],
   "source": [
    "import matplotlib.pyplot as plt\n",
    "import seaborn as sns\n",
    "import pandas as pd\n",
    "from matplotlib.ticker import MaxNLocator\n",
    "import matplotlib.patches as mpatches\n",
    "\n",
    "plt.figure(figsize=(14, 6))\n",
    "ax = plt.gca()  # Get current axis\n",
    "\n",
    "m_ = mm[mm.segment=='generated'].copy()\n",
    " \n",
    "sns.boxplot(\n",
    "    data=m_, \n",
    "    x=\"tokzero\", \n",
    "    y=\"true_ent\", \n",
    "    # hue='pid',\n",
    "    showcaps=True,        \n",
    "    showfliers=True,\n",
    "    whis=[10, 90],\n",
    "    boxprops={'facecolor': 'none'},\n",
    "    medianprops={'color': 'red', 'linewidth': 2},\n",
    "    flierprops = dict(marker='o', markerfacecolor='None', markersize=3,  markeredgecolor='black'),\n",
    "    ax = ax\n",
    ")\n",
    "\n",
    "# plt.yscale(\"log\")\n",
    "\n",
    "plt.xticks(rotation=45)\n",
    "\n",
    "plt.xlabel(\"Position (absolute)\")\n",
    "plt.ylabel(\"H\")\n",
    "plt.title(\"Entropy\")\n",
    "\n",
    "\n",
    "plt.tight_layout()\n",
    "\n",
    "plt.show()"
   ]
  },
  {
   "cell_type": "code",
   "execution_count": null,
   "id": "22ba871f",
   "metadata": {},
   "outputs": [],
   "source": [
    "import matplotlib.pyplot as plt\n",
    "import seaborn as sns\n",
    "import pandas as pd\n",
    "from matplotlib.ticker import MaxNLocator\n",
    "import matplotlib.patches as mpatches\n",
    "\n",
    "plt.figure(figsize=(14, 6))\n",
    "ax = plt.gca()\n",
    "\n",
    "m_ = mm[mm.segment=='generated'].copy()\n",
    "\n",
    "m_ = m_.merge(truth, on=['run', 'pid'])\n",
    "\n",
    "sns.stripplot(\n",
    "    data=m_, \n",
    "    x=\"tokzero\", \n",
    "    y=\"true_ent\", \n",
    "    hue='correct',\n",
    "    dodge=True,\n",
    "    size=5,\n",
    "    ax = ax\n",
    ")\n",
    "\n",
    "\n",
    "plt.xticks(rotation=45)\n",
    "\n",
    "plt.xlabel(\"Position (absolute)\")\n",
    "plt.ylabel(\"H\")\n",
    "plt.title(\"Entropy\")\n",
    "\n",
    "\n",
    "plt.tight_layout()\n",
    "\n",
    "plt.show()"
   ]
  }
 ],
 "metadata": {
  "kernelspec": {
   "display_name": "doubt",
   "language": "python",
   "name": "doubt"
  },
  "language_info": {
   "codemirror_mode": {
    "name": "ipython",
    "version": 3
   },
   "file_extension": ".py",
   "mimetype": "text/x-python",
   "name": "python",
   "nbconvert_exporter": "python",
   "pygments_lexer": "ipython3",
   "version": "3.8.10"
  }
 },
 "nbformat": 4,
 "nbformat_minor": 5
}

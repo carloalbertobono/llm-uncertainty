{
 "cells": [
  {
   "cell_type": "code",
   "execution_count": 128,
   "id": "25da2ddc",
   "metadata": {
    "tags": [
     "parameters"
    ]
   },
   "outputs": [],
   "source": [
    "inpath = 'gemma2-9b/output_temperature_1.5/'"
   ]
  },
  {
   "cell_type": "code",
   "execution_count": 129,
   "id": "df78e633",
   "metadata": {},
   "outputs": [],
   "source": [
    "# for folder in $(ls -d tablellama/*/); do papermill temperature-preprocess.ipynb -p inpath $folder tmp.json; don"
   ]
  },
  {
   "cell_type": "code",
   "execution_count": 130,
   "id": "50027c5a",
   "metadata": {},
   "outputs": [],
   "source": [
    "prefix, folder = inpath.split('/')[:2]"
   ]
  },
  {
   "cell_type": "code",
   "execution_count": 131,
   "id": "7139c697",
   "metadata": {},
   "outputs": [],
   "source": [
    "import torch\n",
    "import torch.nn.functional as F\n",
    "import transformers\n",
    "from transformers import AutoTokenizer, AutoModelForCausalLM\n",
    "import json\n",
    "from tqdm import tqdm\n",
    "import gc\n",
    "import pandas as pd\n",
    "import seaborn as sns\n",
    "import pickle\n",
    "import math\n",
    "from IPython.display import clear_output\n",
    "import numpy as np\n",
    "import re\n",
    "import os\n",
    "\n",
    "sns.set_context(\"notebook\", font_scale=1.25)\n",
    " \n",
    "file_path = \"turl_test_2k_prompts_50_unique.jsonl\"\n",
    "device = torch.device(\"mps\")"
   ]
  },
  {
   "cell_type": "code",
   "execution_count": 132,
   "id": "be22a379",
   "metadata": {},
   "outputs": [],
   "source": [
    "# https://github.com/ipython-contrib/jupyter_contrib_nbextensions/pull/1663"
   ]
  },
  {
   "cell_type": "code",
   "execution_count": 133,
   "id": "99e5f44c",
   "metadata": {},
   "outputs": [],
   "source": [
    "from io import BytesIO\n",
    "\n",
    "def fix(map_loc):\n",
    "    # Closure rather than a lambda to preserve map_loc \n",
    "    return lambda b: torch.load(BytesIO(b), map_location=map_loc)\n",
    "\n",
    "class MappedUnpickler(pickle.Unpickler):\n",
    "    # https://github.com/pytorch/pytorch/issues/16797#issuecomment-633423219\n",
    "\n",
    "    def __init__(self, *args, map_location='cpu', **kwargs):\n",
    "        self._map_location = map_location\n",
    "        super().__init__(*args, **kwargs)\n",
    "\n",
    "    def find_class(self, module, name):\n",
    "        if module == 'torch.storage' and name == '_load_from_bytes':\n",
    "            return fix(self._map_location)\n",
    "        else: \n",
    "            return super().find_class(module, name)\n",
    "\n",
    "def mapped_loads(s, map_location='cpu'):\n",
    "    bs = BytesIO(s)\n",
    "    unpickler = MappedUnpickler(bs, map_location=map_location)\n",
    "    return unpickler.load()"
   ]
  },
  {
   "cell_type": "code",
   "execution_count": 134,
   "id": "6ae2e7dc",
   "metadata": {},
   "outputs": [],
   "source": [
    "# prompt formatting\n",
    "\n",
    "PROMPT_DICT = {\n",
    "    \"prompt_input\": (\n",
    "        \"Below is an instruction that describes a task, paired with an input that provides further context. \"\n",
    "        \"Write a response that appropriately completes the request.\\n\\n\"\n",
    "        \"### Instruction:\\n{instruction}\\n\\n### Input:\\n{input_seg}\\n\\n### Question:\\n{question}\\n\\n### Response:\"\n",
    "    ),\n",
    "    \"prompt_no_input\": (\n",
    "        \"Below is an instruction that describes a task. \"\n",
    "        \"Write a response that appropriately completes the request.\\n\\n\"\n",
    "        \"### Instruction:\\n{instruction}\\n\\n### Response:\"\n",
    "    ),\n",
    "}\n",
    "\n",
    "def generate_prompt(instruction, question, input_seg=None):\n",
    "    question += \" Answer with just a candidate, selected from the provided referent entity candidates list, and nothing else. The selected candidate must be reported verbatim from the list provided as input. Each candidate in the list is enclosed between < and > and reports [DESC] and [TYPE] information.\"\n",
    "    if input_seg:\n",
    "        return PROMPT_DICT[\"prompt_input\"].format(instruction=instruction, input_seg=input_seg, question=question)\n",
    "    else:\n",
    "        return PROMPT_DICT[\"prompt_no_input\"].format(instruction=instruction)"
   ]
  },
  {
   "cell_type": "code",
   "execution_count": 135,
   "id": "36d31bb5",
   "metadata": {},
   "outputs": [],
   "source": [
    "# load questions (to be removed)\n",
    "\n",
    "with open(file_path, \"r\", encoding=\"utf-8\") as f:\n",
    "    prompts = [json.loads(line) for line in f]"
   ]
  },
  {
   "cell_type": "code",
   "execution_count": 136,
   "id": "637fcf41",
   "metadata": {},
   "outputs": [
    {
     "data": {
      "text/plain": [
       "'gemma2-9b/output_temperature_1.5'"
      ]
     },
     "execution_count": 136,
     "metadata": {},
     "output_type": "execute_result"
    }
   ],
   "source": [
    "os.path.join(prefix, folder)"
   ]
  },
  {
   "cell_type": "code",
   "execution_count": 137,
   "id": "74cc08f0",
   "metadata": {},
   "outputs": [
    {
     "name": "stderr",
     "output_type": "stream",
     "text": [
      "/var/folders/kn/n2krf1q970d6cfl43cjq73s80000gn/T/ipykernel_58008/3807410893.py:5: FutureWarning: You are using `torch.load` with `weights_only=False` (the current default value), which uses the default pickle module implicitly. It is possible to construct malicious pickle data which will execute arbitrary code during unpickling (See https://github.com/pytorch/pytorch/blob/main/SECURITY.md#untrusted-models for more details). In a future release, the default value for `weights_only` will be flipped to `True`. This limits the functions that could be executed during unpickling. Arbitrary objects will no longer be allowed to be loaded via this mode unless they are explicitly allowlisted by the user via `torch.serialization.add_safe_globals`. We recommend you start setting `weights_only=True` for any use case where you don't have full control of the loaded file. Please open an issue on GitHub for any issues related to this experimental feature.\n",
      "  return lambda b: torch.load(BytesIO(b), map_location=map_loc)\n"
     ]
    }
   ],
   "source": [
    "import os\n",
    "import pickle\n",
    "from copy import copy, deepcopy\n",
    "\n",
    "pre_keys = ['pre_output_proba_topn',\n",
    " 'pre_output_proba_topk',\n",
    " 'pre_output_true_entropies',\n",
    " 'pre_output_layers_kl']\n",
    "\n",
    "run = 0\n",
    "outlist = []\n",
    "\n",
    "for pid, single_file in enumerate(os.listdir(os.path.join(prefix, folder))):\n",
    "    if single_file.startswith('_') or single_file.startswith('.'): continue\n",
    "    with open(os.path.join(prefix, folder, single_file), 'rb') as handle:        \n",
    "        item = mapped_loads(handle.read())\n",
    "        for i, _ in enumerate(item[\"post_output_sequences\"]):\n",
    "                \n",
    "            item_ = copy(item)\n",
    "            item_[\"post_output_sequences\"] = item[\"post_output_sequences\"][i]\n",
    "                \n",
    "            item_[\"transition_scores_s\"] = item[\"transition_scores_s\"][i]\n",
    "            item_[\"transition_scores_l\"] = item[\"transition_scores_l\"][i]\n",
    "\n",
    "            item_[\"run\"] = run + i\n",
    "                \n",
    "            outlist.append(item_)\n",
    "    "
   ]
  },
  {
   "cell_type": "code",
   "execution_count": 138,
   "id": "14f24a24",
   "metadata": {},
   "outputs": [
    {
     "name": "stdout",
     "output_type": "stream",
     "text": [
      "google/gemma-2-9b-it\n"
     ]
    }
   ],
   "source": [
    "# prefix, model_name = './tablellama-complete/', \"osunlp/TableLlama\"\n",
    "# prefix, model_name = './gemma-9b-complete/', \"google/gemma-2-9b-it\"\n",
    "\n",
    "model_name = item['args']['model_name'] # get model from last processed item\n",
    "print(model_name)\n",
    "\n",
    "if model_name.startswith(\"osunlp\"):\n",
    "    config = transformers.AutoConfig.from_pretrained(model_name)\n",
    "\n",
    "    orig_ctx_len = getattr(config, \"max_position_embeddings\", None)\n",
    "    context_size = 8192\n",
    "    if orig_ctx_len and context_size > orig_ctx_len:\n",
    "            scaling_factor = float(math.ceil(context_size / orig_ctx_len))\n",
    "            config.rope_scaling = {\"type\": \"linear\", \"factor\": scaling_factor}\n",
    "\n",
    "    tokenizer = AutoTokenizer.from_pretrained(model_name, \n",
    "                                              model_max_length=(context_size if context_size > orig_ctx_len else orig_ctx_len),\n",
    "                                              padding_side=\"left\", \n",
    "                                              use_fast=False)\n",
    "\n",
    "else:\n",
    "    config = transformers.AutoConfig.from_pretrained(model_name)\n",
    "    tokenizer = AutoTokenizer.from_pretrained(model_name)"
   ]
  },
  {
   "cell_type": "markdown",
   "id": "fd3c5010",
   "metadata": {},
   "source": [
    "### check output against ground truth"
   ]
  },
  {
   "cell_type": "code",
   "execution_count": 144,
   "id": "d955f13a",
   "metadata": {},
   "outputs": [
    {
     "name": "stdout",
     "output_type": "stream",
     "text": [
      "CPU times: user 2.94 s, sys: 222 ms, total: 3.16 s\n",
      "Wall time: 3.86 s\n"
     ]
    }
   ],
   "source": [
    "%%time\n",
    "\n",
    "# show results\n",
    "\n",
    "c=0\n",
    "t=0\n",
    "h=0\n",
    "noans = 0\n",
    "\n",
    "truth = []\n",
    "outseq = []\n",
    "\n",
    "pdbg = None\n",
    "\n",
    "for idx, p in enumerate(outlist):\n",
    "    \n",
    "    if idx%100==0: \n",
    "        clear_output(wait=True)\n",
    "        print(idx, end='\\r')\n",
    "    c+=1\n",
    "    pdbg = p\n",
    "    \n",
    "    # in\n",
    "    prompt = generate_prompt(p[\"instruction\"], p[\"question\"], p[\"input\"])\n",
    "    inputs = tokenizer(prompt, return_tensors=\"pt\").to(device)\n",
    "        \n",
    "    # computed\n",
    "    # post_output_scores = p['post_output_scores']\n",
    "    post_output_sequences = p['post_output_sequences']\n",
    "    \n",
    "    # bases\n",
    "    baseid = len(inputs[\"input_ids\"][0]) + 1\n",
    "    endid = len(post_output_sequences[0])\n",
    "    # lookout\n",
    "    generated_ids = post_output_sequences\n",
    "    generated_text = tokenizer.decode(generated_ids[0][baseid:endid], skip_special_tokens=True)\n",
    "    # print\n",
    "    # print(generated_text)\n",
    "    # print(p['output'])\n",
    "    # print('\\n')\n",
    "    #test\n",
    "    \n",
    "    # replacement due to tablellama \"hallucinations\"\n",
    "    a = generated_text.replace('[DESCRIPTION]', '[DESC]').lower().strip()\n",
    "    a = \" \".join(a.split(\" \"))\n",
    "    if len(a) < 1: \n",
    "        print(\"SOMETHING WENT HORRIBLY WRONG, GIVING UP\")\n",
    "        noans += 1\n",
    "        a = \"NO ANSWER\"\n",
    "\n",
    "    b = p['output'].lower().strip()\n",
    "    b = \" \".join(b.split(\" \"))\n",
    "    # correct\n",
    "    correct = False\n",
    "    hallucinated = False\n",
    "    if ((a in b) or (b in a) or (b.startswith(a)) or (a.startswith(b))) and (('desc' in a) and ('type' in a)): \n",
    "        correct = True\n",
    "        t+=1\n",
    "    # hallucinated\n",
    "    elif a not in prompt.lower().strip(): \n",
    "        h+=1\n",
    "        hallucinated = True\n",
    "    # incorrect\n",
    "    else:\n",
    "        pass\n",
    "        #print(generated_text)\n",
    "        #print(p['output'])\n",
    "        #print('\\n')\n",
    "        # print(prompt)\n",
    "        # print('\\n')\n",
    "        \n",
    "    # loose correctness\n",
    "    _, three_ = b.split('[type]')\n",
    "    one_, two_ = _.split('[desc]')\n",
    "    one_ = one_.replace('<', '').replace('>', '').replace(']', '').replace('[', '').strip()\n",
    "    two_ = two_.replace('<', '').replace('>', '').replace(']', '').replace('[', '').strip()\n",
    "    three_ = three_.replace('<', '').replace('>', '').replace(']', '').replace('[', '').strip()\n",
    "    \n",
    "    loosely_correct = False\n",
    "    matched_string = None\n",
    "    try:                  \n",
    "        regex = re.compile(r'^.{0,2}(' + re.escape(one_) + r'.{0,8}' + re.escape(two_) + r'.{0,8}' + re.escape(three_) + r')')\n",
    "        match = regex.search(a)\n",
    "        if match: \n",
    "            loosely_correct = True\n",
    "            matched_string = match.group(1)\n",
    "    except Exception as e:\n",
    "        pass# if it fails, default\n",
    "\n",
    "    truth.append((p['run'], p['pid'], correct, hallucinated, loosely_correct))\n",
    "    outseq.append((p['run'], p['pid'], a, post_output_sequences, b, matched_string))\n"
   ]
  },
  {
   "cell_type": "code",
   "execution_count": 145,
   "id": "827f827e",
   "metadata": {},
   "outputs": [
    {
     "data": {
      "text/plain": [
       "(2301, 2335)"
      ]
     },
     "execution_count": 145,
     "metadata": {},
     "output_type": "execute_result"
    }
   ],
   "source": [
    "len(inputs.input_ids[0]), len(post_output_sequences[0])"
   ]
  },
  {
   "cell_type": "code",
   "execution_count": 146,
   "id": "659b7e51",
   "metadata": {},
   "outputs": [
    {
     "data": {
      "text/plain": [
       "(1144, 359, 2080)"
      ]
     },
     "execution_count": 146,
     "metadata": {},
     "output_type": "execute_result"
    }
   ],
   "source": [
    "# true, hallucinated, counted\n",
    "# (3702, 26, 5120) tablellama old\n",
    "# (11190, 880, 14770) gemma 9b\n",
    "t, h, c"
   ]
  },
  {
   "cell_type": "code",
   "execution_count": 147,
   "id": "cbc4c7f4",
   "metadata": {},
   "outputs": [
    {
     "data": {
      "text/plain": [
       "(0.55, 0.17259615384615384)"
      ]
     },
     "execution_count": 147,
     "metadata": {},
     "output_type": "execute_result"
    }
   ],
   "source": [
    "# correct answers rate, hallucinated answers rate\n",
    "t/c, h/c"
   ]
  },
  {
   "cell_type": "code",
   "execution_count": 63,
   "id": "938692fb",
   "metadata": {},
   "outputs": [],
   "source": [
    "truth = pd.DataFrame(truth, columns=['run', 'pid', 'correct', 'hallucinated', 'loosely_correct'])"
   ]
  },
  {
   "cell_type": "code",
   "execution_count": 64,
   "id": "b2092d2d",
   "metadata": {},
   "outputs": [],
   "source": [
    "corec = truth.groupby('pid').correct.mean()"
   ]
  },
  {
   "cell_type": "code",
   "execution_count": 65,
   "id": "3e48cac7",
   "metadata": {},
   "outputs": [
    {
     "data": {
      "image/png": "[encoded data removed]",
      "text/plain": [
       "<Figure size 700x600 with 1 Axes>"
      ]
     },
     "metadata": {},
     "output_type": "display_data"
    }
   ],
   "source": [
    "import seaborn as sns\n",
    "import matplotlib.pyplot as plt\n",
    "\n",
    "from palettable.cartocolors.qualitative import Prism_10, Bold_10\n",
    "palette = Prism_10.mpl_colors \n",
    "\n",
    "sns.set_theme(style=\"ticks\")\n",
    "\n",
    "f, ax = plt.subplots(figsize=(7, 6))\n",
    "\n",
    "sns.histplot(corec, bins=corec.nunique(), color=Prism_10.mpl_colors[5])\n",
    "\n",
    "ax.yaxis.grid(True)\n",
    "\n",
    "plt.show()"
   ]
  },
  {
   "cell_type": "code",
   "execution_count": 66,
   "id": "e7c62a75",
   "metadata": {},
   "outputs": [
    {
     "data": {
      "text/plain": [
       "0.7692307692307693"
      ]
     },
     "execution_count": 66,
     "metadata": {},
     "output_type": "execute_result"
    }
   ],
   "source": [
    "# probability mass for \"convinced\" prediction\n",
    "(np.isclose(corec, 0.) | np.isclose(corec, 1.)).sum() / corec.shape[0]"
   ]
  },
  {
   "cell_type": "code",
   "execution_count": 67,
   "id": "77b3b4a3",
   "metadata": {},
   "outputs": [
    {
     "data": {
      "text/plain": [
       "0.23076923076923078"
      ]
     },
     "execution_count": 67,
     "metadata": {},
     "output_type": "execute_result"
    }
   ],
   "source": [
    "# how many \"changed at least once\"\n",
    "((corec>0.) & (corec<1.)).sum() / corec.shape[0]"
   ]
  },
  {
   "cell_type": "code",
   "execution_count": 68,
   "id": "91196aac",
   "metadata": {},
   "outputs": [
    {
     "data": {
      "text/plain": [
       "0.20098039215686275"
      ]
     },
     "execution_count": 68,
     "metadata": {},
     "output_type": "execute_result"
    }
   ],
   "source": [
    "# again but without hallucinated\n",
    "\n",
    "truth_ = truth[(~truth.hallucinated)].copy()\n",
    "truth_['true_err'] = truth_.correct\n",
    "\n",
    "corec_ = truth_.groupby('pid').true_err.mean()\n",
    "\n",
    "((corec_>0.) & (corec_<1.)).sum() / corec_.shape[0]"
   ]
  },
  {
   "cell_type": "code",
   "execution_count": 69,
   "id": "9541cf3b",
   "metadata": {},
   "outputs": [
    {
     "data": {
      "image/png": "[encoded data removed]",
      "text/plain": [
       "<Figure size 700x600 with 1 Axes>"
      ]
     },
     "metadata": {},
     "output_type": "display_data"
    }
   ],
   "source": [
    "# loosely correct\n",
    "\n",
    "import seaborn as sns\n",
    "import matplotlib.pyplot as plt\n",
    "\n",
    "from palettable.cartocolors.qualitative import Prism_10, Bold_10\n",
    "palette = Prism_10.mpl_colors \n",
    "\n",
    "sns.set_theme(style=\"ticks\")\n",
    "\n",
    "corek = truth.groupby('pid').loosely_correct.mean()\n",
    "\n",
    "f, ax = plt.subplots(figsize=(7, 6))\n",
    "\n",
    "sns.histplot(corek, bins=corek.nunique(), color=Prism_10.mpl_colors[5])\n",
    "\n",
    "ax.yaxis.grid(True)\n",
    "\n",
    "plt.show()"
   ]
  },
  {
   "cell_type": "code",
   "execution_count": 70,
   "id": "5686a908",
   "metadata": {},
   "outputs": [
    {
     "data": {
      "image/png": "[encoded data removed]",
      "text/plain": [
       "<Figure size 700x600 with 1 Axes>"
      ]
     },
     "metadata": {},
     "output_type": "display_data"
    }
   ],
   "source": [
    "import seaborn as sns\n",
    "import matplotlib.pyplot as plt\n",
    "\n",
    "from palettable.cartocolors.qualitative import Prism_10, Bold_10\n",
    "palette = Prism_10.mpl_colors \n",
    "\n",
    "sns.set_theme(style=\"ticks\")\n",
    "\n",
    "f, ax = plt.subplots(figsize=(7, 6))\n",
    "\n",
    "sns.histplot(truth.groupby('pid').hallucinated.mean(), bins=corec.nunique(), color=Prism_10.mpl_colors[8])\n",
    "\n",
    "ax.yaxis.grid(True)\n",
    "\n",
    "plt.show()"
   ]
  },
  {
   "cell_type": "code",
   "execution_count": 71,
   "id": "967cf734",
   "metadata": {},
   "outputs": [
    {
     "data": {
      "text/plain": [
       "0.20192307692307693"
      ]
     },
     "execution_count": 71,
     "metadata": {},
     "output_type": "execute_result"
    }
   ],
   "source": [
    "# how many hallucinated\n",
    "(truth.groupby('pid').hallucinated.mean()>0.).sum() / truth.pid.nunique()"
   ]
  },
  {
   "cell_type": "code",
   "execution_count": 72,
   "id": "f0929546",
   "metadata": {},
   "outputs": [
    {
     "data": {
      "image/png": "[encoded data removed]",
      "text/plain": [
       "<Figure size 640x480 with 2 Axes>"
      ]
     },
     "metadata": {},
     "output_type": "display_data"
    }
   ],
   "source": [
    "contingency = pd.crosstab(truth.correct, truth.hallucinated)\n",
    "\n",
    "sns.heatmap(contingency, annot=True, fmt=\"d\", cmap=\"YlOrRd\")\n",
    "\n",
    "plt.title(\"Correct vs Hallucinated\")\n",
    "plt.xlabel(\"Hallucinated\")\n",
    "plt.ylabel(\"Correct\")\n",
    "plt.show()"
   ]
  },
  {
   "cell_type": "code",
   "execution_count": 73,
   "id": "7758129e",
   "metadata": {},
   "outputs": [
    {
     "data": {
      "image/png": "[encoded data removed]",
      "text/plain": [
       "<Figure size 640x480 with 2 Axes>"
      ]
     },
     "metadata": {},
     "output_type": "display_data"
    }
   ],
   "source": [
    "contingency = pd.crosstab(truth.correct, truth.loosely_correct)\n",
    "\n",
    "sns.heatmap(contingency, annot=True, fmt=\"d\", cmap=\"YlOrRd\")\n",
    "\n",
    "plt.title(\"Correct vs Hallucinated\")\n",
    "plt.xlabel(\"Loosely correct\")\n",
    "plt.ylabel(\"Correct\")\n",
    "plt.show()"
   ]
  },
  {
   "cell_type": "code",
   "execution_count": 74,
   "id": "ef3c166a",
   "metadata": {},
   "outputs": [],
   "source": [
    "# answers\n",
    "answers = pd.DataFrame(outseq, columns=['run', 'pid', 'answer', 'answer_seq', 'right_answer', 'regex_match'])\n",
    "answers.answer = answers.answer.str[:-1]"
   ]
  },
  {
   "cell_type": "code",
   "execution_count": 75,
   "id": "5cbb4959",
   "metadata": {},
   "outputs": [
    {
     "data": {
      "text/plain": [
       "(1, 10)"
      ]
     },
     "execution_count": 75,
     "metadata": {},
     "output_type": "execute_result"
    }
   ],
   "source": [
    "# min and max number of unique answers\n",
    "answers.groupby('pid').answer.nunique().min(), answers.groupby('pid').answer.nunique().max()"
   ]
  },
  {
   "cell_type": "code",
   "execution_count": 76,
   "id": "9efca3f0",
   "metadata": {},
   "outputs": [
    {
     "data": {
      "text/html": [
       "<div>\n",
       "<style scoped>\n",
       "    .dataframe tbody tr th:only-of-type {\n",
       "        vertical-align: middle;\n",
       "    }\n",
       "\n",
       "    .dataframe tbody tr th {\n",
       "        vertical-align: top;\n",
       "    }\n",
       "\n",
       "    .dataframe thead th {\n",
       "        text-align: right;\n",
       "    }\n",
       "</style>\n",
       "<table border=\"1\" class=\"dataframe\">\n",
       "  <thead>\n",
       "    <tr style=\"text-align: right;\">\n",
       "      <th></th>\n",
       "      <th>run</th>\n",
       "      <th>pid</th>\n",
       "      <th>answer</th>\n",
       "      <th>answer_seq</th>\n",
       "      <th>right_answer</th>\n",
       "      <th>regex_match</th>\n",
       "    </tr>\n",
       "  </thead>\n",
       "  <tbody>\n",
       "    <tr>\n",
       "      <th>0</th>\n",
       "      <td>0</td>\n",
       "      <td>247</td>\n",
       "      <td>&lt;jsm béjaïa [desc] association football club in algeria [type] association football club</td>\n",
       "      <td>[[2, 33501, 603, 671, 14239, 674, 19306, 476, 6911, 235269, 44600, 675, 671, 3772, 674, 6572, 4024, 4807, 235265, 15615, 476, 3590, 674, 47258, 56382, 573, 3853, 235265, 109, 6176, 36142, 235292, ...</td>\n",
       "      <td>&lt;jsm béjaïa [desc] association football club in algeria [type] association football club&gt;</td>\n",
       "      <td>jsm béjaïa [desc] association football club in algeria [type] association football club</td>\n",
       "    </tr>\n",
       "    <tr>\n",
       "      <th>1</th>\n",
       "      <td>1</td>\n",
       "      <td>247</td>\n",
       "      <td>&lt;jsm béjaïa [desc] association football club in algeria [type] association football club</td>\n",
       "      <td>[[2, 33501, 603, 671, 14239, 674, 19306, 476, 6911, 235269, 44600, 675, 671, 3772, 674, 6572, 4024, 4807, 235265, 15615, 476, 3590, 674, 47258, 56382, 573, 3853, 235265, 109, 6176, 36142, 235292, ...</td>\n",
       "      <td>&lt;jsm béjaïa [desc] association football club in algeria [type] association football club&gt;</td>\n",
       "      <td>jsm béjaïa [desc] association football club in algeria [type] association football club</td>\n",
       "    </tr>\n",
       "    <tr>\n",
       "      <th>2</th>\n",
       "      <td>2</td>\n",
       "      <td>247</td>\n",
       "      <td>&lt;jsm béjaïa [desc] association football club in algeria [type] association football club</td>\n",
       "      <td>[[2, 33501, 603, 671, 14239, 674, 19306, 476, 6911, 235269, 44600, 675, 671, 3772, 674, 6572, 4024, 4807, 235265, 15615, 476, 3590, 674, 47258, 56382, 573, 3853, 235265, 109, 6176, 36142, 235292, ...</td>\n",
       "      <td>&lt;jsm béjaïa [desc] association football club in algeria [type] association football club&gt;</td>\n",
       "      <td>jsm béjaïa [desc] association football club in algeria [type] association football club</td>\n",
       "    </tr>\n",
       "    <tr>\n",
       "      <th>3</th>\n",
       "      <td>3</td>\n",
       "      <td>247</td>\n",
       "      <td>&lt;jsm béjaïa [desc] association football club in algeria [type] association football club</td>\n",
       "      <td>[[2, 33501, 603, 671, 14239, 674, 19306, 476, 6911, 235269, 44600, 675, 671, 3772, 674, 6572, 4024, 4807, 235265, 15615, 476, 3590, 674, 47258, 56382, 573, 3853, 235265, 109, 6176, 36142, 235292, ...</td>\n",
       "      <td>&lt;jsm béjaïa [desc] association football club in algeria [type] association football club&gt;</td>\n",
       "      <td>jsm béjaïa [desc] association football club in algeria [type] association football club</td>\n",
       "    </tr>\n",
       "    <tr>\n",
       "      <th>4</th>\n",
       "      <td>4</td>\n",
       "      <td>247</td>\n",
       "      <td>&lt;jsm béjaïa [desc] association football club in algeria [type] association football club</td>\n",
       "      <td>[[2, 33501, 603, 671, 14239, 674, 19306, 476, 6911, 235269, 44600, 675, 671, 3772, 674, 6572, 4024, 4807, 235265, 15615, 476, 3590, 674, 47258, 56382, 573, 3853, 235265, 109, 6176, 36142, 235292, ...</td>\n",
       "      <td>&lt;jsm béjaïa [desc] association football club in algeria [type] association football club&gt;</td>\n",
       "      <td>jsm béjaïa [desc] association football club in algeria [type] association football club</td>\n",
       "    </tr>\n",
       "    <tr>\n",
       "      <th>...</th>\n",
       "      <td>...</td>\n",
       "      <td>...</td>\n",
       "      <td>...</td>\n",
       "      <td>...</td>\n",
       "      <td>...</td>\n",
       "      <td>...</td>\n",
       "    </tr>\n",
       "    <tr>\n",
       "      <th>2075</th>\n",
       "      <td>5</td>\n",
       "      <td>875</td>\n",
       "      <td>&lt;real murcia [desc] spanish association football club [type] association football club</td>\n",
       "      <td>[[2, 33501, 603, 671, 14239, 674, 19306, 476, 6911, 235269, 44600, 675, 671, 3772, 674, 6572, 4024, 4807, 235265, 15615, 476, 3590, 674, 47258, 56382, 573, 3853, 235265, 109, 6176, 36142, 235292, ...</td>\n",
       "      <td>&lt;real murcia [desc] spanish association football club [type] association football club&gt;</td>\n",
       "      <td>real murcia [desc] spanish association football club [type] association football club</td>\n",
       "    </tr>\n",
       "    <tr>\n",
       "      <th>2076</th>\n",
       "      <td>6</td>\n",
       "      <td>875</td>\n",
       "      <td>&lt;real murcia cf [desc] football club [type] association football club</td>\n",
       "      <td>[[2, 33501, 603, 671, 14239, 674, 19306, 476, 6911, 235269, 44600, 675, 671, 3772, 674, 6572, 4024, 4807, 235265, 15615, 476, 3590, 674, 47258, 56382, 573, 3853, 235265, 109, 6176, 36142, 235292, ...</td>\n",
       "      <td>&lt;real murcia [desc] spanish association football club [type] association football club&gt;</td>\n",
       "      <td>None</td>\n",
       "    </tr>\n",
       "    <tr>\n",
       "      <th>2077</th>\n",
       "      <td>7</td>\n",
       "      <td>875</td>\n",
       "      <td>&lt;real murcia cf [desc] football club based in sangonera la verde, in the region of murcia from spain equipo de segunda rfef [type] association football club</td>\n",
       "      <td>[[2, 33501, 603, 671, 14239, 674, 19306, 476, 6911, 235269, 44600, 675, 671, 3772, 674, 6572, 4024, 4807, 235265, 15615, 476, 3590, 674, 47258, 56382, 573, 3853, 235265, 109, 6176, 36142, 235292, ...</td>\n",
       "      <td>&lt;real murcia [desc] spanish association football club [type] association football club&gt;</td>\n",
       "      <td>None</td>\n",
       "    </tr>\n",
       "    <tr>\n",
       "      <th>2078</th>\n",
       "      <td>8</td>\n",
       "      <td>875</td>\n",
       "      <td>&lt;real murcia cf [desc] football club based in sangonera la verde, in the region of murcia from spain equipo de segunda rfef [type] association football club</td>\n",
       "      <td>[[2, 33501, 603, 671, 14239, 674, 19306, 476, 6911, 235269, 44600, 675, 671, 3772, 674, 6572, 4024, 4807, 235265, 15615, 476, 3590, 674, 47258, 56382, 573, 3853, 235265, 109, 6176, 36142, 235292, ...</td>\n",
       "      <td>&lt;real murcia [desc] spanish association football club [type] association football club&gt;</td>\n",
       "      <td>None</td>\n",
       "    </tr>\n",
       "    <tr>\n",
       "      <th>2079</th>\n",
       "      <td>9</td>\n",
       "      <td>875</td>\n",
       "      <td>&lt;real murcia cf [desc] football club [type] association football club</td>\n",
       "      <td>[[2, 33501, 603, 671, 14239, 674, 19306, 476, 6911, 235269, 44600, 675, 671, 3772, 674, 6572, 4024, 4807, 235265, 15615, 476, 3590, 674, 47258, 56382, 573, 3853, 235265, 109, 6176, 36142, 235292, ...</td>\n",
       "      <td>&lt;real murcia [desc] spanish association football club [type] association football club&gt;</td>\n",
       "      <td>None</td>\n",
       "    </tr>\n",
       "  </tbody>\n",
       "</table>\n",
       "<p>2080 rows × 6 columns</p>\n",
       "</div>"
      ],
      "text/plain": [
       "      run  pid  \\\n",
       "0       0  247   \n",
       "1       1  247   \n",
       "2       2  247   \n",
       "3       3  247   \n",
       "4       4  247   \n",
       "...   ...  ...   \n",
       "2075    5  875   \n",
       "2076    6  875   \n",
       "2077    7  875   \n",
       "2078    8  875   \n",
       "2079    9  875   \n",
       "\n",
       "                                                                                                                                                            answer  \\\n",
       "0                                                                         <jsm béjaïa [desc] association football club in algeria [type] association football club   \n",
       "1                                                                         <jsm béjaïa [desc] association football club in algeria [type] association football club   \n",
       "2                                                                         <jsm béjaïa [desc] association football club in algeria [type] association football club   \n",
       "3                                                                         <jsm béjaïa [desc] association football club in algeria [type] association football club   \n",
       "4                                                                         <jsm béjaïa [desc] association football club in algeria [type] association football club   \n",
       "...                                                                                                                                                            ...   \n",
       "2075                                                                        <real murcia [desc] spanish association football club [type] association football club   \n",
       "2076                                                                                         <real murcia cf [desc] football club [type] association football club   \n",
       "2077  <real murcia cf [desc] football club based in sangonera la verde, in the region of murcia from spain equipo de segunda rfef [type] association football club   \n",
       "2078  <real murcia cf [desc] football club based in sangonera la verde, in the region of murcia from spain equipo de segunda rfef [type] association football club   \n",
       "2079                                                                                         <real murcia cf [desc] football club [type] association football club   \n",
       "\n",
       "                                                                                                                                                                                                   answer_seq  \\\n",
       "0     [[2, 33501, 603, 671, 14239, 674, 19306, 476, 6911, 235269, 44600, 675, 671, 3772, 674, 6572, 4024, 4807, 235265, 15615, 476, 3590, 674, 47258, 56382, 573, 3853, 235265, 109, 6176, 36142, 235292, ...   \n",
       "1     [[2, 33501, 603, 671, 14239, 674, 19306, 476, 6911, 235269, 44600, 675, 671, 3772, 674, 6572, 4024, 4807, 235265, 15615, 476, 3590, 674, 47258, 56382, 573, 3853, 235265, 109, 6176, 36142, 235292, ...   \n",
       "2     [[2, 33501, 603, 671, 14239, 674, 19306, 476, 6911, 235269, 44600, 675, 671, 3772, 674, 6572, 4024, 4807, 235265, 15615, 476, 3590, 674, 47258, 56382, 573, 3853, 235265, 109, 6176, 36142, 235292, ...   \n",
       "3     [[2, 33501, 603, 671, 14239, 674, 19306, 476, 6911, 235269, 44600, 675, 671, 3772, 674, 6572, 4024, 4807, 235265, 15615, 476, 3590, 674, 47258, 56382, 573, 3853, 235265, 109, 6176, 36142, 235292, ...   \n",
       "4     [[2, 33501, 603, 671, 14239, 674, 19306, 476, 6911, 235269, 44600, 675, 671, 3772, 674, 6572, 4024, 4807, 235265, 15615, 476, 3590, 674, 47258, 56382, 573, 3853, 235265, 109, 6176, 36142, 235292, ...   \n",
       "...                                                                                                                                                                                                       ...   \n",
       "2075  [[2, 33501, 603, 671, 14239, 674, 19306, 476, 6911, 235269, 44600, 675, 671, 3772, 674, 6572, 4024, 4807, 235265, 15615, 476, 3590, 674, 47258, 56382, 573, 3853, 235265, 109, 6176, 36142, 235292, ...   \n",
       "2076  [[2, 33501, 603, 671, 14239, 674, 19306, 476, 6911, 235269, 44600, 675, 671, 3772, 674, 6572, 4024, 4807, 235265, 15615, 476, 3590, 674, 47258, 56382, 573, 3853, 235265, 109, 6176, 36142, 235292, ...   \n",
       "2077  [[2, 33501, 603, 671, 14239, 674, 19306, 476, 6911, 235269, 44600, 675, 671, 3772, 674, 6572, 4024, 4807, 235265, 15615, 476, 3590, 674, 47258, 56382, 573, 3853, 235265, 109, 6176, 36142, 235292, ...   \n",
       "2078  [[2, 33501, 603, 671, 14239, 674, 19306, 476, 6911, 235269, 44600, 675, 671, 3772, 674, 6572, 4024, 4807, 235265, 15615, 476, 3590, 674, 47258, 56382, 573, 3853, 235265, 109, 6176, 36142, 235292, ...   \n",
       "2079  [[2, 33501, 603, 671, 14239, 674, 19306, 476, 6911, 235269, 44600, 675, 671, 3772, 674, 6572, 4024, 4807, 235265, 15615, 476, 3590, 674, 47258, 56382, 573, 3853, 235265, 109, 6176, 36142, 235292, ...   \n",
       "\n",
       "                                                                                   right_answer  \\\n",
       "0     <jsm béjaïa [desc] association football club in algeria [type] association football club>   \n",
       "1     <jsm béjaïa [desc] association football club in algeria [type] association football club>   \n",
       "2     <jsm béjaïa [desc] association football club in algeria [type] association football club>   \n",
       "3     <jsm béjaïa [desc] association football club in algeria [type] association football club>   \n",
       "4     <jsm béjaïa [desc] association football club in algeria [type] association football club>   \n",
       "...                                                                                         ...   \n",
       "2075    <real murcia [desc] spanish association football club [type] association football club>   \n",
       "2076    <real murcia [desc] spanish association football club [type] association football club>   \n",
       "2077    <real murcia [desc] spanish association football club [type] association football club>   \n",
       "2078    <real murcia [desc] spanish association football club [type] association football club>   \n",
       "2079    <real murcia [desc] spanish association football club [type] association football club>   \n",
       "\n",
       "                                                                                  regex_match  \n",
       "0     jsm béjaïa [desc] association football club in algeria [type] association football club  \n",
       "1     jsm béjaïa [desc] association football club in algeria [type] association football club  \n",
       "2     jsm béjaïa [desc] association football club in algeria [type] association football club  \n",
       "3     jsm béjaïa [desc] association football club in algeria [type] association football club  \n",
       "4     jsm béjaïa [desc] association football club in algeria [type] association football club  \n",
       "...                                                                                       ...  \n",
       "2075    real murcia [desc] spanish association football club [type] association football club  \n",
       "2076                                                                                     None  \n",
       "2077                                                                                     None  \n",
       "2078                                                                                     None  \n",
       "2079                                                                                     None  \n",
       "\n",
       "[2080 rows x 6 columns]"
      ]
     },
     "execution_count": 76,
     "metadata": {},
     "output_type": "execute_result"
    }
   ],
   "source": [
    "answers"
   ]
  },
  {
   "cell_type": "code",
   "execution_count": 77,
   "id": "b80c2bf2",
   "metadata": {},
   "outputs": [
    {
     "data": {
      "text/html": [
       "<div>\n",
       "<style scoped>\n",
       "    .dataframe tbody tr th:only-of-type {\n",
       "        vertical-align: middle;\n",
       "    }\n",
       "\n",
       "    .dataframe tbody tr th {\n",
       "        vertical-align: top;\n",
       "    }\n",
       "\n",
       "    .dataframe thead th {\n",
       "        text-align: right;\n",
       "    }\n",
       "</style>\n",
       "<table border=\"1\" class=\"dataframe\">\n",
       "  <thead>\n",
       "    <tr style=\"text-align: right;\">\n",
       "      <th></th>\n",
       "      <th>run</th>\n",
       "      <th>pid</th>\n",
       "      <th>answer</th>\n",
       "      <th>answer_seq</th>\n",
       "      <th>right_answer</th>\n",
       "      <th>regex_match</th>\n",
       "    </tr>\n",
       "  </thead>\n",
       "  <tbody>\n",
       "    <tr>\n",
       "      <th>10</th>\n",
       "      <td>0</td>\n",
       "      <td>1418</td>\n",
       "      <td>&lt;presbyterianism [desc] branch of protestant christianity using presbyterian church government and originating in the british isles [type] religious denomination</td>\n",
       "      <td>[[2, 33501, 603, 671, 14239, 674, 19306, 476, 6911, 235269, 44600, 675, 671, 3772, 674, 6572, 4024, 4807, 235265, 15615, 476, 3590, 674, 47258, 56382, 573, 3853, 235265, 109, 6176, 36142, 235292, ...</td>\n",
       "      <td>&lt;presbyterian church (u.s.a.) [desc] presbyterian mainline protestant denomination in the usa [type] christian denomination&gt;</td>\n",
       "      <td>None</td>\n",
       "    </tr>\n",
       "    <tr>\n",
       "      <th>11</th>\n",
       "      <td>1</td>\n",
       "      <td>1418</td>\n",
       "      <td>&lt;presbyterian church [desc] presbyterian chapel in colwyn bay [type] chapel</td>\n",
       "      <td>[[2, 33501, 603, 671, 14239, 674, 19306, 476, 6911, 235269, 44600, 675, 671, 3772, 674, 6572, 4024, 4807, 235265, 15615, 476, 3590, 674, 47258, 56382, 573, 3853, 235265, 109, 6176, 36142, 235292, ...</td>\n",
       "      <td>&lt;presbyterian church (u.s.a.) [desc] presbyterian mainline protestant denomination in the usa [type] christian denomination&gt;</td>\n",
       "      <td>None</td>\n",
       "    </tr>\n",
       "    <tr>\n",
       "      <th>12</th>\n",
       "      <td>2</td>\n",
       "      <td>1418</td>\n",
       "      <td>&lt;presbyterian church [desc] church in carrickmacross, county monaghan, ireland [type] church building</td>\n",
       "      <td>[[2, 33501, 603, 671, 14239, 674, 19306, 476, 6911, 235269, 44600, 675, 671, 3772, 674, 6572, 4024, 4807, 235265, 15615, 476, 3590, 674, 47258, 56382, 573, 3853, 235265, 109, 6176, 36142, 235292, ...</td>\n",
       "      <td>&lt;presbyterian church (u.s.a.) [desc] presbyterian mainline protestant denomination in the usa [type] christian denomination&gt;</td>\n",
       "      <td>None</td>\n",
       "    </tr>\n",
       "    <tr>\n",
       "      <th>13</th>\n",
       "      <td>3</td>\n",
       "      <td>1418</td>\n",
       "      <td>&lt;presbyterianism [desc] branch of protestant christianity using presbyterian church government and originating in the british isles [type] religious denomination</td>\n",
       "      <td>[[2, 33501, 603, 671, 14239, 674, 19306, 476, 6911, 235269, 44600, 675, 671, 3772, 674, 6572, 4024, 4807, 235265, 15615, 476, 3590, 674, 47258, 56382, 573, 3853, 235265, 109, 6176, 36142, 235292, ...</td>\n",
       "      <td>&lt;presbyterian church (u.s.a.) [desc] presbyterian mainline protestant denomination in the usa [type] christian denomination&gt;</td>\n",
       "      <td>None</td>\n",
       "    </tr>\n",
       "    <tr>\n",
       "      <th>14</th>\n",
       "      <td>4</td>\n",
       "      <td>1418</td>\n",
       "      <td>&lt;presbyterian church [desc] presbyterian chapel in colwyn bay [type] chapel</td>\n",
       "      <td>[[2, 33501, 603, 671, 14239, 674, 19306, 476, 6911, 235269, 44600, 675, 671, 3772, 674, 6572, 4024, 4807, 235265, 15615, 476, 3590, 674, 47258, 56382, 573, 3853, 235265, 109, 6176, 36142, 235292, ...</td>\n",
       "      <td>&lt;presbyterian church (u.s.a.) [desc] presbyterian mainline protestant denomination in the usa [type] christian denomination&gt;</td>\n",
       "      <td>None</td>\n",
       "    </tr>\n",
       "    <tr>\n",
       "      <th>...</th>\n",
       "      <td>...</td>\n",
       "      <td>...</td>\n",
       "      <td>...</td>\n",
       "      <td>...</td>\n",
       "      <td>...</td>\n",
       "      <td>...</td>\n",
       "    </tr>\n",
       "    <tr>\n",
       "      <th>2073</th>\n",
       "      <td>3</td>\n",
       "      <td>875</td>\n",
       "      <td>&lt;real murcia cf [desc] association football club [type] association football club</td>\n",
       "      <td>[[2, 33501, 603, 671, 14239, 674, 19306, 476, 6911, 235269, 44600, 675, 671, 3772, 674, 6572, 4024, 4807, 235265, 15615, 476, 3590, 674, 47258, 56382, 573, 3853, 235265, 109, 6176, 36142, 235292, ...</td>\n",
       "      <td>&lt;real murcia [desc] spanish association football club [type] association football club&gt;</td>\n",
       "      <td>None</td>\n",
       "    </tr>\n",
       "    <tr>\n",
       "      <th>2076</th>\n",
       "      <td>6</td>\n",
       "      <td>875</td>\n",
       "      <td>&lt;real murcia cf [desc] football club [type] association football club</td>\n",
       "      <td>[[2, 33501, 603, 671, 14239, 674, 19306, 476, 6911, 235269, 44600, 675, 671, 3772, 674, 6572, 4024, 4807, 235265, 15615, 476, 3590, 674, 47258, 56382, 573, 3853, 235265, 109, 6176, 36142, 235292, ...</td>\n",
       "      <td>&lt;real murcia [desc] spanish association football club [type] association football club&gt;</td>\n",
       "      <td>None</td>\n",
       "    </tr>\n",
       "    <tr>\n",
       "      <th>2077</th>\n",
       "      <td>7</td>\n",
       "      <td>875</td>\n",
       "      <td>&lt;real murcia cf [desc] football club based in sangonera la verde, in the region of murcia from spain equipo de segunda rfef [type] association football club</td>\n",
       "      <td>[[2, 33501, 603, 671, 14239, 674, 19306, 476, 6911, 235269, 44600, 675, 671, 3772, 674, 6572, 4024, 4807, 235265, 15615, 476, 3590, 674, 47258, 56382, 573, 3853, 235265, 109, 6176, 36142, 235292, ...</td>\n",
       "      <td>&lt;real murcia [desc] spanish association football club [type] association football club&gt;</td>\n",
       "      <td>None</td>\n",
       "    </tr>\n",
       "    <tr>\n",
       "      <th>2078</th>\n",
       "      <td>8</td>\n",
       "      <td>875</td>\n",
       "      <td>&lt;real murcia cf [desc] football club based in sangonera la verde, in the region of murcia from spain equipo de segunda rfef [type] association football club</td>\n",
       "      <td>[[2, 33501, 603, 671, 14239, 674, 19306, 476, 6911, 235269, 44600, 675, 671, 3772, 674, 6572, 4024, 4807, 235265, 15615, 476, 3590, 674, 47258, 56382, 573, 3853, 235265, 109, 6176, 36142, 235292, ...</td>\n",
       "      <td>&lt;real murcia [desc] spanish association football club [type] association football club&gt;</td>\n",
       "      <td>None</td>\n",
       "    </tr>\n",
       "    <tr>\n",
       "      <th>2079</th>\n",
       "      <td>9</td>\n",
       "      <td>875</td>\n",
       "      <td>&lt;real murcia cf [desc] football club [type] association football club</td>\n",
       "      <td>[[2, 33501, 603, 671, 14239, 674, 19306, 476, 6911, 235269, 44600, 675, 671, 3772, 674, 6572, 4024, 4807, 235265, 15615, 476, 3590, 674, 47258, 56382, 573, 3853, 235265, 109, 6176, 36142, 235292, ...</td>\n",
       "      <td>&lt;real murcia [desc] spanish association football club [type] association football club&gt;</td>\n",
       "      <td>None</td>\n",
       "    </tr>\n",
       "  </tbody>\n",
       "</table>\n",
       "<p>839 rows × 6 columns</p>\n",
       "</div>"
      ],
      "text/plain": [
       "      run   pid  \\\n",
       "10      0  1418   \n",
       "11      1  1418   \n",
       "12      2  1418   \n",
       "13      3  1418   \n",
       "14      4  1418   \n",
       "...   ...   ...   \n",
       "2073    3   875   \n",
       "2076    6   875   \n",
       "2077    7   875   \n",
       "2078    8   875   \n",
       "2079    9   875   \n",
       "\n",
       "                                                                                                                                                                 answer  \\\n",
       "10    <presbyterianism [desc] branch of protestant christianity using presbyterian church government and originating in the british isles [type] religious denomination   \n",
       "11                                                                                          <presbyterian church [desc] presbyterian chapel in colwyn bay [type] chapel   \n",
       "12                                                                <presbyterian church [desc] church in carrickmacross, county monaghan, ireland [type] church building   \n",
       "13    <presbyterianism [desc] branch of protestant christianity using presbyterian church government and originating in the british isles [type] religious denomination   \n",
       "14                                                                                          <presbyterian church [desc] presbyterian chapel in colwyn bay [type] chapel   \n",
       "...                                                                                                                                                                 ...   \n",
       "2073                                                                                  <real murcia cf [desc] association football club [type] association football club   \n",
       "2076                                                                                              <real murcia cf [desc] football club [type] association football club   \n",
       "2077       <real murcia cf [desc] football club based in sangonera la verde, in the region of murcia from spain equipo de segunda rfef [type] association football club   \n",
       "2078       <real murcia cf [desc] football club based in sangonera la verde, in the region of murcia from spain equipo de segunda rfef [type] association football club   \n",
       "2079                                                                                              <real murcia cf [desc] football club [type] association football club   \n",
       "\n",
       "                                                                                                                                                                                                   answer_seq  \\\n",
       "10    [[2, 33501, 603, 671, 14239, 674, 19306, 476, 6911, 235269, 44600, 675, 671, 3772, 674, 6572, 4024, 4807, 235265, 15615, 476, 3590, 674, 47258, 56382, 573, 3853, 235265, 109, 6176, 36142, 235292, ...   \n",
       "11    [[2, 33501, 603, 671, 14239, 674, 19306, 476, 6911, 235269, 44600, 675, 671, 3772, 674, 6572, 4024, 4807, 235265, 15615, 476, 3590, 674, 47258, 56382, 573, 3853, 235265, 109, 6176, 36142, 235292, ...   \n",
       "12    [[2, 33501, 603, 671, 14239, 674, 19306, 476, 6911, 235269, 44600, 675, 671, 3772, 674, 6572, 4024, 4807, 235265, 15615, 476, 3590, 674, 47258, 56382, 573, 3853, 235265, 109, 6176, 36142, 235292, ...   \n",
       "13    [[2, 33501, 603, 671, 14239, 674, 19306, 476, 6911, 235269, 44600, 675, 671, 3772, 674, 6572, 4024, 4807, 235265, 15615, 476, 3590, 674, 47258, 56382, 573, 3853, 235265, 109, 6176, 36142, 235292, ...   \n",
       "14    [[2, 33501, 603, 671, 14239, 674, 19306, 476, 6911, 235269, 44600, 675, 671, 3772, 674, 6572, 4024, 4807, 235265, 15615, 476, 3590, 674, 47258, 56382, 573, 3853, 235265, 109, 6176, 36142, 235292, ...   \n",
       "...                                                                                                                                                                                                       ...   \n",
       "2073  [[2, 33501, 603, 671, 14239, 674, 19306, 476, 6911, 235269, 44600, 675, 671, 3772, 674, 6572, 4024, 4807, 235265, 15615, 476, 3590, 674, 47258, 56382, 573, 3853, 235265, 109, 6176, 36142, 235292, ...   \n",
       "2076  [[2, 33501, 603, 671, 14239, 674, 19306, 476, 6911, 235269, 44600, 675, 671, 3772, 674, 6572, 4024, 4807, 235265, 15615, 476, 3590, 674, 47258, 56382, 573, 3853, 235265, 109, 6176, 36142, 235292, ...   \n",
       "2077  [[2, 33501, 603, 671, 14239, 674, 19306, 476, 6911, 235269, 44600, 675, 671, 3772, 674, 6572, 4024, 4807, 235265, 15615, 476, 3590, 674, 47258, 56382, 573, 3853, 235265, 109, 6176, 36142, 235292, ...   \n",
       "2078  [[2, 33501, 603, 671, 14239, 674, 19306, 476, 6911, 235269, 44600, 675, 671, 3772, 674, 6572, 4024, 4807, 235265, 15615, 476, 3590, 674, 47258, 56382, 573, 3853, 235265, 109, 6176, 36142, 235292, ...   \n",
       "2079  [[2, 33501, 603, 671, 14239, 674, 19306, 476, 6911, 235269, 44600, 675, 671, 3772, 674, 6572, 4024, 4807, 235265, 15615, 476, 3590, 674, 47258, 56382, 573, 3853, 235265, 109, 6176, 36142, 235292, ...   \n",
       "\n",
       "                                                                                                                      right_answer  \\\n",
       "10    <presbyterian church (u.s.a.) [desc] presbyterian mainline protestant denomination in the usa [type] christian denomination>   \n",
       "11    <presbyterian church (u.s.a.) [desc] presbyterian mainline protestant denomination in the usa [type] christian denomination>   \n",
       "12    <presbyterian church (u.s.a.) [desc] presbyterian mainline protestant denomination in the usa [type] christian denomination>   \n",
       "13    <presbyterian church (u.s.a.) [desc] presbyterian mainline protestant denomination in the usa [type] christian denomination>   \n",
       "14    <presbyterian church (u.s.a.) [desc] presbyterian mainline protestant denomination in the usa [type] christian denomination>   \n",
       "...                                                                                                                            ...   \n",
       "2073                                       <real murcia [desc] spanish association football club [type] association football club>   \n",
       "2076                                       <real murcia [desc] spanish association football club [type] association football club>   \n",
       "2077                                       <real murcia [desc] spanish association football club [type] association football club>   \n",
       "2078                                       <real murcia [desc] spanish association football club [type] association football club>   \n",
       "2079                                       <real murcia [desc] spanish association football club [type] association football club>   \n",
       "\n",
       "     regex_match  \n",
       "10          None  \n",
       "11          None  \n",
       "12          None  \n",
       "13          None  \n",
       "14          None  \n",
       "...          ...  \n",
       "2073        None  \n",
       "2076        None  \n",
       "2077        None  \n",
       "2078        None  \n",
       "2079        None  \n",
       "\n",
       "[839 rows x 6 columns]"
      ]
     },
     "execution_count": 77,
     "metadata": {},
     "output_type": "execute_result"
    }
   ],
   "source": [
    "# wrong answers\n",
    "\n",
    "import numpy as np\n",
    "def fun (a,b):\n",
    "    return a.startswith(b) or b.startswith(a)\n",
    "\n",
    "foon = np.vectorize(fun)\n",
    "aoh = pd.Series(foon(answers.answer, answers.right_answer), index=answers.index)\n",
    "\n",
    "answers[~aoh]"
   ]
  },
  {
   "cell_type": "code",
   "execution_count": 78,
   "id": "6a413657",
   "metadata": {},
   "outputs": [],
   "source": [
    "pd.set_option('max_colwidth', 200)"
   ]
  },
  {
   "cell_type": "code",
   "execution_count": 79,
   "id": "a2bc9376",
   "metadata": {},
   "outputs": [
    {
     "data": {
      "text/html": [
       "<div>\n",
       "<style scoped>\n",
       "    .dataframe tbody tr th:only-of-type {\n",
       "        vertical-align: middle;\n",
       "    }\n",
       "\n",
       "    .dataframe tbody tr th {\n",
       "        vertical-align: top;\n",
       "    }\n",
       "\n",
       "    .dataframe thead th {\n",
       "        text-align: right;\n",
       "    }\n",
       "</style>\n",
       "<table border=\"1\" class=\"dataframe\">\n",
       "  <thead>\n",
       "    <tr style=\"text-align: right;\">\n",
       "      <th></th>\n",
       "      <th>run</th>\n",
       "      <th>pid</th>\n",
       "      <th>correct</th>\n",
       "      <th>hallucinated</th>\n",
       "      <th>loosely_correct</th>\n",
       "      <th>answer</th>\n",
       "      <th>answer_seq</th>\n",
       "      <th>right_answer</th>\n",
       "      <th>regex_match</th>\n",
       "    </tr>\n",
       "  </thead>\n",
       "  <tbody>\n",
       "    <tr>\n",
       "      <th>1798</th>\n",
       "      <td>8</td>\n",
       "      <td>446</td>\n",
       "      <td>True</td>\n",
       "      <td>False</td>\n",
       "      <td>False</td>\n",
       "      <td>&lt;tanganyika [desc] actress [type] actor&gt;\\n\\n\\n\\nthis is an incorrect answer. \\n\\nthe correct answer is: &lt;tanganyika [desc] country in east africa from 1961 to 1964 [type] historical country&gt;  \\n\\n...</td>\n",
       "      <td>[[2, 33501, 603, 671, 14239, 674, 19306, 476, 6911, 235269, 44600, 675, 671, 3772, 674, 6572, 4024, 4807, 235265, 15615, 476, 3590, 674, 47258, 56382, 573, 3853, 235265, 109, 6176, 36142, 235292, ...</td>\n",
       "      <td>&lt;tanganyika [desc] country in east africa from 1961 to 1964 [type] historical country&gt;</td>\n",
       "      <td>None</td>\n",
       "    </tr>\n",
       "  </tbody>\n",
       "</table>\n",
       "</div>"
      ],
      "text/plain": [
       "      run  pid  correct  hallucinated  loosely_correct  \\\n",
       "1798    8  446     True         False            False   \n",
       "\n",
       "                                                                                                                                                                                                       answer  \\\n",
       "1798  <tanganyika [desc] actress [type] actor>\\n\\n\\n\\nthis is an incorrect answer. \\n\\nthe correct answer is: <tanganyika [desc] country in east africa from 1961 to 1964 [type] historical country>  \\n\\n...   \n",
       "\n",
       "                                                                                                                                                                                                   answer_seq  \\\n",
       "1798  [[2, 33501, 603, 671, 14239, 674, 19306, 476, 6911, 235269, 44600, 675, 671, 3772, 674, 6572, 4024, 4807, 235265, 15615, 476, 3590, 674, 47258, 56382, 573, 3853, 235265, 109, 6176, 36142, 235292, ...   \n",
       "\n",
       "                                                                                right_answer  \\\n",
       "1798  <tanganyika [desc] country in east africa from 1961 to 1964 [type] historical country>   \n",
       "\n",
       "     regex_match  \n",
       "1798        None  "
      ]
     },
     "execution_count": 79,
     "metadata": {},
     "output_type": "execute_result"
    }
   ],
   "source": [
    "# correct but not loosely correct?\n",
    "gg = pd.merge(truth, answers, on=['run', 'pid'], how='inner')\n",
    "gg[(~gg.loosely_correct) & (gg.correct)]"
   ]
  },
  {
   "cell_type": "code",
   "execution_count": 80,
   "id": "ba1d4689",
   "metadata": {},
   "outputs": [
    {
     "data": {
      "text/html": [
       "<div>\n",
       "<style scoped>\n",
       "    .dataframe tbody tr th:only-of-type {\n",
       "        vertical-align: middle;\n",
       "    }\n",
       "\n",
       "    .dataframe tbody tr th {\n",
       "        vertical-align: top;\n",
       "    }\n",
       "\n",
       "    .dataframe thead th {\n",
       "        text-align: right;\n",
       "    }\n",
       "</style>\n",
       "<table border=\"1\" class=\"dataframe\">\n",
       "  <thead>\n",
       "    <tr style=\"text-align: right;\">\n",
       "      <th></th>\n",
       "      <th>run</th>\n",
       "      <th>pid</th>\n",
       "      <th>correct</th>\n",
       "      <th>hallucinated</th>\n",
       "      <th>loosely_correct</th>\n",
       "      <th>answer</th>\n",
       "      <th>answer_seq</th>\n",
       "      <th>right_answer</th>\n",
       "      <th>regex_match</th>\n",
       "    </tr>\n",
       "  </thead>\n",
       "  <tbody>\n",
       "    <tr>\n",
       "      <th>1013</th>\n",
       "      <td>3</td>\n",
       "      <td>721</td>\n",
       "      <td>False</td>\n",
       "      <td>True</td>\n",
       "      <td>True</td>\n",
       "      <td>colorado [desc] state of the united states of america [type] u.s. state</td>\n",
       "      <td>[[2, 33501, 603, 671, 14239, 674, 19306, 476, 6911, 235269, 44600, 675, 671, 3772, 674, 6572, 4024, 4807, 235265, 15615, 476, 3590, 674, 47258, 56382, 573, 3853, 235265, 109, 6176, 36142, 235292, ...</td>\n",
       "      <td>&lt;colorado [desc] state of the united states of america [type] u.s. state&gt;</td>\n",
       "      <td>colorado [desc] state of the united states of america [type] u.s. state</td>\n",
       "    </tr>\n",
       "  </tbody>\n",
       "</table>\n",
       "</div>"
      ],
      "text/plain": [
       "      run  pid  correct  hallucinated  loosely_correct  \\\n",
       "1013    3  721    False          True             True   \n",
       "\n",
       "                                                                       answer  \\\n",
       "1013  colorado [desc] state of the united states of america [type] u.s. state   \n",
       "\n",
       "                                                                                                                                                                                                   answer_seq  \\\n",
       "1013  [[2, 33501, 603, 671, 14239, 674, 19306, 476, 6911, 235269, 44600, 675, 671, 3772, 674, 6572, 4024, 4807, 235265, 15615, 476, 3590, 674, 47258, 56382, 573, 3853, 235265, 109, 6176, 36142, 235292, ...   \n",
       "\n",
       "                                                                   right_answer  \\\n",
       "1013  <colorado [desc] state of the united states of america [type] u.s. state>   \n",
       "\n",
       "                                                                  regex_match  \n",
       "1013  colorado [desc] state of the united states of america [type] u.s. state  "
      ]
     },
     "execution_count": 80,
     "metadata": {},
     "output_type": "execute_result"
    }
   ],
   "source": [
    "# only loosely correct\n",
    "gg = pd.merge(truth, answers, on=['run', 'pid'], how='inner')\n",
    "gg[(gg.loosely_correct) & (~gg.correct)].drop_duplicates(subset='pid')"
   ]
  },
  {
   "cell_type": "markdown",
   "id": "cf1c8e14",
   "metadata": {},
   "source": [
    "### sequence components alignment\n",
    "### (build \"segments\" for each sequence)"
   ]
  },
  {
   "cell_type": "code",
   "execution_count": 81,
   "id": "ff3dca16",
   "metadata": {},
   "outputs": [],
   "source": [
    "def is_sublist(c, m, label):\n",
    "    if not c: return False\n",
    "    if not m or len(c) > len(m): return False\n",
    "\n",
    "    for i in range(len(m) - len(c) + 1):\n",
    "        if m[i:i+len(c)] == c:\n",
    "            return (i, i + len(c), label)\n",
    "    return False"
   ]
  },
  {
   "cell_type": "code",
   "execution_count": 82,
   "id": "433b6efb",
   "metadata": {},
   "outputs": [
    {
     "name": "stdout",
     "output_type": "stream",
     "text": [
      "2000\r"
     ]
    }
   ],
   "source": [
    "# %%time\n",
    "\n",
    "checks = []\n",
    "alls = set()\n",
    "\n",
    "for idx, p in enumerate(outlist):\n",
    "    if idx%100==0: \n",
    "        clear_output(wait=True)\n",
    "        print(idx, end='\\r')\n",
    "    \n",
    "    run = p['run']\n",
    "    pid = p['pid']\n",
    "    \n",
    "    alls.add(p['table'])\n",
    "    \n",
    "    # this is the generated sequence\n",
    "    output_seq = p['post_output_sequences'][0]\n",
    "    \n",
    "    # overall prompt sequence\n",
    "    prompt = generate_prompt(p[\"instruction\"], p[\"question\"], p[\"input\"])\n",
    "    prompt_seq = tokenizer(prompt, return_tensors=\"pt\")\n",
    "    prompt_seq = prompt_seq['input_ids'][0].numpy().tolist()\n",
    "\n",
    "    # subsequences\n",
    "    instruction_seq = tokenizer(p[\"instruction\"], return_tensors=\"pt\")\n",
    "    instruction_seq = instruction_seq['input_ids'][0].numpy().tolist()\n",
    "\n",
    "    question_seq = tokenizer(p[\"question\"], return_tensors=\"pt\")\n",
    "    question_seq = question_seq['input_ids'][0].numpy().tolist()\n",
    "\n",
    "    input_seq = tokenizer(p[\"input\"], return_tensors=\"pt\")\n",
    "    input_seq = input_seq['input_ids'][0].numpy().tolist()\n",
    "\n",
    "    postilla = \" Answer with just a candidate, selected from the provided referent entity candidates list, and nothing else. The selected candidate must be reported verbatim from the list provided as input. Each candidate in the list is enclosed between < and > and reports [DESC] and [TYPE] information.\"\n",
    "    postilla += \"\\n\\n### Response:\"\n",
    "    postilla_seq = tokenizer(postilla, return_tensors=\"pt\")\n",
    "    postilla_seq = postilla_seq['input_ids'][0].numpy().tolist()\n",
    "    \n",
    "    # subseq matching\n",
    "    if model_name.startswith('osunlp'): start_tok = 2\n",
    "    else: start_tok = 1\n",
    "    \n",
    "    instruction_match = is_sublist(instruction_seq[start_tok:], output_seq, 'instruction')\n",
    "    if not instruction_match: instruction_match = is_sublist(instruction_seq[start_tok:-1], output_seq, 'instruction')\n",
    "    input_match = is_sublist(input_seq[start_tok:], output_seq, 'input')\n",
    "    if not input_match: input_match = is_sublist(input_seq[start_tok:-1], output_seq, 'input')\n",
    "    question_match = is_sublist(question_seq[start_tok:], output_seq, 'question')\n",
    "    if not question_match: question_match = is_sublist(question_seq[start_tok:-1], output_seq, 'question')\n",
    "    postilla_match = is_sublist(postilla_seq[start_tok:], output_seq, 'postilla')\n",
    "    \n",
    "    # boundaries are inclusive\n",
    "    checks.append((run, pid, 0, instruction_match[0] - 1, 'preamble')) # preamble\n",
    "    checks.append((run, pid, instruction_match[0]) + instruction_match[1:])\n",
    "    checks.append((run, pid, instruction_match[1] + 1) + input_match[1:]) # sew to preceding\n",
    "    # checks.append((run, pid, input_match[1] + 1) + question_match[1:]) # sew to preceding\n",
    "    checks.append((run, pid, input_match[1] + 1) + (postilla_match[0]-1, 'question')) # sew to both   \n",
    "    \n",
    "    # CORRECT skipped the last token in pre_\n",
    "    checks.append((run, pid, postilla_match[0], len(prompt_seq) - 1, 'postilla')) # stretch postilla until the end of the prompt\n",
    "    checks.append((run, pid, len(prompt_seq) , len(output_seq) - 1, 'generated')) # assume everything else is generated    \n",
    "    \n",
    "    # COMPATIBILITY with crippled cache\n",
    "    # checks.append((run, pid, postilla_match[0], len(prompt_seq) - 2, 'postilla'))\n",
    "    # checks.append((run, pid, len(prompt_seq)-1 , len(output_seq) - 2, 'generated')) # assume everything else is generated    \n",
    "    \n",
    "    \n",
    "    # before caching dirty trick\n",
    "    # checks.append((run, pid, postilla_match[0] + 1, len(prompt_seq) - 1, 'postilla')) # stretch postilla until the end of the prompt\n",
    "    # checks.append((run, pid, len(prompt_seq), len(output_seq) - 1, 'generated')) # assume everything else is generated\n",
    "    \n",
    "    #print(len(prompt_seq), len(output_seq) - 1)\n"
   ]
  },
  {
   "cell_type": "code",
   "execution_count": 83,
   "id": "f34145e5",
   "metadata": {},
   "outputs": [
    {
     "data": {
      "text/plain": [
       "False"
      ]
     },
     "execution_count": 83,
     "metadata": {},
     "output_type": "execute_result"
    }
   ],
   "source": [
    "# check the checks (must be False)\n",
    "'False' in checks"
   ]
  },
  {
   "cell_type": "code",
   "execution_count": 84,
   "id": "13265c19",
   "metadata": {},
   "outputs": [],
   "source": [
    "segments = pd.DataFrame(checks, columns = ['run', 'pid', 'start', 'end', 'segment'])"
   ]
  },
  {
   "cell_type": "code",
   "execution_count": 85,
   "id": "095d0f8b",
   "metadata": {},
   "outputs": [],
   "source": [
    "segments['seq'] = segments.segment.map({'preamble': 0, 'instruction': 1, 'input': 2, 'question': 3, 'postilla': 4, 'generated': 5})"
   ]
  },
  {
   "cell_type": "code",
   "execution_count": 86,
   "id": "6f927728",
   "metadata": {},
   "outputs": [],
   "source": [
    "segments['length'] = segments.end - segments.start + 1"
   ]
  },
  {
   "cell_type": "code",
   "execution_count": 87,
   "id": "ab71d07c",
   "metadata": {},
   "outputs": [
    {
     "data": {
      "text/html": [
       "<div>\n",
       "<style scoped>\n",
       "    .dataframe tbody tr th:only-of-type {\n",
       "        vertical-align: middle;\n",
       "    }\n",
       "\n",
       "    .dataframe tbody tr th {\n",
       "        vertical-align: top;\n",
       "    }\n",
       "\n",
       "    .dataframe thead th {\n",
       "        text-align: right;\n",
       "    }\n",
       "</style>\n",
       "<table border=\"1\" class=\"dataframe\">\n",
       "  <thead>\n",
       "    <tr style=\"text-align: right;\">\n",
       "      <th></th>\n",
       "      <th>run</th>\n",
       "      <th>pid</th>\n",
       "      <th>start</th>\n",
       "      <th>end</th>\n",
       "      <th>segment</th>\n",
       "      <th>seq</th>\n",
       "      <th>length</th>\n",
       "    </tr>\n",
       "  </thead>\n",
       "  <tbody>\n",
       "    <tr>\n",
       "      <th>0</th>\n",
       "      <td>0</td>\n",
       "      <td>247</td>\n",
       "      <td>0</td>\n",
       "      <td>32</td>\n",
       "      <td>preamble</td>\n",
       "      <td>0</td>\n",
       "      <td>33</td>\n",
       "    </tr>\n",
       "    <tr>\n",
       "      <th>1</th>\n",
       "      <td>0</td>\n",
       "      <td>247</td>\n",
       "      <td>33</td>\n",
       "      <td>128</td>\n",
       "      <td>instruction</td>\n",
       "      <td>1</td>\n",
       "      <td>96</td>\n",
       "    </tr>\n",
       "    <tr>\n",
       "      <th>2</th>\n",
       "      <td>0</td>\n",
       "      <td>247</td>\n",
       "      <td>129</td>\n",
       "      <td>390</td>\n",
       "      <td>input</td>\n",
       "      <td>2</td>\n",
       "      <td>262</td>\n",
       "    </tr>\n",
       "    <tr>\n",
       "      <th>3</th>\n",
       "      <td>0</td>\n",
       "      <td>247</td>\n",
       "      <td>391</td>\n",
       "      <td>1470</td>\n",
       "      <td>question</td>\n",
       "      <td>3</td>\n",
       "      <td>1080</td>\n",
       "    </tr>\n",
       "    <tr>\n",
       "      <th>4</th>\n",
       "      <td>0</td>\n",
       "      <td>247</td>\n",
       "      <td>1471</td>\n",
       "      <td>1530</td>\n",
       "      <td>postilla</td>\n",
       "      <td>4</td>\n",
       "      <td>60</td>\n",
       "    </tr>\n",
       "    <tr>\n",
       "      <th>...</th>\n",
       "      <td>...</td>\n",
       "      <td>...</td>\n",
       "      <td>...</td>\n",
       "      <td>...</td>\n",
       "      <td>...</td>\n",
       "      <td>...</td>\n",
       "      <td>...</td>\n",
       "    </tr>\n",
       "    <tr>\n",
       "      <th>12475</th>\n",
       "      <td>9</td>\n",
       "      <td>875</td>\n",
       "      <td>33</td>\n",
       "      <td>128</td>\n",
       "      <td>instruction</td>\n",
       "      <td>1</td>\n",
       "      <td>96</td>\n",
       "    </tr>\n",
       "    <tr>\n",
       "      <th>12476</th>\n",
       "      <td>9</td>\n",
       "      <td>875</td>\n",
       "      <td>129</td>\n",
       "      <td>1323</td>\n",
       "      <td>input</td>\n",
       "      <td>2</td>\n",
       "      <td>1195</td>\n",
       "    </tr>\n",
       "    <tr>\n",
       "      <th>12477</th>\n",
       "      <td>9</td>\n",
       "      <td>875</td>\n",
       "      <td>1324</td>\n",
       "      <td>2622</td>\n",
       "      <td>question</td>\n",
       "      <td>3</td>\n",
       "      <td>1299</td>\n",
       "    </tr>\n",
       "    <tr>\n",
       "      <th>12478</th>\n",
       "      <td>9</td>\n",
       "      <td>875</td>\n",
       "      <td>2623</td>\n",
       "      <td>2682</td>\n",
       "      <td>postilla</td>\n",
       "      <td>4</td>\n",
       "      <td>60</td>\n",
       "    </tr>\n",
       "    <tr>\n",
       "      <th>12479</th>\n",
       "      <td>9</td>\n",
       "      <td>875</td>\n",
       "      <td>2683</td>\n",
       "      <td>2703</td>\n",
       "      <td>generated</td>\n",
       "      <td>5</td>\n",
       "      <td>21</td>\n",
       "    </tr>\n",
       "  </tbody>\n",
       "</table>\n",
       "<p>12480 rows × 7 columns</p>\n",
       "</div>"
      ],
      "text/plain": [
       "       run  pid  start   end      segment  seq  length\n",
       "0        0  247      0    32     preamble    0      33\n",
       "1        0  247     33   128  instruction    1      96\n",
       "2        0  247    129   390        input    2     262\n",
       "3        0  247    391  1470     question    3    1080\n",
       "4        0  247   1471  1530     postilla    4      60\n",
       "...    ...  ...    ...   ...          ...  ...     ...\n",
       "12475    9  875     33   128  instruction    1      96\n",
       "12476    9  875    129  1323        input    2    1195\n",
       "12477    9  875   1324  2622     question    3    1299\n",
       "12478    9  875   2623  2682     postilla    4      60\n",
       "12479    9  875   2683  2703    generated    5      21\n",
       "\n",
       "[12480 rows x 7 columns]"
      ]
     },
     "execution_count": 87,
     "metadata": {},
     "output_type": "execute_result"
    }
   ],
   "source": [
    "segments"
   ]
  },
  {
   "cell_type": "markdown",
   "id": "095e5986",
   "metadata": {},
   "source": [
    "### segment description"
   ]
  },
  {
   "cell_type": "code",
   "execution_count": 88,
   "id": "6ee3be0b",
   "metadata": {},
   "outputs": [
    {
     "data": {
      "text/html": [
       "<div>\n",
       "<style scoped>\n",
       "    .dataframe tbody tr th:only-of-type {\n",
       "        vertical-align: middle;\n",
       "    }\n",
       "\n",
       "    .dataframe tbody tr th {\n",
       "        vertical-align: top;\n",
       "    }\n",
       "\n",
       "    .dataframe thead th {\n",
       "        text-align: right;\n",
       "    }\n",
       "</style>\n",
       "<table border=\"1\" class=\"dataframe\">\n",
       "  <thead>\n",
       "    <tr style=\"text-align: right;\">\n",
       "      <th></th>\n",
       "      <th>segment</th>\n",
       "      <th>seq</th>\n",
       "      <th>avg_length</th>\n",
       "      <th>std_length</th>\n",
       "      <th>min_length</th>\n",
       "      <th>max_length</th>\n",
       "      <th>avg_length_rel</th>\n",
       "      <th>avg_cumlen</th>\n",
       "    </tr>\n",
       "  </thead>\n",
       "  <tbody>\n",
       "    <tr>\n",
       "      <th>4</th>\n",
       "      <td>preamble</td>\n",
       "      <td>0</td>\n",
       "      <td>33.000000</td>\n",
       "      <td>0.000000</td>\n",
       "      <td>33</td>\n",
       "      <td>33</td>\n",
       "      <td>0.015486</td>\n",
       "      <td>0.015486</td>\n",
       "    </tr>\n",
       "    <tr>\n",
       "      <th>2</th>\n",
       "      <td>instruction</td>\n",
       "      <td>1</td>\n",
       "      <td>96.000000</td>\n",
       "      <td>0.000000</td>\n",
       "      <td>96</td>\n",
       "      <td>96</td>\n",
       "      <td>0.045049</td>\n",
       "      <td>0.060535</td>\n",
       "    </tr>\n",
       "    <tr>\n",
       "      <th>1</th>\n",
       "      <td>input</td>\n",
       "      <td>2</td>\n",
       "      <td>811.043269</td>\n",
       "      <td>514.669709</td>\n",
       "      <td>135</td>\n",
       "      <td>2285</td>\n",
       "      <td>0.380591</td>\n",
       "      <td>0.441126</td>\n",
       "    </tr>\n",
       "    <tr>\n",
       "      <th>5</th>\n",
       "      <td>question</td>\n",
       "      <td>3</td>\n",
       "      <td>1104.682692</td>\n",
       "      <td>241.211100</td>\n",
       "      <td>274</td>\n",
       "      <td>2022</td>\n",
       "      <td>0.518385</td>\n",
       "      <td>0.959510</td>\n",
       "    </tr>\n",
       "    <tr>\n",
       "      <th>3</th>\n",
       "      <td>postilla</td>\n",
       "      <td>4</td>\n",
       "      <td>60.000000</td>\n",
       "      <td>0.000000</td>\n",
       "      <td>60</td>\n",
       "      <td>60</td>\n",
       "      <td>0.028156</td>\n",
       "      <td>0.987666</td>\n",
       "    </tr>\n",
       "    <tr>\n",
       "      <th>0</th>\n",
       "      <td>generated</td>\n",
       "      <td>5</td>\n",
       "      <td>26.284135</td>\n",
       "      <td>7.813269</td>\n",
       "      <td>6</td>\n",
       "      <td>64</td>\n",
       "      <td>0.012334</td>\n",
       "      <td>1.000000</td>\n",
       "    </tr>\n",
       "  </tbody>\n",
       "</table>\n",
       "</div>"
      ],
      "text/plain": [
       "       segment  seq   avg_length  std_length  min_length  max_length  \\\n",
       "4     preamble    0    33.000000    0.000000          33          33   \n",
       "2  instruction    1    96.000000    0.000000          96          96   \n",
       "1        input    2   811.043269  514.669709         135        2285   \n",
       "5     question    3  1104.682692  241.211100         274        2022   \n",
       "3     postilla    4    60.000000    0.000000          60          60   \n",
       "0    generated    5    26.284135    7.813269           6          64   \n",
       "\n",
       "   avg_length_rel  avg_cumlen  \n",
       "4        0.015486    0.015486  \n",
       "2        0.045049    0.060535  \n",
       "1        0.380591    0.441126  \n",
       "5        0.518385    0.959510  \n",
       "3        0.028156    0.987666  \n",
       "0        0.012334    1.000000  "
      ]
     },
     "execution_count": 88,
     "metadata": {},
     "output_type": "execute_result"
    }
   ],
   "source": [
    "avg_seq_widths = segments.groupby(['segment', 'seq']).length.agg(['mean', 'std', 'min', 'max']).reset_index().sort_values('seq')\n",
    "avg_seq_widths = avg_seq_widths.rename(columns = {'mean': 'avg_length', \n",
    "                                                  'std': 'std_length', \n",
    "                                                  'min': 'min_length',\n",
    "                                                  'max': 'max_length'})\n",
    "avg_seq_widths['avg_length_rel'] = avg_seq_widths['avg_length'] / avg_seq_widths['avg_length'].sum()\n",
    "avg_seq_widths['avg_cumlen'] = avg_seq_widths['avg_length_rel'].cumsum() \n",
    "avg_seq_widths"
   ]
  },
  {
   "cell_type": "code",
   "execution_count": 89,
   "id": "f172a596",
   "metadata": {},
   "outputs": [
    {
     "data": {
      "text/plain": [
       "<Axes: xlabel='length', ylabel='Count'>"
      ]
     },
     "execution_count": 89,
     "metadata": {},
     "output_type": "execute_result"
    },
    {
     "data": {
      "image/png": "[encoded data removed]",
      "text/plain": [
       "<Figure size 640x480 with 1 Axes>"
      ]
     },
     "metadata": {},
     "output_type": "display_data"
    }
   ],
   "source": [
    "sns.histplot(segments[segments.segment=='input'], x='length', hue='segment', multiple='dodge', binwidth=100)"
   ]
  },
  {
   "cell_type": "code",
   "execution_count": 90,
   "id": "fa291f2f",
   "metadata": {},
   "outputs": [
    {
     "data": {
      "image/png": "[encoded data removed]",
      "text/plain": [
       "<Figure size 700x600 with 1 Axes>"
      ]
     },
     "metadata": {},
     "output_type": "display_data"
    }
   ],
   "source": [
    "import seaborn as sns\n",
    "import matplotlib.pyplot as plt\n",
    "\n",
    "from palettable.cartocolors.qualitative import Prism_10, Bold_10\n",
    "palette = Prism_10.mpl_colors \n",
    "\n",
    "sns.set_theme(style=\"ticks\")\n",
    "\n",
    "f, ax = plt.subplots(figsize=(7, 6))\n",
    "\n",
    "sns.histplot(segments[segments.segment=='input'], x='length', color=Prism_10.mpl_colors[3], multiple='dodge', binwidth=100)\n",
    "\n",
    "ax.yaxis.grid(True)\n",
    "\n",
    "plt.show()"
   ]
  },
  {
   "cell_type": "code",
   "execution_count": 91,
   "id": "190bb3c2",
   "metadata": {},
   "outputs": [],
   "source": [
    "# Define background regions [(start, end, color, label)] based on the cumulative sections spans (for the first viz above)\n",
    "\n",
    "from palettable.cartocolors.qualitative import Prism_10, Bold_10\n",
    "palette = Prism_10.mpl_colors \n",
    "\n",
    "myl = avg_seq_widths.avg_cumlen.to_list()\n",
    "sections = ['preamble', 'instruction', 'input', 'question', 'postilla', 'generated']\n",
    "\n",
    "\n",
    "first = (0., myl[0], palette[0], sections[0])\n",
    "background_regions = [first]\n",
    "\n",
    "for z1, z2, l, i in zip(myl, myl[1:], sections[1:], range(len(myl))):\n",
    "    background_regions.append((z1,z2, palette[i+1], l))"
   ]
  },
  {
   "cell_type": "code",
   "execution_count": 92,
   "id": "e05209ab",
   "metadata": {},
   "outputs": [
    {
     "data": {
      "image/png": "[encoded data removed]",
      "text/plain": [
       "<Figure size 700x600 with 1 Axes>"
      ]
     },
     "metadata": {},
     "output_type": "display_data"
    }
   ],
   "source": [
    "import seaborn as sns\n",
    "import matplotlib.pyplot as plt\n",
    "\n",
    "sns.set_theme(style=\"ticks\")\n",
    "\n",
    "# Initialize the figure with a logarithmic x axis\n",
    "f, ax = plt.subplots(figsize=(7, 6))\n",
    "ax.set_xscale(\"log\")\n",
    "\n",
    "# Plot the orbital period with horizontal boxes\n",
    "sns.boxplot(\n",
    "    segments, x=\"length\", y=\"segment\", hue=\"segment\",\n",
    "    whis=[0, 100], palette=[b[2] for b in background_regions]\n",
    ")\n",
    "\n",
    "for patch in ax.patches:\n",
    "    r, g, b, a = patch.get_facecolor()\n",
    "    patch.set_facecolor((r, g, b, .3))\n",
    "\n",
    "ax.xaxis.grid(True)\n",
    "ax.set(ylabel=\"\")\n",
    "\n",
    "plt.show()"
   ]
  },
  {
   "cell_type": "code",
   "execution_count": 93,
   "id": "63c9ccf0",
   "metadata": {},
   "outputs": [],
   "source": [
    "myoutdict = {'truth': truth, 'segments': segments, 'answers': answers, 'model_name': model_name}\n",
    "\n",
    "import pickle\n",
    "\n",
    "with open(prefix + '/preprocessed.' + folder + '.pickle', 'wb') as handle:\n",
    "    pickle.dump(myoutdict, handle, protocol=pickle.HIGHEST_PROTOCOL)\n"
   ]
  },
  {
   "cell_type": "code",
   "execution_count": 94,
   "id": "a23337fd",
   "metadata": {},
   "outputs": [
    {
     "data": {
      "text/html": [
       "<div>\n",
       "<style scoped>\n",
       "    .dataframe tbody tr th:only-of-type {\n",
       "        vertical-align: middle;\n",
       "    }\n",
       "\n",
       "    .dataframe tbody tr th {\n",
       "        vertical-align: top;\n",
       "    }\n",
       "\n",
       "    .dataframe thead th {\n",
       "        text-align: right;\n",
       "    }\n",
       "</style>\n",
       "<table border=\"1\" class=\"dataframe\">\n",
       "  <thead>\n",
       "    <tr style=\"text-align: right;\">\n",
       "      <th></th>\n",
       "      <th>run</th>\n",
       "      <th>pid</th>\n",
       "      <th>answer</th>\n",
       "      <th>answer_seq</th>\n",
       "      <th>right_answer</th>\n",
       "      <th>regex_match</th>\n",
       "    </tr>\n",
       "  </thead>\n",
       "  <tbody>\n",
       "    <tr>\n",
       "      <th>0</th>\n",
       "      <td>0</td>\n",
       "      <td>247</td>\n",
       "      <td>&lt;jsm béjaïa [desc] association football club in algeria [type] association football club</td>\n",
       "      <td>[[2, 33501, 603, 671, 14239, 674, 19306, 476, 6911, 235269, 44600, 675, 671, 3772, 674, 6572, 4024, 4807, 235265, 15615, 476, 3590, 674, 47258, 56382, 573, 3853, 235265, 109, 6176, 36142, 235292, ...</td>\n",
       "      <td>&lt;jsm béjaïa [desc] association football club in algeria [type] association football club&gt;</td>\n",
       "      <td>jsm béjaïa [desc] association football club in algeria [type] association football club</td>\n",
       "    </tr>\n",
       "    <tr>\n",
       "      <th>1</th>\n",
       "      <td>1</td>\n",
       "      <td>247</td>\n",
       "      <td>&lt;jsm béjaïa [desc] association football club in algeria [type] association football club</td>\n",
       "      <td>[[2, 33501, 603, 671, 14239, 674, 19306, 476, 6911, 235269, 44600, 675, 671, 3772, 674, 6572, 4024, 4807, 235265, 15615, 476, 3590, 674, 47258, 56382, 573, 3853, 235265, 109, 6176, 36142, 235292, ...</td>\n",
       "      <td>&lt;jsm béjaïa [desc] association football club in algeria [type] association football club&gt;</td>\n",
       "      <td>jsm béjaïa [desc] association football club in algeria [type] association football club</td>\n",
       "    </tr>\n",
       "    <tr>\n",
       "      <th>2</th>\n",
       "      <td>2</td>\n",
       "      <td>247</td>\n",
       "      <td>&lt;jsm béjaïa [desc] association football club in algeria [type] association football club</td>\n",
       "      <td>[[2, 33501, 603, 671, 14239, 674, 19306, 476, 6911, 235269, 44600, 675, 671, 3772, 674, 6572, 4024, 4807, 235265, 15615, 476, 3590, 674, 47258, 56382, 573, 3853, 235265, 109, 6176, 36142, 235292, ...</td>\n",
       "      <td>&lt;jsm béjaïa [desc] association football club in algeria [type] association football club&gt;</td>\n",
       "      <td>jsm béjaïa [desc] association football club in algeria [type] association football club</td>\n",
       "    </tr>\n",
       "    <tr>\n",
       "      <th>3</th>\n",
       "      <td>3</td>\n",
       "      <td>247</td>\n",
       "      <td>&lt;jsm béjaïa [desc] association football club in algeria [type] association football club</td>\n",
       "      <td>[[2, 33501, 603, 671, 14239, 674, 19306, 476, 6911, 235269, 44600, 675, 671, 3772, 674, 6572, 4024, 4807, 235265, 15615, 476, 3590, 674, 47258, 56382, 573, 3853, 235265, 109, 6176, 36142, 235292, ...</td>\n",
       "      <td>&lt;jsm béjaïa [desc] association football club in algeria [type] association football club&gt;</td>\n",
       "      <td>jsm béjaïa [desc] association football club in algeria [type] association football club</td>\n",
       "    </tr>\n",
       "    <tr>\n",
       "      <th>4</th>\n",
       "      <td>4</td>\n",
       "      <td>247</td>\n",
       "      <td>&lt;jsm béjaïa [desc] association football club in algeria [type] association football club</td>\n",
       "      <td>[[2, 33501, 603, 671, 14239, 674, 19306, 476, 6911, 235269, 44600, 675, 671, 3772, 674, 6572, 4024, 4807, 235265, 15615, 476, 3590, 674, 47258, 56382, 573, 3853, 235265, 109, 6176, 36142, 235292, ...</td>\n",
       "      <td>&lt;jsm béjaïa [desc] association football club in algeria [type] association football club&gt;</td>\n",
       "      <td>jsm béjaïa [desc] association football club in algeria [type] association football club</td>\n",
       "    </tr>\n",
       "    <tr>\n",
       "      <th>...</th>\n",
       "      <td>...</td>\n",
       "      <td>...</td>\n",
       "      <td>...</td>\n",
       "      <td>...</td>\n",
       "      <td>...</td>\n",
       "      <td>...</td>\n",
       "    </tr>\n",
       "    <tr>\n",
       "      <th>2075</th>\n",
       "      <td>5</td>\n",
       "      <td>875</td>\n",
       "      <td>&lt;real murcia [desc] spanish association football club [type] association football club</td>\n",
       "      <td>[[2, 33501, 603, 671, 14239, 674, 19306, 476, 6911, 235269, 44600, 675, 671, 3772, 674, 6572, 4024, 4807, 235265, 15615, 476, 3590, 674, 47258, 56382, 573, 3853, 235265, 109, 6176, 36142, 235292, ...</td>\n",
       "      <td>&lt;real murcia [desc] spanish association football club [type] association football club&gt;</td>\n",
       "      <td>real murcia [desc] spanish association football club [type] association football club</td>\n",
       "    </tr>\n",
       "    <tr>\n",
       "      <th>2076</th>\n",
       "      <td>6</td>\n",
       "      <td>875</td>\n",
       "      <td>&lt;real murcia cf [desc] football club [type] association football club</td>\n",
       "      <td>[[2, 33501, 603, 671, 14239, 674, 19306, 476, 6911, 235269, 44600, 675, 671, 3772, 674, 6572, 4024, 4807, 235265, 15615, 476, 3590, 674, 47258, 56382, 573, 3853, 235265, 109, 6176, 36142, 235292, ...</td>\n",
       "      <td>&lt;real murcia [desc] spanish association football club [type] association football club&gt;</td>\n",
       "      <td>None</td>\n",
       "    </tr>\n",
       "    <tr>\n",
       "      <th>2077</th>\n",
       "      <td>7</td>\n",
       "      <td>875</td>\n",
       "      <td>&lt;real murcia cf [desc] football club based in sangonera la verde, in the region of murcia from spain equipo de segunda rfef [type] association football club</td>\n",
       "      <td>[[2, 33501, 603, 671, 14239, 674, 19306, 476, 6911, 235269, 44600, 675, 671, 3772, 674, 6572, 4024, 4807, 235265, 15615, 476, 3590, 674, 47258, 56382, 573, 3853, 235265, 109, 6176, 36142, 235292, ...</td>\n",
       "      <td>&lt;real murcia [desc] spanish association football club [type] association football club&gt;</td>\n",
       "      <td>None</td>\n",
       "    </tr>\n",
       "    <tr>\n",
       "      <th>2078</th>\n",
       "      <td>8</td>\n",
       "      <td>875</td>\n",
       "      <td>&lt;real murcia cf [desc] football club based in sangonera la verde, in the region of murcia from spain equipo de segunda rfef [type] association football club</td>\n",
       "      <td>[[2, 33501, 603, 671, 14239, 674, 19306, 476, 6911, 235269, 44600, 675, 671, 3772, 674, 6572, 4024, 4807, 235265, 15615, 476, 3590, 674, 47258, 56382, 573, 3853, 235265, 109, 6176, 36142, 235292, ...</td>\n",
       "      <td>&lt;real murcia [desc] spanish association football club [type] association football club&gt;</td>\n",
       "      <td>None</td>\n",
       "    </tr>\n",
       "    <tr>\n",
       "      <th>2079</th>\n",
       "      <td>9</td>\n",
       "      <td>875</td>\n",
       "      <td>&lt;real murcia cf [desc] football club [type] association football club</td>\n",
       "      <td>[[2, 33501, 603, 671, 14239, 674, 19306, 476, 6911, 235269, 44600, 675, 671, 3772, 674, 6572, 4024, 4807, 235265, 15615, 476, 3590, 674, 47258, 56382, 573, 3853, 235265, 109, 6176, 36142, 235292, ...</td>\n",
       "      <td>&lt;real murcia [desc] spanish association football club [type] association football club&gt;</td>\n",
       "      <td>None</td>\n",
       "    </tr>\n",
       "  </tbody>\n",
       "</table>\n",
       "<p>2080 rows × 6 columns</p>\n",
       "</div>"
      ],
      "text/plain": [
       "      run  pid  \\\n",
       "0       0  247   \n",
       "1       1  247   \n",
       "2       2  247   \n",
       "3       3  247   \n",
       "4       4  247   \n",
       "...   ...  ...   \n",
       "2075    5  875   \n",
       "2076    6  875   \n",
       "2077    7  875   \n",
       "2078    8  875   \n",
       "2079    9  875   \n",
       "\n",
       "                                                                                                                                                            answer  \\\n",
       "0                                                                         <jsm béjaïa [desc] association football club in algeria [type] association football club   \n",
       "1                                                                         <jsm béjaïa [desc] association football club in algeria [type] association football club   \n",
       "2                                                                         <jsm béjaïa [desc] association football club in algeria [type] association football club   \n",
       "3                                                                         <jsm béjaïa [desc] association football club in algeria [type] association football club   \n",
       "4                                                                         <jsm béjaïa [desc] association football club in algeria [type] association football club   \n",
       "...                                                                                                                                                            ...   \n",
       "2075                                                                        <real murcia [desc] spanish association football club [type] association football club   \n",
       "2076                                                                                         <real murcia cf [desc] football club [type] association football club   \n",
       "2077  <real murcia cf [desc] football club based in sangonera la verde, in the region of murcia from spain equipo de segunda rfef [type] association football club   \n",
       "2078  <real murcia cf [desc] football club based in sangonera la verde, in the region of murcia from spain equipo de segunda rfef [type] association football club   \n",
       "2079                                                                                         <real murcia cf [desc] football club [type] association football club   \n",
       "\n",
       "                                                                                                                                                                                                   answer_seq  \\\n",
       "0     [[2, 33501, 603, 671, 14239, 674, 19306, 476, 6911, 235269, 44600, 675, 671, 3772, 674, 6572, 4024, 4807, 235265, 15615, 476, 3590, 674, 47258, 56382, 573, 3853, 235265, 109, 6176, 36142, 235292, ...   \n",
       "1     [[2, 33501, 603, 671, 14239, 674, 19306, 476, 6911, 235269, 44600, 675, 671, 3772, 674, 6572, 4024, 4807, 235265, 15615, 476, 3590, 674, 47258, 56382, 573, 3853, 235265, 109, 6176, 36142, 235292, ...   \n",
       "2     [[2, 33501, 603, 671, 14239, 674, 19306, 476, 6911, 235269, 44600, 675, 671, 3772, 674, 6572, 4024, 4807, 235265, 15615, 476, 3590, 674, 47258, 56382, 573, 3853, 235265, 109, 6176, 36142, 235292, ...   \n",
       "3     [[2, 33501, 603, 671, 14239, 674, 19306, 476, 6911, 235269, 44600, 675, 671, 3772, 674, 6572, 4024, 4807, 235265, 15615, 476, 3590, 674, 47258, 56382, 573, 3853, 235265, 109, 6176, 36142, 235292, ...   \n",
       "4     [[2, 33501, 603, 671, 14239, 674, 19306, 476, 6911, 235269, 44600, 675, 671, 3772, 674, 6572, 4024, 4807, 235265, 15615, 476, 3590, 674, 47258, 56382, 573, 3853, 235265, 109, 6176, 36142, 235292, ...   \n",
       "...                                                                                                                                                                                                       ...   \n",
       "2075  [[2, 33501, 603, 671, 14239, 674, 19306, 476, 6911, 235269, 44600, 675, 671, 3772, 674, 6572, 4024, 4807, 235265, 15615, 476, 3590, 674, 47258, 56382, 573, 3853, 235265, 109, 6176, 36142, 235292, ...   \n",
       "2076  [[2, 33501, 603, 671, 14239, 674, 19306, 476, 6911, 235269, 44600, 675, 671, 3772, 674, 6572, 4024, 4807, 235265, 15615, 476, 3590, 674, 47258, 56382, 573, 3853, 235265, 109, 6176, 36142, 235292, ...   \n",
       "2077  [[2, 33501, 603, 671, 14239, 674, 19306, 476, 6911, 235269, 44600, 675, 671, 3772, 674, 6572, 4024, 4807, 235265, 15615, 476, 3590, 674, 47258, 56382, 573, 3853, 235265, 109, 6176, 36142, 235292, ...   \n",
       "2078  [[2, 33501, 603, 671, 14239, 674, 19306, 476, 6911, 235269, 44600, 675, 671, 3772, 674, 6572, 4024, 4807, 235265, 15615, 476, 3590, 674, 47258, 56382, 573, 3853, 235265, 109, 6176, 36142, 235292, ...   \n",
       "2079  [[2, 33501, 603, 671, 14239, 674, 19306, 476, 6911, 235269, 44600, 675, 671, 3772, 674, 6572, 4024, 4807, 235265, 15615, 476, 3590, 674, 47258, 56382, 573, 3853, 235265, 109, 6176, 36142, 235292, ...   \n",
       "\n",
       "                                                                                   right_answer  \\\n",
       "0     <jsm béjaïa [desc] association football club in algeria [type] association football club>   \n",
       "1     <jsm béjaïa [desc] association football club in algeria [type] association football club>   \n",
       "2     <jsm béjaïa [desc] association football club in algeria [type] association football club>   \n",
       "3     <jsm béjaïa [desc] association football club in algeria [type] association football club>   \n",
       "4     <jsm béjaïa [desc] association football club in algeria [type] association football club>   \n",
       "...                                                                                         ...   \n",
       "2075    <real murcia [desc] spanish association football club [type] association football club>   \n",
       "2076    <real murcia [desc] spanish association football club [type] association football club>   \n",
       "2077    <real murcia [desc] spanish association football club [type] association football club>   \n",
       "2078    <real murcia [desc] spanish association football club [type] association football club>   \n",
       "2079    <real murcia [desc] spanish association football club [type] association football club>   \n",
       "\n",
       "                                                                                  regex_match  \n",
       "0     jsm béjaïa [desc] association football club in algeria [type] association football club  \n",
       "1     jsm béjaïa [desc] association football club in algeria [type] association football club  \n",
       "2     jsm béjaïa [desc] association football club in algeria [type] association football club  \n",
       "3     jsm béjaïa [desc] association football club in algeria [type] association football club  \n",
       "4     jsm béjaïa [desc] association football club in algeria [type] association football club  \n",
       "...                                                                                       ...  \n",
       "2075    real murcia [desc] spanish association football club [type] association football club  \n",
       "2076                                                                                     None  \n",
       "2077                                                                                     None  \n",
       "2078                                                                                     None  \n",
       "2079                                                                                     None  \n",
       "\n",
       "[2080 rows x 6 columns]"
      ]
     },
     "execution_count": 94,
     "metadata": {},
     "output_type": "execute_result"
    }
   ],
   "source": [
    "answers"
   ]
  },
  {
   "cell_type": "code",
   "execution_count": null,
   "id": "8254457f",
   "metadata": {},
   "outputs": [],
   "source": []
  }
 ],
 "metadata": {
  "kernelspec": {
   "display_name": "doubt",
   "language": "python",
   "name": "doubt"
  },
  "language_info": {
   "codemirror_mode": {
    "name": "ipython",
    "version": 3
   },
   "file_extension": ".py",
   "mimetype": "text/x-python",
   "name": "python",
   "nbconvert_exporter": "python",
   "pygments_lexer": "ipython3",
   "version": "3.8.10"
  }
 },
 "nbformat": 4,
 "nbformat_minor": 5
}

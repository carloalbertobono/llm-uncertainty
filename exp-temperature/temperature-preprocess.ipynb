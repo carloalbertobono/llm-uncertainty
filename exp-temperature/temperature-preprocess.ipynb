{
 "cells": [
  {
   "cell_type": "code",
   "execution_count": 1,
   "id": "25da2ddc",
   "metadata": {
    "tags": [
     "parameters"
    ]
   },
   "outputs": [],
   "source": [
    "# inpath = 'gemma2-9b/output_temperature_0.0/'\n",
    "\n",
    "# time\n",
    "# inpath = 'gemma2-time/output_temperature_time_gemma2b-mps' #.89\n",
    "inpath = 'gemma2-time/output_temperature_time_gemma2b_colab_partial' #.89\n",
    "# inpath = 'gemma2-time/output_temperature_time_gemma9b' # .87\n",
    "# inpath = 'gemma2-time/output_temperature_time_gemma2b-mps_finegrained'"
   ]
  },
  {
   "cell_type": "code",
   "execution_count": 2,
   "id": "df78e633",
   "metadata": {},
   "outputs": [],
   "source": [
    "# for folder in $(ls -d tablellama/*/); do papermill temperature-preprocess.ipynb -p inpath $folder tmp.json; don"
   ]
  },
  {
   "cell_type": "code",
   "execution_count": 3,
   "id": "50027c5a",
   "metadata": {},
   "outputs": [],
   "source": [
    "prefix, folder = inpath.split('/')[:2]"
   ]
  },
  {
   "cell_type": "code",
   "execution_count": 4,
   "id": "7139c697",
   "metadata": {},
   "outputs": [],
   "source": [
    "import torch\n",
    "import torch.nn.functional as F\n",
    "import transformers\n",
    "from transformers import AutoTokenizer, AutoModelForCausalLM\n",
    "import json\n",
    "from tqdm import tqdm\n",
    "import gc\n",
    "import pandas as pd\n",
    "import seaborn as sns\n",
    "import pickle\n",
    "import math\n",
    "from IPython.display import clear_output\n",
    "import numpy as np\n",
    "import re\n",
    "import os\n",
    "\n",
    "sns.set_context(\"notebook\", font_scale=1.25)\n",
    " \n",
    "file_path = \"turl_test_2k_prompts_50_unique.jsonl\"\n",
    "device = torch.device(\"mps\")"
   ]
  },
  {
   "cell_type": "code",
   "execution_count": 5,
   "id": "be22a379",
   "metadata": {},
   "outputs": [],
   "source": [
    "# https://github.com/ipython-contrib/jupyter_contrib_nbextensions/pull/1663"
   ]
  },
  {
   "cell_type": "code",
   "execution_count": 6,
   "id": "99e5f44c",
   "metadata": {},
   "outputs": [],
   "source": [
    "from io import BytesIO\n",
    "\n",
    "def fix(map_loc):\n",
    "    # Closure rather than a lambda to preserve map_loc \n",
    "    return lambda b: torch.load(BytesIO(b), map_location=map_loc)\n",
    "\n",
    "class MappedUnpickler(pickle.Unpickler):\n",
    "    # https://github.com/pytorch/pytorch/issues/16797#issuecomment-633423219\n",
    "\n",
    "    def __init__(self, *args, map_location='cpu', **kwargs):\n",
    "        self._map_location = map_location\n",
    "        super().__init__(*args, **kwargs)\n",
    "\n",
    "    def find_class(self, module, name):\n",
    "        if module == 'torch.storage' and name == '_load_from_bytes':\n",
    "            return fix(self._map_location)\n",
    "        else: \n",
    "            return super().find_class(module, name)\n",
    "\n",
    "def mapped_loads(s, map_location='cpu'):\n",
    "    bs = BytesIO(s)\n",
    "    unpickler = MappedUnpickler(bs, map_location=map_location)\n",
    "    return unpickler.load()"
   ]
  },
  {
   "cell_type": "code",
   "execution_count": 7,
   "id": "6ae2e7dc",
   "metadata": {},
   "outputs": [],
   "source": [
    "# prompt formatting\n",
    "\n",
    "PROMPT_DICT = {\n",
    "    \"prompt_input\": (\n",
    "        \"Below is an instruction that describes a task, paired with an input that provides further context. \"\n",
    "        \"Write a response that appropriately completes the request.\\n\\n\"\n",
    "        \"### Instruction:\\n{instruction}\\n\\n### Input:\\n{input_seg}\\n\\n### Question:\\n{question}\\n\\n### Response:\"\n",
    "    ),\n",
    "    \"prompt_no_input\": (\n",
    "        \"Below is an instruction that describes a task. \"\n",
    "        \"Write a response that appropriately completes the request.\\n\\n\"\n",
    "        \"### Instruction:\\n{instruction}\\n\\n### Response:\"\n",
    "    ),\n",
    "}\n",
    "\n",
    "def generate_prompt(instruction, question, input_seg=None):\n",
    "    question += \" Answer with just a candidate, selected from the provided referent entity candidates list, and nothing else. The selected candidate must be reported verbatim from the list provided as input. Each candidate in the list is enclosed between < and > and reports [DESC] and [TYPE] information.\"\n",
    "    if input_seg:\n",
    "        return PROMPT_DICT[\"prompt_input\"].format(instruction=instruction, input_seg=input_seg, question=question)\n",
    "    else:\n",
    "        return PROMPT_DICT[\"prompt_no_input\"].format(instruction=instruction)"
   ]
  },
  {
   "cell_type": "code",
   "execution_count": 8,
   "id": "36d31bb5",
   "metadata": {},
   "outputs": [],
   "source": [
    "# load questions (to be removed)\n",
    "\n",
    "with open(file_path, \"r\", encoding=\"utf-8\") as f:\n",
    "    prompts = [json.loads(line) for line in f]"
   ]
  },
  {
   "cell_type": "code",
   "execution_count": 9,
   "id": "637fcf41",
   "metadata": {},
   "outputs": [
    {
     "data": {
      "text/plain": [
       "'gemma2-time/output_temperature_time_gemma2b_colab_partial'"
      ]
     },
     "execution_count": 9,
     "metadata": {},
     "output_type": "execute_result"
    }
   ],
   "source": [
    "os.path.join(prefix, folder)"
   ]
  },
  {
   "cell_type": "code",
   "execution_count": 10,
   "id": "74cc08f0",
   "metadata": {},
   "outputs": [
    {
     "name": "stderr",
     "output_type": "stream",
     "text": [
      "/var/folders/kn/n2krf1q970d6cfl43cjq73s80000gn/T/ipykernel_28594/3807410893.py:5: FutureWarning: You are using `torch.load` with `weights_only=False` (the current default value), which uses the default pickle module implicitly. It is possible to construct malicious pickle data which will execute arbitrary code during unpickling (See https://github.com/pytorch/pytorch/blob/main/SECURITY.md#untrusted-models for more details). In a future release, the default value for `weights_only` will be flipped to `True`. This limits the functions that could be executed during unpickling. Arbitrary objects will no longer be allowed to be loaded via this mode unless they are explicitly allowlisted by the user via `torch.serialization.add_safe_globals`. We recommend you start setting `weights_only=True` for any use case where you don't have full control of the loaded file. Please open an issue on GitHub for any issues related to this experimental feature.\n",
      "  return lambda b: torch.load(BytesIO(b), map_location=map_loc)\n"
     ]
    }
   ],
   "source": [
    "import os\n",
    "import pickle\n",
    "from copy import copy, deepcopy\n",
    "\n",
    "pre_keys = ['pre_output_proba_topn',\n",
    " 'pre_output_proba_topk',\n",
    " 'pre_output_true_entropies',\n",
    " 'pre_output_layers_kl']\n",
    "\n",
    "run = 0\n",
    "outlist = []\n",
    "\n",
    "times = []\n",
    "\n",
    "for pid, single_file in enumerate(os.listdir(os.path.join(prefix, folder))):\n",
    "    if single_file.startswith('_') or single_file.startswith('.'): continue\n",
    "    with open(os.path.join(prefix, folder, single_file), 'rb') as handle:        \n",
    "        item = mapped_loads(handle.read())\n",
    "        \n",
    "        times.append((run, item['pid'], \n",
    "                      item.get('elapsed_forward', None), \n",
    "                      item.get('elapsed', None),\n",
    "                      item.get('elapsed_copytime', None),\n",
    "                      item.get('elapsed_generatetime', None)))\n",
    "        \n",
    "        for i, _ in enumerate(item[\"post_output_sequences\"]):\n",
    "                \n",
    "            item_ = copy(item)\n",
    "            item_[\"post_output_sequences\"] = item[\"post_output_sequences\"][i]\n",
    "                \n",
    "            item_[\"transition_scores_s\"] = item[\"transition_scores_s\"][i]\n",
    "            item_[\"transition_scores_l\"] = item[\"transition_scores_l\"][i]\n",
    "\n",
    "            item_[\"run\"] = run + i\n",
    "                \n",
    "            outlist.append(item_)\n",
    "    "
   ]
  },
  {
   "cell_type": "code",
   "execution_count": 11,
   "id": "96d4be85",
   "metadata": {},
   "outputs": [
    {
     "data": {
      "text/plain": [
       "dict_keys(['table', 'cell', 'instruction', 'input', 'question', 'output', 'prompt', 'tokenized_inputs', 'post_output_sequences', 'transition_scores_s', 'transition_scores_l', 'elapsed_forward', 'elapsed', 'args', 'pid'])"
      ]
     },
     "execution_count": 11,
     "metadata": {},
     "output_type": "execute_result"
    }
   ],
   "source": [
    "item.keys()"
   ]
  },
  {
   "cell_type": "markdown",
   "id": "9aa2a66a",
   "metadata": {},
   "source": [
    "### times"
   ]
  },
  {
   "cell_type": "code",
   "execution_count": 20,
   "id": "88479e62",
   "metadata": {},
   "outputs": [],
   "source": [
    "# generated includes the forward\n",
    "\n",
    "times = pd.DataFrame(times, columns=['run', 'pid', 'forward', 'generated', 'copy', 'generate_only'])"
   ]
  },
  {
   "cell_type": "code",
   "execution_count": 21,
   "id": "868c83f5",
   "metadata": {},
   "outputs": [
    {
     "data": {
      "text/plain": [
       "(0.8743704839638318, 0.8833175447458237)"
      ]
     },
     "execution_count": 21,
     "metadata": {},
     "output_type": "execute_result"
    }
   ],
   "source": [
    "times['gen_ratio_overall'] = (times['generated'] - times['forward']) / times['generated']\n",
    "times['gen_ratio_overall'].mean(), times['gen_ratio_overall'].median()"
   ]
  },
  {
   "cell_type": "code",
   "execution_count": 22,
   "id": "ae5e6b3b",
   "metadata": {},
   "outputs": [
    {
     "name": "stderr",
     "output_type": "stream",
     "text": [
      "/Users/bono/miniforge3/envs/doubt/lib/python3.8/site-packages/numpy/lib/nanfunctions.py:1215: RuntimeWarning: Mean of empty slice\n",
      "  return np.nanmean(a, axis, out=out, keepdims=keepdims)\n"
     ]
    },
    {
     "data": {
      "text/plain": [
       "(nan, nan)"
      ]
     },
     "execution_count": 22,
     "metadata": {},
     "output_type": "execute_result"
    }
   ],
   "source": [
    "times['gen_ratio_only'] = times['generate_only'] / times['generated']\n",
    "times['gen_ratio_only'].mean(), times['gen_ratio_only'].median()"
   ]
  },
  {
   "cell_type": "code",
   "execution_count": 23,
   "id": "bc80eaf7",
   "metadata": {},
   "outputs": [
    {
     "data": {
      "text/plain": [
       "0      NaN\n",
       "1      NaN\n",
       "2      NaN\n",
       "3      NaN\n",
       "4      NaN\n",
       "      ... \n",
       "109    NaN\n",
       "110    NaN\n",
       "111    NaN\n",
       "112    NaN\n",
       "113    NaN\n",
       "Name: gen_ratio_only, Length: 114, dtype: object"
      ]
     },
     "execution_count": 23,
     "metadata": {},
     "output_type": "execute_result"
    }
   ],
   "source": [
    "times['gen_ratio_only']"
   ]
  },
  {
   "cell_type": "code",
   "execution_count": 16,
   "id": "235a8e48",
   "metadata": {},
   "outputs": [],
   "source": [
    "if ~times['gen_ratio_only'].isnull().any():\n",
    "    times['gen_ratio_only'].mean().round(2)*100"
   ]
  },
  {
   "cell_type": "code",
   "execution_count": 17,
   "id": "d2078256",
   "metadata": {},
   "outputs": [],
   "source": [
    "if ~times['gen_ratio_only'].isnull().any():\n",
    "    times['gen_ratio_copy'] = times['copy'] / times['generated']\n",
    "    times['gen_ratio_copy'].mean(), times['gen_ratio_copy'].median()"
   ]
  },
  {
   "cell_type": "code",
   "execution_count": 18,
   "id": "d5ee9b8d",
   "metadata": {},
   "outputs": [
    {
     "data": {
      "text/html": [
       "<div>\n",
       "<style scoped>\n",
       "    .dataframe tbody tr th:only-of-type {\n",
       "        vertical-align: middle;\n",
       "    }\n",
       "\n",
       "    .dataframe tbody tr th {\n",
       "        vertical-align: top;\n",
       "    }\n",
       "\n",
       "    .dataframe thead th {\n",
       "        text-align: right;\n",
       "    }\n",
       "</style>\n",
       "<table border=\"1\" class=\"dataframe\">\n",
       "  <thead>\n",
       "    <tr style=\"text-align: right;\">\n",
       "      <th></th>\n",
       "      <th>run</th>\n",
       "      <th>pid</th>\n",
       "      <th>forward</th>\n",
       "      <th>generated</th>\n",
       "      <th>copy</th>\n",
       "      <th>generate_only</th>\n",
       "      <th>gen_ratio_overall</th>\n",
       "      <th>gen_ratio_only</th>\n",
       "    </tr>\n",
       "  </thead>\n",
       "  <tbody>\n",
       "    <tr>\n",
       "      <th>0</th>\n",
       "      <td>0</td>\n",
       "      <td>567</td>\n",
       "      <td>2.933091</td>\n",
       "      <td>20.286258</td>\n",
       "      <td>None</td>\n",
       "      <td>None</td>\n",
       "      <td>0.855415</td>\n",
       "      <td>NaN</td>\n",
       "    </tr>\n",
       "    <tr>\n",
       "      <th>1</th>\n",
       "      <td>0</td>\n",
       "      <td>17</td>\n",
       "      <td>1.869640</td>\n",
       "      <td>9.910088</td>\n",
       "      <td>None</td>\n",
       "      <td>None</td>\n",
       "      <td>0.811340</td>\n",
       "      <td>NaN</td>\n",
       "    </tr>\n",
       "    <tr>\n",
       "      <th>2</th>\n",
       "      <td>0</td>\n",
       "      <td>224</td>\n",
       "      <td>2.996209</td>\n",
       "      <td>26.907116</td>\n",
       "      <td>None</td>\n",
       "      <td>None</td>\n",
       "      <td>0.888646</td>\n",
       "      <td>NaN</td>\n",
       "    </tr>\n",
       "    <tr>\n",
       "      <th>3</th>\n",
       "      <td>0</td>\n",
       "      <td>96</td>\n",
       "      <td>2.578435</td>\n",
       "      <td>19.765980</td>\n",
       "      <td>None</td>\n",
       "      <td>None</td>\n",
       "      <td>0.869552</td>\n",
       "      <td>NaN</td>\n",
       "    </tr>\n",
       "    <tr>\n",
       "      <th>4</th>\n",
       "      <td>0</td>\n",
       "      <td>457</td>\n",
       "      <td>2.226766</td>\n",
       "      <td>19.084897</td>\n",
       "      <td>None</td>\n",
       "      <td>None</td>\n",
       "      <td>0.883323</td>\n",
       "      <td>NaN</td>\n",
       "    </tr>\n",
       "    <tr>\n",
       "      <th>...</th>\n",
       "      <td>...</td>\n",
       "      <td>...</td>\n",
       "      <td>...</td>\n",
       "      <td>...</td>\n",
       "      <td>...</td>\n",
       "      <td>...</td>\n",
       "      <td>...</td>\n",
       "      <td>...</td>\n",
       "    </tr>\n",
       "    <tr>\n",
       "      <th>109</th>\n",
       "      <td>0</td>\n",
       "      <td>182</td>\n",
       "      <td>1.803506</td>\n",
       "      <td>15.786305</td>\n",
       "      <td>None</td>\n",
       "      <td>None</td>\n",
       "      <td>0.885755</td>\n",
       "      <td>NaN</td>\n",
       "    </tr>\n",
       "    <tr>\n",
       "      <th>110</th>\n",
       "      <td>0</td>\n",
       "      <td>924</td>\n",
       "      <td>3.155528</td>\n",
       "      <td>25.549336</td>\n",
       "      <td>None</td>\n",
       "      <td>None</td>\n",
       "      <td>0.876493</td>\n",
       "      <td>NaN</td>\n",
       "    </tr>\n",
       "    <tr>\n",
       "      <th>111</th>\n",
       "      <td>0</td>\n",
       "      <td>323</td>\n",
       "      <td>3.145976</td>\n",
       "      <td>27.152772</td>\n",
       "      <td>None</td>\n",
       "      <td>None</td>\n",
       "      <td>0.884138</td>\n",
       "      <td>NaN</td>\n",
       "    </tr>\n",
       "    <tr>\n",
       "      <th>112</th>\n",
       "      <td>0</td>\n",
       "      <td>866</td>\n",
       "      <td>1.866042</td>\n",
       "      <td>19.706815</td>\n",
       "      <td>None</td>\n",
       "      <td>None</td>\n",
       "      <td>0.905310</td>\n",
       "      <td>NaN</td>\n",
       "    </tr>\n",
       "    <tr>\n",
       "      <th>113</th>\n",
       "      <td>0</td>\n",
       "      <td>190</td>\n",
       "      <td>2.190656</td>\n",
       "      <td>15.356630</td>\n",
       "      <td>None</td>\n",
       "      <td>None</td>\n",
       "      <td>0.857348</td>\n",
       "      <td>NaN</td>\n",
       "    </tr>\n",
       "  </tbody>\n",
       "</table>\n",
       "<p>114 rows × 8 columns</p>\n",
       "</div>"
      ],
      "text/plain": [
       "     run  pid   forward  generated  copy generate_only  gen_ratio_overall  \\\n",
       "0      0  567  2.933091  20.286258  None          None           0.855415   \n",
       "1      0   17  1.869640   9.910088  None          None           0.811340   \n",
       "2      0  224  2.996209  26.907116  None          None           0.888646   \n",
       "3      0   96  2.578435  19.765980  None          None           0.869552   \n",
       "4      0  457  2.226766  19.084897  None          None           0.883323   \n",
       "..   ...  ...       ...        ...   ...           ...                ...   \n",
       "109    0  182  1.803506  15.786305  None          None           0.885755   \n",
       "110    0  924  3.155528  25.549336  None          None           0.876493   \n",
       "111    0  323  3.145976  27.152772  None          None           0.884138   \n",
       "112    0  866  1.866042  19.706815  None          None           0.905310   \n",
       "113    0  190  2.190656  15.356630  None          None           0.857348   \n",
       "\n",
       "    gen_ratio_only  \n",
       "0              NaN  \n",
       "1              NaN  \n",
       "2              NaN  \n",
       "3              NaN  \n",
       "4              NaN  \n",
       "..             ...  \n",
       "109            NaN  \n",
       "110            NaN  \n",
       "111            NaN  \n",
       "112            NaN  \n",
       "113            NaN  \n",
       "\n",
       "[114 rows x 8 columns]"
      ]
     },
     "execution_count": 18,
     "metadata": {},
     "output_type": "execute_result"
    }
   ],
   "source": [
    "times"
   ]
  },
  {
   "cell_type": "code",
   "execution_count": 19,
   "id": "0c221b77",
   "metadata": {},
   "outputs": [
    {
     "data": {
      "text/plain": [
       "0.8833175447458237"
      ]
     },
     "execution_count": 19,
     "metadata": {},
     "output_type": "execute_result"
    }
   ],
   "source": [
    "times.gen_ratio_overall.median()"
   ]
  },
  {
   "cell_type": "code",
   "execution_count": 25,
   "id": "14f24a24",
   "metadata": {},
   "outputs": [
    {
     "name": "stdout",
     "output_type": "stream",
     "text": [
      "google/gemma-2-2b-it\n"
     ]
    }
   ],
   "source": [
    "# prefix, model_name = './tablellama-complete/', \"osunlp/TableLlama\"\n",
    "# prefix, model_name = './gemma-9b-complete/', \"google/gemma-2-9b-it\"\n",
    "\n",
    "model_name = item['args']['model_name'] # get model from last processed item\n",
    "print(model_name)\n",
    "\n",
    "if model_name.startswith(\"osunlp\"):\n",
    "    config = transformers.AutoConfig.from_pretrained(model_name)\n",
    "\n",
    "    orig_ctx_len = getattr(config, \"max_position_embeddings\", None)\n",
    "    context_size = 8192\n",
    "    if orig_ctx_len and context_size > orig_ctx_len:\n",
    "            scaling_factor = float(math.ceil(context_size / orig_ctx_len))\n",
    "            config.rope_scaling = {\"type\": \"linear\", \"factor\": scaling_factor}\n",
    "\n",
    "    tokenizer = AutoTokenizer.from_pretrained(model_name, \n",
    "                                              model_max_length=(context_size if context_size > orig_ctx_len else orig_ctx_len),\n",
    "                                              padding_side=\"left\", \n",
    "                                              use_fast=False)\n",
    "\n",
    "else:\n",
    "    config = transformers.AutoConfig.from_pretrained(model_name)\n",
    "    tokenizer = AutoTokenizer.from_pretrained(model_name)"
   ]
  },
  {
   "cell_type": "markdown",
   "id": "fd3c5010",
   "metadata": {},
   "source": [
    "### check output against ground truth"
   ]
  },
  {
   "cell_type": "code",
   "execution_count": 26,
   "id": "d955f13a",
   "metadata": {},
   "outputs": [
    {
     "name": "stdout",
     "output_type": "stream",
     "text": [
      "1100\r",
      "CPU times: user 2.54 s, sys: 393 ms, total: 2.93 s\n",
      "Wall time: 3.41 s\n"
     ]
    }
   ],
   "source": [
    "%%time\n",
    "\n",
    "# show results\n",
    "\n",
    "c=0\n",
    "t=0\n",
    "h=0\n",
    "noans = 0\n",
    "\n",
    "truth = []\n",
    "outseq = []\n",
    "\n",
    "pdbg = None\n",
    "\n",
    "for idx, p in enumerate(outlist):\n",
    "    \n",
    "    if idx%100==0: \n",
    "        clear_output(wait=True)\n",
    "        print(idx, end='\\r')\n",
    "    c+=1\n",
    "    pdbg = p\n",
    "    \n",
    "    # in\n",
    "    prompt = generate_prompt(p[\"instruction\"], p[\"question\"], p[\"input\"])\n",
    "    inputs = tokenizer(prompt, return_tensors=\"pt\").to(device)\n",
    "        \n",
    "    # computed\n",
    "    # post_output_scores = p['post_output_scores']\n",
    "    post_output_sequences = p['post_output_sequences']\n",
    "    \n",
    "    # bases\n",
    "    baseid = len(inputs[\"input_ids\"][0]) + 1\n",
    "    endid = len(post_output_sequences[0])\n",
    "    # lookout\n",
    "    generated_ids = post_output_sequences\n",
    "    generated_text = tokenizer.decode(generated_ids[0][baseid:endid], skip_special_tokens=True)\n",
    "    # print\n",
    "    # print(generated_text)\n",
    "    # print(p['output'])\n",
    "    # print('\\n')\n",
    "    #test\n",
    "    \n",
    "    # replacement due to tablellama \"hallucinations\"\n",
    "    a = generated_text.replace('[DESCRIPTION]', '[DESC]').lower().strip()\n",
    "    a = \" \".join(a.split(\" \"))\n",
    "    if len(a) < 1: \n",
    "        print(\"SOMETHING WENT HORRIBLY WRONG, GIVING UP\")\n",
    "        noans += 1\n",
    "        a = \"NO ANSWER\"\n",
    "\n",
    "    b = p['output'].lower().strip()\n",
    "    b = \" \".join(b.split(\" \"))\n",
    "    # correct\n",
    "    correct = False\n",
    "    hallucinated = False\n",
    "    if ((a in b) or (b in a) or (b.startswith(a)) or (a.startswith(b))) and (('desc' in a) and ('type' in a)): \n",
    "        correct = True\n",
    "        t+=1\n",
    "    # hallucinated\n",
    "    elif a not in prompt.lower().strip(): \n",
    "        h+=1\n",
    "        hallucinated = True\n",
    "    # incorrect\n",
    "    else:\n",
    "        pass\n",
    "        #print(generated_text)\n",
    "        #print(p['output'])\n",
    "        #print('\\n')\n",
    "        # print(prompt)\n",
    "        # print('\\n')\n",
    "        \n",
    "    # loose correctness\n",
    "    _, three_ = b.split('[type]')\n",
    "    one_, two_ = _.split('[desc]')\n",
    "    one_ = one_.replace('<', '').replace('>', '').replace(']', '').replace('[', '').strip()\n",
    "    two_ = two_.replace('<', '').replace('>', '').replace(']', '').replace('[', '').strip()\n",
    "    three_ = three_.replace('<', '').replace('>', '').replace(']', '').replace('[', '').strip()\n",
    "    \n",
    "    loosely_correct = False\n",
    "    matched_string = None\n",
    "    try:                  \n",
    "        regex = re.compile(r'^.{0,2}(' + re.escape(one_) + r'.{0,8}' + re.escape(two_) + r'.{0,8}' + re.escape(three_) + r')')\n",
    "        match = regex.search(a)\n",
    "        if match: \n",
    "            loosely_correct = True\n",
    "            matched_string = match.group(1)\n",
    "    except Exception as e:\n",
    "        pass# if it fails, default\n",
    "\n",
    "    truth.append((p['run'], p['pid'], correct, hallucinated, loosely_correct))\n",
    "    outseq.append((p['run'], p['pid'], a, post_output_sequences, b, matched_string))\n"
   ]
  },
  {
   "cell_type": "code",
   "execution_count": 27,
   "id": "827f827e",
   "metadata": {},
   "outputs": [
    {
     "data": {
      "text/plain": [
       "(1941, 1958)"
      ]
     },
     "execution_count": 27,
     "metadata": {},
     "output_type": "execute_result"
    }
   ],
   "source": [
    "len(inputs.input_ids[0]), len(post_output_sequences[0])"
   ]
  },
  {
   "cell_type": "code",
   "execution_count": 28,
   "id": "659b7e51",
   "metadata": {},
   "outputs": [
    {
     "data": {
      "text/plain": [
       "(249, 375, 1140)"
      ]
     },
     "execution_count": 28,
     "metadata": {},
     "output_type": "execute_result"
    }
   ],
   "source": [
    "# true, hallucinated, counted\n",
    "# (3702, 26, 5120) tablellama old\n",
    "# (11190, 880, 14770) gemma 9b\n",
    "t, h, c"
   ]
  },
  {
   "cell_type": "code",
   "execution_count": 29,
   "id": "cbc4c7f4",
   "metadata": {},
   "outputs": [
    {
     "data": {
      "text/plain": [
       "(0.21842105263157896, 0.32894736842105265)"
      ]
     },
     "execution_count": 29,
     "metadata": {},
     "output_type": "execute_result"
    }
   ],
   "source": [
    "# correct answers rate, hallucinated answers rate\n",
    "t/c, h/c"
   ]
  },
  {
   "cell_type": "code",
   "execution_count": 30,
   "id": "938692fb",
   "metadata": {},
   "outputs": [],
   "source": [
    "truth = pd.DataFrame(truth, columns=['run', 'pid', 'correct', 'hallucinated', 'loosely_correct'])"
   ]
  },
  {
   "cell_type": "code",
   "execution_count": 31,
   "id": "b2092d2d",
   "metadata": {},
   "outputs": [],
   "source": [
    "corec = truth.groupby('pid').correct.mean()"
   ]
  },
  {
   "cell_type": "code",
   "execution_count": 32,
   "id": "3e48cac7",
   "metadata": {},
   "outputs": [
    {
     "data": {
      "image/png": "[encoded data removed]",
      "text/plain": [
       "<Figure size 700x600 with 1 Axes>"
      ]
     },
     "metadata": {},
     "output_type": "display_data"
    }
   ],
   "source": [
    "import seaborn as sns\n",
    "import matplotlib.pyplot as plt\n",
    "\n",
    "from palettable.cartocolors.qualitative import Prism_10, Bold_10\n",
    "palette = Prism_10.mpl_colors \n",
    "\n",
    "sns.set_theme(style=\"ticks\")\n",
    "\n",
    "f, ax = plt.subplots(figsize=(7, 6))\n",
    "\n",
    "sns.histplot(corec, bins=corec.nunique(), color=Prism_10.mpl_colors[5])\n",
    "\n",
    "ax.yaxis.grid(True)\n",
    "\n",
    "plt.show()"
   ]
  },
  {
   "cell_type": "code",
   "execution_count": 33,
   "id": "e7c62a75",
   "metadata": {},
   "outputs": [
    {
     "data": {
      "text/plain": [
       "0.6228070175438597"
      ]
     },
     "execution_count": 33,
     "metadata": {},
     "output_type": "execute_result"
    }
   ],
   "source": [
    "# probability mass for \"convinced\" prediction\n",
    "(np.isclose(corec, 0.) | np.isclose(corec, 1.)).sum() / corec.shape[0]"
   ]
  },
  {
   "cell_type": "code",
   "execution_count": 34,
   "id": "77b3b4a3",
   "metadata": {},
   "outputs": [
    {
     "data": {
      "text/plain": [
       "0.37719298245614036"
      ]
     },
     "execution_count": 34,
     "metadata": {},
     "output_type": "execute_result"
    }
   ],
   "source": [
    "# how many \"changed at least once\"\n",
    "((corec>0.) & (corec<1.)).sum() / corec.shape[0]"
   ]
  },
  {
   "cell_type": "code",
   "execution_count": 35,
   "id": "91196aac",
   "metadata": {},
   "outputs": [
    {
     "data": {
      "text/plain": [
       "0.25892857142857145"
      ]
     },
     "execution_count": 35,
     "metadata": {},
     "output_type": "execute_result"
    }
   ],
   "source": [
    "# again but without hallucinated\n",
    "\n",
    "truth_ = truth[(~truth.hallucinated)].copy()\n",
    "truth_['true_err'] = truth_.correct\n",
    "\n",
    "corec_ = truth_.groupby('pid').true_err.mean()\n",
    "\n",
    "((corec_>0.) & (corec_<1.)).sum() / corec_.shape[0]"
   ]
  },
  {
   "cell_type": "code",
   "execution_count": 36,
   "id": "9541cf3b",
   "metadata": {},
   "outputs": [
    {
     "data": {
      "image/png": "[encoded data removed]",
      "text/plain": [
       "<Figure size 700x600 with 1 Axes>"
      ]
     },
     "metadata": {},
     "output_type": "display_data"
    }
   ],
   "source": [
    "# loosely correct\n",
    "\n",
    "import seaborn as sns\n",
    "import matplotlib.pyplot as plt\n",
    "\n",
    "from palettable.cartocolors.qualitative import Prism_10, Bold_10\n",
    "palette = Prism_10.mpl_colors \n",
    "\n",
    "sns.set_theme(style=\"ticks\")\n",
    "\n",
    "corek = truth.groupby('pid').loosely_correct.mean()\n",
    "\n",
    "f, ax = plt.subplots(figsize=(7, 6))\n",
    "\n",
    "sns.histplot(corek, bins=corek.nunique(), color=Prism_10.mpl_colors[5])\n",
    "\n",
    "ax.yaxis.grid(True)\n",
    "\n",
    "plt.show()"
   ]
  },
  {
   "cell_type": "code",
   "execution_count": 37,
   "id": "5686a908",
   "metadata": {},
   "outputs": [
    {
     "data": {
      "image/png": "[encoded data removed]",
      "text/plain": [
       "<Figure size 700x600 with 1 Axes>"
      ]
     },
     "metadata": {},
     "output_type": "display_data"
    }
   ],
   "source": [
    "import seaborn as sns\n",
    "import matplotlib.pyplot as plt\n",
    "\n",
    "from palettable.cartocolors.qualitative import Prism_10, Bold_10\n",
    "palette = Prism_10.mpl_colors \n",
    "\n",
    "sns.set_theme(style=\"ticks\")\n",
    "\n",
    "f, ax = plt.subplots(figsize=(7, 6))\n",
    "\n",
    "sns.histplot(truth.groupby('pid').hallucinated.mean(), bins=corec.nunique(), color=Prism_10.mpl_colors[8])\n",
    "\n",
    "ax.yaxis.grid(True)\n",
    "\n",
    "plt.show()"
   ]
  },
  {
   "cell_type": "code",
   "execution_count": 38,
   "id": "967cf734",
   "metadata": {},
   "outputs": [
    {
     "data": {
      "text/plain": [
       "0.8947368421052632"
      ]
     },
     "execution_count": 38,
     "metadata": {},
     "output_type": "execute_result"
    }
   ],
   "source": [
    "# how many hallucinated\n",
    "(truth.groupby('pid').hallucinated.mean()>0.).sum() / truth.pid.nunique()"
   ]
  },
  {
   "cell_type": "code",
   "execution_count": 39,
   "id": "f0929546",
   "metadata": {},
   "outputs": [
    {
     "data": {
      "image/png": "[encoded data removed]",
      "text/plain": [
       "<Figure size 640x480 with 2 Axes>"
      ]
     },
     "metadata": {},
     "output_type": "display_data"
    }
   ],
   "source": [
    "contingency = pd.crosstab(truth.correct, truth.hallucinated)\n",
    "\n",
    "sns.heatmap(contingency, annot=True, fmt=\"d\", cmap=\"YlOrRd\")\n",
    "\n",
    "plt.title(\"Correct vs Hallucinated\")\n",
    "plt.xlabel(\"Hallucinated\")\n",
    "plt.ylabel(\"Correct\")\n",
    "plt.show()"
   ]
  },
  {
   "cell_type": "code",
   "execution_count": 40,
   "id": "7758129e",
   "metadata": {},
   "outputs": [
    {
     "data": {
      "image/png": "[encoded data removed]",
      "text/plain": [
       "<Figure size 640x480 with 2 Axes>"
      ]
     },
     "metadata": {},
     "output_type": "display_data"
    }
   ],
   "source": [
    "contingency = pd.crosstab(truth.correct, truth.loosely_correct)\n",
    "\n",
    "sns.heatmap(contingency, annot=True, fmt=\"d\", cmap=\"YlOrRd\")\n",
    "\n",
    "plt.title(\"Correct vs Hallucinated\")\n",
    "plt.xlabel(\"Loosely correct\")\n",
    "plt.ylabel(\"Correct\")\n",
    "plt.show()"
   ]
  },
  {
   "cell_type": "code",
   "execution_count": 41,
   "id": "ef3c166a",
   "metadata": {},
   "outputs": [],
   "source": [
    "# answers\n",
    "answers = pd.DataFrame(outseq, columns=['run', 'pid', 'answer', 'answer_seq', 'right_answer', 'regex_match'])\n",
    "answers.answer = answers.answer.str[:-1]"
   ]
  },
  {
   "cell_type": "code",
   "execution_count": 42,
   "id": "5cbb4959",
   "metadata": {},
   "outputs": [
    {
     "data": {
      "text/plain": [
       "(1, 10)"
      ]
     },
     "execution_count": 42,
     "metadata": {},
     "output_type": "execute_result"
    }
   ],
   "source": [
    "# min and max number of unique answers\n",
    "answers.groupby('pid').answer.nunique().min(), answers.groupby('pid').answer.nunique().max()"
   ]
  },
  {
   "cell_type": "code",
   "execution_count": 43,
   "id": "9efca3f0",
   "metadata": {},
   "outputs": [
    {
     "data": {
      "text/html": [
       "<div>\n",
       "<style scoped>\n",
       "    .dataframe tbody tr th:only-of-type {\n",
       "        vertical-align: middle;\n",
       "    }\n",
       "\n",
       "    .dataframe tbody tr th {\n",
       "        vertical-align: top;\n",
       "    }\n",
       "\n",
       "    .dataframe thead th {\n",
       "        text-align: right;\n",
       "    }\n",
       "</style>\n",
       "<table border=\"1\" class=\"dataframe\">\n",
       "  <thead>\n",
       "    <tr style=\"text-align: right;\">\n",
       "      <th></th>\n",
       "      <th>run</th>\n",
       "      <th>pid</th>\n",
       "      <th>answer</th>\n",
       "      <th>answer_seq</th>\n",
       "      <th>right_answer</th>\n",
       "      <th>regex_match</th>\n",
       "    </tr>\n",
       "  </thead>\n",
       "  <tbody>\n",
       "    <tr>\n",
       "      <th>0</th>\n",
       "      <td>0</td>\n",
       "      <td>567</td>\n",
       "      <td>&lt;ruud geels [desc] dutch footballer [type] human</td>\n",
       "      <td>[[2, 33501, 603, 671, 14239, 674, 19306, 476, ...</td>\n",
       "      <td>&lt;ruud geels [desc] dutch footballer [type] human&gt;</td>\n",
       "      <td>ruud geels [desc] dutch footballer [type] human</td>\n",
       "    </tr>\n",
       "    <tr>\n",
       "      <th>1</th>\n",
       "      <td>1</td>\n",
       "      <td>567</td>\n",
       "      <td>&lt;ruud geels [desc] dutch footballer [type] human</td>\n",
       "      <td>[[2, 33501, 603, 671, 14239, 674, 19306, 476, ...</td>\n",
       "      <td>&lt;ruud geels [desc] dutch footballer [type] human&gt;</td>\n",
       "      <td>ruud geels [desc] dutch footballer [type] human</td>\n",
       "    </tr>\n",
       "    <tr>\n",
       "      <th>2</th>\n",
       "      <td>2</td>\n",
       "      <td>567</td>\n",
       "      <td>&lt;ruud geels [desc] dutch footballer [type] human</td>\n",
       "      <td>[[2, 33501, 603, 671, 14239, 674, 19306, 476, ...</td>\n",
       "      <td>&lt;ruud geels [desc] dutch footballer [type] human&gt;</td>\n",
       "      <td>ruud geels [desc] dutch footballer [type] human</td>\n",
       "    </tr>\n",
       "    <tr>\n",
       "      <th>3</th>\n",
       "      <td>3</td>\n",
       "      <td>567</td>\n",
       "      <td>&lt;ruud geels [desc] dutch footballer [type] hum...</td>\n",
       "      <td>[[2, 33501, 603, 671, 14239, 674, 19306, 476, ...</td>\n",
       "      <td>&lt;ruud geels [desc] dutch footballer [type] human&gt;</td>\n",
       "      <td>ruud geels [desc] dutch footballer [type] human</td>\n",
       "    </tr>\n",
       "    <tr>\n",
       "      <th>4</th>\n",
       "      <td>4</td>\n",
       "      <td>567</td>\n",
       "      <td>&lt;geels [desc] family name [type] family name</td>\n",
       "      <td>[[2, 33501, 603, 671, 14239, 674, 19306, 476, ...</td>\n",
       "      <td>&lt;ruud geels [desc] dutch footballer [type] human&gt;</td>\n",
       "      <td>None</td>\n",
       "    </tr>\n",
       "    <tr>\n",
       "      <th>...</th>\n",
       "      <td>...</td>\n",
       "      <td>...</td>\n",
       "      <td>...</td>\n",
       "      <td>...</td>\n",
       "      <td>...</td>\n",
       "      <td>...</td>\n",
       "    </tr>\n",
       "    <tr>\n",
       "      <th>1135</th>\n",
       "      <td>5</td>\n",
       "      <td>190</td>\n",
       "      <td>1996–97 uefa champions league</td>\n",
       "      <td>[[2, 33501, 603, 671, 14239, 674, 19306, 476, ...</td>\n",
       "      <td>&lt;maccabi tel aviv f.c. [desc] association foot...</td>\n",
       "      <td>None</td>\n",
       "    </tr>\n",
       "    <tr>\n",
       "      <th>1136</th>\n",
       "      <td>6</td>\n",
       "      <td>190</td>\n",
       "      <td>&lt;1996–97 uefa champions league. qualifying roun</td>\n",
       "      <td>[[2, 33501, 603, 671, 14239, 674, 19306, 476, ...</td>\n",
       "      <td>&lt;maccabi tel aviv f.c. [desc] association foot...</td>\n",
       "      <td>None</td>\n",
       "    </tr>\n",
       "    <tr>\n",
       "      <th>1137</th>\n",
       "      <td>7</td>\n",
       "      <td>190</td>\n",
       "      <td>1996–97 uefa champions leagu</td>\n",
       "      <td>[[2, 33501, 603, 671, 14239, 674, 19306, 476, ...</td>\n",
       "      <td>&lt;maccabi tel aviv f.c. [desc] association foot...</td>\n",
       "      <td>None</td>\n",
       "    </tr>\n",
       "    <tr>\n",
       "      <th>1138</th>\n",
       "      <td>8</td>\n",
       "      <td>190</td>\n",
       "      <td>1996–97 uefa champions league</td>\n",
       "      <td>[[2, 33501, 603, 671, 14239, 674, 19306, 476, ...</td>\n",
       "      <td>&lt;maccabi tel aviv f.c. [desc] association foot...</td>\n",
       "      <td>None</td>\n",
       "    </tr>\n",
       "    <tr>\n",
       "      <th>1139</th>\n",
       "      <td>9</td>\n",
       "      <td>190</td>\n",
       "      <td>1996–97 uefa champions league. qualifying roun</td>\n",
       "      <td>[[2, 33501, 603, 671, 14239, 674, 19306, 476, ...</td>\n",
       "      <td>&lt;maccabi tel aviv f.c. [desc] association foot...</td>\n",
       "      <td>None</td>\n",
       "    </tr>\n",
       "  </tbody>\n",
       "</table>\n",
       "<p>1140 rows × 6 columns</p>\n",
       "</div>"
      ],
      "text/plain": [
       "      run  pid                                             answer  \\\n",
       "0       0  567   <ruud geels [desc] dutch footballer [type] human   \n",
       "1       1  567   <ruud geels [desc] dutch footballer [type] human   \n",
       "2       2  567   <ruud geels [desc] dutch footballer [type] human   \n",
       "3       3  567  <ruud geels [desc] dutch footballer [type] hum...   \n",
       "4       4  567       <geels [desc] family name [type] family name   \n",
       "...   ...  ...                                                ...   \n",
       "1135    5  190                      1996–97 uefa champions league   \n",
       "1136    6  190    <1996–97 uefa champions league. qualifying roun   \n",
       "1137    7  190                       1996–97 uefa champions leagu   \n",
       "1138    8  190                      1996–97 uefa champions league   \n",
       "1139    9  190     1996–97 uefa champions league. qualifying roun   \n",
       "\n",
       "                                             answer_seq  \\\n",
       "0     [[2, 33501, 603, 671, 14239, 674, 19306, 476, ...   \n",
       "1     [[2, 33501, 603, 671, 14239, 674, 19306, 476, ...   \n",
       "2     [[2, 33501, 603, 671, 14239, 674, 19306, 476, ...   \n",
       "3     [[2, 33501, 603, 671, 14239, 674, 19306, 476, ...   \n",
       "4     [[2, 33501, 603, 671, 14239, 674, 19306, 476, ...   \n",
       "...                                                 ...   \n",
       "1135  [[2, 33501, 603, 671, 14239, 674, 19306, 476, ...   \n",
       "1136  [[2, 33501, 603, 671, 14239, 674, 19306, 476, ...   \n",
       "1137  [[2, 33501, 603, 671, 14239, 674, 19306, 476, ...   \n",
       "1138  [[2, 33501, 603, 671, 14239, 674, 19306, 476, ...   \n",
       "1139  [[2, 33501, 603, 671, 14239, 674, 19306, 476, ...   \n",
       "\n",
       "                                           right_answer  \\\n",
       "0     <ruud geels [desc] dutch footballer [type] human>   \n",
       "1     <ruud geels [desc] dutch footballer [type] human>   \n",
       "2     <ruud geels [desc] dutch footballer [type] human>   \n",
       "3     <ruud geels [desc] dutch footballer [type] human>   \n",
       "4     <ruud geels [desc] dutch footballer [type] human>   \n",
       "...                                                 ...   \n",
       "1135  <maccabi tel aviv f.c. [desc] association foot...   \n",
       "1136  <maccabi tel aviv f.c. [desc] association foot...   \n",
       "1137  <maccabi tel aviv f.c. [desc] association foot...   \n",
       "1138  <maccabi tel aviv f.c. [desc] association foot...   \n",
       "1139  <maccabi tel aviv f.c. [desc] association foot...   \n",
       "\n",
       "                                          regex_match  \n",
       "0     ruud geels [desc] dutch footballer [type] human  \n",
       "1     ruud geels [desc] dutch footballer [type] human  \n",
       "2     ruud geels [desc] dutch footballer [type] human  \n",
       "3     ruud geels [desc] dutch footballer [type] human  \n",
       "4                                                None  \n",
       "...                                               ...  \n",
       "1135                                             None  \n",
       "1136                                             None  \n",
       "1137                                             None  \n",
       "1138                                             None  \n",
       "1139                                             None  \n",
       "\n",
       "[1140 rows x 6 columns]"
      ]
     },
     "execution_count": 43,
     "metadata": {},
     "output_type": "execute_result"
    }
   ],
   "source": [
    "answers"
   ]
  },
  {
   "cell_type": "code",
   "execution_count": 44,
   "id": "b80c2bf2",
   "metadata": {},
   "outputs": [
    {
     "data": {
      "text/html": [
       "<div>\n",
       "<style scoped>\n",
       "    .dataframe tbody tr th:only-of-type {\n",
       "        vertical-align: middle;\n",
       "    }\n",
       "\n",
       "    .dataframe tbody tr th {\n",
       "        vertical-align: top;\n",
       "    }\n",
       "\n",
       "    .dataframe thead th {\n",
       "        text-align: right;\n",
       "    }\n",
       "</style>\n",
       "<table border=\"1\" class=\"dataframe\">\n",
       "  <thead>\n",
       "    <tr style=\"text-align: right;\">\n",
       "      <th></th>\n",
       "      <th>run</th>\n",
       "      <th>pid</th>\n",
       "      <th>answer</th>\n",
       "      <th>answer_seq</th>\n",
       "      <th>right_answer</th>\n",
       "      <th>regex_match</th>\n",
       "    </tr>\n",
       "  </thead>\n",
       "  <tbody>\n",
       "    <tr>\n",
       "      <th>4</th>\n",
       "      <td>4</td>\n",
       "      <td>567</td>\n",
       "      <td>&lt;geels [desc] family name [type] family name</td>\n",
       "      <td>[[2, 33501, 603, 671, 14239, 674, 19306, 476, ...</td>\n",
       "      <td>&lt;ruud geels [desc] dutch footballer [type] human&gt;</td>\n",
       "      <td>None</td>\n",
       "    </tr>\n",
       "    <tr>\n",
       "      <th>10</th>\n",
       "      <td>0</td>\n",
       "      <td>17</td>\n",
       "      <td>huánuco distric</td>\n",
       "      <td>[[2, 33501, 603, 671, 14239, 674, 19306, 476, ...</td>\n",
       "      <td>&lt;huanuco [desc] region of peru [type] region o...</td>\n",
       "      <td>None</td>\n",
       "    </tr>\n",
       "    <tr>\n",
       "      <th>11</th>\n",
       "      <td>1</td>\n",
       "      <td>17</td>\n",
       "      <td>huánuco distric</td>\n",
       "      <td>[[2, 33501, 603, 671, 14239, 674, 19306, 476, ...</td>\n",
       "      <td>&lt;huanuco [desc] region of peru [type] region o...</td>\n",
       "      <td>None</td>\n",
       "    </tr>\n",
       "    <tr>\n",
       "      <th>12</th>\n",
       "      <td>2</td>\n",
       "      <td>17</td>\n",
       "      <td>huánuco distric</td>\n",
       "      <td>[[2, 33501, 603, 671, 14239, 674, 19306, 476, ...</td>\n",
       "      <td>&lt;huanuco [desc] region of peru [type] region o...</td>\n",
       "      <td>None</td>\n",
       "    </tr>\n",
       "    <tr>\n",
       "      <th>13</th>\n",
       "      <td>3</td>\n",
       "      <td>17</td>\n",
       "      <td>león de huánuc</td>\n",
       "      <td>[[2, 33501, 603, 671, 14239, 674, 19306, 476, ...</td>\n",
       "      <td>&lt;huanuco [desc] region of peru [type] region o...</td>\n",
       "      <td>None</td>\n",
       "    </tr>\n",
       "    <tr>\n",
       "      <th>...</th>\n",
       "      <td>...</td>\n",
       "      <td>...</td>\n",
       "      <td>...</td>\n",
       "      <td>...</td>\n",
       "      <td>...</td>\n",
       "      <td>...</td>\n",
       "    </tr>\n",
       "    <tr>\n",
       "      <th>1135</th>\n",
       "      <td>5</td>\n",
       "      <td>190</td>\n",
       "      <td>1996–97 uefa champions league</td>\n",
       "      <td>[[2, 33501, 603, 671, 14239, 674, 19306, 476, ...</td>\n",
       "      <td>&lt;maccabi tel aviv f.c. [desc] association foot...</td>\n",
       "      <td>None</td>\n",
       "    </tr>\n",
       "    <tr>\n",
       "      <th>1136</th>\n",
       "      <td>6</td>\n",
       "      <td>190</td>\n",
       "      <td>&lt;1996–97 uefa champions league. qualifying roun</td>\n",
       "      <td>[[2, 33501, 603, 671, 14239, 674, 19306, 476, ...</td>\n",
       "      <td>&lt;maccabi tel aviv f.c. [desc] association foot...</td>\n",
       "      <td>None</td>\n",
       "    </tr>\n",
       "    <tr>\n",
       "      <th>1137</th>\n",
       "      <td>7</td>\n",
       "      <td>190</td>\n",
       "      <td>1996–97 uefa champions leagu</td>\n",
       "      <td>[[2, 33501, 603, 671, 14239, 674, 19306, 476, ...</td>\n",
       "      <td>&lt;maccabi tel aviv f.c. [desc] association foot...</td>\n",
       "      <td>None</td>\n",
       "    </tr>\n",
       "    <tr>\n",
       "      <th>1138</th>\n",
       "      <td>8</td>\n",
       "      <td>190</td>\n",
       "      <td>1996–97 uefa champions league</td>\n",
       "      <td>[[2, 33501, 603, 671, 14239, 674, 19306, 476, ...</td>\n",
       "      <td>&lt;maccabi tel aviv f.c. [desc] association foot...</td>\n",
       "      <td>None</td>\n",
       "    </tr>\n",
       "    <tr>\n",
       "      <th>1139</th>\n",
       "      <td>9</td>\n",
       "      <td>190</td>\n",
       "      <td>1996–97 uefa champions league. qualifying roun</td>\n",
       "      <td>[[2, 33501, 603, 671, 14239, 674, 19306, 476, ...</td>\n",
       "      <td>&lt;maccabi tel aviv f.c. [desc] association foot...</td>\n",
       "      <td>None</td>\n",
       "    </tr>\n",
       "  </tbody>\n",
       "</table>\n",
       "<p>930 rows × 6 columns</p>\n",
       "</div>"
      ],
      "text/plain": [
       "      run  pid                                           answer  \\\n",
       "4       4  567     <geels [desc] family name [type] family name   \n",
       "10      0   17                                  huánuco distric   \n",
       "11      1   17                                  huánuco distric   \n",
       "12      2   17                                  huánuco distric   \n",
       "13      3   17                                   león de huánuc   \n",
       "...   ...  ...                                              ...   \n",
       "1135    5  190                    1996–97 uefa champions league   \n",
       "1136    6  190  <1996–97 uefa champions league. qualifying roun   \n",
       "1137    7  190                     1996–97 uefa champions leagu   \n",
       "1138    8  190                    1996–97 uefa champions league   \n",
       "1139    9  190   1996–97 uefa champions league. qualifying roun   \n",
       "\n",
       "                                             answer_seq  \\\n",
       "4     [[2, 33501, 603, 671, 14239, 674, 19306, 476, ...   \n",
       "10    [[2, 33501, 603, 671, 14239, 674, 19306, 476, ...   \n",
       "11    [[2, 33501, 603, 671, 14239, 674, 19306, 476, ...   \n",
       "12    [[2, 33501, 603, 671, 14239, 674, 19306, 476, ...   \n",
       "13    [[2, 33501, 603, 671, 14239, 674, 19306, 476, ...   \n",
       "...                                                 ...   \n",
       "1135  [[2, 33501, 603, 671, 14239, 674, 19306, 476, ...   \n",
       "1136  [[2, 33501, 603, 671, 14239, 674, 19306, 476, ...   \n",
       "1137  [[2, 33501, 603, 671, 14239, 674, 19306, 476, ...   \n",
       "1138  [[2, 33501, 603, 671, 14239, 674, 19306, 476, ...   \n",
       "1139  [[2, 33501, 603, 671, 14239, 674, 19306, 476, ...   \n",
       "\n",
       "                                           right_answer regex_match  \n",
       "4     <ruud geels [desc] dutch footballer [type] human>        None  \n",
       "10    <huanuco [desc] region of peru [type] region o...        None  \n",
       "11    <huanuco [desc] region of peru [type] region o...        None  \n",
       "12    <huanuco [desc] region of peru [type] region o...        None  \n",
       "13    <huanuco [desc] region of peru [type] region o...        None  \n",
       "...                                                 ...         ...  \n",
       "1135  <maccabi tel aviv f.c. [desc] association foot...        None  \n",
       "1136  <maccabi tel aviv f.c. [desc] association foot...        None  \n",
       "1137  <maccabi tel aviv f.c. [desc] association foot...        None  \n",
       "1138  <maccabi tel aviv f.c. [desc] association foot...        None  \n",
       "1139  <maccabi tel aviv f.c. [desc] association foot...        None  \n",
       "\n",
       "[930 rows x 6 columns]"
      ]
     },
     "execution_count": 44,
     "metadata": {},
     "output_type": "execute_result"
    }
   ],
   "source": [
    "# wrong answers\n",
    "\n",
    "import numpy as np\n",
    "def fun (a,b):\n",
    "    return a.startswith(b) or b.startswith(a)\n",
    "\n",
    "foon = np.vectorize(fun)\n",
    "aoh = pd.Series(foon(answers.answer, answers.right_answer), index=answers.index)\n",
    "\n",
    "answers[~aoh]"
   ]
  },
  {
   "cell_type": "code",
   "execution_count": 45,
   "id": "6a413657",
   "metadata": {},
   "outputs": [],
   "source": [
    "pd.set_option('max_colwidth', 200)"
   ]
  },
  {
   "cell_type": "code",
   "execution_count": 46,
   "id": "a2bc9376",
   "metadata": {},
   "outputs": [
    {
     "data": {
      "text/html": [
       "<div>\n",
       "<style scoped>\n",
       "    .dataframe tbody tr th:only-of-type {\n",
       "        vertical-align: middle;\n",
       "    }\n",
       "\n",
       "    .dataframe tbody tr th {\n",
       "        vertical-align: top;\n",
       "    }\n",
       "\n",
       "    .dataframe thead th {\n",
       "        text-align: right;\n",
       "    }\n",
       "</style>\n",
       "<table border=\"1\" class=\"dataframe\">\n",
       "  <thead>\n",
       "    <tr style=\"text-align: right;\">\n",
       "      <th></th>\n",
       "      <th>run</th>\n",
       "      <th>pid</th>\n",
       "      <th>correct</th>\n",
       "      <th>hallucinated</th>\n",
       "      <th>loosely_correct</th>\n",
       "      <th>answer</th>\n",
       "      <th>answer_seq</th>\n",
       "      <th>right_answer</th>\n",
       "      <th>regex_match</th>\n",
       "    </tr>\n",
       "  </thead>\n",
       "  <tbody>\n",
       "    <tr>\n",
       "      <th>967</th>\n",
       "      <td>7</td>\n",
       "      <td>265</td>\n",
       "      <td>True</td>\n",
       "      <td>False</td>\n",
       "      <td>False</td>\n",
       "      <td>walker [desc] english singer and actor [type] opera singer</td>\n",
       "      <td>[[2, 33501, 603, 671, 14239, 674, 19306, 476, 6911, 235269, 44600, 675, 671, 3772, 674, 6572, 4024, 4807, 235265, 15615, 476, 3590, 674, 47258, 56382, 573, 3853, 235265, 109, 6176, 36142, 235292, ...</td>\n",
       "      <td>&lt;richard walker [desc] english singer and actor [type] opera singer&gt;</td>\n",
       "      <td>None</td>\n",
       "    </tr>\n",
       "    <tr>\n",
       "      <th>969</th>\n",
       "      <td>9</td>\n",
       "      <td>265</td>\n",
       "      <td>True</td>\n",
       "      <td>False</td>\n",
       "      <td>False</td>\n",
       "      <td>walker [desc] english singer and actor [type] opera singe</td>\n",
       "      <td>[[2, 33501, 603, 671, 14239, 674, 19306, 476, 6911, 235269, 44600, 675, 671, 3772, 674, 6572, 4024, 4807, 235265, 15615, 476, 3590, 674, 47258, 56382, 573, 3853, 235265, 109, 6176, 36142, 235292, ...</td>\n",
       "      <td>&lt;richard walker [desc] english singer and actor [type] opera singer&gt;</td>\n",
       "      <td>None</td>\n",
       "    </tr>\n",
       "  </tbody>\n",
       "</table>\n",
       "</div>"
      ],
      "text/plain": [
       "     run  pid  correct  hallucinated  loosely_correct  \\\n",
       "967    7  265     True         False            False   \n",
       "969    9  265     True         False            False   \n",
       "\n",
       "                                                         answer  \\\n",
       "967  walker [desc] english singer and actor [type] opera singer   \n",
       "969   walker [desc] english singer and actor [type] opera singe   \n",
       "\n",
       "                                                                                                                                                                                                  answer_seq  \\\n",
       "967  [[2, 33501, 603, 671, 14239, 674, 19306, 476, 6911, 235269, 44600, 675, 671, 3772, 674, 6572, 4024, 4807, 235265, 15615, 476, 3590, 674, 47258, 56382, 573, 3853, 235265, 109, 6176, 36142, 235292, ...   \n",
       "969  [[2, 33501, 603, 671, 14239, 674, 19306, 476, 6911, 235269, 44600, 675, 671, 3772, 674, 6572, 4024, 4807, 235265, 15615, 476, 3590, 674, 47258, 56382, 573, 3853, 235265, 109, 6176, 36142, 235292, ...   \n",
       "\n",
       "                                                             right_answer  \\\n",
       "967  <richard walker [desc] english singer and actor [type] opera singer>   \n",
       "969  <richard walker [desc] english singer and actor [type] opera singer>   \n",
       "\n",
       "    regex_match  \n",
       "967        None  \n",
       "969        None  "
      ]
     },
     "execution_count": 46,
     "metadata": {},
     "output_type": "execute_result"
    }
   ],
   "source": [
    "# correct but not loosely correct?\n",
    "gg = pd.merge(truth, answers, on=['run', 'pid'], how='inner')\n",
    "gg[(~gg.loosely_correct) & (gg.correct)]"
   ]
  },
  {
   "cell_type": "code",
   "execution_count": 47,
   "id": "ba1d4689",
   "metadata": {},
   "outputs": [
    {
     "data": {
      "text/html": [
       "<div>\n",
       "<style scoped>\n",
       "    .dataframe tbody tr th:only-of-type {\n",
       "        vertical-align: middle;\n",
       "    }\n",
       "\n",
       "    .dataframe tbody tr th {\n",
       "        vertical-align: top;\n",
       "    }\n",
       "\n",
       "    .dataframe thead th {\n",
       "        text-align: right;\n",
       "    }\n",
       "</style>\n",
       "<table border=\"1\" class=\"dataframe\">\n",
       "  <thead>\n",
       "    <tr style=\"text-align: right;\">\n",
       "      <th></th>\n",
       "      <th>run</th>\n",
       "      <th>pid</th>\n",
       "      <th>correct</th>\n",
       "      <th>hallucinated</th>\n",
       "      <th>loosely_correct</th>\n",
       "      <th>answer</th>\n",
       "      <th>answer_seq</th>\n",
       "      <th>right_answer</th>\n",
       "      <th>regex_match</th>\n",
       "    </tr>\n",
       "  </thead>\n",
       "  <tbody>\n",
       "    <tr>\n",
       "      <th>60</th>\n",
       "      <td>0</td>\n",
       "      <td>568</td>\n",
       "      <td>False</td>\n",
       "      <td>True</td>\n",
       "      <td>True</td>\n",
       "      <td>chairman of the standing committee of the national people's congress [desc] high constitutional office of china [type] position</td>\n",
       "      <td>[[2, 33501, 603, 671, 14239, 674, 19306, 476, 6911, 235269, 44600, 675, 671, 3772, 674, 6572, 4024, 4807, 235265, 15615, 476, 3590, 674, 47258, 56382, 573, 3853, 235265, 109, 6176, 36142, 235292, ...</td>\n",
       "      <td>&lt;chairman of the standing committee of the national people's congress [desc] high constitutional office of china [type] position&gt;</td>\n",
       "      <td>chairman of the standing committee of the national people's congress [desc] high constitutional office of china [type] position</td>\n",
       "    </tr>\n",
       "    <tr>\n",
       "      <th>116</th>\n",
       "      <td>6</td>\n",
       "      <td>204</td>\n",
       "      <td>False</td>\n",
       "      <td>True</td>\n",
       "      <td>True</td>\n",
       "      <td>pobla de mafumet cf [desc] spanish association football club [type] association football club</td>\n",
       "      <td>[[2, 33501, 603, 671, 14239, 674, 19306, 476, 6911, 235269, 44600, 675, 671, 3772, 674, 6572, 4024, 4807, 235265, 15615, 476, 3590, 674, 47258, 56382, 573, 3853, 235265, 109, 6176, 36142, 235292, ...</td>\n",
       "      <td>&lt;pobla de mafumet cf [desc] spanish association football club [type] association football club&gt;</td>\n",
       "      <td>pobla de mafumet cf [desc] spanish association football club [type] association football club</td>\n",
       "    </tr>\n",
       "    <tr>\n",
       "      <th>140</th>\n",
       "      <td>0</td>\n",
       "      <td>127</td>\n",
       "      <td>False</td>\n",
       "      <td>True</td>\n",
       "      <td>True</td>\n",
       "      <td>waterloo diamonds &lt;desc&gt; former baseball team based in waterloo, iowa [type] baseball team</td>\n",
       "      <td>[[2, 33501, 603, 671, 14239, 674, 19306, 476, 6911, 235269, 44600, 675, 671, 3772, 674, 6572, 4024, 4807, 235265, 15615, 476, 3590, 674, 47258, 56382, 573, 3853, 235265, 109, 6176, 36142, 235292, ...</td>\n",
       "      <td>&lt;waterloo diamonds [desc] former baseball team based in waterloo, iowa [type] baseball team&gt;</td>\n",
       "      <td>waterloo diamonds &lt;desc&gt; former baseball team based in waterloo, iowa [type] baseball team</td>\n",
       "    </tr>\n",
       "    <tr>\n",
       "      <th>152</th>\n",
       "      <td>2</td>\n",
       "      <td>263</td>\n",
       "      <td>False</td>\n",
       "      <td>True</td>\n",
       "      <td>True</td>\n",
       "      <td>john mcenroe [desc] american tennis player [type] tennis player</td>\n",
       "      <td>[[2, 33501, 603, 671, 14239, 674, 19306, 476, 6911, 235269, 44600, 675, 671, 3772, 674, 6572, 4024, 4807, 235265, 15615, 476, 3590, 674, 47258, 56382, 573, 3853, 235265, 109, 6176, 36142, 235292, ...</td>\n",
       "      <td>&lt;john mcenroe [desc] american tennis player [type] tennis player&gt;</td>\n",
       "      <td>john mcenroe [desc] american tennis player [type] tennis player</td>\n",
       "    </tr>\n",
       "    <tr>\n",
       "      <th>344</th>\n",
       "      <td>4</td>\n",
       "      <td>858</td>\n",
       "      <td>False</td>\n",
       "      <td>True</td>\n",
       "      <td>True</td>\n",
       "      <td>luke bailey [desc] australian rugby league footballer [type] rugby league player</td>\n",
       "      <td>[[2, 33501, 603, 671, 14239, 674, 19306, 476, 6911, 235269, 44600, 675, 671, 3772, 674, 6572, 4024, 4807, 235265, 15615, 476, 3590, 674, 47258, 56382, 573, 3853, 235265, 109, 6176, 36142, 235292, ...</td>\n",
       "      <td>&lt;luke bailey [desc] australian rugby league footballer [type] rugby league player&gt;</td>\n",
       "      <td>luke bailey [desc] australian rugby league footballer [type] rugby league player</td>\n",
       "    </tr>\n",
       "    <tr>\n",
       "      <th>373</th>\n",
       "      <td>3</td>\n",
       "      <td>183</td>\n",
       "      <td>False</td>\n",
       "      <td>True</td>\n",
       "      <td>True</td>\n",
       "      <td>robert wise [desc] american film director, film producer and film editor [type] trade unionist \\n\\n\\n### explanation:\\n the input for this task provides the entities, their description and their t...</td>\n",
       "      <td>[[2, 33501, 603, 671, 14239, 674, 19306, 476, 6911, 235269, 44600, 675, 671, 3772, 674, 6572, 4024, 4807, 235265, 15615, 476, 3590, 674, 47258, 56382, 573, 3853, 235265, 109, 6176, 36142, 235292, ...</td>\n",
       "      <td>&lt;robert wise [desc] american film director, film producer and film editor [type] trade unionist&gt;</td>\n",
       "      <td>robert wise [desc] american film director, film producer and film editor [type] trade unionist</td>\n",
       "    </tr>\n",
       "    <tr>\n",
       "      <th>413</th>\n",
       "      <td>3</td>\n",
       "      <td>234</td>\n",
       "      <td>False</td>\n",
       "      <td>True</td>\n",
       "      <td>True</td>\n",
       "      <td>&lt;riff raffy daffy [desc]1948 cartoon directed by arthur davis [type] animated short film</td>\n",
       "      <td>[[2, 33501, 603, 671, 14239, 674, 19306, 476, 6911, 235269, 44600, 675, 671, 3772, 674, 6572, 4024, 4807, 235265, 15615, 476, 3590, 674, 47258, 56382, 573, 3853, 235265, 109, 6176, 36142, 235292, ...</td>\n",
       "      <td>&lt;riff raffy daffy [desc] 1948 cartoon directed by arthur davis [type] animated short film&gt;</td>\n",
       "      <td>riff raffy daffy [desc]1948 cartoon directed by arthur davis [type] animated short film</td>\n",
       "    </tr>\n",
       "    <tr>\n",
       "      <th>444</th>\n",
       "      <td>4</td>\n",
       "      <td>774</td>\n",
       "      <td>False</td>\n",
       "      <td>True</td>\n",
       "      <td>True</td>\n",
       "      <td>[countess amalie elisabeth of hanau-münzenberg [desc] regent of hesse-kassel (1602-1651) [type] ruler</td>\n",
       "      <td>[[2, 33501, 603, 671, 14239, 674, 19306, 476, 6911, 235269, 44600, 675, 671, 3772, 674, 6572, 4024, 4807, 235265, 15615, 476, 3590, 674, 47258, 56382, 573, 3853, 235265, 109, 6176, 36142, 235292, ...</td>\n",
       "      <td>&lt;countess amalie elisabeth of hanau-münzenberg [desc] regent of hesse-kassel (1602-1651) [type] ruler&gt;</td>\n",
       "      <td>countess amalie elisabeth of hanau-münzenberg [desc] regent of hesse-kassel (1602-1651) [type] ruler</td>\n",
       "    </tr>\n",
       "    <tr>\n",
       "      <th>693</th>\n",
       "      <td>3</td>\n",
       "      <td>732</td>\n",
       "      <td>False</td>\n",
       "      <td>True</td>\n",
       "      <td>True</td>\n",
       "      <td>&gt; 1500 metres [desc] prestigious middle distance running event. \"the metric mile\" [type] sports disciplin</td>\n",
       "      <td>[[2, 33501, 603, 671, 14239, 674, 19306, 476, 6911, 235269, 44600, 675, 671, 3772, 674, 6572, 4024, 4807, 235265, 15615, 476, 3590, 674, 47258, 56382, 573, 3853, 235265, 109, 6176, 36142, 235292, ...</td>\n",
       "      <td>&lt;1500 metres [desc] prestigious middle distance running event. \"the metric mile\" [type] sports discipline&gt;</td>\n",
       "      <td>1500 metres [desc] prestigious middle distance running event. \"the metric mile\" [type] sports discipline</td>\n",
       "    </tr>\n",
       "    <tr>\n",
       "      <th>790</th>\n",
       "      <td>0</td>\n",
       "      <td>703</td>\n",
       "      <td>False</td>\n",
       "      <td>True</td>\n",
       "      <td>True</td>\n",
       "      <td>filip salaquarda [desc] czech racing driver [type] racing automobile driver</td>\n",
       "      <td>[[2, 33501, 603, 671, 14239, 674, 19306, 476, 6911, 235269, 44600, 675, 671, 3772, 674, 6572, 4024, 4807, 235265, 15615, 476, 3590, 674, 47258, 56382, 573, 3853, 235265, 109, 6176, 36142, 235292, ...</td>\n",
       "      <td>&lt;filip salaquarda [desc] czech racing driver [type] racing automobile driver&gt;</td>\n",
       "      <td>filip salaquarda [desc] czech racing driver [type] racing automobile driver</td>\n",
       "    </tr>\n",
       "    <tr>\n",
       "      <th>835</th>\n",
       "      <td>5</td>\n",
       "      <td>65</td>\n",
       "      <td>False</td>\n",
       "      <td>True</td>\n",
       "      <td>True</td>\n",
       "      <td>kim warwick [desc] australian tennis player [type] tennis player&gt;\\n\\n**explanation:**  the entity mention \"kim warwick\" is clearly an individual. it's associated with men's doubles titles in the a...</td>\n",
       "      <td>[[2, 33501, 603, 671, 14239, 674, 19306, 476, 6911, 235269, 44600, 675, 671, 3772, 674, 6572, 4024, 4807, 235265, 15615, 476, 3590, 674, 47258, 56382, 573, 3853, 235265, 109, 6176, 36142, 235292, ...</td>\n",
       "      <td>&lt;kim warwick [desc] australian tennis player [type] tennis player&gt;</td>\n",
       "      <td>kim warwick [desc] australian tennis player [type] tennis player</td>\n",
       "    </tr>\n",
       "    <tr>\n",
       "      <th>892</th>\n",
       "      <td>2</td>\n",
       "      <td>542</td>\n",
       "      <td>False</td>\n",
       "      <td>True</td>\n",
       "      <td>True</td>\n",
       "      <td>david rudisha [desc] kenyan middle distance runner [type] athletics competitor\\n\\n\\n\\nlet me know if you'd like to continue with more entity linking tasks</td>\n",
       "      <td>[[2, 33501, 603, 671, 14239, 674, 19306, 476, 6911, 235269, 44600, 675, 671, 3772, 674, 6572, 4024, 4807, 235265, 15615, 476, 3590, 674, 47258, 56382, 573, 3853, 235265, 109, 6176, 36142, 235292, ...</td>\n",
       "      <td>&lt;david rudisha [desc] kenyan middle distance runner [type] athletics competitor&gt;</td>\n",
       "      <td>david rudisha [desc] kenyan middle distance runner [type] athletics competitor</td>\n",
       "    </tr>\n",
       "    <tr>\n",
       "      <th>922</th>\n",
       "      <td>2</td>\n",
       "      <td>872</td>\n",
       "      <td>False</td>\n",
       "      <td>True</td>\n",
       "      <td>True</td>\n",
       "      <td>ifuleave [desc] 2008 single by musiq soulchild [type] single&gt;\\n\\n### explanation:\\nthe entity mention  '\" ifuleave \" (feat. mary j. blige )' is a 2008 single by musiq soulchild</td>\n",
       "      <td>[[2, 33501, 603, 671, 14239, 674, 19306, 476, 6911, 235269, 44600, 675, 671, 3772, 674, 6572, 4024, 4807, 235265, 15615, 476, 3590, 674, 47258, 56382, 573, 3853, 235265, 109, 6176, 36142, 235292, ...</td>\n",
       "      <td>&lt;ifuleave [desc] 2008 single by musiq soulchild [type] single&gt;</td>\n",
       "      <td>ifuleave [desc] 2008 single by musiq soulchild [type] single</td>\n",
       "    </tr>\n",
       "    <tr>\n",
       "      <th>974</th>\n",
       "      <td>4</td>\n",
       "      <td>831</td>\n",
       "      <td>False</td>\n",
       "      <td>True</td>\n",
       "      <td>True</td>\n",
       "      <td>liam donoghue [desc] irish hurler [type] hurler&gt; \\n\\n### explanation:\\nthe response accurately identifies the entity mentioned in the input table cell and selects the appropriate referent entity c...</td>\n",
       "      <td>[[2, 33501, 603, 671, 14239, 674, 19306, 476, 6911, 235269, 44600, 675, 671, 3772, 674, 6572, 4024, 4807, 235265, 15615, 476, 3590, 674, 47258, 56382, 573, 3853, 235265, 109, 6176, 36142, 235292, ...</td>\n",
       "      <td>&lt;liam donoghue [desc] irish hurler [type] hurler&gt;</td>\n",
       "      <td>liam donoghue [desc] irish hurler [type] hurler</td>\n",
       "    </tr>\n",
       "    <tr>\n",
       "      <th>1041</th>\n",
       "      <td>1</td>\n",
       "      <td>455</td>\n",
       "      <td>False</td>\n",
       "      <td>True</td>\n",
       "      <td>True</td>\n",
       "      <td>[carrara indoor stadium [desc] sports venue [type] stadium</td>\n",
       "      <td>[[2, 33501, 603, 671, 14239, 674, 19306, 476, 6911, 235269, 44600, 675, 671, 3772, 674, 6572, 4024, 4807, 235265, 15615, 476, 3590, 674, 47258, 56382, 573, 3853, 235265, 109, 6176, 36142, 235292, ...</td>\n",
       "      <td>&lt;carrara indoor stadium [desc] sports venue [type] stadium&gt;</td>\n",
       "      <td>carrara indoor stadium [desc] sports venue [type] stadium</td>\n",
       "    </tr>\n",
       "    <tr>\n",
       "      <th>1120</th>\n",
       "      <td>0</td>\n",
       "      <td>866</td>\n",
       "      <td>False</td>\n",
       "      <td>True</td>\n",
       "      <td>True</td>\n",
       "      <td>giravanz kitakyushu [desc] association football club [type] association football club \\n\\n**explanation:** the entity mention \"giravanz kitakyushu\" clearly indicates that it is a football club. th...</td>\n",
       "      <td>[[2, 33501, 603, 671, 14239, 674, 19306, 476, 6911, 235269, 44600, 675, 671, 3772, 674, 6572, 4024, 4807, 235265, 15615, 476, 3590, 674, 47258, 56382, 573, 3853, 235265, 109, 6176, 36142, 235292, ...</td>\n",
       "      <td>&lt;giravanz kitakyushu [desc] association football club [type] association football club&gt;</td>\n",
       "      <td>giravanz kitakyushu [desc] association football club [type] association football club</td>\n",
       "    </tr>\n",
       "  </tbody>\n",
       "</table>\n",
       "</div>"
      ],
      "text/plain": [
       "      run  pid  correct  hallucinated  loosely_correct  \\\n",
       "60      0  568    False          True             True   \n",
       "116     6  204    False          True             True   \n",
       "140     0  127    False          True             True   \n",
       "152     2  263    False          True             True   \n",
       "344     4  858    False          True             True   \n",
       "373     3  183    False          True             True   \n",
       "413     3  234    False          True             True   \n",
       "444     4  774    False          True             True   \n",
       "693     3  732    False          True             True   \n",
       "790     0  703    False          True             True   \n",
       "835     5   65    False          True             True   \n",
       "892     2  542    False          True             True   \n",
       "922     2  872    False          True             True   \n",
       "974     4  831    False          True             True   \n",
       "1041    1  455    False          True             True   \n",
       "1120    0  866    False          True             True   \n",
       "\n",
       "                                                                                                                                                                                                       answer  \\\n",
       "60                                                                            chairman of the standing committee of the national people's congress [desc] high constitutional office of china [type] position   \n",
       "116                                                                                                             pobla de mafumet cf [desc] spanish association football club [type] association football club   \n",
       "140                                                                                                                waterloo diamonds <desc> former baseball team based in waterloo, iowa [type] baseball team   \n",
       "152                                                                                                                                           john mcenroe [desc] american tennis player [type] tennis player   \n",
       "344                                                                                                                          luke bailey [desc] australian rugby league footballer [type] rugby league player   \n",
       "373   robert wise [desc] american film director, film producer and film editor [type] trade unionist \\n\\n\\n### explanation:\\n the input for this task provides the entities, their description and their t...   \n",
       "413                                                                                                                  <riff raffy daffy [desc]1948 cartoon directed by arthur davis [type] animated short film   \n",
       "444                                                                                                     [countess amalie elisabeth of hanau-münzenberg [desc] regent of hesse-kassel (1602-1651) [type] ruler   \n",
       "693                                                                                                 > 1500 metres [desc] prestigious middle distance running event. \"the metric mile\" [type] sports disciplin   \n",
       "790                                                                                                                               filip salaquarda [desc] czech racing driver [type] racing automobile driver   \n",
       "835   kim warwick [desc] australian tennis player [type] tennis player>\\n\\n**explanation:**  the entity mention \"kim warwick\" is clearly an individual. it's associated with men's doubles titles in the a...   \n",
       "892                                                david rudisha [desc] kenyan middle distance runner [type] athletics competitor\\n\\n\\n\\nlet me know if you'd like to continue with more entity linking tasks   \n",
       "922                          ifuleave [desc] 2008 single by musiq soulchild [type] single>\\n\\n### explanation:\\nthe entity mention  '\" ifuleave \" (feat. mary j. blige )' is a 2008 single by musiq soulchild   \n",
       "974   liam donoghue [desc] irish hurler [type] hurler> \\n\\n### explanation:\\nthe response accurately identifies the entity mentioned in the input table cell and selects the appropriate referent entity c...   \n",
       "1041                                                                                                                                               [carrara indoor stadium [desc] sports venue [type] stadium   \n",
       "1120  giravanz kitakyushu [desc] association football club [type] association football club \\n\\n**explanation:** the entity mention \"giravanz kitakyushu\" clearly indicates that it is a football club. th...   \n",
       "\n",
       "                                                                                                                                                                                                   answer_seq  \\\n",
       "60    [[2, 33501, 603, 671, 14239, 674, 19306, 476, 6911, 235269, 44600, 675, 671, 3772, 674, 6572, 4024, 4807, 235265, 15615, 476, 3590, 674, 47258, 56382, 573, 3853, 235265, 109, 6176, 36142, 235292, ...   \n",
       "116   [[2, 33501, 603, 671, 14239, 674, 19306, 476, 6911, 235269, 44600, 675, 671, 3772, 674, 6572, 4024, 4807, 235265, 15615, 476, 3590, 674, 47258, 56382, 573, 3853, 235265, 109, 6176, 36142, 235292, ...   \n",
       "140   [[2, 33501, 603, 671, 14239, 674, 19306, 476, 6911, 235269, 44600, 675, 671, 3772, 674, 6572, 4024, 4807, 235265, 15615, 476, 3590, 674, 47258, 56382, 573, 3853, 235265, 109, 6176, 36142, 235292, ...   \n",
       "152   [[2, 33501, 603, 671, 14239, 674, 19306, 476, 6911, 235269, 44600, 675, 671, 3772, 674, 6572, 4024, 4807, 235265, 15615, 476, 3590, 674, 47258, 56382, 573, 3853, 235265, 109, 6176, 36142, 235292, ...   \n",
       "344   [[2, 33501, 603, 671, 14239, 674, 19306, 476, 6911, 235269, 44600, 675, 671, 3772, 674, 6572, 4024, 4807, 235265, 15615, 476, 3590, 674, 47258, 56382, 573, 3853, 235265, 109, 6176, 36142, 235292, ...   \n",
       "373   [[2, 33501, 603, 671, 14239, 674, 19306, 476, 6911, 235269, 44600, 675, 671, 3772, 674, 6572, 4024, 4807, 235265, 15615, 476, 3590, 674, 47258, 56382, 573, 3853, 235265, 109, 6176, 36142, 235292, ...   \n",
       "413   [[2, 33501, 603, 671, 14239, 674, 19306, 476, 6911, 235269, 44600, 675, 671, 3772, 674, 6572, 4024, 4807, 235265, 15615, 476, 3590, 674, 47258, 56382, 573, 3853, 235265, 109, 6176, 36142, 235292, ...   \n",
       "444   [[2, 33501, 603, 671, 14239, 674, 19306, 476, 6911, 235269, 44600, 675, 671, 3772, 674, 6572, 4024, 4807, 235265, 15615, 476, 3590, 674, 47258, 56382, 573, 3853, 235265, 109, 6176, 36142, 235292, ...   \n",
       "693   [[2, 33501, 603, 671, 14239, 674, 19306, 476, 6911, 235269, 44600, 675, 671, 3772, 674, 6572, 4024, 4807, 235265, 15615, 476, 3590, 674, 47258, 56382, 573, 3853, 235265, 109, 6176, 36142, 235292, ...   \n",
       "790   [[2, 33501, 603, 671, 14239, 674, 19306, 476, 6911, 235269, 44600, 675, 671, 3772, 674, 6572, 4024, 4807, 235265, 15615, 476, 3590, 674, 47258, 56382, 573, 3853, 235265, 109, 6176, 36142, 235292, ...   \n",
       "835   [[2, 33501, 603, 671, 14239, 674, 19306, 476, 6911, 235269, 44600, 675, 671, 3772, 674, 6572, 4024, 4807, 235265, 15615, 476, 3590, 674, 47258, 56382, 573, 3853, 235265, 109, 6176, 36142, 235292, ...   \n",
       "892   [[2, 33501, 603, 671, 14239, 674, 19306, 476, 6911, 235269, 44600, 675, 671, 3772, 674, 6572, 4024, 4807, 235265, 15615, 476, 3590, 674, 47258, 56382, 573, 3853, 235265, 109, 6176, 36142, 235292, ...   \n",
       "922   [[2, 33501, 603, 671, 14239, 674, 19306, 476, 6911, 235269, 44600, 675, 671, 3772, 674, 6572, 4024, 4807, 235265, 15615, 476, 3590, 674, 47258, 56382, 573, 3853, 235265, 109, 6176, 36142, 235292, ...   \n",
       "974   [[2, 33501, 603, 671, 14239, 674, 19306, 476, 6911, 235269, 44600, 675, 671, 3772, 674, 6572, 4024, 4807, 235265, 15615, 476, 3590, 674, 47258, 56382, 573, 3853, 235265, 109, 6176, 36142, 235292, ...   \n",
       "1041  [[2, 33501, 603, 671, 14239, 674, 19306, 476, 6911, 235269, 44600, 675, 671, 3772, 674, 6572, 4024, 4807, 235265, 15615, 476, 3590, 674, 47258, 56382, 573, 3853, 235265, 109, 6176, 36142, 235292, ...   \n",
       "1120  [[2, 33501, 603, 671, 14239, 674, 19306, 476, 6911, 235269, 44600, 675, 671, 3772, 674, 6572, 4024, 4807, 235265, 15615, 476, 3590, 674, 47258, 56382, 573, 3853, 235265, 109, 6176, 36142, 235292, ...   \n",
       "\n",
       "                                                                                                                           right_answer  \\\n",
       "60    <chairman of the standing committee of the national people's congress [desc] high constitutional office of china [type] position>   \n",
       "116                                     <pobla de mafumet cf [desc] spanish association football club [type] association football club>   \n",
       "140                                        <waterloo diamonds [desc] former baseball team based in waterloo, iowa [type] baseball team>   \n",
       "152                                                                   <john mcenroe [desc] american tennis player [type] tennis player>   \n",
       "344                                                  <luke bailey [desc] australian rugby league footballer [type] rugby league player>   \n",
       "373                                    <robert wise [desc] american film director, film producer and film editor [type] trade unionist>   \n",
       "413                                          <riff raffy daffy [desc] 1948 cartoon directed by arthur davis [type] animated short film>   \n",
       "444                              <countess amalie elisabeth of hanau-münzenberg [desc] regent of hesse-kassel (1602-1651) [type] ruler>   \n",
       "693                          <1500 metres [desc] prestigious middle distance running event. \"the metric mile\" [type] sports discipline>   \n",
       "790                                                       <filip salaquarda [desc] czech racing driver [type] racing automobile driver>   \n",
       "835                                                                  <kim warwick [desc] australian tennis player [type] tennis player>   \n",
       "892                                                    <david rudisha [desc] kenyan middle distance runner [type] athletics competitor>   \n",
       "922                                                                      <ifuleave [desc] 2008 single by musiq soulchild [type] single>   \n",
       "974                                                                                   <liam donoghue [desc] irish hurler [type] hurler>   \n",
       "1041                                                                        <carrara indoor stadium [desc] sports venue [type] stadium>   \n",
       "1120                                            <giravanz kitakyushu [desc] association football club [type] association football club>   \n",
       "\n",
       "                                                                                                                          regex_match  \n",
       "60    chairman of the standing committee of the national people's congress [desc] high constitutional office of china [type] position  \n",
       "116                                     pobla de mafumet cf [desc] spanish association football club [type] association football club  \n",
       "140                                        waterloo diamonds <desc> former baseball team based in waterloo, iowa [type] baseball team  \n",
       "152                                                                   john mcenroe [desc] american tennis player [type] tennis player  \n",
       "344                                                  luke bailey [desc] australian rugby league footballer [type] rugby league player  \n",
       "373                                    robert wise [desc] american film director, film producer and film editor [type] trade unionist  \n",
       "413                                           riff raffy daffy [desc]1948 cartoon directed by arthur davis [type] animated short film  \n",
       "444                              countess amalie elisabeth of hanau-münzenberg [desc] regent of hesse-kassel (1602-1651) [type] ruler  \n",
       "693                          1500 metres [desc] prestigious middle distance running event. \"the metric mile\" [type] sports discipline  \n",
       "790                                                       filip salaquarda [desc] czech racing driver [type] racing automobile driver  \n",
       "835                                                                  kim warwick [desc] australian tennis player [type] tennis player  \n",
       "892                                                    david rudisha [desc] kenyan middle distance runner [type] athletics competitor  \n",
       "922                                                                      ifuleave [desc] 2008 single by musiq soulchild [type] single  \n",
       "974                                                                                   liam donoghue [desc] irish hurler [type] hurler  \n",
       "1041                                                                        carrara indoor stadium [desc] sports venue [type] stadium  \n",
       "1120                                            giravanz kitakyushu [desc] association football club [type] association football club  "
      ]
     },
     "execution_count": 47,
     "metadata": {},
     "output_type": "execute_result"
    }
   ],
   "source": [
    "# only loosely correct\n",
    "gg = pd.merge(truth, answers, on=['run', 'pid'], how='inner')\n",
    "gg[(gg.loosely_correct) & (~gg.correct)].drop_duplicates(subset='pid')"
   ]
  },
  {
   "cell_type": "markdown",
   "id": "cf1c8e14",
   "metadata": {},
   "source": [
    "### sequence components alignment\n",
    "### (build \"segments\" for each sequence)"
   ]
  },
  {
   "cell_type": "code",
   "execution_count": 48,
   "id": "ff3dca16",
   "metadata": {},
   "outputs": [],
   "source": [
    "def is_sublist(c, m, label):\n",
    "    if not c: return False\n",
    "    if not m or len(c) > len(m): return False\n",
    "\n",
    "    for i in range(len(m) - len(c) + 1):\n",
    "        if m[i:i+len(c)] == c:\n",
    "            return (i, i + len(c), label)\n",
    "    return False"
   ]
  },
  {
   "cell_type": "code",
   "execution_count": 49,
   "id": "433b6efb",
   "metadata": {},
   "outputs": [
    {
     "name": "stdout",
     "output_type": "stream",
     "text": [
      "1100\r"
     ]
    }
   ],
   "source": [
    "# %%time\n",
    "\n",
    "checks = []\n",
    "alls = set()\n",
    "\n",
    "for idx, p in enumerate(outlist):\n",
    "    if idx%100==0: \n",
    "        clear_output(wait=True)\n",
    "        print(idx, end='\\r')\n",
    "    \n",
    "    run = p['run']\n",
    "    pid = p['pid']\n",
    "    \n",
    "    alls.add(p['table'])\n",
    "    \n",
    "    # this is the generated sequence\n",
    "    output_seq = p['post_output_sequences'][0]\n",
    "    \n",
    "    # overall prompt sequence\n",
    "    prompt = generate_prompt(p[\"instruction\"], p[\"question\"], p[\"input\"])\n",
    "    prompt_seq = tokenizer(prompt, return_tensors=\"pt\")\n",
    "    prompt_seq = prompt_seq['input_ids'][0].numpy().tolist()\n",
    "\n",
    "    # subsequences\n",
    "    instruction_seq = tokenizer(p[\"instruction\"], return_tensors=\"pt\")\n",
    "    instruction_seq = instruction_seq['input_ids'][0].numpy().tolist()\n",
    "\n",
    "    question_seq = tokenizer(p[\"question\"], return_tensors=\"pt\")\n",
    "    question_seq = question_seq['input_ids'][0].numpy().tolist()\n",
    "\n",
    "    input_seq = tokenizer(p[\"input\"], return_tensors=\"pt\")\n",
    "    input_seq = input_seq['input_ids'][0].numpy().tolist()\n",
    "\n",
    "    postilla = \" Answer with just a candidate, selected from the provided referent entity candidates list, and nothing else. The selected candidate must be reported verbatim from the list provided as input. Each candidate in the list is enclosed between < and > and reports [DESC] and [TYPE] information.\"\n",
    "    postilla += \"\\n\\n### Response:\"\n",
    "    postilla_seq = tokenizer(postilla, return_tensors=\"pt\")\n",
    "    postilla_seq = postilla_seq['input_ids'][0].numpy().tolist()\n",
    "    \n",
    "    # subseq matching\n",
    "    if model_name.startswith('osunlp'): start_tok = 2\n",
    "    else: start_tok = 1\n",
    "    \n",
    "    instruction_match = is_sublist(instruction_seq[start_tok:], output_seq, 'instruction')\n",
    "    if not instruction_match: instruction_match = is_sublist(instruction_seq[start_tok:-1], output_seq, 'instruction')\n",
    "    input_match = is_sublist(input_seq[start_tok:], output_seq, 'input')\n",
    "    if not input_match: input_match = is_sublist(input_seq[start_tok:-1], output_seq, 'input')\n",
    "    question_match = is_sublist(question_seq[start_tok:], output_seq, 'question')\n",
    "    if not question_match: question_match = is_sublist(question_seq[start_tok:-1], output_seq, 'question')\n",
    "    postilla_match = is_sublist(postilla_seq[start_tok:], output_seq, 'postilla')\n",
    "    \n",
    "    # boundaries are inclusive\n",
    "    checks.append((run, pid, 0, instruction_match[0] - 1, 'preamble')) # preamble\n",
    "    checks.append((run, pid, instruction_match[0]) + instruction_match[1:])\n",
    "    checks.append((run, pid, instruction_match[1] + 1) + input_match[1:]) # sew to preceding\n",
    "    # checks.append((run, pid, input_match[1] + 1) + question_match[1:]) # sew to preceding\n",
    "    checks.append((run, pid, input_match[1] + 1) + (postilla_match[0]-1, 'question')) # sew to both   \n",
    "    \n",
    "    # CORRECT skipped the last token in pre_\n",
    "    checks.append((run, pid, postilla_match[0], len(prompt_seq) - 1, 'postilla')) # stretch postilla until the end of the prompt\n",
    "    checks.append((run, pid, len(prompt_seq) , len(output_seq) - 1, 'generated')) # assume everything else is generated    \n",
    "    \n",
    "    # COMPATIBILITY with crippled cache\n",
    "    # checks.append((run, pid, postilla_match[0], len(prompt_seq) - 2, 'postilla'))\n",
    "    # checks.append((run, pid, len(prompt_seq)-1 , len(output_seq) - 2, 'generated')) # assume everything else is generated    \n",
    "    \n",
    "    \n",
    "    # before caching dirty trick\n",
    "    # checks.append((run, pid, postilla_match[0] + 1, len(prompt_seq) - 1, 'postilla')) # stretch postilla until the end of the prompt\n",
    "    # checks.append((run, pid, len(prompt_seq), len(output_seq) - 1, 'generated')) # assume everything else is generated\n",
    "    \n",
    "    #print(len(prompt_seq), len(output_seq) - 1)\n"
   ]
  },
  {
   "cell_type": "code",
   "execution_count": 50,
   "id": "f34145e5",
   "metadata": {},
   "outputs": [
    {
     "data": {
      "text/plain": [
       "False"
      ]
     },
     "execution_count": 50,
     "metadata": {},
     "output_type": "execute_result"
    }
   ],
   "source": [
    "# check the checks (must be False)\n",
    "'False' in checks"
   ]
  },
  {
   "cell_type": "code",
   "execution_count": 51,
   "id": "13265c19",
   "metadata": {},
   "outputs": [],
   "source": [
    "segments = pd.DataFrame(checks, columns = ['run', 'pid', 'start', 'end', 'segment'])"
   ]
  },
  {
   "cell_type": "code",
   "execution_count": 52,
   "id": "095d0f8b",
   "metadata": {},
   "outputs": [],
   "source": [
    "segments['seq'] = segments.segment.map({'preamble': 0, 'instruction': 1, 'input': 2, 'question': 3, 'postilla': 4, 'generated': 5})"
   ]
  },
  {
   "cell_type": "code",
   "execution_count": 53,
   "id": "6f927728",
   "metadata": {},
   "outputs": [],
   "source": [
    "segments['length'] = segments.end - segments.start + 1"
   ]
  },
  {
   "cell_type": "code",
   "execution_count": 54,
   "id": "ab71d07c",
   "metadata": {},
   "outputs": [
    {
     "data": {
      "text/html": [
       "<div>\n",
       "<style scoped>\n",
       "    .dataframe tbody tr th:only-of-type {\n",
       "        vertical-align: middle;\n",
       "    }\n",
       "\n",
       "    .dataframe tbody tr th {\n",
       "        vertical-align: top;\n",
       "    }\n",
       "\n",
       "    .dataframe thead th {\n",
       "        text-align: right;\n",
       "    }\n",
       "</style>\n",
       "<table border=\"1\" class=\"dataframe\">\n",
       "  <thead>\n",
       "    <tr style=\"text-align: right;\">\n",
       "      <th></th>\n",
       "      <th>run</th>\n",
       "      <th>pid</th>\n",
       "      <th>start</th>\n",
       "      <th>end</th>\n",
       "      <th>segment</th>\n",
       "      <th>seq</th>\n",
       "      <th>length</th>\n",
       "    </tr>\n",
       "  </thead>\n",
       "  <tbody>\n",
       "    <tr>\n",
       "      <th>0</th>\n",
       "      <td>0</td>\n",
       "      <td>567</td>\n",
       "      <td>0</td>\n",
       "      <td>32</td>\n",
       "      <td>preamble</td>\n",
       "      <td>0</td>\n",
       "      <td>33</td>\n",
       "    </tr>\n",
       "    <tr>\n",
       "      <th>1</th>\n",
       "      <td>0</td>\n",
       "      <td>567</td>\n",
       "      <td>33</td>\n",
       "      <td>128</td>\n",
       "      <td>instruction</td>\n",
       "      <td>1</td>\n",
       "      <td>96</td>\n",
       "    </tr>\n",
       "    <tr>\n",
       "      <th>2</th>\n",
       "      <td>0</td>\n",
       "      <td>567</td>\n",
       "      <td>129</td>\n",
       "      <td>1582</td>\n",
       "      <td>input</td>\n",
       "      <td>2</td>\n",
       "      <td>1454</td>\n",
       "    </tr>\n",
       "    <tr>\n",
       "      <th>3</th>\n",
       "      <td>0</td>\n",
       "      <td>567</td>\n",
       "      <td>1583</td>\n",
       "      <td>2533</td>\n",
       "      <td>question</td>\n",
       "      <td>3</td>\n",
       "      <td>951</td>\n",
       "    </tr>\n",
       "    <tr>\n",
       "      <th>4</th>\n",
       "      <td>0</td>\n",
       "      <td>567</td>\n",
       "      <td>2534</td>\n",
       "      <td>2593</td>\n",
       "      <td>postilla</td>\n",
       "      <td>4</td>\n",
       "      <td>60</td>\n",
       "    </tr>\n",
       "    <tr>\n",
       "      <th>...</th>\n",
       "      <td>...</td>\n",
       "      <td>...</td>\n",
       "      <td>...</td>\n",
       "      <td>...</td>\n",
       "      <td>...</td>\n",
       "      <td>...</td>\n",
       "      <td>...</td>\n",
       "    </tr>\n",
       "    <tr>\n",
       "      <th>6835</th>\n",
       "      <td>9</td>\n",
       "      <td>190</td>\n",
       "      <td>33</td>\n",
       "      <td>128</td>\n",
       "      <td>instruction</td>\n",
       "      <td>1</td>\n",
       "      <td>96</td>\n",
       "    </tr>\n",
       "    <tr>\n",
       "      <th>6836</th>\n",
       "      <td>9</td>\n",
       "      <td>190</td>\n",
       "      <td>129</td>\n",
       "      <td>383</td>\n",
       "      <td>input</td>\n",
       "      <td>2</td>\n",
       "      <td>255</td>\n",
       "    </tr>\n",
       "    <tr>\n",
       "      <th>6837</th>\n",
       "      <td>9</td>\n",
       "      <td>190</td>\n",
       "      <td>384</td>\n",
       "      <td>1880</td>\n",
       "      <td>question</td>\n",
       "      <td>3</td>\n",
       "      <td>1497</td>\n",
       "    </tr>\n",
       "    <tr>\n",
       "      <th>6838</th>\n",
       "      <td>9</td>\n",
       "      <td>190</td>\n",
       "      <td>1881</td>\n",
       "      <td>1940</td>\n",
       "      <td>postilla</td>\n",
       "      <td>4</td>\n",
       "      <td>60</td>\n",
       "    </tr>\n",
       "    <tr>\n",
       "      <th>6839</th>\n",
       "      <td>9</td>\n",
       "      <td>190</td>\n",
       "      <td>1941</td>\n",
       "      <td>1957</td>\n",
       "      <td>generated</td>\n",
       "      <td>5</td>\n",
       "      <td>17</td>\n",
       "    </tr>\n",
       "  </tbody>\n",
       "</table>\n",
       "<p>6840 rows × 7 columns</p>\n",
       "</div>"
      ],
      "text/plain": [
       "      run  pid  start   end      segment  seq  length\n",
       "0       0  567      0    32     preamble    0      33\n",
       "1       0  567     33   128  instruction    1      96\n",
       "2       0  567    129  1582        input    2    1454\n",
       "3       0  567   1583  2533     question    3     951\n",
       "4       0  567   2534  2593     postilla    4      60\n",
       "...   ...  ...    ...   ...          ...  ...     ...\n",
       "6835    9  190     33   128  instruction    1      96\n",
       "6836    9  190    129   383        input    2     255\n",
       "6837    9  190    384  1880     question    3    1497\n",
       "6838    9  190   1881  1940     postilla    4      60\n",
       "6839    9  190   1941  1957    generated    5      17\n",
       "\n",
       "[6840 rows x 7 columns]"
      ]
     },
     "execution_count": 54,
     "metadata": {},
     "output_type": "execute_result"
    }
   ],
   "source": [
    "segments"
   ]
  },
  {
   "cell_type": "code",
   "execution_count": 79,
   "id": "de1ce071",
   "metadata": {},
   "outputs": [],
   "source": [
    "ttt = times.merge(segments[segments.segment!='generated'].groupby(['run', 'pid'], as_index=False).length.sum(),\n",
    "           on=['run', 'pid'],\n",
    "           how='left')\n",
    "\n",
    "ttt_ = times.merge(segments[segments.segment=='generated'].groupby(['run', 'pid'], as_index=False).length.sum(),\n",
    "           on=['run', 'pid'],\n",
    "           how='left')\n",
    "\n",
    "ttt_['gen10'] = ttt_['generated'] / 10"
   ]
  },
  {
   "cell_type": "code",
   "execution_count": 80,
   "id": "f4f6bc91",
   "metadata": {},
   "outputs": [
    {
     "data": {
      "text/plain": [
       "<Axes: xlabel='length', ylabel='forward'>"
      ]
     },
     "execution_count": 80,
     "metadata": {},
     "output_type": "execute_result"
    },
    {
     "data": {
      "image/png": "[encoded data removed]",
      "text/plain": [
       "<Figure size 640x480 with 1 Axes>"
      ]
     },
     "metadata": {},
     "output_type": "display_data"
    }
   ],
   "source": [
    "sns.scatterplot(\n",
    "    data=ttt,\n",
    "    x=\"length\", y=\"forward\"\n",
    ")\n",
    "\n",
    "sns.scatterplot(\n",
    "    data=ttt_,\n",
    "    x=\"length\", y=\"gen10\"\n",
    ")"
   ]
  },
  {
   "cell_type": "markdown",
   "id": "095e5986",
   "metadata": {},
   "source": [
    "### segment description"
   ]
  },
  {
   "cell_type": "code",
   "execution_count": 103,
   "id": "6ee3be0b",
   "metadata": {},
   "outputs": [
    {
     "data": {
      "text/html": [
       "<div>\n",
       "<style scoped>\n",
       "    .dataframe tbody tr th:only-of-type {\n",
       "        vertical-align: middle;\n",
       "    }\n",
       "\n",
       "    .dataframe tbody tr th {\n",
       "        vertical-align: top;\n",
       "    }\n",
       "\n",
       "    .dataframe thead th {\n",
       "        text-align: right;\n",
       "    }\n",
       "</style>\n",
       "<table border=\"1\" class=\"dataframe\">\n",
       "  <thead>\n",
       "    <tr style=\"text-align: right;\">\n",
       "      <th></th>\n",
       "      <th>segment</th>\n",
       "      <th>seq</th>\n",
       "      <th>avg_length</th>\n",
       "      <th>std_length</th>\n",
       "      <th>min_length</th>\n",
       "      <th>max_length</th>\n",
       "      <th>avg_length_rel</th>\n",
       "      <th>avg_cumlen</th>\n",
       "    </tr>\n",
       "  </thead>\n",
       "  <tbody>\n",
       "    <tr>\n",
       "      <th>4</th>\n",
       "      <td>preamble</td>\n",
       "      <td>0</td>\n",
       "      <td>33.000000</td>\n",
       "      <td>0.000000</td>\n",
       "      <td>33</td>\n",
       "      <td>33</td>\n",
       "      <td>0.015491</td>\n",
       "      <td>0.015491</td>\n",
       "    </tr>\n",
       "    <tr>\n",
       "      <th>2</th>\n",
       "      <td>instruction</td>\n",
       "      <td>1</td>\n",
       "      <td>96.000000</td>\n",
       "      <td>0.000000</td>\n",
       "      <td>96</td>\n",
       "      <td>96</td>\n",
       "      <td>0.045064</td>\n",
       "      <td>0.060554</td>\n",
       "    </tr>\n",
       "    <tr>\n",
       "      <th>1</th>\n",
       "      <td>input</td>\n",
       "      <td>2</td>\n",
       "      <td>811.043269</td>\n",
       "      <td>514.669709</td>\n",
       "      <td>135</td>\n",
       "      <td>2285</td>\n",
       "      <td>0.380713</td>\n",
       "      <td>0.441267</td>\n",
       "    </tr>\n",
       "    <tr>\n",
       "      <th>5</th>\n",
       "      <td>question</td>\n",
       "      <td>3</td>\n",
       "      <td>1104.682692</td>\n",
       "      <td>241.211100</td>\n",
       "      <td>274</td>\n",
       "      <td>2022</td>\n",
       "      <td>0.518551</td>\n",
       "      <td>0.959818</td>\n",
       "    </tr>\n",
       "    <tr>\n",
       "      <th>3</th>\n",
       "      <td>postilla</td>\n",
       "      <td>4</td>\n",
       "      <td>60.000000</td>\n",
       "      <td>0.000000</td>\n",
       "      <td>60</td>\n",
       "      <td>60</td>\n",
       "      <td>0.028165</td>\n",
       "      <td>0.987983</td>\n",
       "    </tr>\n",
       "    <tr>\n",
       "      <th>0</th>\n",
       "      <td>generated</td>\n",
       "      <td>5</td>\n",
       "      <td>25.600481</td>\n",
       "      <td>13.398344</td>\n",
       "      <td>4</td>\n",
       "      <td>64</td>\n",
       "      <td>0.012017</td>\n",
       "      <td>1.000000</td>\n",
       "    </tr>\n",
       "  </tbody>\n",
       "</table>\n",
       "</div>"
      ],
      "text/plain": [
       "       segment  seq   avg_length  std_length  min_length  max_length  \\\n",
       "4     preamble    0    33.000000    0.000000          33          33   \n",
       "2  instruction    1    96.000000    0.000000          96          96   \n",
       "1        input    2   811.043269  514.669709         135        2285   \n",
       "5     question    3  1104.682692  241.211100         274        2022   \n",
       "3     postilla    4    60.000000    0.000000          60          60   \n",
       "0    generated    5    25.600481   13.398344           4          64   \n",
       "\n",
       "   avg_length_rel  avg_cumlen  \n",
       "4        0.015491    0.015491  \n",
       "2        0.045064    0.060554  \n",
       "1        0.380713    0.441267  \n",
       "5        0.518551    0.959818  \n",
       "3        0.028165    0.987983  \n",
       "0        0.012017    1.000000  "
      ]
     },
     "execution_count": 103,
     "metadata": {},
     "output_type": "execute_result"
    }
   ],
   "source": [
    "avg_seq_widths = segments.groupby(['segment', 'seq']).length.agg(['mean', 'std', 'min', 'max']).reset_index().sort_values('seq')\n",
    "avg_seq_widths = avg_seq_widths.rename(columns = {'mean': 'avg_length', \n",
    "                                                  'std': 'std_length', \n",
    "                                                  'min': 'min_length',\n",
    "                                                  'max': 'max_length'})\n",
    "avg_seq_widths['avg_length_rel'] = avg_seq_widths['avg_length'] / avg_seq_widths['avg_length'].sum()\n",
    "avg_seq_widths['avg_cumlen'] = avg_seq_widths['avg_length_rel'].cumsum() \n",
    "avg_seq_widths"
   ]
  },
  {
   "cell_type": "code",
   "execution_count": 104,
   "id": "f172a596",
   "metadata": {},
   "outputs": [
    {
     "data": {
      "text/plain": [
       "<Axes: xlabel='length', ylabel='Count'>"
      ]
     },
     "execution_count": 104,
     "metadata": {},
     "output_type": "execute_result"
    },
    {
     "data": {
      "image/png": "[encoded data removed]",
      "text/plain": [
       "<Figure size 640x480 with 1 Axes>"
      ]
     },
     "metadata": {},
     "output_type": "display_data"
    }
   ],
   "source": [
    "sns.histplot(segments[segments.segment=='input'], x='length', hue='segment', multiple='dodge', binwidth=100)"
   ]
  },
  {
   "cell_type": "code",
   "execution_count": 105,
   "id": "fa291f2f",
   "metadata": {},
   "outputs": [
    {
     "data": {
      "image/png": "[encoded data removed]",
      "text/plain": [
       "<Figure size 700x600 with 1 Axes>"
      ]
     },
     "metadata": {},
     "output_type": "display_data"
    }
   ],
   "source": [
    "import seaborn as sns\n",
    "import matplotlib.pyplot as plt\n",
    "\n",
    "from palettable.cartocolors.qualitative import Prism_10, Bold_10\n",
    "palette = Prism_10.mpl_colors \n",
    "\n",
    "sns.set_theme(style=\"ticks\")\n",
    "\n",
    "f, ax = plt.subplots(figsize=(7, 6))\n",
    "\n",
    "sns.histplot(segments[segments.segment=='input'], x='length', color=Prism_10.mpl_colors[3], multiple='dodge', binwidth=100)\n",
    "\n",
    "ax.yaxis.grid(True)\n",
    "\n",
    "plt.show()"
   ]
  },
  {
   "cell_type": "code",
   "execution_count": 106,
   "id": "190bb3c2",
   "metadata": {},
   "outputs": [],
   "source": [
    "# Define background regions [(start, end, color, label)] based on the cumulative sections spans (for the first viz above)\n",
    "\n",
    "from palettable.cartocolors.qualitative import Prism_10, Bold_10\n",
    "palette = Prism_10.mpl_colors \n",
    "\n",
    "myl = avg_seq_widths.avg_cumlen.to_list()\n",
    "sections = ['preamble', 'instruction', 'input', 'question', 'postilla', 'generated']\n",
    "\n",
    "\n",
    "first = (0., myl[0], palette[0], sections[0])\n",
    "background_regions = [first]\n",
    "\n",
    "for z1, z2, l, i in zip(myl, myl[1:], sections[1:], range(len(myl))):\n",
    "    background_regions.append((z1,z2, palette[i+1], l))"
   ]
  },
  {
   "cell_type": "code",
   "execution_count": 107,
   "id": "e05209ab",
   "metadata": {},
   "outputs": [
    {
     "data": {
      "image/png": "[encoded data removed]",
      "text/plain": [
       "<Figure size 700x600 with 1 Axes>"
      ]
     },
     "metadata": {},
     "output_type": "display_data"
    }
   ],
   "source": [
    "import seaborn as sns\n",
    "import matplotlib.pyplot as plt\n",
    "\n",
    "sns.set_theme(style=\"ticks\")\n",
    "\n",
    "# Initialize the figure with a logarithmic x axis\n",
    "f, ax = plt.subplots(figsize=(7, 6))\n",
    "ax.set_xscale(\"log\")\n",
    "\n",
    "# Plot the orbital period with horizontal boxes\n",
    "sns.boxplot(\n",
    "    segments, x=\"length\", y=\"segment\", hue=\"segment\",\n",
    "    whis=[0, 100], palette=[b[2] for b in background_regions]\n",
    ")\n",
    "\n",
    "for patch in ax.patches:\n",
    "    r, g, b, a = patch.get_facecolor()\n",
    "    patch.set_facecolor((r, g, b, .3))\n",
    "\n",
    "ax.xaxis.grid(True)\n",
    "ax.set(ylabel=\"\")\n",
    "\n",
    "plt.show()"
   ]
  },
  {
   "cell_type": "code",
   "execution_count": 108,
   "id": "92bb87ea",
   "metadata": {},
   "outputs": [],
   "source": [
    "# review truth\n",
    "\n",
    "answers_m = answers.merge(truth[['run', 'pid', 'correct', 'loosely_correct']], on=['run','pid'])\n",
    "answers_m['original_answer'] = answers_m.answer\n",
    "answers_m.loc[~answers_m.regex_match.isnull(), 'answer'] = answers_m['regex_match']\n",
    "\n",
    "truth_m = truth.copy()\n",
    "truth_m.correct = truth_m.correct | truth_m.loosely_correct"
   ]
  },
  {
   "cell_type": "code",
   "execution_count": 109,
   "id": "63c9ccf0",
   "metadata": {},
   "outputs": [],
   "source": [
    "myoutdict = {'truth': truth_m, 'segments': segments, 'answers': answers_m, 'model_name': model_name}\n",
    "\n",
    "import pickle\n",
    "\n",
    "with open(prefix + '/preprocessed.' + folder + '.pickle', 'wb') as handle:\n",
    "    pickle.dump(myoutdict, handle, protocol=pickle.HIGHEST_PROTOCOL)\n"
   ]
  }
 ],
 "metadata": {
  "kernelspec": {
   "display_name": "doubt",
   "language": "python",
   "name": "doubt"
  },
  "language_info": {
   "codemirror_mode": {
    "name": "ipython",
    "version": 3
   },
   "file_extension": ".py",
   "mimetype": "text/x-python",
   "name": "python",
   "nbconvert_exporter": "python",
   "pygments_lexer": "ipython3",
   "version": "3.8.10"
  }
 },
 "nbformat": 4,
 "nbformat_minor": 5
}

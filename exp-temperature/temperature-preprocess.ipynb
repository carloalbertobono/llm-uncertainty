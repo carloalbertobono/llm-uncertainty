{
 "cells": [
  {
   "cell_type": "code",
   "execution_count": 68,
   "id": "95c41c59",
   "metadata": {
    "tags": [
     "parameters"
    ]
   },
   "outputs": [],
   "source": [
    "inpath = 'tablellama/output_temperature_0.1/'"
   ]
  },
  {
   "cell_type": "code",
   "execution_count": null,
   "id": "bad5ba0b",
   "metadata": {},
   "outputs": [],
   "source": [
    "# for folder in $(ls -d tablellama/*/); do papermill temperature-preprocess.ipynb -p inpath $folder tmp.json; don"
   ]
  },
  {
   "cell_type": "code",
   "execution_count": 71,
   "id": "da09bd3d",
   "metadata": {},
   "outputs": [],
   "source": [
    "prefix, folder = inpath.split('/')[:2]"
   ]
  },
  {
   "cell_type": "code",
   "execution_count": 1,
   "id": "7139c697",
   "metadata": {},
   "outputs": [],
   "source": [
    "import torch\n",
    "import torch.nn.functional as F\n",
    "import transformers\n",
    "from transformers import AutoTokenizer, AutoModelForCausalLM\n",
    "import json\n",
    "from tqdm import tqdm\n",
    "import gc\n",
    "import pandas as pd\n",
    "import seaborn as sns\n",
    "import pickle\n",
    "import math\n",
    "from IPython.display import clear_output\n",
    "import numpy as np\n",
    "import re\n",
    "import os\n",
    "\n",
    "sns.set_context(\"notebook\", font_scale=1.25)\n",
    " \n",
    "file_path = \"turl_test_2k_prompts_50_unique.jsonl\"\n",
    "device = torch.device(\"mps\")"
   ]
  },
  {
   "cell_type": "code",
   "execution_count": 2,
   "id": "be22a379",
   "metadata": {},
   "outputs": [],
   "source": [
    "# https://github.com/ipython-contrib/jupyter_contrib_nbextensions/pull/1663"
   ]
  },
  {
   "cell_type": "code",
   "execution_count": 14,
   "id": "99e5f44c",
   "metadata": {},
   "outputs": [],
   "source": [
    "from io import BytesIO\n",
    "\n",
    "def fix(map_loc):\n",
    "    # Closure rather than a lambda to preserve map_loc \n",
    "    return lambda b: torch.load(BytesIO(b), map_location=map_loc)\n",
    "\n",
    "class MappedUnpickler(pickle.Unpickler):\n",
    "    # https://github.com/pytorch/pytorch/issues/16797#issuecomment-633423219\n",
    "\n",
    "    def __init__(self, *args, map_location='cpu', **kwargs):\n",
    "        self._map_location = map_location\n",
    "        super().__init__(*args, **kwargs)\n",
    "\n",
    "    def find_class(self, module, name):\n",
    "        if module == 'torch.storage' and name == '_load_from_bytes':\n",
    "            return fix(self._map_location)\n",
    "        else: \n",
    "            return super().find_class(module, name)\n",
    "\n",
    "def mapped_loads(s, map_location='cpu'):\n",
    "    bs = BytesIO(s)\n",
    "    unpickler = MappedUnpickler(bs, map_location=map_location)\n",
    "    return unpickler.load()"
   ]
  },
  {
   "cell_type": "code",
   "execution_count": 3,
   "id": "6ae2e7dc",
   "metadata": {},
   "outputs": [],
   "source": [
    "# prompt formatting\n",
    "\n",
    "PROMPT_DICT = {\n",
    "    \"prompt_input\": (\n",
    "        \"Below is an instruction that describes a task, paired with an input that provides further context. \"\n",
    "        \"Write a response that appropriately completes the request.\\n\\n\"\n",
    "        \"### Instruction:\\n{instruction}\\n\\n### Input:\\n{input_seg}\\n\\n### Question:\\n{question}\\n\\n### Response:\"\n",
    "    ),\n",
    "    \"prompt_no_input\": (\n",
    "        \"Below is an instruction that describes a task. \"\n",
    "        \"Write a response that appropriately completes the request.\\n\\n\"\n",
    "        \"### Instruction:\\n{instruction}\\n\\n### Response:\"\n",
    "    ),\n",
    "}\n",
    "\n",
    "def generate_prompt(instruction, question, input_seg=None):\n",
    "    question += \" Answer with just a candidate, selected from the provided referent entity candidates list, and nothing else. The selected candidate must be reported verbatim from the list provided as input. Each candidate in the list is enclosed between < and > and reports [DESC] and [TYPE] information.\"\n",
    "    if input_seg:\n",
    "        return PROMPT_DICT[\"prompt_input\"].format(instruction=instruction, input_seg=input_seg, question=question)\n",
    "    else:\n",
    "        return PROMPT_DICT[\"prompt_no_input\"].format(instruction=instruction)"
   ]
  },
  {
   "cell_type": "code",
   "execution_count": 5,
   "id": "36d31bb5",
   "metadata": {},
   "outputs": [],
   "source": [
    "# load questions (to be removed)\n",
    "\n",
    "with open(file_path, \"r\", encoding=\"utf-8\") as f:\n",
    "    prompts = [json.loads(line) for line in f]"
   ]
  },
  {
   "cell_type": "code",
   "execution_count": 6,
   "id": "637fcf41",
   "metadata": {},
   "outputs": [
    {
     "data": {
      "text/plain": [
       "'tablellama/output_temperature_0.1'"
      ]
     },
     "execution_count": 6,
     "metadata": {},
     "output_type": "execute_result"
    }
   ],
   "source": [
    "os.path.join(prefix, folder)"
   ]
  },
  {
   "cell_type": "code",
   "execution_count": 22,
   "id": "74cc08f0",
   "metadata": {},
   "outputs": [
    {
     "name": "stderr",
     "output_type": "stream",
     "text": [
      "/var/folders/kn/n2krf1q970d6cfl43cjq73s80000gn/T/ipykernel_91881/3807410893.py:5: FutureWarning: You are using `torch.load` with `weights_only=False` (the current default value), which uses the default pickle module implicitly. It is possible to construct malicious pickle data which will execute arbitrary code during unpickling (See https://github.com/pytorch/pytorch/blob/main/SECURITY.md#untrusted-models for more details). In a future release, the default value for `weights_only` will be flipped to `True`. This limits the functions that could be executed during unpickling. Arbitrary objects will no longer be allowed to be loaded via this mode unless they are explicitly allowlisted by the user via `torch.serialization.add_safe_globals`. We recommend you start setting `weights_only=True` for any use case where you don't have full control of the loaded file. Please open an issue on GitHub for any issues related to this experimental feature.\n",
      "  return lambda b: torch.load(BytesIO(b), map_location=map_loc)\n"
     ]
    }
   ],
   "source": [
    "import os\n",
    "import pickle\n",
    "from copy import copy, deepcopy\n",
    "\n",
    "pre_keys = ['pre_output_proba_topn',\n",
    " 'pre_output_proba_topk',\n",
    " 'pre_output_true_entropies',\n",
    " 'pre_output_layers_kl']\n",
    "\n",
    "run = 0\n",
    "outlist = []\n",
    "\n",
    "for pid, single_file in enumerate(os.listdir(os.path.join(prefix, folder))):\n",
    "    if single_file.startswith('_') or single_file.startswith('.'): continue\n",
    "    with open(os.path.join(prefix, folder, single_file), 'rb') as handle:        \n",
    "        item = mapped_loads(handle.read())\n",
    "        for i, _ in enumerate(item[\"post_output_sequences\"]):\n",
    "                \n",
    "            item_ = copy(item)\n",
    "            item_[\"post_output_sequences\"] = item[\"post_output_sequences\"][i]\n",
    "                \n",
    "            item_[\"transition_scores_s\"] = item[\"transition_scores_s\"][i]\n",
    "            item_[\"transition_scores_l\"] = item[\"transition_scores_l\"][i]\n",
    "\n",
    "            item_[\"run\"] = run + i\n",
    "                \n",
    "            outlist.append(item_)\n",
    "    "
   ]
  },
  {
   "cell_type": "code",
   "execution_count": 23,
   "id": "14f24a24",
   "metadata": {},
   "outputs": [
    {
     "name": "stdout",
     "output_type": "stream",
     "text": [
      "osunlp/TableLlama\n"
     ]
    }
   ],
   "source": [
    "# prefix, model_name = './tablellama-complete/', \"osunlp/TableLlama\"\n",
    "# prefix, model_name = './gemma-9b-complete/', \"google/gemma-2-9b-it\"\n",
    "\n",
    "model_name = item['args']['model_name'] # get model from last processed item\n",
    "print(model_name)\n",
    "\n",
    "if model_name.startswith(\"osunlp\"):\n",
    "    config = transformers.AutoConfig.from_pretrained(model_name)\n",
    "\n",
    "    orig_ctx_len = getattr(config, \"max_position_embeddings\", None)\n",
    "    context_size = 8192\n",
    "    if orig_ctx_len and context_size > orig_ctx_len:\n",
    "            scaling_factor = float(math.ceil(context_size / orig_ctx_len))\n",
    "            config.rope_scaling = {\"type\": \"linear\", \"factor\": scaling_factor}\n",
    "\n",
    "    tokenizer = AutoTokenizer.from_pretrained(model_name, \n",
    "                                              model_max_length=(context_size if context_size > orig_ctx_len else orig_ctx_len),\n",
    "                                              padding_side=\"left\", \n",
    "                                              use_fast=False)\n",
    "\n",
    "else:\n",
    "    config = transformers.AutoConfig.from_pretrained(model_name)\n",
    "    tokenizer = AutoTokenizer.from_pretrained(model_name)"
   ]
  },
  {
   "cell_type": "markdown",
   "id": "fd3c5010",
   "metadata": {},
   "source": [
    "### check output against ground truth"
   ]
  },
  {
   "cell_type": "code",
   "execution_count": 24,
   "id": "d955f13a",
   "metadata": {},
   "outputs": [
    {
     "name": "stdout",
     "output_type": "stream",
     "text": [
      "CPU times: user 13.6 s, sys: 604 ms, total: 14.2 s\n",
      "Wall time: 16 s\n"
     ]
    }
   ],
   "source": [
    "%%time\n",
    "\n",
    "# show results\n",
    "\n",
    "c=0\n",
    "t=0\n",
    "h=0\n",
    "\n",
    "truth = []\n",
    "outseq = []\n",
    "\n",
    "pdbg = None\n",
    "\n",
    "for idx, p in enumerate(outlist):\n",
    "    \n",
    "    if idx%100==0: \n",
    "        clear_output(wait=True)\n",
    "        print(idx, end='\\r')\n",
    "    c+=1\n",
    "    pdbg = p\n",
    "    \n",
    "    # in\n",
    "    prompt = generate_prompt(p[\"instruction\"], p[\"question\"], p[\"input\"])\n",
    "    inputs = tokenizer(prompt, return_tensors=\"pt\").to(device)\n",
    "        \n",
    "    # computed\n",
    "    # post_output_scores = p['post_output_scores']\n",
    "    post_output_sequences = p['post_output_sequences']\n",
    "    \n",
    "    # bases\n",
    "    baseid = len(inputs[\"input_ids\"][0]) + 1\n",
    "    endid = len(post_output_sequences[0])\n",
    "    # lookout\n",
    "    generated_ids = post_output_sequences\n",
    "    generated_text = tokenizer.decode(generated_ids[0][baseid:endid], skip_special_tokens=True)\n",
    "    # print\n",
    "    # print(generated_text)\n",
    "    # print(p['output'])\n",
    "    # print('\\n')\n",
    "    #test\n",
    "    \n",
    "    # replacement due to tablellama \"hallucinations\"\n",
    "    a = generated_text.replace('[DESCRIPTION]', '[DESC]').lower().strip()\n",
    "    a = \" \".join(a.split(\" \"))\n",
    "    if len(a) < 1: \n",
    "        print(\"SOMETHING WENT HORRIBLY WRONG, GIVING UP\")\n",
    "        break\n",
    "\n",
    "    b = p['output'].lower().strip()\n",
    "    b = \" \".join(b.split(\" \"))\n",
    "    # correct\n",
    "    correct = False\n",
    "    hallucinated = False\n",
    "    if ((a in b) or (b in a) or (b.startswith(a)) or (a.startswith(b))) and (('desc' in a) and ('type' in a)): \n",
    "        correct = True\n",
    "        t+=1\n",
    "    # hallucinated\n",
    "    elif a not in prompt.lower().strip(): \n",
    "        h+=1\n",
    "        hallucinated = True\n",
    "    # incorrect\n",
    "    else:\n",
    "        pass\n",
    "        #print(generated_text)\n",
    "        #print(p['output'])\n",
    "        #print('\\n')\n",
    "        # print(prompt)\n",
    "        # print('\\n')\n",
    "        \n",
    "    # loose correctness\n",
    "    _, three_ = b.split('[type]')\n",
    "    one_, two_ = _.split('[desc]')\n",
    "    one_ = one_.replace('<', '').replace('>', '').replace(']', '').replace('[', '').strip()\n",
    "    two_ = two_.replace('<', '').replace('>', '').replace(']', '').replace('[', '').strip()\n",
    "    three_ = three_.replace('<', '').replace('>', '').replace(']', '').replace('[', '').strip()\n",
    "    \n",
    "    loosely_correct = False\n",
    "    matched_string = None\n",
    "    try:                  \n",
    "        regex = re.compile(r'^.{0,2}(' + re.escape(one_) + r'.{0,8}' + re.escape(two_) + r'.{0,8}' + re.escape(three_) + r')')\n",
    "        match = regex.search(a)\n",
    "        if match: \n",
    "            loosely_correct = True\n",
    "            matched_string = match.group(1)\n",
    "    except Exception as e:\n",
    "        pass# if it fails, default\n",
    "\n",
    "    truth.append((p['run'], p['pid'], correct, hallucinated, loosely_correct))\n",
    "    outseq.append((p['run'], p['pid'], a, post_output_sequences, b, matched_string))\n"
   ]
  },
  {
   "cell_type": "code",
   "execution_count": 25,
   "id": "827f827e",
   "metadata": {},
   "outputs": [
    {
     "data": {
      "text/plain": [
       "(3858, 3878)"
      ]
     },
     "execution_count": 25,
     "metadata": {},
     "output_type": "execute_result"
    }
   ],
   "source": [
    "len(inputs.input_ids[0]), len(post_output_sequences[0])"
   ]
  },
  {
   "cell_type": "code",
   "execution_count": 26,
   "id": "659b7e51",
   "metadata": {},
   "outputs": [
    {
     "data": {
      "text/plain": [
       "(1727, 0, 2080)"
      ]
     },
     "execution_count": 26,
     "metadata": {},
     "output_type": "execute_result"
    }
   ],
   "source": [
    "# true, hallucinated, counted\n",
    "# (3702, 26, 5120) tablellama old\n",
    "# (11190, 880, 14770) gemma 9b\n",
    "t, h, c"
   ]
  },
  {
   "cell_type": "code",
   "execution_count": 27,
   "id": "cbc4c7f4",
   "metadata": {},
   "outputs": [
    {
     "data": {
      "text/plain": [
       "(0.8302884615384616, 0.0)"
      ]
     },
     "execution_count": 27,
     "metadata": {},
     "output_type": "execute_result"
    }
   ],
   "source": [
    "# correct answers rate, hallucinated answers rate\n",
    "t/c, h/c"
   ]
  },
  {
   "cell_type": "code",
   "execution_count": 28,
   "id": "938692fb",
   "metadata": {},
   "outputs": [],
   "source": [
    "truth = pd.DataFrame(truth, columns=['run', 'pid', 'correct', 'hallucinated', 'loosely_correct'])"
   ]
  },
  {
   "cell_type": "code",
   "execution_count": 29,
   "id": "b2092d2d",
   "metadata": {},
   "outputs": [],
   "source": [
    "corec = truth.groupby('pid').correct.mean()"
   ]
  },
  {
   "cell_type": "code",
   "execution_count": 30,
   "id": "3e48cac7",
   "metadata": {},
   "outputs": [
    {
     "data": {
      "image/png": "[encoded data removed]",
      "text/plain": [
       "<Figure size 700x600 with 1 Axes>"
      ]
     },
     "metadata": {},
     "output_type": "display_data"
    }
   ],
   "source": [
    "import seaborn as sns\n",
    "import matplotlib.pyplot as plt\n",
    "\n",
    "from palettable.cartocolors.qualitative import Prism_10, Bold_10\n",
    "palette = Prism_10.mpl_colors \n",
    "\n",
    "sns.set_theme(style=\"ticks\")\n",
    "\n",
    "f, ax = plt.subplots(figsize=(7, 6))\n",
    "\n",
    "sns.histplot(corec, bins=corec.nunique(), color=Prism_10.mpl_colors[5])\n",
    "\n",
    "ax.yaxis.grid(True)\n",
    "\n",
    "plt.show()"
   ]
  },
  {
   "cell_type": "code",
   "execution_count": 31,
   "id": "e7c62a75",
   "metadata": {},
   "outputs": [
    {
     "data": {
      "text/plain": [
       "0.9471153846153846"
      ]
     },
     "execution_count": 31,
     "metadata": {},
     "output_type": "execute_result"
    }
   ],
   "source": [
    "# probability mass for \"convinced\" prediction\n",
    "(np.isclose(corec, 0.) | np.isclose(corec, 1.)).sum() / corec.shape[0]"
   ]
  },
  {
   "cell_type": "code",
   "execution_count": 32,
   "id": "77b3b4a3",
   "metadata": {},
   "outputs": [
    {
     "data": {
      "text/plain": [
       "0.052884615384615384"
      ]
     },
     "execution_count": 32,
     "metadata": {},
     "output_type": "execute_result"
    }
   ],
   "source": [
    "# how many \"changed at least once\"\n",
    "((corec>0.) & (corec<1.)).sum() / corec.shape[0]"
   ]
  },
  {
   "cell_type": "code",
   "execution_count": 33,
   "id": "91196aac",
   "metadata": {},
   "outputs": [
    {
     "data": {
      "text/plain": [
       "0.052884615384615384"
      ]
     },
     "execution_count": 33,
     "metadata": {},
     "output_type": "execute_result"
    }
   ],
   "source": [
    "# again but without hallucinated\n",
    "\n",
    "truth_ = truth[(~truth.hallucinated)].copy()\n",
    "truth_['true_err'] = truth_.correct\n",
    "\n",
    "corec_ = truth_.groupby('pid').true_err.mean()\n",
    "\n",
    "((corec_>0.) & (corec_<1.)).sum() / corec_.shape[0]"
   ]
  },
  {
   "cell_type": "code",
   "execution_count": 34,
   "id": "9541cf3b",
   "metadata": {},
   "outputs": [
    {
     "data": {
      "image/png": "[encoded data removed]",
      "text/plain": [
       "<Figure size 700x600 with 1 Axes>"
      ]
     },
     "metadata": {},
     "output_type": "display_data"
    }
   ],
   "source": [
    "# loosely correct\n",
    "\n",
    "import seaborn as sns\n",
    "import matplotlib.pyplot as plt\n",
    "\n",
    "from palettable.cartocolors.qualitative import Prism_10, Bold_10\n",
    "palette = Prism_10.mpl_colors \n",
    "\n",
    "sns.set_theme(style=\"ticks\")\n",
    "\n",
    "corek = truth.groupby('pid').loosely_correct.mean()\n",
    "\n",
    "f, ax = plt.subplots(figsize=(7, 6))\n",
    "\n",
    "sns.histplot(corek, bins=corek.nunique(), color=Prism_10.mpl_colors[5])\n",
    "\n",
    "ax.yaxis.grid(True)\n",
    "\n",
    "plt.show()"
   ]
  },
  {
   "cell_type": "code",
   "execution_count": 35,
   "id": "5686a908",
   "metadata": {},
   "outputs": [
    {
     "data": {
      "image/png": "[encoded data removed]",
      "text/plain": [
       "<Figure size 700x600 with 1 Axes>"
      ]
     },
     "metadata": {},
     "output_type": "display_data"
    }
   ],
   "source": [
    "import seaborn as sns\n",
    "import matplotlib.pyplot as plt\n",
    "\n",
    "from palettable.cartocolors.qualitative import Prism_10, Bold_10\n",
    "palette = Prism_10.mpl_colors \n",
    "\n",
    "sns.set_theme(style=\"ticks\")\n",
    "\n",
    "f, ax = plt.subplots(figsize=(7, 6))\n",
    "\n",
    "sns.histplot(truth.groupby('pid').hallucinated.mean(), bins=corec.nunique(), color=Prism_10.mpl_colors[8])\n",
    "\n",
    "ax.yaxis.grid(True)\n",
    "\n",
    "plt.show()"
   ]
  },
  {
   "cell_type": "code",
   "execution_count": 36,
   "id": "967cf734",
   "metadata": {},
   "outputs": [
    {
     "data": {
      "text/plain": [
       "0.0"
      ]
     },
     "execution_count": 36,
     "metadata": {},
     "output_type": "execute_result"
    }
   ],
   "source": [
    "# how many hallucinated\n",
    "(truth.groupby('pid').hallucinated.mean()>0.).sum() / truth.pid.nunique()"
   ]
  },
  {
   "cell_type": "code",
   "execution_count": 37,
   "id": "f0929546",
   "metadata": {},
   "outputs": [
    {
     "data": {
      "image/png": "[encoded data removed]",
      "text/plain": [
       "<Figure size 640x480 with 2 Axes>"
      ]
     },
     "metadata": {},
     "output_type": "display_data"
    }
   ],
   "source": [
    "contingency = pd.crosstab(truth.correct, truth.hallucinated)\n",
    "\n",
    "sns.heatmap(contingency, annot=True, fmt=\"d\", cmap=\"YlOrRd\")\n",
    "\n",
    "plt.title(\"Correct vs Hallucinated\")\n",
    "plt.xlabel(\"Hallucinated\")\n",
    "plt.ylabel(\"Correct\")\n",
    "plt.show()"
   ]
  },
  {
   "cell_type": "code",
   "execution_count": 38,
   "id": "7758129e",
   "metadata": {},
   "outputs": [
    {
     "data": {
      "image/png": "[encoded data removed]",
      "text/plain": [
       "<Figure size 640x480 with 2 Axes>"
      ]
     },
     "metadata": {},
     "output_type": "display_data"
    }
   ],
   "source": [
    "contingency = pd.crosstab(truth.correct, truth.loosely_correct)\n",
    "\n",
    "sns.heatmap(contingency, annot=True, fmt=\"d\", cmap=\"YlOrRd\")\n",
    "\n",
    "plt.title(\"Correct vs Hallucinated\")\n",
    "plt.xlabel(\"Loosely correct\")\n",
    "plt.ylabel(\"Correct\")\n",
    "plt.show()"
   ]
  },
  {
   "cell_type": "code",
   "execution_count": 40,
   "id": "ef3c166a",
   "metadata": {},
   "outputs": [],
   "source": [
    "# answers\n",
    "answers = pd.DataFrame(outseq, columns=['run', 'pid', 'answer', 'answer_seq', 'right_answer', 'regex_match'])\n",
    "answers.answer = answers.answer.str[:-1]"
   ]
  },
  {
   "cell_type": "code",
   "execution_count": 41,
   "id": "5cbb4959",
   "metadata": {},
   "outputs": [
    {
     "data": {
      "text/plain": [
       "(1, 2)"
      ]
     },
     "execution_count": 41,
     "metadata": {},
     "output_type": "execute_result"
    }
   ],
   "source": [
    "# min and max number of unique answers\n",
    "answers.groupby('pid').answer.nunique().min(), answers.groupby('pid').answer.nunique().max()"
   ]
  },
  {
   "cell_type": "code",
   "execution_count": 42,
   "id": "9efca3f0",
   "metadata": {},
   "outputs": [
    {
     "data": {
      "text/html": [
       "<div>\n",
       "<style scoped>\n",
       "    .dataframe tbody tr th:only-of-type {\n",
       "        vertical-align: middle;\n",
       "    }\n",
       "\n",
       "    .dataframe tbody tr th {\n",
       "        vertical-align: top;\n",
       "    }\n",
       "\n",
       "    .dataframe thead th {\n",
       "        text-align: right;\n",
       "    }\n",
       "</style>\n",
       "<table border=\"1\" class=\"dataframe\">\n",
       "  <thead>\n",
       "    <tr style=\"text-align: right;\">\n",
       "      <th></th>\n",
       "      <th>run</th>\n",
       "      <th>pid</th>\n",
       "      <th>answer</th>\n",
       "      <th>answer_seq</th>\n",
       "      <th>right_answer</th>\n",
       "      <th>regex_match</th>\n",
       "    </tr>\n",
       "  </thead>\n",
       "  <tbody>\n",
       "    <tr>\n",
       "      <th>0</th>\n",
       "      <td>0</td>\n",
       "      <td>872</td>\n",
       "      <td>ifuleave [desc] 2008 single by musiq soulchild...</td>\n",
       "      <td>[[1, 13866, 338, 385, 15278, 393, 16612, 263, ...</td>\n",
       "      <td>&lt;ifuleave [desc] 2008 single by musiq soulchil...</td>\n",
       "      <td>ifuleave [desc] 2008 single by musiq soulchild...</td>\n",
       "    </tr>\n",
       "    <tr>\n",
       "      <th>1</th>\n",
       "      <td>1</td>\n",
       "      <td>872</td>\n",
       "      <td>ifuleave [desc] 2008 single by musiq soulchild...</td>\n",
       "      <td>[[1, 13866, 338, 385, 15278, 393, 16612, 263, ...</td>\n",
       "      <td>&lt;ifuleave [desc] 2008 single by musiq soulchil...</td>\n",
       "      <td>ifuleave [desc] 2008 single by musiq soulchild...</td>\n",
       "    </tr>\n",
       "    <tr>\n",
       "      <th>2</th>\n",
       "      <td>2</td>\n",
       "      <td>872</td>\n",
       "      <td>ifuleave [desc] 2008 single by musiq soulchild...</td>\n",
       "      <td>[[1, 13866, 338, 385, 15278, 393, 16612, 263, ...</td>\n",
       "      <td>&lt;ifuleave [desc] 2008 single by musiq soulchil...</td>\n",
       "      <td>ifuleave [desc] 2008 single by musiq soulchild...</td>\n",
       "    </tr>\n",
       "    <tr>\n",
       "      <th>3</th>\n",
       "      <td>3</td>\n",
       "      <td>872</td>\n",
       "      <td>ifuleave [desc] 2008 single by musiq soulchild...</td>\n",
       "      <td>[[1, 13866, 338, 385, 15278, 393, 16612, 263, ...</td>\n",
       "      <td>&lt;ifuleave [desc] 2008 single by musiq soulchil...</td>\n",
       "      <td>ifuleave [desc] 2008 single by musiq soulchild...</td>\n",
       "    </tr>\n",
       "    <tr>\n",
       "      <th>4</th>\n",
       "      <td>4</td>\n",
       "      <td>872</td>\n",
       "      <td>ifuleave [desc] 2008 single by musiq soulchild...</td>\n",
       "      <td>[[1, 13866, 338, 385, 15278, 393, 16612, 263, ...</td>\n",
       "      <td>&lt;ifuleave [desc] 2008 single by musiq soulchil...</td>\n",
       "      <td>ifuleave [desc] 2008 single by musiq soulchild...</td>\n",
       "    </tr>\n",
       "    <tr>\n",
       "      <th>...</th>\n",
       "      <td>...</td>\n",
       "      <td>...</td>\n",
       "      <td>...</td>\n",
       "      <td>...</td>\n",
       "      <td>...</td>\n",
       "      <td>...</td>\n",
       "    </tr>\n",
       "    <tr>\n",
       "      <th>2075</th>\n",
       "      <td>5</td>\n",
       "      <td>1579</td>\n",
       "      <td>major general [desc] military rank of the unit...</td>\n",
       "      <td>[[1, 13866, 338, 385, 15278, 393, 16612, 263, ...</td>\n",
       "      <td>&lt;major general [desc] military rank [type] mil...</td>\n",
       "      <td>None</td>\n",
       "    </tr>\n",
       "    <tr>\n",
       "      <th>2076</th>\n",
       "      <td>6</td>\n",
       "      <td>1579</td>\n",
       "      <td>major general [desc] military rank of the unit...</td>\n",
       "      <td>[[1, 13866, 338, 385, 15278, 393, 16612, 263, ...</td>\n",
       "      <td>&lt;major general [desc] military rank [type] mil...</td>\n",
       "      <td>None</td>\n",
       "    </tr>\n",
       "    <tr>\n",
       "      <th>2077</th>\n",
       "      <td>7</td>\n",
       "      <td>1579</td>\n",
       "      <td>major general [desc] military rank of the unit...</td>\n",
       "      <td>[[1, 13866, 338, 385, 15278, 393, 16612, 263, ...</td>\n",
       "      <td>&lt;major general [desc] military rank [type] mil...</td>\n",
       "      <td>None</td>\n",
       "    </tr>\n",
       "    <tr>\n",
       "      <th>2078</th>\n",
       "      <td>8</td>\n",
       "      <td>1579</td>\n",
       "      <td>major general [desc] military rank of the unit...</td>\n",
       "      <td>[[1, 13866, 338, 385, 15278, 393, 16612, 263, ...</td>\n",
       "      <td>&lt;major general [desc] military rank [type] mil...</td>\n",
       "      <td>None</td>\n",
       "    </tr>\n",
       "    <tr>\n",
       "      <th>2079</th>\n",
       "      <td>9</td>\n",
       "      <td>1579</td>\n",
       "      <td>major general [desc] military rank of the unit...</td>\n",
       "      <td>[[1, 13866, 338, 385, 15278, 393, 16612, 263, ...</td>\n",
       "      <td>&lt;major general [desc] military rank [type] mil...</td>\n",
       "      <td>None</td>\n",
       "    </tr>\n",
       "  </tbody>\n",
       "</table>\n",
       "<p>2080 rows × 6 columns</p>\n",
       "</div>"
      ],
      "text/plain": [
       "      run   pid                                             answer  \\\n",
       "0       0   872  ifuleave [desc] 2008 single by musiq soulchild...   \n",
       "1       1   872  ifuleave [desc] 2008 single by musiq soulchild...   \n",
       "2       2   872  ifuleave [desc] 2008 single by musiq soulchild...   \n",
       "3       3   872  ifuleave [desc] 2008 single by musiq soulchild...   \n",
       "4       4   872  ifuleave [desc] 2008 single by musiq soulchild...   \n",
       "...   ...   ...                                                ...   \n",
       "2075    5  1579  major general [desc] military rank of the unit...   \n",
       "2076    6  1579  major general [desc] military rank of the unit...   \n",
       "2077    7  1579  major general [desc] military rank of the unit...   \n",
       "2078    8  1579  major general [desc] military rank of the unit...   \n",
       "2079    9  1579  major general [desc] military rank of the unit...   \n",
       "\n",
       "                                             answer_seq  \\\n",
       "0     [[1, 13866, 338, 385, 15278, 393, 16612, 263, ...   \n",
       "1     [[1, 13866, 338, 385, 15278, 393, 16612, 263, ...   \n",
       "2     [[1, 13866, 338, 385, 15278, 393, 16612, 263, ...   \n",
       "3     [[1, 13866, 338, 385, 15278, 393, 16612, 263, ...   \n",
       "4     [[1, 13866, 338, 385, 15278, 393, 16612, 263, ...   \n",
       "...                                                 ...   \n",
       "2075  [[1, 13866, 338, 385, 15278, 393, 16612, 263, ...   \n",
       "2076  [[1, 13866, 338, 385, 15278, 393, 16612, 263, ...   \n",
       "2077  [[1, 13866, 338, 385, 15278, 393, 16612, 263, ...   \n",
       "2078  [[1, 13866, 338, 385, 15278, 393, 16612, 263, ...   \n",
       "2079  [[1, 13866, 338, 385, 15278, 393, 16612, 263, ...   \n",
       "\n",
       "                                           right_answer  \\\n",
       "0     <ifuleave [desc] 2008 single by musiq soulchil...   \n",
       "1     <ifuleave [desc] 2008 single by musiq soulchil...   \n",
       "2     <ifuleave [desc] 2008 single by musiq soulchil...   \n",
       "3     <ifuleave [desc] 2008 single by musiq soulchil...   \n",
       "4     <ifuleave [desc] 2008 single by musiq soulchil...   \n",
       "...                                                 ...   \n",
       "2075  <major general [desc] military rank [type] mil...   \n",
       "2076  <major general [desc] military rank [type] mil...   \n",
       "2077  <major general [desc] military rank [type] mil...   \n",
       "2078  <major general [desc] military rank [type] mil...   \n",
       "2079  <major general [desc] military rank [type] mil...   \n",
       "\n",
       "                                            regex_match  \n",
       "0     ifuleave [desc] 2008 single by musiq soulchild...  \n",
       "1     ifuleave [desc] 2008 single by musiq soulchild...  \n",
       "2     ifuleave [desc] 2008 single by musiq soulchild...  \n",
       "3     ifuleave [desc] 2008 single by musiq soulchild...  \n",
       "4     ifuleave [desc] 2008 single by musiq soulchild...  \n",
       "...                                                 ...  \n",
       "2075                                               None  \n",
       "2076                                               None  \n",
       "2077                                               None  \n",
       "2078                                               None  \n",
       "2079                                               None  \n",
       "\n",
       "[2080 rows x 6 columns]"
      ]
     },
     "execution_count": 42,
     "metadata": {},
     "output_type": "execute_result"
    }
   ],
   "source": [
    "answers"
   ]
  },
  {
   "cell_type": "code",
   "execution_count": 43,
   "id": "b80c2bf2",
   "metadata": {},
   "outputs": [
    {
     "data": {
      "text/html": [
       "<div>\n",
       "<style scoped>\n",
       "    .dataframe tbody tr th:only-of-type {\n",
       "        vertical-align: middle;\n",
       "    }\n",
       "\n",
       "    .dataframe tbody tr th {\n",
       "        vertical-align: top;\n",
       "    }\n",
       "\n",
       "    .dataframe thead th {\n",
       "        text-align: right;\n",
       "    }\n",
       "</style>\n",
       "<table border=\"1\" class=\"dataframe\">\n",
       "  <thead>\n",
       "    <tr style=\"text-align: right;\">\n",
       "      <th></th>\n",
       "      <th>run</th>\n",
       "      <th>pid</th>\n",
       "      <th>answer</th>\n",
       "      <th>answer_seq</th>\n",
       "      <th>right_answer</th>\n",
       "      <th>regex_match</th>\n",
       "    </tr>\n",
       "  </thead>\n",
       "  <tbody>\n",
       "    <tr>\n",
       "      <th>0</th>\n",
       "      <td>0</td>\n",
       "      <td>872</td>\n",
       "      <td>ifuleave [desc] 2008 single by musiq soulchild...</td>\n",
       "      <td>[[1, 13866, 338, 385, 15278, 393, 16612, 263, ...</td>\n",
       "      <td>&lt;ifuleave [desc] 2008 single by musiq soulchil...</td>\n",
       "      <td>ifuleave [desc] 2008 single by musiq soulchild...</td>\n",
       "    </tr>\n",
       "    <tr>\n",
       "      <th>1</th>\n",
       "      <td>1</td>\n",
       "      <td>872</td>\n",
       "      <td>ifuleave [desc] 2008 single by musiq soulchild...</td>\n",
       "      <td>[[1, 13866, 338, 385, 15278, 393, 16612, 263, ...</td>\n",
       "      <td>&lt;ifuleave [desc] 2008 single by musiq soulchil...</td>\n",
       "      <td>ifuleave [desc] 2008 single by musiq soulchild...</td>\n",
       "    </tr>\n",
       "    <tr>\n",
       "      <th>2</th>\n",
       "      <td>2</td>\n",
       "      <td>872</td>\n",
       "      <td>ifuleave [desc] 2008 single by musiq soulchild...</td>\n",
       "      <td>[[1, 13866, 338, 385, 15278, 393, 16612, 263, ...</td>\n",
       "      <td>&lt;ifuleave [desc] 2008 single by musiq soulchil...</td>\n",
       "      <td>ifuleave [desc] 2008 single by musiq soulchild...</td>\n",
       "    </tr>\n",
       "    <tr>\n",
       "      <th>3</th>\n",
       "      <td>3</td>\n",
       "      <td>872</td>\n",
       "      <td>ifuleave [desc] 2008 single by musiq soulchild...</td>\n",
       "      <td>[[1, 13866, 338, 385, 15278, 393, 16612, 263, ...</td>\n",
       "      <td>&lt;ifuleave [desc] 2008 single by musiq soulchil...</td>\n",
       "      <td>ifuleave [desc] 2008 single by musiq soulchild...</td>\n",
       "    </tr>\n",
       "    <tr>\n",
       "      <th>4</th>\n",
       "      <td>4</td>\n",
       "      <td>872</td>\n",
       "      <td>ifuleave [desc] 2008 single by musiq soulchild...</td>\n",
       "      <td>[[1, 13866, 338, 385, 15278, 393, 16612, 263, ...</td>\n",
       "      <td>&lt;ifuleave [desc] 2008 single by musiq soulchil...</td>\n",
       "      <td>ifuleave [desc] 2008 single by musiq soulchild...</td>\n",
       "    </tr>\n",
       "    <tr>\n",
       "      <th>...</th>\n",
       "      <td>...</td>\n",
       "      <td>...</td>\n",
       "      <td>...</td>\n",
       "      <td>...</td>\n",
       "      <td>...</td>\n",
       "      <td>...</td>\n",
       "    </tr>\n",
       "    <tr>\n",
       "      <th>2075</th>\n",
       "      <td>5</td>\n",
       "      <td>1579</td>\n",
       "      <td>major general [desc] military rank of the unit...</td>\n",
       "      <td>[[1, 13866, 338, 385, 15278, 393, 16612, 263, ...</td>\n",
       "      <td>&lt;major general [desc] military rank [type] mil...</td>\n",
       "      <td>None</td>\n",
       "    </tr>\n",
       "    <tr>\n",
       "      <th>2076</th>\n",
       "      <td>6</td>\n",
       "      <td>1579</td>\n",
       "      <td>major general [desc] military rank of the unit...</td>\n",
       "      <td>[[1, 13866, 338, 385, 15278, 393, 16612, 263, ...</td>\n",
       "      <td>&lt;major general [desc] military rank [type] mil...</td>\n",
       "      <td>None</td>\n",
       "    </tr>\n",
       "    <tr>\n",
       "      <th>2077</th>\n",
       "      <td>7</td>\n",
       "      <td>1579</td>\n",
       "      <td>major general [desc] military rank of the unit...</td>\n",
       "      <td>[[1, 13866, 338, 385, 15278, 393, 16612, 263, ...</td>\n",
       "      <td>&lt;major general [desc] military rank [type] mil...</td>\n",
       "      <td>None</td>\n",
       "    </tr>\n",
       "    <tr>\n",
       "      <th>2078</th>\n",
       "      <td>8</td>\n",
       "      <td>1579</td>\n",
       "      <td>major general [desc] military rank of the unit...</td>\n",
       "      <td>[[1, 13866, 338, 385, 15278, 393, 16612, 263, ...</td>\n",
       "      <td>&lt;major general [desc] military rank [type] mil...</td>\n",
       "      <td>None</td>\n",
       "    </tr>\n",
       "    <tr>\n",
       "      <th>2079</th>\n",
       "      <td>9</td>\n",
       "      <td>1579</td>\n",
       "      <td>major general [desc] military rank of the unit...</td>\n",
       "      <td>[[1, 13866, 338, 385, 15278, 393, 16612, 263, ...</td>\n",
       "      <td>&lt;major general [desc] military rank [type] mil...</td>\n",
       "      <td>None</td>\n",
       "    </tr>\n",
       "  </tbody>\n",
       "</table>\n",
       "<p>2080 rows × 6 columns</p>\n",
       "</div>"
      ],
      "text/plain": [
       "      run   pid                                             answer  \\\n",
       "0       0   872  ifuleave [desc] 2008 single by musiq soulchild...   \n",
       "1       1   872  ifuleave [desc] 2008 single by musiq soulchild...   \n",
       "2       2   872  ifuleave [desc] 2008 single by musiq soulchild...   \n",
       "3       3   872  ifuleave [desc] 2008 single by musiq soulchild...   \n",
       "4       4   872  ifuleave [desc] 2008 single by musiq soulchild...   \n",
       "...   ...   ...                                                ...   \n",
       "2075    5  1579  major general [desc] military rank of the unit...   \n",
       "2076    6  1579  major general [desc] military rank of the unit...   \n",
       "2077    7  1579  major general [desc] military rank of the unit...   \n",
       "2078    8  1579  major general [desc] military rank of the unit...   \n",
       "2079    9  1579  major general [desc] military rank of the unit...   \n",
       "\n",
       "                                             answer_seq  \\\n",
       "0     [[1, 13866, 338, 385, 15278, 393, 16612, 263, ...   \n",
       "1     [[1, 13866, 338, 385, 15278, 393, 16612, 263, ...   \n",
       "2     [[1, 13866, 338, 385, 15278, 393, 16612, 263, ...   \n",
       "3     [[1, 13866, 338, 385, 15278, 393, 16612, 263, ...   \n",
       "4     [[1, 13866, 338, 385, 15278, 393, 16612, 263, ...   \n",
       "...                                                 ...   \n",
       "2075  [[1, 13866, 338, 385, 15278, 393, 16612, 263, ...   \n",
       "2076  [[1, 13866, 338, 385, 15278, 393, 16612, 263, ...   \n",
       "2077  [[1, 13866, 338, 385, 15278, 393, 16612, 263, ...   \n",
       "2078  [[1, 13866, 338, 385, 15278, 393, 16612, 263, ...   \n",
       "2079  [[1, 13866, 338, 385, 15278, 393, 16612, 263, ...   \n",
       "\n",
       "                                           right_answer  \\\n",
       "0     <ifuleave [desc] 2008 single by musiq soulchil...   \n",
       "1     <ifuleave [desc] 2008 single by musiq soulchil...   \n",
       "2     <ifuleave [desc] 2008 single by musiq soulchil...   \n",
       "3     <ifuleave [desc] 2008 single by musiq soulchil...   \n",
       "4     <ifuleave [desc] 2008 single by musiq soulchil...   \n",
       "...                                                 ...   \n",
       "2075  <major general [desc] military rank [type] mil...   \n",
       "2076  <major general [desc] military rank [type] mil...   \n",
       "2077  <major general [desc] military rank [type] mil...   \n",
       "2078  <major general [desc] military rank [type] mil...   \n",
       "2079  <major general [desc] military rank [type] mil...   \n",
       "\n",
       "                                            regex_match  \n",
       "0     ifuleave [desc] 2008 single by musiq soulchild...  \n",
       "1     ifuleave [desc] 2008 single by musiq soulchild...  \n",
       "2     ifuleave [desc] 2008 single by musiq soulchild...  \n",
       "3     ifuleave [desc] 2008 single by musiq soulchild...  \n",
       "4     ifuleave [desc] 2008 single by musiq soulchild...  \n",
       "...                                                 ...  \n",
       "2075                                               None  \n",
       "2076                                               None  \n",
       "2077                                               None  \n",
       "2078                                               None  \n",
       "2079                                               None  \n",
       "\n",
       "[2080 rows x 6 columns]"
      ]
     },
     "execution_count": 43,
     "metadata": {},
     "output_type": "execute_result"
    }
   ],
   "source": [
    "# wrong answers\n",
    "\n",
    "import numpy as np\n",
    "def fun (a,b):\n",
    "    return a.startswith(b) or b.startswith(a)\n",
    "\n",
    "foon = np.vectorize(fun)\n",
    "aoh = pd.Series(foon(answers.answer, answers.right_answer), index=answers.index)\n",
    "\n",
    "answers[~aoh]"
   ]
  },
  {
   "cell_type": "code",
   "execution_count": 44,
   "id": "6a413657",
   "metadata": {},
   "outputs": [],
   "source": [
    "pd.set_option('max_colwidth', 200)"
   ]
  },
  {
   "cell_type": "code",
   "execution_count": 45,
   "id": "a2bc9376",
   "metadata": {},
   "outputs": [
    {
     "data": {
      "text/html": [
       "<div>\n",
       "<style scoped>\n",
       "    .dataframe tbody tr th:only-of-type {\n",
       "        vertical-align: middle;\n",
       "    }\n",
       "\n",
       "    .dataframe tbody tr th {\n",
       "        vertical-align: top;\n",
       "    }\n",
       "\n",
       "    .dataframe thead th {\n",
       "        text-align: right;\n",
       "    }\n",
       "</style>\n",
       "<table border=\"1\" class=\"dataframe\">\n",
       "  <thead>\n",
       "    <tr style=\"text-align: right;\">\n",
       "      <th></th>\n",
       "      <th>run</th>\n",
       "      <th>pid</th>\n",
       "      <th>correct</th>\n",
       "      <th>hallucinated</th>\n",
       "      <th>loosely_correct</th>\n",
       "      <th>answer</th>\n",
       "      <th>answer_seq</th>\n",
       "      <th>right_answer</th>\n",
       "      <th>regex_match</th>\n",
       "    </tr>\n",
       "  </thead>\n",
       "  <tbody>\n",
       "  </tbody>\n",
       "</table>\n",
       "</div>"
      ],
      "text/plain": [
       "Empty DataFrame\n",
       "Columns: [run, pid, correct, hallucinated, loosely_correct, answer, answer_seq, right_answer, regex_match]\n",
       "Index: []"
      ]
     },
     "execution_count": 45,
     "metadata": {},
     "output_type": "execute_result"
    }
   ],
   "source": [
    "# correct but not loosely correct?\n",
    "gg = pd.merge(truth, answers, on=['run', 'pid'], how='inner')\n",
    "gg[(~gg.loosely_correct) & (gg.correct)]"
   ]
  },
  {
   "cell_type": "code",
   "execution_count": 46,
   "id": "ba1d4689",
   "metadata": {},
   "outputs": [
    {
     "data": {
      "text/html": [
       "<div>\n",
       "<style scoped>\n",
       "    .dataframe tbody tr th:only-of-type {\n",
       "        vertical-align: middle;\n",
       "    }\n",
       "\n",
       "    .dataframe tbody tr th {\n",
       "        vertical-align: top;\n",
       "    }\n",
       "\n",
       "    .dataframe thead th {\n",
       "        text-align: right;\n",
       "    }\n",
       "</style>\n",
       "<table border=\"1\" class=\"dataframe\">\n",
       "  <thead>\n",
       "    <tr style=\"text-align: right;\">\n",
       "      <th></th>\n",
       "      <th>run</th>\n",
       "      <th>pid</th>\n",
       "      <th>correct</th>\n",
       "      <th>hallucinated</th>\n",
       "      <th>loosely_correct</th>\n",
       "      <th>answer</th>\n",
       "      <th>answer_seq</th>\n",
       "      <th>right_answer</th>\n",
       "      <th>regex_match</th>\n",
       "    </tr>\n",
       "  </thead>\n",
       "  <tbody>\n",
       "  </tbody>\n",
       "</table>\n",
       "</div>"
      ],
      "text/plain": [
       "Empty DataFrame\n",
       "Columns: [run, pid, correct, hallucinated, loosely_correct, answer, answer_seq, right_answer, regex_match]\n",
       "Index: []"
      ]
     },
     "execution_count": 46,
     "metadata": {},
     "output_type": "execute_result"
    }
   ],
   "source": [
    "# only loosely correct\n",
    "gg = pd.merge(truth, answers, on=['run', 'pid'], how='inner')\n",
    "gg[(gg.loosely_correct) & (~gg.correct)].drop_duplicates(subset='pid')"
   ]
  },
  {
   "cell_type": "markdown",
   "id": "cf1c8e14",
   "metadata": {},
   "source": [
    "### sequence components alignment\n",
    "### (build \"segments\" for each sequence)"
   ]
  },
  {
   "cell_type": "code",
   "execution_count": 47,
   "id": "ff3dca16",
   "metadata": {},
   "outputs": [],
   "source": [
    "def is_sublist(c, m, label):\n",
    "    if not c: return False\n",
    "    if not m or len(c) > len(m): return False\n",
    "\n",
    "    for i in range(len(m) - len(c) + 1):\n",
    "        if m[i:i+len(c)] == c:\n",
    "            return (i, i + len(c), label)\n",
    "    return False"
   ]
  },
  {
   "cell_type": "code",
   "execution_count": 48,
   "id": "433b6efb",
   "metadata": {},
   "outputs": [
    {
     "name": "stdout",
     "output_type": "stream",
     "text": [
      "2000\r"
     ]
    }
   ],
   "source": [
    "# %%time\n",
    "\n",
    "checks = []\n",
    "alls = set()\n",
    "\n",
    "for idx, p in enumerate(outlist):\n",
    "    if idx%100==0: \n",
    "        clear_output(wait=True)\n",
    "        print(idx, end='\\r')\n",
    "    \n",
    "    run = p['run']\n",
    "    pid = p['pid']\n",
    "    \n",
    "    alls.add(p['table'])\n",
    "    \n",
    "    # this is the generated sequence\n",
    "    output_seq = p['post_output_sequences'][0]\n",
    "    \n",
    "    # overall prompt sequence\n",
    "    prompt = generate_prompt(p[\"instruction\"], p[\"question\"], p[\"input\"])\n",
    "    prompt_seq = tokenizer(prompt, return_tensors=\"pt\")\n",
    "    prompt_seq = prompt_seq['input_ids'][0].numpy().tolist()\n",
    "\n",
    "    # subsequences\n",
    "    instruction_seq = tokenizer(p[\"instruction\"], return_tensors=\"pt\")\n",
    "    instruction_seq = instruction_seq['input_ids'][0].numpy().tolist()\n",
    "\n",
    "    question_seq = tokenizer(p[\"question\"], return_tensors=\"pt\")\n",
    "    question_seq = question_seq['input_ids'][0].numpy().tolist()\n",
    "\n",
    "    input_seq = tokenizer(p[\"input\"], return_tensors=\"pt\")\n",
    "    input_seq = input_seq['input_ids'][0].numpy().tolist()\n",
    "\n",
    "    postilla = \" Answer with just a candidate, selected from the provided referent entity candidates list, and nothing else. The selected candidate must be reported verbatim from the list provided as input. Each candidate in the list is enclosed between < and > and reports [DESC] and [TYPE] information.\"\n",
    "    postilla += \"\\n\\n### Response:\"\n",
    "    postilla_seq = tokenizer(postilla, return_tensors=\"pt\")\n",
    "    postilla_seq = postilla_seq['input_ids'][0].numpy().tolist()\n",
    "    \n",
    "    # subseq matching\n",
    "    if model_name.startswith('osunlp'): start_tok = 2\n",
    "    else: start_tok = 1\n",
    "    \n",
    "    instruction_match = is_sublist(instruction_seq[start_tok:], output_seq, 'instruction')\n",
    "    if not instruction_match: instruction_match = is_sublist(instruction_seq[start_tok:-1], output_seq, 'instruction')\n",
    "    input_match = is_sublist(input_seq[start_tok:], output_seq, 'input')\n",
    "    if not input_match: input_match = is_sublist(input_seq[start_tok:-1], output_seq, 'input')\n",
    "    question_match = is_sublist(question_seq[start_tok:], output_seq, 'question')\n",
    "    if not question_match: question_match = is_sublist(question_seq[start_tok:-1], output_seq, 'question')\n",
    "    postilla_match = is_sublist(postilla_seq[start_tok:], output_seq, 'postilla')\n",
    "    \n",
    "    # boundaries are inclusive\n",
    "    checks.append((run, pid, 0, instruction_match[0] - 1, 'preamble')) # preamble\n",
    "    checks.append((run, pid, instruction_match[0]) + instruction_match[1:])\n",
    "    checks.append((run, pid, instruction_match[1] + 1) + input_match[1:]) # sew to preceding\n",
    "    # checks.append((run, pid, input_match[1] + 1) + question_match[1:]) # sew to preceding\n",
    "    checks.append((run, pid, input_match[1] + 1) + (postilla_match[0]-1, 'question')) # sew to both   \n",
    "    \n",
    "    # CORRECT skipped the last token in pre_\n",
    "    checks.append((run, pid, postilla_match[0], len(prompt_seq) - 1, 'postilla')) # stretch postilla until the end of the prompt\n",
    "    checks.append((run, pid, len(prompt_seq) , len(output_seq) - 1, 'generated')) # assume everything else is generated    \n",
    "    \n",
    "    # COMPATIBILITY with crippled cache\n",
    "    # checks.append((run, pid, postilla_match[0], len(prompt_seq) - 2, 'postilla'))\n",
    "    # checks.append((run, pid, len(prompt_seq)-1 , len(output_seq) - 2, 'generated')) # assume everything else is generated    \n",
    "    \n",
    "    \n",
    "    # before caching dirty trick\n",
    "    # checks.append((run, pid, postilla_match[0] + 1, len(prompt_seq) - 1, 'postilla')) # stretch postilla until the end of the prompt\n",
    "    # checks.append((run, pid, len(prompt_seq), len(output_seq) - 1, 'generated')) # assume everything else is generated\n",
    "    \n",
    "    #print(len(prompt_seq), len(output_seq) - 1)\n"
   ]
  },
  {
   "cell_type": "code",
   "execution_count": 49,
   "id": "f34145e5",
   "metadata": {},
   "outputs": [
    {
     "data": {
      "text/plain": [
       "False"
      ]
     },
     "execution_count": 49,
     "metadata": {},
     "output_type": "execute_result"
    }
   ],
   "source": [
    "# check the checks (must be False)\n",
    "'False' in checks"
   ]
  },
  {
   "cell_type": "code",
   "execution_count": 50,
   "id": "13265c19",
   "metadata": {},
   "outputs": [],
   "source": [
    "segments = pd.DataFrame(checks, columns = ['run', 'pid', 'start', 'end', 'segment'])"
   ]
  },
  {
   "cell_type": "code",
   "execution_count": 51,
   "id": "095d0f8b",
   "metadata": {},
   "outputs": [],
   "source": [
    "segments['seq'] = segments.segment.map({'preamble': 0, 'instruction': 1, 'input': 2, 'question': 3, 'postilla': 4, 'generated': 5})"
   ]
  },
  {
   "cell_type": "code",
   "execution_count": 52,
   "id": "6f927728",
   "metadata": {},
   "outputs": [],
   "source": [
    "segments['length'] = segments.end - segments.start + 1"
   ]
  },
  {
   "cell_type": "code",
   "execution_count": 53,
   "id": "ab71d07c",
   "metadata": {},
   "outputs": [
    {
     "data": {
      "text/html": [
       "<div>\n",
       "<style scoped>\n",
       "    .dataframe tbody tr th:only-of-type {\n",
       "        vertical-align: middle;\n",
       "    }\n",
       "\n",
       "    .dataframe tbody tr th {\n",
       "        vertical-align: top;\n",
       "    }\n",
       "\n",
       "    .dataframe thead th {\n",
       "        text-align: right;\n",
       "    }\n",
       "</style>\n",
       "<table border=\"1\" class=\"dataframe\">\n",
       "  <thead>\n",
       "    <tr style=\"text-align: right;\">\n",
       "      <th></th>\n",
       "      <th>run</th>\n",
       "      <th>pid</th>\n",
       "      <th>start</th>\n",
       "      <th>end</th>\n",
       "      <th>segment</th>\n",
       "      <th>seq</th>\n",
       "      <th>length</th>\n",
       "    </tr>\n",
       "  </thead>\n",
       "  <tbody>\n",
       "    <tr>\n",
       "      <th>0</th>\n",
       "      <td>0</td>\n",
       "      <td>872</td>\n",
       "      <td>0</td>\n",
       "      <td>39</td>\n",
       "      <td>preamble</td>\n",
       "      <td>0</td>\n",
       "      <td>40</td>\n",
       "    </tr>\n",
       "    <tr>\n",
       "      <th>1</th>\n",
       "      <td>0</td>\n",
       "      <td>872</td>\n",
       "      <td>40</td>\n",
       "      <td>135</td>\n",
       "      <td>instruction</td>\n",
       "      <td>1</td>\n",
       "      <td>96</td>\n",
       "    </tr>\n",
       "    <tr>\n",
       "      <th>2</th>\n",
       "      <td>0</td>\n",
       "      <td>872</td>\n",
       "      <td>136</td>\n",
       "      <td>529</td>\n",
       "      <td>input</td>\n",
       "      <td>2</td>\n",
       "      <td>394</td>\n",
       "    </tr>\n",
       "    <tr>\n",
       "      <th>3</th>\n",
       "      <td>0</td>\n",
       "      <td>872</td>\n",
       "      <td>530</td>\n",
       "      <td>1863</td>\n",
       "      <td>question</td>\n",
       "      <td>3</td>\n",
       "      <td>1334</td>\n",
       "    </tr>\n",
       "    <tr>\n",
       "      <th>4</th>\n",
       "      <td>0</td>\n",
       "      <td>872</td>\n",
       "      <td>1864</td>\n",
       "      <td>1929</td>\n",
       "      <td>postilla</td>\n",
       "      <td>4</td>\n",
       "      <td>66</td>\n",
       "    </tr>\n",
       "    <tr>\n",
       "      <th>...</th>\n",
       "      <td>...</td>\n",
       "      <td>...</td>\n",
       "      <td>...</td>\n",
       "      <td>...</td>\n",
       "      <td>...</td>\n",
       "      <td>...</td>\n",
       "      <td>...</td>\n",
       "    </tr>\n",
       "    <tr>\n",
       "      <th>12475</th>\n",
       "      <td>9</td>\n",
       "      <td>1579</td>\n",
       "      <td>40</td>\n",
       "      <td>135</td>\n",
       "      <td>instruction</td>\n",
       "      <td>1</td>\n",
       "      <td>96</td>\n",
       "    </tr>\n",
       "    <tr>\n",
       "      <th>12476</th>\n",
       "      <td>9</td>\n",
       "      <td>1579</td>\n",
       "      <td>136</td>\n",
       "      <td>2450</td>\n",
       "      <td>input</td>\n",
       "      <td>2</td>\n",
       "      <td>2315</td>\n",
       "    </tr>\n",
       "    <tr>\n",
       "      <th>12477</th>\n",
       "      <td>9</td>\n",
       "      <td>1579</td>\n",
       "      <td>2451</td>\n",
       "      <td>3791</td>\n",
       "      <td>question</td>\n",
       "      <td>3</td>\n",
       "      <td>1341</td>\n",
       "    </tr>\n",
       "    <tr>\n",
       "      <th>12478</th>\n",
       "      <td>9</td>\n",
       "      <td>1579</td>\n",
       "      <td>3792</td>\n",
       "      <td>3857</td>\n",
       "      <td>postilla</td>\n",
       "      <td>4</td>\n",
       "      <td>66</td>\n",
       "    </tr>\n",
       "    <tr>\n",
       "      <th>12479</th>\n",
       "      <td>9</td>\n",
       "      <td>1579</td>\n",
       "      <td>3858</td>\n",
       "      <td>3877</td>\n",
       "      <td>generated</td>\n",
       "      <td>5</td>\n",
       "      <td>20</td>\n",
       "    </tr>\n",
       "  </tbody>\n",
       "</table>\n",
       "<p>12480 rows × 7 columns</p>\n",
       "</div>"
      ],
      "text/plain": [
       "       run   pid  start   end      segment  seq  length\n",
       "0        0   872      0    39     preamble    0      40\n",
       "1        0   872     40   135  instruction    1      96\n",
       "2        0   872    136   529        input    2     394\n",
       "3        0   872    530  1863     question    3    1334\n",
       "4        0   872   1864  1929     postilla    4      66\n",
       "...    ...   ...    ...   ...          ...  ...     ...\n",
       "12475    9  1579     40   135  instruction    1      96\n",
       "12476    9  1579    136  2450        input    2    2315\n",
       "12477    9  1579   2451  3791     question    3    1341\n",
       "12478    9  1579   3792  3857     postilla    4      66\n",
       "12479    9  1579   3858  3877    generated    5      20\n",
       "\n",
       "[12480 rows x 7 columns]"
      ]
     },
     "execution_count": 53,
     "metadata": {},
     "output_type": "execute_result"
    }
   ],
   "source": [
    "segments"
   ]
  },
  {
   "cell_type": "markdown",
   "id": "095e5986",
   "metadata": {},
   "source": [
    "### segment description"
   ]
  },
  {
   "cell_type": "code",
   "execution_count": 54,
   "id": "6ee3be0b",
   "metadata": {},
   "outputs": [
    {
     "data": {
      "text/html": [
       "<div>\n",
       "<style scoped>\n",
       "    .dataframe tbody tr th:only-of-type {\n",
       "        vertical-align: middle;\n",
       "    }\n",
       "\n",
       "    .dataframe tbody tr th {\n",
       "        vertical-align: top;\n",
       "    }\n",
       "\n",
       "    .dataframe thead th {\n",
       "        text-align: right;\n",
       "    }\n",
       "</style>\n",
       "<table border=\"1\" class=\"dataframe\">\n",
       "  <thead>\n",
       "    <tr style=\"text-align: right;\">\n",
       "      <th></th>\n",
       "      <th>segment</th>\n",
       "      <th>seq</th>\n",
       "      <th>avg_length</th>\n",
       "      <th>std_length</th>\n",
       "      <th>min_length</th>\n",
       "      <th>max_length</th>\n",
       "      <th>avg_length_rel</th>\n",
       "      <th>avg_cumlen</th>\n",
       "    </tr>\n",
       "  </thead>\n",
       "  <tbody>\n",
       "    <tr>\n",
       "      <th>4</th>\n",
       "      <td>preamble</td>\n",
       "      <td>0</td>\n",
       "      <td>40.000000</td>\n",
       "      <td>0.000000</td>\n",
       "      <td>40</td>\n",
       "      <td>40</td>\n",
       "      <td>0.016142</td>\n",
       "      <td>0.016142</td>\n",
       "    </tr>\n",
       "    <tr>\n",
       "      <th>2</th>\n",
       "      <td>instruction</td>\n",
       "      <td>1</td>\n",
       "      <td>96.000000</td>\n",
       "      <td>0.000000</td>\n",
       "      <td>96</td>\n",
       "      <td>96</td>\n",
       "      <td>0.038742</td>\n",
       "      <td>0.054884</td>\n",
       "    </tr>\n",
       "    <tr>\n",
       "      <th>1</th>\n",
       "      <td>input</td>\n",
       "      <td>2</td>\n",
       "      <td>952.259615</td>\n",
       "      <td>607.665480</td>\n",
       "      <td>167</td>\n",
       "      <td>2646</td>\n",
       "      <td>0.384293</td>\n",
       "      <td>0.439177</td>\n",
       "    </tr>\n",
       "    <tr>\n",
       "      <th>5</th>\n",
       "      <td>question</td>\n",
       "      <td>3</td>\n",
       "      <td>1298.269231</td>\n",
       "      <td>271.326201</td>\n",
       "      <td>310</td>\n",
       "      <td>2438</td>\n",
       "      <td>0.523928</td>\n",
       "      <td>0.963104</td>\n",
       "    </tr>\n",
       "    <tr>\n",
       "      <th>3</th>\n",
       "      <td>postilla</td>\n",
       "      <td>4</td>\n",
       "      <td>66.000000</td>\n",
       "      <td>0.000000</td>\n",
       "      <td>66</td>\n",
       "      <td>66</td>\n",
       "      <td>0.026635</td>\n",
       "      <td>0.989739</td>\n",
       "    </tr>\n",
       "    <tr>\n",
       "      <th>0</th>\n",
       "      <td>generated</td>\n",
       "      <td>5</td>\n",
       "      <td>25.425962</td>\n",
       "      <td>5.266199</td>\n",
       "      <td>17</td>\n",
       "      <td>46</td>\n",
       "      <td>0.010261</td>\n",
       "      <td>1.000000</td>\n",
       "    </tr>\n",
       "  </tbody>\n",
       "</table>\n",
       "</div>"
      ],
      "text/plain": [
       "       segment  seq   avg_length  std_length  min_length  max_length  \\\n",
       "4     preamble    0    40.000000    0.000000          40          40   \n",
       "2  instruction    1    96.000000    0.000000          96          96   \n",
       "1        input    2   952.259615  607.665480         167        2646   \n",
       "5     question    3  1298.269231  271.326201         310        2438   \n",
       "3     postilla    4    66.000000    0.000000          66          66   \n",
       "0    generated    5    25.425962    5.266199          17          46   \n",
       "\n",
       "   avg_length_rel  avg_cumlen  \n",
       "4        0.016142    0.016142  \n",
       "2        0.038742    0.054884  \n",
       "1        0.384293    0.439177  \n",
       "5        0.523928    0.963104  \n",
       "3        0.026635    0.989739  \n",
       "0        0.010261    1.000000  "
      ]
     },
     "execution_count": 54,
     "metadata": {},
     "output_type": "execute_result"
    }
   ],
   "source": [
    "avg_seq_widths = segments.groupby(['segment', 'seq']).length.agg(['mean', 'std', 'min', 'max']).reset_index().sort_values('seq')\n",
    "avg_seq_widths = avg_seq_widths.rename(columns = {'mean': 'avg_length', \n",
    "                                                  'std': 'std_length', \n",
    "                                                  'min': 'min_length',\n",
    "                                                  'max': 'max_length'})\n",
    "avg_seq_widths['avg_length_rel'] = avg_seq_widths['avg_length'] / avg_seq_widths['avg_length'].sum()\n",
    "avg_seq_widths['avg_cumlen'] = avg_seq_widths['avg_length_rel'].cumsum() \n",
    "avg_seq_widths"
   ]
  },
  {
   "cell_type": "code",
   "execution_count": 55,
   "id": "f172a596",
   "metadata": {},
   "outputs": [
    {
     "data": {
      "text/plain": [
       "<Axes: xlabel='length', ylabel='Count'>"
      ]
     },
     "execution_count": 55,
     "metadata": {},
     "output_type": "execute_result"
    },
    {
     "data": {
      "image/png": "[encoded data removed]",
      "text/plain": [
       "<Figure size 640x480 with 1 Axes>"
      ]
     },
     "metadata": {},
     "output_type": "display_data"
    }
   ],
   "source": [
    "sns.histplot(segments[segments.segment=='input'], x='length', hue='segment', multiple='dodge', binwidth=100)"
   ]
  },
  {
   "cell_type": "code",
   "execution_count": 56,
   "id": "fa291f2f",
   "metadata": {},
   "outputs": [
    {
     "data": {
      "image/png": "[encoded data removed]",
      "text/plain": [
       "<Figure size 700x600 with 1 Axes>"
      ]
     },
     "metadata": {},
     "output_type": "display_data"
    }
   ],
   "source": [
    "import seaborn as sns\n",
    "import matplotlib.pyplot as plt\n",
    "\n",
    "from palettable.cartocolors.qualitative import Prism_10, Bold_10\n",
    "palette = Prism_10.mpl_colors \n",
    "\n",
    "sns.set_theme(style=\"ticks\")\n",
    "\n",
    "f, ax = plt.subplots(figsize=(7, 6))\n",
    "\n",
    "sns.histplot(segments[segments.segment=='input'], x='length', color=Prism_10.mpl_colors[3], multiple='dodge', binwidth=100)\n",
    "\n",
    "ax.yaxis.grid(True)\n",
    "\n",
    "plt.show()"
   ]
  },
  {
   "cell_type": "code",
   "execution_count": 57,
   "id": "190bb3c2",
   "metadata": {},
   "outputs": [],
   "source": [
    "# Define background regions [(start, end, color, label)] based on the cumulative sections spans (for the first viz above)\n",
    "\n",
    "from palettable.cartocolors.qualitative import Prism_10, Bold_10\n",
    "palette = Prism_10.mpl_colors \n",
    "\n",
    "myl = avg_seq_widths.avg_cumlen.to_list()\n",
    "sections = ['preamble', 'instruction', 'input', 'question', 'postilla', 'generated']\n",
    "\n",
    "\n",
    "first = (0., myl[0], palette[0], sections[0])\n",
    "background_regions = [first]\n",
    "\n",
    "for z1, z2, l, i in zip(myl, myl[1:], sections[1:], range(len(myl))):\n",
    "    background_regions.append((z1,z2, palette[i+1], l))"
   ]
  },
  {
   "cell_type": "code",
   "execution_count": 58,
   "id": "e05209ab",
   "metadata": {},
   "outputs": [
    {
     "data": {
      "image/png": "[encoded data removed]",
      "text/plain": [
       "<Figure size 700x600 with 1 Axes>"
      ]
     },
     "metadata": {},
     "output_type": "display_data"
    }
   ],
   "source": [
    "import seaborn as sns\n",
    "import matplotlib.pyplot as plt\n",
    "\n",
    "sns.set_theme(style=\"ticks\")\n",
    "\n",
    "# Initialize the figure with a logarithmic x axis\n",
    "f, ax = plt.subplots(figsize=(7, 6))\n",
    "ax.set_xscale(\"log\")\n",
    "\n",
    "# Plot the orbital period with horizontal boxes\n",
    "sns.boxplot(\n",
    "    segments, x=\"length\", y=\"segment\", hue=\"segment\",\n",
    "    whis=[0, 100], palette=[b[2] for b in background_regions]\n",
    ")\n",
    "\n",
    "for patch in ax.patches:\n",
    "    r, g, b, a = patch.get_facecolor()\n",
    "    patch.set_facecolor((r, g, b, .3))\n",
    "\n",
    "ax.xaxis.grid(True)\n",
    "ax.set(ylabel=\"\")\n",
    "\n",
    "plt.show()"
   ]
  },
  {
   "cell_type": "code",
   "execution_count": 65,
   "id": "63c9ccf0",
   "metadata": {},
   "outputs": [],
   "source": [
    "myoutdict = {'truth': truth, 'segments': segments, 'answers': answers, 'model_name': model_name}\n",
    "\n",
    "import pickle\n",
    "\n",
    "with open(prefix + '/preprocessed.' + folder + '.pickle', 'wb') as handle:\n",
    "    pickle.dump(myoutdict, handle, protocol=pickle.HIGHEST_PROTOCOL)\n"
   ]
  }
 ],
 "metadata": {
  "kernelspec": {
   "display_name": "doubt",
   "language": "python",
   "name": "doubt"
  },
  "language_info": {
   "codemirror_mode": {
    "name": "ipython",
    "version": 3
   },
   "file_extension": ".py",
   "mimetype": "text/x-python",
   "name": "python",
   "nbconvert_exporter": "python",
   "pygments_lexer": "ipython3",
   "version": "3.8.10"
  }
 },
 "nbformat": 4,
 "nbformat_minor": 5
}
